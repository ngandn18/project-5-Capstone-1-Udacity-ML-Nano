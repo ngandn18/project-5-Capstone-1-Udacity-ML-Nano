{
 "cells": [
  {
   "cell_type": "markdown",
   "metadata": {},
   "source": [
    "# Starbucks Capstone Challenge\n",
    "\n",
    "### Introduction\n",
    "\n",
    "This data set contains simulated data that mimics customer behavior on the Starbucks rewards mobile app. Once every few days, Starbucks sends out an offer to users of the mobile app. An offer can be merely an advertisement for a drink or an actual offer such as a discount or BOGO (buy one get one free). Some users might not receive any offer during certain weeks. \n",
    "\n",
    "Not all users receive the same offer, and that is the challenge to solve with this data set.\n",
    "\n",
    "Your task is to combine transaction, demographic and offer data to determine which demographic groups respond best to which offer type. This data set is a simplified version of the real Starbucks app because the underlying simulator only has one product whereas Starbucks actually sells dozens of products.\n",
    "\n",
    "Every offer has a validity period before the offer expires. As an example, a BOGO offer might be valid for only 5 days. You'll see in the data set that informational offers have a validity period even though these ads are merely providing information about a product; for example, if an informational offer has 7 days of validity, you can assume the customer is feeling the influence of the offer for 7 days after receiving the advertisement.\n",
    "\n",
    "You'll be given transactional data showing user purchases made on the app including the timestamp of purchase and the amount of money spent on a purchase. This transactional data also has a record for each offer that a user receives as well as a record for when a user actually views the offer. There are also records for when a user completes an offer. \n",
    "\n",
    "Keep in mind as well that someone using the app might make a purchase through the app without having received an offer or seen an offer.\n",
    "\n",
    "### Example\n",
    "\n",
    "To give an example, a user could receive a discount offer buy 10 dollars get 2 off on Monday. The offer is valid for 10 days from receipt. If the customer accumulates at least 10 dollars in purchases during the validity period, the customer completes the offer.\n",
    "\n",
    "However, there are a few things to watch out for in this data set. Customers do not opt into the offers that they receive; in other words, a user can receive an offer, never actually view the offer, and still complete the offer. For example, a user might receive the \"buy 10 dollars get 2 dollars off offer\", but the user never opens the offer during the 10 day validity period. The customer spends 15 dollars during those ten days. There will be an offer completion record in the data set; however, the customer was not influenced by the offer because the customer never viewed the offer.\n",
    "\n",
    "### Cleaning\n",
    "\n",
    "This makes data cleaning especially important and tricky.\n",
    "\n",
    "You'll also want to take into account that some demographic groups will make purchases even if they don't receive an offer. From a business perspective, if a customer is going to make a 10 dollar purchase without an offer anyway, you wouldn't want to send a buy 10 dollars get 2 dollars off offer. You'll want to try to assess what a certain demographic group will buy when not receiving any offers.\n",
    "\n",
    "### Final Advice\n",
    "\n",
    "Because this is a capstone project, you are free to analyze the data any way you see fit. For example, you could build a machine learning model that predicts how much someone will spend based on demographics and offer type. Or you could build a model that predicts whether or not someone will respond to an offer. Or, you don't need to build a machine learning model at all. You could develop a set of heuristics that determine what offer you should send to each customer (i.e., 75 percent of women customers who were 35 years old responded to offer A vs 40 percent from the same demographic to offer B, so send offer A)."
   ]
  },
  {
   "cell_type": "markdown",
   "metadata": {},
   "source": [
    "# Data Sets\n",
    "\n",
    "The data is contained in three files:\n",
    "\n",
    "* portfolio.json - containing offer ids and meta data about each offer (duration, type, etc.)\n",
    "* profile.json - demographic data for each customer\n",
    "* transcript.json - records for transactions, offers received, offers viewed, and offers completed\n",
    "\n",
    "Here is the schema and explanation of each variable in the files:\n",
    "\n",
    "**portfolio.json**\n",
    "* id (string) - offer id\n",
    "* offer_type (string) - type of offer ie BOGO, discount, informational\n",
    "* difficulty (int) - minimum required spend to complete an offer\n",
    "* reward (int) - reward given for completing an offer\n",
    "* duration (int) - time for offer to be open, in days\n",
    "* channels (list of strings)\n",
    "\n",
    "**profile.json**\n",
    "* age (int) - age of the customer \n",
    "* became_member_on (int) - date when customer created an app account\n",
    "* gender (str) - gender of the customer (note some entries contain 'O' for other rather than M or F)\n",
    "* id (str) - customer id\n",
    "* income (float) - customer's income\n",
    "\n",
    "**transcript.json**\n",
    "* event (str) - record description (ie transaction, offer received, offer viewed, etc.)\n",
    "* person (str) - customer id\n",
    "* time (int) - time in hours since start of test. The data begins at time t=0\n",
    "* value - (dict of strings) - either an offer id or transaction amount depending on the record\n",
    "\n",
    "**Note:** If you are using the workspace, you will need to go to the terminal and run the command `conda update pandas` before reading in the files. This is because the version of pandas in the workspace cannot read in the transcript.json file correctly, but the newest version of pandas can. You can access the termnal from the orange icon in the top left of this notebook.  \n"
   ]
  },
  {
   "cell_type": "markdown",
   "metadata": {},
   "source": [
    "#### The basic task is to use the data to identify which groups of people are most responsive to each type of offer, and how best to present each type of offer. Now we change raw data to the useful format"
   ]
  },
  {
   "cell_type": "code",
   "execution_count": 1,
   "metadata": {},
   "outputs": [],
   "source": [
    "%%capture\n",
    "!pip install -U pip\n",
    "!pip install -U setuptools wheel\n",
    "!pip install -U \"mxnet<2.0.0\" bokeh==2.0.1\n",
    "!pip install autogluon --no-cache-dir\n",
    "!pip install --upgrade delayed\n",
    "!pip install -U sagemaker\n"
   ]
  },
  {
   "cell_type": "code",
   "execution_count": 3,
   "metadata": {},
   "outputs": [],
   "source": [
    "import pandas as pd\n",
    "import numpy as np\n",
    "import math\n",
    "import json\n",
    "import matplotlib\n",
    "import matplotlib.pyplot as plt\n",
    "import matplotlib.pyplot as plt\n",
    "import seaborn as sns\n",
    "from sklearn.preprocessing import StandardScaler\n",
    "from sklearn.model_selection import train_test_split\n",
    "from sklearn.metrics import ConfusionMatrixDisplay\n",
    "from sklearn.linear_model import LogisticRegression\n",
    "from collections import Counter\n",
    "%matplotlib inline\n",
    "\n",
    "# read in the json files\n",
    "# portfolio = pd.read_json('data/portfolio.json', orient='records', lines=True)\n",
    "# profile = pd.read_json('data/profile.json', orient='records', lines=True)\n",
    "# transcript = pd.read_json('data/transcript.json', orient='records', lines=True)"
   ]
  },
  {
   "cell_type": "code",
   "execution_count": 4,
   "metadata": {},
   "outputs": [
    {
     "name": "stdout",
     "output_type": "stream",
     "text": [
      "Duplcated id:  0\n"
     ]
    },
    {
     "data": {
      "text/html": [
       "<div>\n",
       "<style scoped>\n",
       "    .dataframe tbody tr th:only-of-type {\n",
       "        vertical-align: middle;\n",
       "    }\n",
       "\n",
       "    .dataframe tbody tr th {\n",
       "        vertical-align: top;\n",
       "    }\n",
       "\n",
       "    .dataframe thead th {\n",
       "        text-align: right;\n",
       "    }\n",
       "</style>\n",
       "<table border=\"1\" class=\"dataframe\">\n",
       "  <thead>\n",
       "    <tr style=\"text-align: right;\">\n",
       "      <th></th>\n",
       "      <th>reward</th>\n",
       "      <th>channels</th>\n",
       "      <th>difficulty</th>\n",
       "      <th>duration</th>\n",
       "      <th>offer_type</th>\n",
       "      <th>id</th>\n",
       "    </tr>\n",
       "  </thead>\n",
       "  <tbody>\n",
       "    <tr>\n",
       "      <th>0</th>\n",
       "      <td>10</td>\n",
       "      <td>[email, mobile, social]</td>\n",
       "      <td>10</td>\n",
       "      <td>7</td>\n",
       "      <td>bogo</td>\n",
       "      <td>ae264e3637204a6fb9bb56bc8210ddfd</td>\n",
       "    </tr>\n",
       "    <tr>\n",
       "      <th>1</th>\n",
       "      <td>10</td>\n",
       "      <td>[web, email, mobile, social]</td>\n",
       "      <td>10</td>\n",
       "      <td>5</td>\n",
       "      <td>bogo</td>\n",
       "      <td>4d5c57ea9a6940dd891ad53e9dbe8da0</td>\n",
       "    </tr>\n",
       "    <tr>\n",
       "      <th>2</th>\n",
       "      <td>0</td>\n",
       "      <td>[web, email, mobile]</td>\n",
       "      <td>0</td>\n",
       "      <td>4</td>\n",
       "      <td>informational</td>\n",
       "      <td>3f207df678b143eea3cee63160fa8bed</td>\n",
       "    </tr>\n",
       "    <tr>\n",
       "      <th>3</th>\n",
       "      <td>5</td>\n",
       "      <td>[web, email, mobile]</td>\n",
       "      <td>5</td>\n",
       "      <td>7</td>\n",
       "      <td>bogo</td>\n",
       "      <td>9b98b8c7a33c4b65b9aebfe6a799e6d9</td>\n",
       "    </tr>\n",
       "    <tr>\n",
       "      <th>4</th>\n",
       "      <td>5</td>\n",
       "      <td>[web, email]</td>\n",
       "      <td>20</td>\n",
       "      <td>10</td>\n",
       "      <td>discount</td>\n",
       "      <td>0b1e1539f2cc45b7b9fa7c272da2e1d7</td>\n",
       "    </tr>\n",
       "  </tbody>\n",
       "</table>\n",
       "</div>"
      ],
      "text/plain": [
       "   reward                      channels  difficulty  duration     offer_type  \\\n",
       "0      10       [email, mobile, social]          10         7           bogo   \n",
       "1      10  [web, email, mobile, social]          10         5           bogo   \n",
       "2       0          [web, email, mobile]           0         4  informational   \n",
       "3       5          [web, email, mobile]           5         7           bogo   \n",
       "4       5                  [web, email]          20        10       discount   \n",
       "\n",
       "                                 id  \n",
       "0  ae264e3637204a6fb9bb56bc8210ddfd  \n",
       "1  4d5c57ea9a6940dd891ad53e9dbe8da0  \n",
       "2  3f207df678b143eea3cee63160fa8bed  \n",
       "3  9b98b8c7a33c4b65b9aebfe6a799e6d9  \n",
       "4  0b1e1539f2cc45b7b9fa7c272da2e1d7  "
      ]
     },
     "execution_count": 4,
     "metadata": {},
     "output_type": "execute_result"
    }
   ],
   "source": [
    "# Preprocess portfolio data\n",
    "DIR = 'data/'\n",
    "portfolio = pd.read_json(DIR+'portfolio.json', orient='records', lines=True)\n",
    "port_df = portfolio.copy()\n",
    "# Chech duplicated data\n",
    "print('Duplcated id: ',port_df['id'].duplicated().sum())\n",
    "port_df.head()\n"
   ]
  },
  {
   "cell_type": "code",
   "execution_count": 5,
   "metadata": {},
   "outputs": [],
   "source": [
    "def encode_df_col(df, col):\n",
    "    '''\n",
    "    df: DataFrame\n",
    "    col: an encoded column of df\n",
    "    '''\n",
    "    sep_cols = pd.get_dummies(df[col].apply(pd.Series).stack()).groupby(level=0).sum()\n",
    "    return pd.concat([df, sep_cols], axis=1)\n"
   ]
  },
  {
   "cell_type": "code",
   "execution_count": 6,
   "metadata": {},
   "outputs": [
    {
     "name": "stdout",
     "output_type": "stream",
     "text": [
      "<class 'pandas.core.frame.DataFrame'>\n",
      "RangeIndex: 10 entries, 0 to 9\n",
      "Data columns (total 11 columns):\n",
      " #   Column         Non-Null Count  Dtype\n",
      "---  ------         --------------  -----\n",
      " 0   reward         10 non-null     int64\n",
      " 1   min_spend      10 non-null     int64\n",
      " 2   duration       10 non-null     int64\n",
      " 3   offer_id       10 non-null     int64\n",
      " 4   email          10 non-null     uint8\n",
      " 5   mobile         10 non-null     uint8\n",
      " 6   social         10 non-null     uint8\n",
      " 7   web            10 non-null     uint8\n",
      " 8   bogo           10 non-null     uint8\n",
      " 9   discount       10 non-null     uint8\n",
      " 10  informational  10 non-null     uint8\n",
      "dtypes: int64(4), uint8(7)\n",
      "memory usage: 518.0 bytes\n",
      "\n",
      "    reward  min_spend  duration  offer_id  email  mobile  social  web  bogo  \\\n",
      "0      10         10         7         0      1       1       1    0     1   \n",
      "1      10         10         5         1      1       1       1    1     1   \n",
      "2       0          0         4         2      1       1       0    1     0   \n",
      "3       5          5         7         3      1       1       0    1     1   \n",
      "4       5         20        10         4      1       0       0    1     0   \n",
      "5       3          7         7         5      1       1       1    1     0   \n",
      "6       2         10        10         6      1       1       1    1     0   \n",
      "7       0          0         3         7      1       1       1    0     0   \n",
      "8       5          5         5         8      1       1       1    1     1   \n",
      "9       2         10         7         9      1       1       0    1     0   \n",
      "\n",
      "   discount  informational  \n",
      "0         0              0  \n",
      "1         0              0  \n",
      "2         0              1  \n",
      "3         0              0  \n",
      "4         1              0  \n",
      "5         1              0  \n",
      "6         1              0  \n",
      "7         0              1  \n",
      "8         0              0  \n",
      "9         1              0  \n"
     ]
    },
    {
     "data": {
      "text/html": [
       "<div>\n",
       "<style scoped>\n",
       "    .dataframe tbody tr th:only-of-type {\n",
       "        vertical-align: middle;\n",
       "    }\n",
       "\n",
       "    .dataframe tbody tr th {\n",
       "        vertical-align: top;\n",
       "    }\n",
       "\n",
       "    .dataframe thead th {\n",
       "        text-align: right;\n",
       "    }\n",
       "</style>\n",
       "<table border=\"1\" class=\"dataframe\">\n",
       "  <thead>\n",
       "    <tr style=\"text-align: right;\">\n",
       "      <th></th>\n",
       "      <th>reward</th>\n",
       "      <th>min_spend</th>\n",
       "      <th>duration</th>\n",
       "      <th>offer_id</th>\n",
       "      <th>email</th>\n",
       "      <th>mobile</th>\n",
       "      <th>social</th>\n",
       "      <th>web</th>\n",
       "      <th>bogo</th>\n",
       "      <th>discount</th>\n",
       "      <th>informational</th>\n",
       "    </tr>\n",
       "  </thead>\n",
       "  <tbody>\n",
       "    <tr>\n",
       "      <th>count</th>\n",
       "      <td>10.000000</td>\n",
       "      <td>10.000000</td>\n",
       "      <td>10.000000</td>\n",
       "      <td>10.00000</td>\n",
       "      <td>10.0</td>\n",
       "      <td>10.000000</td>\n",
       "      <td>10.000000</td>\n",
       "      <td>10.000000</td>\n",
       "      <td>10.000000</td>\n",
       "      <td>10.000000</td>\n",
       "      <td>10.000000</td>\n",
       "    </tr>\n",
       "    <tr>\n",
       "      <th>mean</th>\n",
       "      <td>4.200000</td>\n",
       "      <td>7.700000</td>\n",
       "      <td>6.500000</td>\n",
       "      <td>4.50000</td>\n",
       "      <td>1.0</td>\n",
       "      <td>0.900000</td>\n",
       "      <td>0.600000</td>\n",
       "      <td>0.800000</td>\n",
       "      <td>0.400000</td>\n",
       "      <td>0.400000</td>\n",
       "      <td>0.200000</td>\n",
       "    </tr>\n",
       "    <tr>\n",
       "      <th>std</th>\n",
       "      <td>3.583915</td>\n",
       "      <td>5.831905</td>\n",
       "      <td>2.321398</td>\n",
       "      <td>3.02765</td>\n",
       "      <td>0.0</td>\n",
       "      <td>0.316228</td>\n",
       "      <td>0.516398</td>\n",
       "      <td>0.421637</td>\n",
       "      <td>0.516398</td>\n",
       "      <td>0.516398</td>\n",
       "      <td>0.421637</td>\n",
       "    </tr>\n",
       "    <tr>\n",
       "      <th>min</th>\n",
       "      <td>0.000000</td>\n",
       "      <td>0.000000</td>\n",
       "      <td>3.000000</td>\n",
       "      <td>0.00000</td>\n",
       "      <td>1.0</td>\n",
       "      <td>0.000000</td>\n",
       "      <td>0.000000</td>\n",
       "      <td>0.000000</td>\n",
       "      <td>0.000000</td>\n",
       "      <td>0.000000</td>\n",
       "      <td>0.000000</td>\n",
       "    </tr>\n",
       "    <tr>\n",
       "      <th>25%</th>\n",
       "      <td>2.000000</td>\n",
       "      <td>5.000000</td>\n",
       "      <td>5.000000</td>\n",
       "      <td>2.25000</td>\n",
       "      <td>1.0</td>\n",
       "      <td>1.000000</td>\n",
       "      <td>0.000000</td>\n",
       "      <td>1.000000</td>\n",
       "      <td>0.000000</td>\n",
       "      <td>0.000000</td>\n",
       "      <td>0.000000</td>\n",
       "    </tr>\n",
       "    <tr>\n",
       "      <th>50%</th>\n",
       "      <td>4.000000</td>\n",
       "      <td>8.500000</td>\n",
       "      <td>7.000000</td>\n",
       "      <td>4.50000</td>\n",
       "      <td>1.0</td>\n",
       "      <td>1.000000</td>\n",
       "      <td>1.000000</td>\n",
       "      <td>1.000000</td>\n",
       "      <td>0.000000</td>\n",
       "      <td>0.000000</td>\n",
       "      <td>0.000000</td>\n",
       "    </tr>\n",
       "    <tr>\n",
       "      <th>75%</th>\n",
       "      <td>5.000000</td>\n",
       "      <td>10.000000</td>\n",
       "      <td>7.000000</td>\n",
       "      <td>6.75000</td>\n",
       "      <td>1.0</td>\n",
       "      <td>1.000000</td>\n",
       "      <td>1.000000</td>\n",
       "      <td>1.000000</td>\n",
       "      <td>1.000000</td>\n",
       "      <td>1.000000</td>\n",
       "      <td>0.000000</td>\n",
       "    </tr>\n",
       "    <tr>\n",
       "      <th>max</th>\n",
       "      <td>10.000000</td>\n",
       "      <td>20.000000</td>\n",
       "      <td>10.000000</td>\n",
       "      <td>9.00000</td>\n",
       "      <td>1.0</td>\n",
       "      <td>1.000000</td>\n",
       "      <td>1.000000</td>\n",
       "      <td>1.000000</td>\n",
       "      <td>1.000000</td>\n",
       "      <td>1.000000</td>\n",
       "      <td>1.000000</td>\n",
       "    </tr>\n",
       "  </tbody>\n",
       "</table>\n",
       "</div>"
      ],
      "text/plain": [
       "          reward  min_spend   duration  offer_id  email     mobile     social  \\\n",
       "count  10.000000  10.000000  10.000000  10.00000   10.0  10.000000  10.000000   \n",
       "mean    4.200000   7.700000   6.500000   4.50000    1.0   0.900000   0.600000   \n",
       "std     3.583915   5.831905   2.321398   3.02765    0.0   0.316228   0.516398   \n",
       "min     0.000000   0.000000   3.000000   0.00000    1.0   0.000000   0.000000   \n",
       "25%     2.000000   5.000000   5.000000   2.25000    1.0   1.000000   0.000000   \n",
       "50%     4.000000   8.500000   7.000000   4.50000    1.0   1.000000   1.000000   \n",
       "75%     5.000000  10.000000   7.000000   6.75000    1.0   1.000000   1.000000   \n",
       "max    10.000000  20.000000  10.000000   9.00000    1.0   1.000000   1.000000   \n",
       "\n",
       "             web       bogo   discount  informational  \n",
       "count  10.000000  10.000000  10.000000      10.000000  \n",
       "mean    0.800000   0.400000   0.400000       0.200000  \n",
       "std     0.421637   0.516398   0.516398       0.421637  \n",
       "min     0.000000   0.000000   0.000000       0.000000  \n",
       "25%     1.000000   0.000000   0.000000       0.000000  \n",
       "50%     1.000000   0.000000   0.000000       0.000000  \n",
       "75%     1.000000   1.000000   1.000000       0.000000  \n",
       "max     1.000000   1.000000   1.000000       1.000000  "
      ]
     },
     "execution_count": 6,
     "metadata": {},
     "output_type": "execute_result"
    }
   ],
   "source": [
    "# We encode offer_id into number data to see more clearly\n",
    "offer_id_dict = {}\n",
    "for k, id in enumerate(port_df['id']):\n",
    "    offer_id_dict[id] = k\n",
    "port_df['offer_id'] = port_df['id'].map(offer_id_dict)\n",
    "\n",
    "# sep_channels = pd.get_dummies(port_df['channels'].apply(pd.Series).stack()).groupby(level=0).sum()\n",
    "# port_df = pd.concat([port_df, sep_channels], axis = 1)\n",
    "\n",
    "# rename port_df column to meaningful name\n",
    "port_df = encode_df_col(port_df, 'channels')\n",
    "\n",
    "port_df.rename(columns={\"difficulty\": \"min_spend\"}, inplace=True)\n",
    "\n",
    "# Drop 2 renamed columns \n",
    "port_df.drop(columns=['channels', 'id'], axis=1, inplace=True)\n",
    "\n",
    "# Encode the offer_type data\n",
    "# sep_offer_types = pd.get_dummies(port_df['offer_type'])\n",
    "# port_df = pd.concat([port_df, sep_offer_types], axis=1)\n",
    "port_df = encode_df_col(port_df, 'offer_type')\n",
    "\n",
    "port_df.drop(columns=['offer_type'], axis=1, inplace=True)\n",
    "\n",
    "port_df.info()\n",
    "print('\\n', port_df)\n",
    "port_df.describe()"
   ]
  },
  {
   "cell_type": "code",
   "execution_count": 7,
   "metadata": {},
   "outputs": [
    {
     "name": "stdout",
     "output_type": "stream",
     "text": [
      "<class 'pandas.core.frame.DataFrame'>\n",
      "RangeIndex: 10 entries, 0 to 9\n",
      "Data columns (total 10 columns):\n",
      " #   Column         Non-Null Count  Dtype\n",
      "---  ------         --------------  -----\n",
      " 0   offer_id       10 non-null     int64\n",
      " 1   reward         10 non-null     int64\n",
      " 2   min_spend      10 non-null     int64\n",
      " 3   duration       10 non-null     int64\n",
      " 4   mobile         10 non-null     uint8\n",
      " 5   social         10 non-null     uint8\n",
      " 6   web            10 non-null     uint8\n",
      " 7   bogo           10 non-null     uint8\n",
      " 8   discount       10 non-null     uint8\n",
      " 9   informational  10 non-null     uint8\n",
      "dtypes: int64(4), uint8(6)\n",
      "memory usage: 508.0 bytes\n"
     ]
    }
   ],
   "source": [
    "# email = 1 for each row, its column is useless in our model. We delete column email\n",
    "port_df.drop(columns = ['email'], axis=1, inplace=True)\n",
    "# move offer_id column to the first.\n",
    "def move_col_first(df, col_name):\n",
    "    '''\n",
    "    df: pandas DataFrame\n",
    "    col_name: column is moved to the first column in df\n",
    "    '''\n",
    "    vals = df.pop(col_name)\n",
    "    df.insert(0, col_name, vals)\n",
    "\n",
    "move_col_first(port_df, 'offer_id')\n",
    "port_df.info()"
   ]
  },
  {
   "cell_type": "code",
   "execution_count": 8,
   "metadata": {},
   "outputs": [
    {
     "name": "stdout",
     "output_type": "stream",
     "text": [
      "Duplicated:  0 \n",
      "---\n",
      "IsNull\n",
      " offer_id         0\n",
      "reward           0\n",
      "min_spend        0\n",
      "duration         0\n",
      "mobile           0\n",
      "social           0\n",
      "web              0\n",
      "bogo             0\n",
      "discount         0\n",
      "informational    0\n",
      "dtype: int64\n"
     ]
    }
   ],
   "source": [
    "# Check duplicated records and null values\n",
    "print('Duplicated: ', port_df.duplicated().sum(), '\\n---\\nIsNull\\n', port_df.isnull().sum())"
   ]
  },
  {
   "cell_type": "code",
   "execution_count": 9,
   "metadata": {},
   "outputs": [
    {
     "data": {
      "text/html": [
       "<div>\n",
       "<style scoped>\n",
       "    .dataframe tbody tr th:only-of-type {\n",
       "        vertical-align: middle;\n",
       "    }\n",
       "\n",
       "    .dataframe tbody tr th {\n",
       "        vertical-align: top;\n",
       "    }\n",
       "\n",
       "    .dataframe thead th {\n",
       "        text-align: right;\n",
       "    }\n",
       "</style>\n",
       "<table border=\"1\" class=\"dataframe\">\n",
       "  <thead>\n",
       "    <tr style=\"text-align: right;\">\n",
       "      <th></th>\n",
       "      <th>offer_id</th>\n",
       "      <th>reward</th>\n",
       "      <th>min_spend</th>\n",
       "      <th>duration</th>\n",
       "      <th>mobile</th>\n",
       "      <th>social</th>\n",
       "      <th>web</th>\n",
       "      <th>bogo</th>\n",
       "      <th>discount</th>\n",
       "      <th>informational</th>\n",
       "    </tr>\n",
       "  </thead>\n",
       "  <tbody>\n",
       "    <tr>\n",
       "      <th>0</th>\n",
       "      <td>0</td>\n",
       "      <td>10</td>\n",
       "      <td>10</td>\n",
       "      <td>7</td>\n",
       "      <td>1</td>\n",
       "      <td>1</td>\n",
       "      <td>0</td>\n",
       "      <td>1</td>\n",
       "      <td>0</td>\n",
       "      <td>0</td>\n",
       "    </tr>\n",
       "    <tr>\n",
       "      <th>1</th>\n",
       "      <td>1</td>\n",
       "      <td>10</td>\n",
       "      <td>10</td>\n",
       "      <td>5</td>\n",
       "      <td>1</td>\n",
       "      <td>1</td>\n",
       "      <td>1</td>\n",
       "      <td>1</td>\n",
       "      <td>0</td>\n",
       "      <td>0</td>\n",
       "    </tr>\n",
       "    <tr>\n",
       "      <th>2</th>\n",
       "      <td>2</td>\n",
       "      <td>0</td>\n",
       "      <td>0</td>\n",
       "      <td>4</td>\n",
       "      <td>1</td>\n",
       "      <td>0</td>\n",
       "      <td>1</td>\n",
       "      <td>0</td>\n",
       "      <td>0</td>\n",
       "      <td>1</td>\n",
       "    </tr>\n",
       "    <tr>\n",
       "      <th>3</th>\n",
       "      <td>3</td>\n",
       "      <td>5</td>\n",
       "      <td>5</td>\n",
       "      <td>7</td>\n",
       "      <td>1</td>\n",
       "      <td>0</td>\n",
       "      <td>1</td>\n",
       "      <td>1</td>\n",
       "      <td>0</td>\n",
       "      <td>0</td>\n",
       "    </tr>\n",
       "    <tr>\n",
       "      <th>4</th>\n",
       "      <td>4</td>\n",
       "      <td>5</td>\n",
       "      <td>20</td>\n",
       "      <td>10</td>\n",
       "      <td>0</td>\n",
       "      <td>0</td>\n",
       "      <td>1</td>\n",
       "      <td>0</td>\n",
       "      <td>1</td>\n",
       "      <td>0</td>\n",
       "    </tr>\n",
       "    <tr>\n",
       "      <th>5</th>\n",
       "      <td>5</td>\n",
       "      <td>3</td>\n",
       "      <td>7</td>\n",
       "      <td>7</td>\n",
       "      <td>1</td>\n",
       "      <td>1</td>\n",
       "      <td>1</td>\n",
       "      <td>0</td>\n",
       "      <td>1</td>\n",
       "      <td>0</td>\n",
       "    </tr>\n",
       "    <tr>\n",
       "      <th>6</th>\n",
       "      <td>6</td>\n",
       "      <td>2</td>\n",
       "      <td>10</td>\n",
       "      <td>10</td>\n",
       "      <td>1</td>\n",
       "      <td>1</td>\n",
       "      <td>1</td>\n",
       "      <td>0</td>\n",
       "      <td>1</td>\n",
       "      <td>0</td>\n",
       "    </tr>\n",
       "    <tr>\n",
       "      <th>7</th>\n",
       "      <td>7</td>\n",
       "      <td>0</td>\n",
       "      <td>0</td>\n",
       "      <td>3</td>\n",
       "      <td>1</td>\n",
       "      <td>1</td>\n",
       "      <td>0</td>\n",
       "      <td>0</td>\n",
       "      <td>0</td>\n",
       "      <td>1</td>\n",
       "    </tr>\n",
       "    <tr>\n",
       "      <th>8</th>\n",
       "      <td>8</td>\n",
       "      <td>5</td>\n",
       "      <td>5</td>\n",
       "      <td>5</td>\n",
       "      <td>1</td>\n",
       "      <td>1</td>\n",
       "      <td>1</td>\n",
       "      <td>1</td>\n",
       "      <td>0</td>\n",
       "      <td>0</td>\n",
       "    </tr>\n",
       "    <tr>\n",
       "      <th>9</th>\n",
       "      <td>9</td>\n",
       "      <td>2</td>\n",
       "      <td>10</td>\n",
       "      <td>7</td>\n",
       "      <td>1</td>\n",
       "      <td>0</td>\n",
       "      <td>1</td>\n",
       "      <td>0</td>\n",
       "      <td>1</td>\n",
       "      <td>0</td>\n",
       "    </tr>\n",
       "  </tbody>\n",
       "</table>\n",
       "</div>"
      ],
      "text/plain": [
       "   offer_id  reward  min_spend  duration  mobile  social  web  bogo  discount  \\\n",
       "0         0      10         10         7       1       1    0     1         0   \n",
       "1         1      10         10         5       1       1    1     1         0   \n",
       "2         2       0          0         4       1       0    1     0         0   \n",
       "3         3       5          5         7       1       0    1     1         0   \n",
       "4         4       5         20        10       0       0    1     0         1   \n",
       "5         5       3          7         7       1       1    1     0         1   \n",
       "6         6       2         10        10       1       1    1     0         1   \n",
       "7         7       0          0         3       1       1    0     0         0   \n",
       "8         8       5          5         5       1       1    1     1         0   \n",
       "9         9       2         10         7       1       0    1     0         1   \n",
       "\n",
       "   informational  \n",
       "0              0  \n",
       "1              0  \n",
       "2              1  \n",
       "3              0  \n",
       "4              0  \n",
       "5              0  \n",
       "6              0  \n",
       "7              1  \n",
       "8              0  \n",
       "9              0  "
      ]
     },
     "execution_count": 9,
     "metadata": {},
     "output_type": "execute_result"
    }
   ],
   "source": [
    "port_df"
   ]
  },
  {
   "cell_type": "markdown",
   "metadata": {},
   "source": [
    "### Profile data processing"
   ]
  },
  {
   "cell_type": "code",
   "execution_count": 10,
   "metadata": {},
   "outputs": [
    {
     "name": "stdout",
     "output_type": "stream",
     "text": [
      "<class 'pandas.core.frame.DataFrame'>\n",
      "RangeIndex: 17000 entries, 0 to 16999\n",
      "Data columns (total 5 columns):\n",
      " #   Column            Non-Null Count  Dtype  \n",
      "---  ------            --------------  -----  \n",
      " 0   gender            14825 non-null  object \n",
      " 1   age               17000 non-null  int64  \n",
      " 2   id                17000 non-null  object \n",
      " 3   became_member_on  17000 non-null  int64  \n",
      " 4   income            14825 non-null  float64\n",
      "dtypes: float64(1), int64(2), object(2)\n",
      "memory usage: 664.2+ KB\n"
     ]
    },
    {
     "data": {
      "text/html": [
       "<div>\n",
       "<style scoped>\n",
       "    .dataframe tbody tr th:only-of-type {\n",
       "        vertical-align: middle;\n",
       "    }\n",
       "\n",
       "    .dataframe tbody tr th {\n",
       "        vertical-align: top;\n",
       "    }\n",
       "\n",
       "    .dataframe thead th {\n",
       "        text-align: right;\n",
       "    }\n",
       "</style>\n",
       "<table border=\"1\" class=\"dataframe\">\n",
       "  <thead>\n",
       "    <tr style=\"text-align: right;\">\n",
       "      <th></th>\n",
       "      <th>gender</th>\n",
       "      <th>age</th>\n",
       "      <th>id</th>\n",
       "      <th>became_member_on</th>\n",
       "      <th>income</th>\n",
       "    </tr>\n",
       "  </thead>\n",
       "  <tbody>\n",
       "    <tr>\n",
       "      <th>0</th>\n",
       "      <td>None</td>\n",
       "      <td>118</td>\n",
       "      <td>68be06ca386d4c31939f3a4f0e3dd783</td>\n",
       "      <td>20170212</td>\n",
       "      <td>NaN</td>\n",
       "    </tr>\n",
       "    <tr>\n",
       "      <th>1</th>\n",
       "      <td>F</td>\n",
       "      <td>55</td>\n",
       "      <td>0610b486422d4921ae7d2bf64640c50b</td>\n",
       "      <td>20170715</td>\n",
       "      <td>112000.0</td>\n",
       "    </tr>\n",
       "    <tr>\n",
       "      <th>2</th>\n",
       "      <td>None</td>\n",
       "      <td>118</td>\n",
       "      <td>38fe809add3b4fcf9315a9694bb96ff5</td>\n",
       "      <td>20180712</td>\n",
       "      <td>NaN</td>\n",
       "    </tr>\n",
       "    <tr>\n",
       "      <th>3</th>\n",
       "      <td>F</td>\n",
       "      <td>75</td>\n",
       "      <td>78afa995795e4d85b5d9ceeca43f5fef</td>\n",
       "      <td>20170509</td>\n",
       "      <td>100000.0</td>\n",
       "    </tr>\n",
       "    <tr>\n",
       "      <th>4</th>\n",
       "      <td>None</td>\n",
       "      <td>118</td>\n",
       "      <td>a03223e636434f42ac4c3df47e8bac43</td>\n",
       "      <td>20170804</td>\n",
       "      <td>NaN</td>\n",
       "    </tr>\n",
       "  </tbody>\n",
       "</table>\n",
       "</div>"
      ],
      "text/plain": [
       "  gender  age                                id  became_member_on    income\n",
       "0   None  118  68be06ca386d4c31939f3a4f0e3dd783          20170212       NaN\n",
       "1      F   55  0610b486422d4921ae7d2bf64640c50b          20170715  112000.0\n",
       "2   None  118  38fe809add3b4fcf9315a9694bb96ff5          20180712       NaN\n",
       "3      F   75  78afa995795e4d85b5d9ceeca43f5fef          20170509  100000.0\n",
       "4   None  118  a03223e636434f42ac4c3df47e8bac43          20170804       NaN"
      ]
     },
     "execution_count": 10,
     "metadata": {},
     "output_type": "execute_result"
    }
   ],
   "source": [
    "# Preprocess profile data\n",
    "profile = pd.read_json(DIR+'profile.json', orient='records', lines=True)\n",
    "profile.info()\n",
    "profile.head()"
   ]
  },
  {
   "cell_type": "code",
   "execution_count": 11,
   "metadata": {},
   "outputs": [
    {
     "name": "stdout",
     "output_type": "stream",
     "text": [
      "Number of null value: 2175\n"
     ]
    },
    {
     "data": {
      "text/plain": [
       "M    8484\n",
       "F    6129\n",
       "O     212\n",
       "Name: gender, dtype: int64"
      ]
     },
     "execution_count": 11,
     "metadata": {},
     "output_type": "execute_result"
    }
   ],
   "source": [
    "prof_df = profile.copy()\n",
    "# Examine null value in gender\n",
    "print('Number of null value:',sum(prof_df['gender'].isna()))\n",
    "prof_df['gender'].value_counts()"
   ]
  },
  {
   "cell_type": "code",
   "execution_count": 12,
   "metadata": {},
   "outputs": [
    {
     "data": {
      "text/plain": [
       "M    8484\n",
       "F    6129\n",
       "D    2175\n",
       "O     212\n",
       "Name: gender, dtype: int64"
      ]
     },
     "execution_count": 12,
     "metadata": {},
     "output_type": "execute_result"
    }
   ],
   "source": [
    "# Number of null is large, we set null gender as gender 'D' - Different\n",
    "prof_df['gender'].fillna('D', inplace=True)\n",
    "# prof_df['gender'] = prof_df['gender'].astype('category')\n",
    "prof_df['gender'].value_counts()"
   ]
  },
  {
   "cell_type": "code",
   "execution_count": 13,
   "metadata": {},
   "outputs": [
    {
     "data": {
      "text/plain": [
       "<matplotlib.axes._subplots.AxesSubplot at 0x7f16c96afc10>"
      ]
     },
     "execution_count": 13,
     "metadata": {},
     "output_type": "execute_result"
    },
    {
     "data": {
      "image/png": "[encoded data removed]",
      "text/plain": [
       "<Figure size 432x288 with 1 Axes>"
      ]
     },
     "metadata": {
      "needs_background": "light"
     },
     "output_type": "display_data"
    }
   ],
   "source": [
    "prof_df['gender'].hist(bins=4)"
   ]
  },
  {
   "cell_type": "code",
   "execution_count": 14,
   "metadata": {},
   "outputs": [
    {
     "name": "stdout",
     "output_type": "stream",
     "text": [
      "Number of null income:  2175\n"
     ]
    },
    {
     "data": {
      "text/plain": [
       "count     14825.000000\n",
       "mean      65404.991568\n",
       "std       21598.299410\n",
       "min       30000.000000\n",
       "25%       49000.000000\n",
       "50%       64000.000000\n",
       "75%       80000.000000\n",
       "max      120000.000000\n",
       "Name: income, dtype: float64"
      ]
     },
     "execution_count": 14,
     "metadata": {},
     "output_type": "execute_result"
    }
   ],
   "source": [
    "# Examine income data\n",
    "print('Number of null income: ', prof_df['income'].isnull().sum())\n",
    "prof_df['income'].describe()"
   ]
  },
  {
   "cell_type": "code",
   "execution_count": 15,
   "metadata": {},
   "outputs": [
    {
     "data": {
      "text/plain": [
       "<matplotlib.axes._subplots.AxesSubplot at 0x7f16c976b350>"
      ]
     },
     "execution_count": 15,
     "metadata": {},
     "output_type": "execute_result"
    },
    {
     "data": {
      "image/png": "[encoded data removed]",
      "text/plain": [
       "<Figure size 432x288 with 1 Axes>"
      ]
     },
     "metadata": {
      "needs_background": "light"
     },
     "output_type": "display_data"
    }
   ],
   "source": [
    "prof_df['income'].hist(bins=40)"
   ]
  },
  {
   "cell_type": "markdown",
   "metadata": {},
   "source": [
    "Notice: Total number of gender D is equal to total number of unknown income data"
   ]
  },
  {
   "cell_type": "code",
   "execution_count": 16,
   "metadata": {},
   "outputs": [
    {
     "name": "stdout",
     "output_type": "stream",
     "text": [
      "120.0 30.0 2175\n"
     ]
    },
    {
     "name": "stderr",
     "output_type": "stream",
     "text": [
      "/opt/conda/lib/python3.7/site-packages/ipykernel_launcher.py:17: SettingWithCopyWarning: \n",
      "A value is trying to be set on a copy of a slice from a DataFrame\n",
      "\n",
      "See the caveats in the documentation: https://pandas.pydata.org/pandas-docs/stable/user_guide/indexing.html#returning-a-view-versus-a-copy\n"
     ]
    },
    {
     "name": "stdout",
     "output_type": "stream",
     "text": [
      "2175\n"
     ]
    },
    {
     "data": {
      "text/plain": [
       "count     17000.000000\n",
       "mean      66623.411765\n",
       "std       22472.322961\n",
       "min       30000.000000\n",
       "25%       49000.000000\n",
       "50%       65000.000000\n",
       "75%       82000.000000\n",
       "max      120000.000000\n",
       "Name: income_rand, dtype: float64"
      ]
     },
     "execution_count": 16,
     "metadata": {},
     "output_type": "execute_result"
    },
    {
     "data": {
      "image/png": "[encoded data removed]",
      "text/plain": [
       "<Figure size 432x288 with 2 Axes>"
      ]
     },
     "metadata": {
      "needs_background": "light"
     },
     "output_type": "display_data"
    }
   ],
   "source": [
    "# Replace null value by a sequence of random dictribution data, saved in column 'income_rand'\n",
    "import numpy.random as rd \n",
    "# mu, sigma = prof_df['income'].mean(), prof_df['income'].std()\n",
    "max_inc = max(prof_df['income'].dropna())//1000\n",
    "min_inc = min(prof_df['income'].dropna())//1000\n",
    "\n",
    "null_income_indexs = prof_df['income'].isnull()\n",
    "print(max_inc, min_inc, sum(null_income_indexs))\n",
    "new_incomes = (np.random.randint(min_inc, max_inc, size=sum(null_income_indexs))*1000).tolist()\n",
    "# new_incomes = (np.round(np.random.normal(mu, sigma, sum(null_income_indexs)), -3)).tolist()\n",
    "prof_df['income_rand'] = prof_df['income'].copy()\n",
    "indexs = []\n",
    "i = 0\n",
    "for k, val in enumerate(null_income_indexs):\n",
    "    if val == True:\n",
    "        indexs.append(k)\n",
    "        prof_df['income_rand'][k] = new_incomes[i]\n",
    "        i += 1\n",
    "print(len(indexs))\n",
    "new_incomes\n",
    "# for k, val in enumerate\n",
    "# prof_df['income_rand'].iloc[indexs] = new_incomes\n",
    "prof_df[['income_rand', 'income']].hist(bins=40)\n",
    "prof_df['income_rand'].describe()"
   ]
  },
  {
   "cell_type": "markdown",
   "metadata": {},
   "source": [
    "##### Histogram doesn't change after modifying null value, and the mean value changes only a little."
   ]
  },
  {
   "cell_type": "code",
   "execution_count": 17,
   "metadata": {},
   "outputs": [
    {
     "data": {
      "text/plain": [
       "0"
      ]
     },
     "execution_count": 17,
     "metadata": {},
     "output_type": "execute_result"
    }
   ],
   "source": [
    "# Try setting mean value for null income \n",
    "mean_inc = round(prof_df['income'].mean(), -3)\n",
    "# max_inc = prof_df['income'].max()\n",
    "prof_df['income_mean'] = prof_df['income'].fillna(mean_inc)\n",
    "\n",
    "# prof_df['income'].describe()\n",
    "# check null value prof_df\n",
    "prof_df['income_mean'].isnull().sum()"
   ]
  },
  {
   "cell_type": "code",
   "execution_count": 18,
   "metadata": {},
   "outputs": [
    {
     "data": {
      "text/plain": [
       "array([[<matplotlib.axes._subplots.AxesSubplot object at 0x7f16c9b4dc50>,\n",
       "        <matplotlib.axes._subplots.AxesSubplot object at 0x7f16c9b9f2d0>]],\n",
       "      dtype=object)"
      ]
     },
     "execution_count": 18,
     "metadata": {},
     "output_type": "execute_result"
    },
    {
     "data": {
      "image/png": "[encoded data removed]",
      "text/plain": [
       "<Figure size 432x288 with 2 Axes>"
      ]
     },
     "metadata": {
      "needs_background": "light"
     },
     "output_type": "display_data"
    }
   ],
   "source": [
    "prof_df[['income_mean', 'income']].hist(bins=40)"
   ]
  },
  {
   "cell_type": "markdown",
   "metadata": {},
   "source": [
    "##### Histogram are much different. We choose 'income_rand' to use later "
   ]
  },
  {
   "cell_type": "code",
   "execution_count": 19,
   "metadata": {},
   "outputs": [],
   "source": [
    "prof_df.drop(['income_mean', 'income'], axis=1, inplace=True)"
   ]
  },
  {
   "cell_type": "code",
   "execution_count": 20,
   "metadata": {},
   "outputs": [
    {
     "name": "stdout",
     "output_type": "stream",
     "text": [
      "<class 'pandas.core.frame.DataFrame'>\n",
      "RangeIndex: 17000 entries, 0 to 16999\n",
      "Data columns (total 5 columns):\n",
      " #   Column       Non-Null Count  Dtype  \n",
      "---  ------       --------------  -----  \n",
      " 0   gender       17000 non-null  object \n",
      " 1   age          17000 non-null  int64  \n",
      " 2   customer_id  17000 non-null  object \n",
      " 3   time_on      17000 non-null  int64  \n",
      " 4   income_rand  17000 non-null  float64\n",
      "dtypes: float64(1), int64(2), object(2)\n",
      "memory usage: 664.2+ KB\n"
     ]
    },
    {
     "data": {
      "text/html": [
       "<div>\n",
       "<style scoped>\n",
       "    .dataframe tbody tr th:only-of-type {\n",
       "        vertical-align: middle;\n",
       "    }\n",
       "\n",
       "    .dataframe tbody tr th {\n",
       "        vertical-align: top;\n",
       "    }\n",
       "\n",
       "    .dataframe thead th {\n",
       "        text-align: right;\n",
       "    }\n",
       "</style>\n",
       "<table border=\"1\" class=\"dataframe\">\n",
       "  <thead>\n",
       "    <tr style=\"text-align: right;\">\n",
       "      <th></th>\n",
       "      <th>gender</th>\n",
       "      <th>age</th>\n",
       "      <th>customer_id</th>\n",
       "      <th>time_on</th>\n",
       "      <th>income_rand</th>\n",
       "    </tr>\n",
       "  </thead>\n",
       "  <tbody>\n",
       "    <tr>\n",
       "      <th>0</th>\n",
       "      <td>D</td>\n",
       "      <td>118</td>\n",
       "      <td>68be06ca386d4c31939f3a4f0e3dd783</td>\n",
       "      <td>20170212</td>\n",
       "      <td>31000.0</td>\n",
       "    </tr>\n",
       "    <tr>\n",
       "      <th>1</th>\n",
       "      <td>F</td>\n",
       "      <td>55</td>\n",
       "      <td>0610b486422d4921ae7d2bf64640c50b</td>\n",
       "      <td>20170715</td>\n",
       "      <td>112000.0</td>\n",
       "    </tr>\n",
       "    <tr>\n",
       "      <th>2</th>\n",
       "      <td>D</td>\n",
       "      <td>118</td>\n",
       "      <td>38fe809add3b4fcf9315a9694bb96ff5</td>\n",
       "      <td>20180712</td>\n",
       "      <td>94000.0</td>\n",
       "    </tr>\n",
       "    <tr>\n",
       "      <th>3</th>\n",
       "      <td>F</td>\n",
       "      <td>75</td>\n",
       "      <td>78afa995795e4d85b5d9ceeca43f5fef</td>\n",
       "      <td>20170509</td>\n",
       "      <td>100000.0</td>\n",
       "    </tr>\n",
       "    <tr>\n",
       "      <th>4</th>\n",
       "      <td>D</td>\n",
       "      <td>118</td>\n",
       "      <td>a03223e636434f42ac4c3df47e8bac43</td>\n",
       "      <td>20170804</td>\n",
       "      <td>117000.0</td>\n",
       "    </tr>\n",
       "  </tbody>\n",
       "</table>\n",
       "</div>"
      ],
      "text/plain": [
       "  gender  age                       customer_id   time_on  income_rand\n",
       "0      D  118  68be06ca386d4c31939f3a4f0e3dd783  20170212      31000.0\n",
       "1      F   55  0610b486422d4921ae7d2bf64640c50b  20170715     112000.0\n",
       "2      D  118  38fe809add3b4fcf9315a9694bb96ff5  20180712      94000.0\n",
       "3      F   75  78afa995795e4d85b5d9ceeca43f5fef  20170509     100000.0\n",
       "4      D  118  a03223e636434f42ac4c3df47e8bac43  20170804     117000.0"
      ]
     },
     "execution_count": 20,
     "metadata": {},
     "output_type": "execute_result"
    }
   ],
   "source": [
    "# Change column name for knowing easily what ther are.\n",
    "prof_df_cols_change = {'became_member_on': 'time_on', 'id': 'customer_id'}\n",
    "prof_df.rename(prof_df_cols_change, axis=1, inplace=True)\n",
    "prof_df.info()\n",
    "prof_df.head()"
   ]
  },
  {
   "cell_type": "code",
   "execution_count": 21,
   "metadata": {},
   "outputs": [
    {
     "data": {
      "text/plain": [
       "(17000, 5)"
      ]
     },
     "execution_count": 21,
     "metadata": {},
     "output_type": "execute_result"
    }
   ],
   "source": [
    "# Check size\n",
    "prof_df.shape"
   ]
  },
  {
   "cell_type": "code",
   "execution_count": 22,
   "metadata": {},
   "outputs": [
    {
     "name": "stdout",
     "output_type": "stream",
     "text": [
      "<class 'pandas.core.frame.DataFrame'>\n",
      "RangeIndex: 17000 entries, 0 to 16999\n",
      "Data columns (total 5 columns):\n",
      " #   Column       Non-Null Count  Dtype         \n",
      "---  ------       --------------  -----         \n",
      " 0   gender       17000 non-null  object        \n",
      " 1   age          17000 non-null  int64         \n",
      " 2   customer_id  17000 non-null  object        \n",
      " 3   time_on      17000 non-null  datetime64[ns]\n",
      " 4   income_rand  17000 non-null  float64       \n",
      "dtypes: datetime64[ns](1), float64(1), int64(1), object(2)\n",
      "memory usage: 664.2+ KB\n"
     ]
    },
    {
     "data": {
      "text/html": [
       "<div>\n",
       "<style scoped>\n",
       "    .dataframe tbody tr th:only-of-type {\n",
       "        vertical-align: middle;\n",
       "    }\n",
       "\n",
       "    .dataframe tbody tr th {\n",
       "        vertical-align: top;\n",
       "    }\n",
       "\n",
       "    .dataframe thead th {\n",
       "        text-align: right;\n",
       "    }\n",
       "</style>\n",
       "<table border=\"1\" class=\"dataframe\">\n",
       "  <thead>\n",
       "    <tr style=\"text-align: right;\">\n",
       "      <th></th>\n",
       "      <th>gender</th>\n",
       "      <th>age</th>\n",
       "      <th>customer_id</th>\n",
       "      <th>time_on</th>\n",
       "      <th>income_rand</th>\n",
       "    </tr>\n",
       "  </thead>\n",
       "  <tbody>\n",
       "    <tr>\n",
       "      <th>0</th>\n",
       "      <td>D</td>\n",
       "      <td>118</td>\n",
       "      <td>68be06ca386d4c31939f3a4f0e3dd783</td>\n",
       "      <td>2017-02-12</td>\n",
       "      <td>31000.0</td>\n",
       "    </tr>\n",
       "    <tr>\n",
       "      <th>1</th>\n",
       "      <td>F</td>\n",
       "      <td>55</td>\n",
       "      <td>0610b486422d4921ae7d2bf64640c50b</td>\n",
       "      <td>2017-07-15</td>\n",
       "      <td>112000.0</td>\n",
       "    </tr>\n",
       "    <tr>\n",
       "      <th>2</th>\n",
       "      <td>D</td>\n",
       "      <td>118</td>\n",
       "      <td>38fe809add3b4fcf9315a9694bb96ff5</td>\n",
       "      <td>2018-07-12</td>\n",
       "      <td>94000.0</td>\n",
       "    </tr>\n",
       "    <tr>\n",
       "      <th>3</th>\n",
       "      <td>F</td>\n",
       "      <td>75</td>\n",
       "      <td>78afa995795e4d85b5d9ceeca43f5fef</td>\n",
       "      <td>2017-05-09</td>\n",
       "      <td>100000.0</td>\n",
       "    </tr>\n",
       "    <tr>\n",
       "      <th>4</th>\n",
       "      <td>D</td>\n",
       "      <td>118</td>\n",
       "      <td>a03223e636434f42ac4c3df47e8bac43</td>\n",
       "      <td>2017-08-04</td>\n",
       "      <td>117000.0</td>\n",
       "    </tr>\n",
       "  </tbody>\n",
       "</table>\n",
       "</div>"
      ],
      "text/plain": [
       "  gender  age                       customer_id    time_on  income_rand\n",
       "0      D  118  68be06ca386d4c31939f3a4f0e3dd783 2017-02-12      31000.0\n",
       "1      F   55  0610b486422d4921ae7d2bf64640c50b 2017-07-15     112000.0\n",
       "2      D  118  38fe809add3b4fcf9315a9694bb96ff5 2018-07-12      94000.0\n",
       "3      F   75  78afa995795e4d85b5d9ceeca43f5fef 2017-05-09     100000.0\n",
       "4      D  118  a03223e636434f42ac4c3df47e8bac43 2017-08-04     117000.0"
      ]
     },
     "execution_count": 22,
     "metadata": {},
     "output_type": "execute_result"
    }
   ],
   "source": [
    "# Set datetime type for 'time_on' value.\n",
    "prof_df['time_on'] = pd.to_datetime(prof_df['time_on'],format='%Y%m%d')\n",
    "prof_df.info()\n",
    "prof_df.head()"
   ]
  },
  {
   "cell_type": "code",
   "execution_count": 23,
   "metadata": {},
   "outputs": [
    {
     "data": {
      "text/plain": [
       "0"
      ]
     },
     "execution_count": 23,
     "metadata": {},
     "output_type": "execute_result"
    }
   ],
   "source": [
    "# check the unique customer_ids \n",
    "prof_df['customer_id'].duplicated().sum()"
   ]
  },
  {
   "cell_type": "code",
   "execution_count": 24,
   "metadata": {},
   "outputs": [
    {
     "name": "stdout",
     "output_type": "stream",
     "text": [
      "<class 'pandas.core.frame.DataFrame'>\n",
      "RangeIndex: 17000 entries, 0 to 16999\n",
      "Data columns (total 5 columns):\n",
      " #   Column       Non-Null Count  Dtype         \n",
      "---  ------       --------------  -----         \n",
      " 0   gender       17000 non-null  object        \n",
      " 1   age          17000 non-null  int64         \n",
      " 2   customer_id  17000 non-null  int64         \n",
      " 3   time_on      17000 non-null  datetime64[ns]\n",
      " 4   income_rand  17000 non-null  float64       \n",
      "dtypes: datetime64[ns](1), float64(1), int64(2), object(1)\n",
      "memory usage: 664.2+ KB\n"
     ]
    },
    {
     "data": {
      "text/html": [
       "<div>\n",
       "<style scoped>\n",
       "    .dataframe tbody tr th:only-of-type {\n",
       "        vertical-align: middle;\n",
       "    }\n",
       "\n",
       "    .dataframe tbody tr th {\n",
       "        vertical-align: top;\n",
       "    }\n",
       "\n",
       "    .dataframe thead th {\n",
       "        text-align: right;\n",
       "    }\n",
       "</style>\n",
       "<table border=\"1\" class=\"dataframe\">\n",
       "  <thead>\n",
       "    <tr style=\"text-align: right;\">\n",
       "      <th></th>\n",
       "      <th>gender</th>\n",
       "      <th>age</th>\n",
       "      <th>customer_id</th>\n",
       "      <th>time_on</th>\n",
       "      <th>income_rand</th>\n",
       "    </tr>\n",
       "  </thead>\n",
       "  <tbody>\n",
       "    <tr>\n",
       "      <th>0</th>\n",
       "      <td>D</td>\n",
       "      <td>118</td>\n",
       "      <td>0</td>\n",
       "      <td>2017-02-12</td>\n",
       "      <td>31000.0</td>\n",
       "    </tr>\n",
       "    <tr>\n",
       "      <th>1</th>\n",
       "      <td>F</td>\n",
       "      <td>55</td>\n",
       "      <td>1</td>\n",
       "      <td>2017-07-15</td>\n",
       "      <td>112000.0</td>\n",
       "    </tr>\n",
       "    <tr>\n",
       "      <th>2</th>\n",
       "      <td>D</td>\n",
       "      <td>118</td>\n",
       "      <td>2</td>\n",
       "      <td>2018-07-12</td>\n",
       "      <td>94000.0</td>\n",
       "    </tr>\n",
       "    <tr>\n",
       "      <th>3</th>\n",
       "      <td>F</td>\n",
       "      <td>75</td>\n",
       "      <td>3</td>\n",
       "      <td>2017-05-09</td>\n",
       "      <td>100000.0</td>\n",
       "    </tr>\n",
       "    <tr>\n",
       "      <th>4</th>\n",
       "      <td>D</td>\n",
       "      <td>118</td>\n",
       "      <td>4</td>\n",
       "      <td>2017-08-04</td>\n",
       "      <td>117000.0</td>\n",
       "    </tr>\n",
       "  </tbody>\n",
       "</table>\n",
       "</div>"
      ],
      "text/plain": [
       "  gender  age  customer_id    time_on  income_rand\n",
       "0      D  118            0 2017-02-12      31000.0\n",
       "1      F   55            1 2017-07-15     112000.0\n",
       "2      D  118            2 2018-07-12      94000.0\n",
       "3      F   75            3 2017-05-09     100000.0\n",
       "4      D  118            4 2017-08-04     117000.0"
      ]
     },
     "execution_count": 24,
     "metadata": {},
     "output_type": "execute_result"
    }
   ],
   "source": [
    "# Change the customer_id to number for easy view.\n",
    "customer_dict = {}\n",
    "for k, id in enumerate(prof_df['customer_id']):\n",
    "    customer_dict[id] = k\n",
    "\n",
    "prof_df['customer_id'] = prof_df['customer_id'].map(customer_dict)\n",
    "prof_df.info()\n",
    "prof_df.head()"
   ]
  },
  {
   "cell_type": "code",
   "execution_count": 25,
   "metadata": {},
   "outputs": [
    {
     "data": {
      "text/plain": [
       "array(['D'], dtype=object)"
      ]
     },
     "execution_count": 25,
     "metadata": {},
     "output_type": "execute_result"
    }
   ],
   "source": [
    "prof_df['gender'][prof_df['age'] == 118].unique()\n",
    "# array(['D'], dtype=object)"
   ]
  },
  {
   "cell_type": "markdown",
   "metadata": {},
   "source": [
    "##### People that don't set gender (D) is set age 118"
   ]
  },
  {
   "cell_type": "code",
   "execution_count": 26,
   "metadata": {},
   "outputs": [
    {
     "name": "stdout",
     "output_type": "stream",
     "text": [
      "<class 'pandas.core.frame.DataFrame'>\n",
      "RangeIndex: 17000 entries, 0 to 16999\n",
      "Data columns (total 9 columns):\n",
      " #   Column       Non-Null Count  Dtype         \n",
      "---  ------       --------------  -----         \n",
      " 0   gender       17000 non-null  object        \n",
      " 1   age          17000 non-null  int64         \n",
      " 2   customer_id  17000 non-null  int64         \n",
      " 3   time_on      17000 non-null  datetime64[ns]\n",
      " 4   income_rand  17000 non-null  float64       \n",
      " 5   D            17000 non-null  uint8         \n",
      " 6   F            17000 non-null  uint8         \n",
      " 7   M            17000 non-null  uint8         \n",
      " 8   O            17000 non-null  uint8         \n",
      "dtypes: datetime64[ns](1), float64(1), int64(2), object(1), uint8(4)\n",
      "memory usage: 730.6+ KB\n"
     ]
    }
   ],
   "source": [
    "# Encode the gender value\n",
    "prof_df['gender'] = prof_df['gender'].astype('object')\n",
    "prof_df = encode_df_col(prof_df, 'gender')\n",
    "\n",
    "prof_df.info()"
   ]
  },
  {
   "cell_type": "code",
   "execution_count": 27,
   "metadata": {},
   "outputs": [
    {
     "name": "stdout",
     "output_type": "stream",
     "text": [
      "<class 'pandas.core.frame.DataFrame'>\n",
      "RangeIndex: 17000 entries, 0 to 16999\n",
      "Data columns (total 9 columns):\n",
      " #   Column       Non-Null Count  Dtype         \n",
      "---  ------       --------------  -----         \n",
      " 0   customer_id  17000 non-null  int64         \n",
      " 1   gender       17000 non-null  object        \n",
      " 2   age          17000 non-null  int64         \n",
      " 3   time_on      17000 non-null  datetime64[ns]\n",
      " 4   income_rand  17000 non-null  float64       \n",
      " 5   D            17000 non-null  uint8         \n",
      " 6   F            17000 non-null  uint8         \n",
      " 7   M            17000 non-null  uint8         \n",
      " 8   O            17000 non-null  uint8         \n",
      "dtypes: datetime64[ns](1), float64(1), int64(2), object(1), uint8(4)\n",
      "memory usage: 730.6+ KB\n"
     ]
    },
    {
     "data": {
      "text/plain": [
       "customer_id    0\n",
       "gender         0\n",
       "age            0\n",
       "time_on        0\n",
       "income_rand    0\n",
       "D              0\n",
       "F              0\n",
       "M              0\n",
       "O              0\n",
       "dtype: int64"
      ]
     },
     "execution_count": 27,
     "metadata": {},
     "output_type": "execute_result"
    }
   ],
   "source": [
    "# Change the 1st column\n",
    "move_col_first(prof_df, 'customer_id')\n",
    "prof_df.info()\n",
    "prof_df.isnull().sum()"
   ]
  },
  {
   "cell_type": "markdown",
   "metadata": {},
   "source": [
    "### Transcript data\n"
   ]
  },
  {
   "cell_type": "code",
   "execution_count": 28,
   "metadata": {},
   "outputs": [
    {
     "name": "stdout",
     "output_type": "stream",
     "text": [
      "<class 'pandas.core.frame.DataFrame'>\n",
      "RangeIndex: 306534 entries, 0 to 306533\n",
      "Data columns (total 4 columns):\n",
      " #   Column  Non-Null Count   Dtype \n",
      "---  ------  --------------   ----- \n",
      " 0   person  306534 non-null  object\n",
      " 1   event   306534 non-null  object\n",
      " 2   value   306534 non-null  object\n",
      " 3   time    306534 non-null  int64 \n",
      "dtypes: int64(1), object(3)\n",
      "memory usage: 9.4+ MB\n"
     ]
    },
    {
     "data": {
      "text/html": [
       "<div>\n",
       "<style scoped>\n",
       "    .dataframe tbody tr th:only-of-type {\n",
       "        vertical-align: middle;\n",
       "    }\n",
       "\n",
       "    .dataframe tbody tr th {\n",
       "        vertical-align: top;\n",
       "    }\n",
       "\n",
       "    .dataframe thead th {\n",
       "        text-align: right;\n",
       "    }\n",
       "</style>\n",
       "<table border=\"1\" class=\"dataframe\">\n",
       "  <thead>\n",
       "    <tr style=\"text-align: right;\">\n",
       "      <th></th>\n",
       "      <th>person</th>\n",
       "      <th>event</th>\n",
       "      <th>value</th>\n",
       "      <th>time</th>\n",
       "    </tr>\n",
       "  </thead>\n",
       "  <tbody>\n",
       "    <tr>\n",
       "      <th>0</th>\n",
       "      <td>78afa995795e4d85b5d9ceeca43f5fef</td>\n",
       "      <td>offer received</td>\n",
       "      <td>{'offer id': '9b98b8c7a33c4b65b9aebfe6a799e6d9'}</td>\n",
       "      <td>0</td>\n",
       "    </tr>\n",
       "    <tr>\n",
       "      <th>1</th>\n",
       "      <td>a03223e636434f42ac4c3df47e8bac43</td>\n",
       "      <td>offer received</td>\n",
       "      <td>{'offer id': '0b1e1539f2cc45b7b9fa7c272da2e1d7'}</td>\n",
       "      <td>0</td>\n",
       "    </tr>\n",
       "    <tr>\n",
       "      <th>2</th>\n",
       "      <td>e2127556f4f64592b11af22de27a7932</td>\n",
       "      <td>offer received</td>\n",
       "      <td>{'offer id': '2906b810c7d4411798c6938adc9daaa5'}</td>\n",
       "      <td>0</td>\n",
       "    </tr>\n",
       "    <tr>\n",
       "      <th>3</th>\n",
       "      <td>8ec6ce2a7e7949b1bf142def7d0e0586</td>\n",
       "      <td>offer received</td>\n",
       "      <td>{'offer id': 'fafdcd668e3743c1bb461111dcafc2a4'}</td>\n",
       "      <td>0</td>\n",
       "    </tr>\n",
       "    <tr>\n",
       "      <th>4</th>\n",
       "      <td>68617ca6246f4fbc85e91a2a49552598</td>\n",
       "      <td>offer received</td>\n",
       "      <td>{'offer id': '4d5c57ea9a6940dd891ad53e9dbe8da0'}</td>\n",
       "      <td>0</td>\n",
       "    </tr>\n",
       "  </tbody>\n",
       "</table>\n",
       "</div>"
      ],
      "text/plain": [
       "                             person           event  \\\n",
       "0  78afa995795e4d85b5d9ceeca43f5fef  offer received   \n",
       "1  a03223e636434f42ac4c3df47e8bac43  offer received   \n",
       "2  e2127556f4f64592b11af22de27a7932  offer received   \n",
       "3  8ec6ce2a7e7949b1bf142def7d0e0586  offer received   \n",
       "4  68617ca6246f4fbc85e91a2a49552598  offer received   \n",
       "\n",
       "                                              value  time  \n",
       "0  {'offer id': '9b98b8c7a33c4b65b9aebfe6a799e6d9'}     0  \n",
       "1  {'offer id': '0b1e1539f2cc45b7b9fa7c272da2e1d7'}     0  \n",
       "2  {'offer id': '2906b810c7d4411798c6938adc9daaa5'}     0  \n",
       "3  {'offer id': 'fafdcd668e3743c1bb461111dcafc2a4'}     0  \n",
       "4  {'offer id': '4d5c57ea9a6940dd891ad53e9dbe8da0'}     0  "
      ]
     },
     "execution_count": 28,
     "metadata": {},
     "output_type": "execute_result"
    }
   ],
   "source": [
    "# Examine transcript data\n",
    "transcript = pd.read_json(DIR+'transcript.json', orient='records', lines=True)\n",
    "tran_df = transcript.copy()\n",
    "tran_df.info()\n",
    "# tran_df.describe()\n",
    "tran_df.head()\n"
   ]
  },
  {
   "cell_type": "code",
   "execution_count": 29,
   "metadata": {},
   "outputs": [
    {
     "data": {
      "text/html": [
       "<div>\n",
       "<style scoped>\n",
       "    .dataframe tbody tr th:only-of-type {\n",
       "        vertical-align: middle;\n",
       "    }\n",
       "\n",
       "    .dataframe tbody tr th {\n",
       "        vertical-align: top;\n",
       "    }\n",
       "\n",
       "    .dataframe thead th {\n",
       "        text-align: right;\n",
       "    }\n",
       "</style>\n",
       "<table border=\"1\" class=\"dataframe\">\n",
       "  <thead>\n",
       "    <tr style=\"text-align: right;\">\n",
       "      <th></th>\n",
       "      <th>event</th>\n",
       "      <th>value</th>\n",
       "      <th>time</th>\n",
       "      <th>customer_id</th>\n",
       "    </tr>\n",
       "  </thead>\n",
       "  <tbody>\n",
       "    <tr>\n",
       "      <th>0</th>\n",
       "      <td>offer received</td>\n",
       "      <td>{'offer id': '9b98b8c7a33c4b65b9aebfe6a799e6d9'}</td>\n",
       "      <td>0</td>\n",
       "      <td>3</td>\n",
       "    </tr>\n",
       "    <tr>\n",
       "      <th>1</th>\n",
       "      <td>offer received</td>\n",
       "      <td>{'offer id': '0b1e1539f2cc45b7b9fa7c272da2e1d7'}</td>\n",
       "      <td>0</td>\n",
       "      <td>4</td>\n",
       "    </tr>\n",
       "    <tr>\n",
       "      <th>2</th>\n",
       "      <td>offer received</td>\n",
       "      <td>{'offer id': '2906b810c7d4411798c6938adc9daaa5'}</td>\n",
       "      <td>0</td>\n",
       "      <td>5</td>\n",
       "    </tr>\n",
       "    <tr>\n",
       "      <th>3</th>\n",
       "      <td>offer received</td>\n",
       "      <td>{'offer id': 'fafdcd668e3743c1bb461111dcafc2a4'}</td>\n",
       "      <td>0</td>\n",
       "      <td>6</td>\n",
       "    </tr>\n",
       "    <tr>\n",
       "      <th>4</th>\n",
       "      <td>offer received</td>\n",
       "      <td>{'offer id': '4d5c57ea9a6940dd891ad53e9dbe8da0'}</td>\n",
       "      <td>0</td>\n",
       "      <td>7</td>\n",
       "    </tr>\n",
       "  </tbody>\n",
       "</table>\n",
       "</div>"
      ],
      "text/plain": [
       "            event                                             value  time  \\\n",
       "0  offer received  {'offer id': '9b98b8c7a33c4b65b9aebfe6a799e6d9'}     0   \n",
       "1  offer received  {'offer id': '0b1e1539f2cc45b7b9fa7c272da2e1d7'}     0   \n",
       "2  offer received  {'offer id': '2906b810c7d4411798c6938adc9daaa5'}     0   \n",
       "3  offer received  {'offer id': 'fafdcd668e3743c1bb461111dcafc2a4'}     0   \n",
       "4  offer received  {'offer id': '4d5c57ea9a6940dd891ad53e9dbe8da0'}     0   \n",
       "\n",
       "   customer_id  \n",
       "0            3  \n",
       "1            4  \n",
       "2            5  \n",
       "3            6  \n",
       "4            7  "
      ]
     },
     "execution_count": 29,
     "metadata": {},
     "output_type": "execute_result"
    }
   ],
   "source": [
    "# Transform person value into customer_id\n",
    "tran_df['customer_id']  = tran_df['person'].map(customer_dict)\n",
    "# tran_df['customer_id'].isnull().sum()\n",
    "tran_df.drop(columns=['person'], axis=1, inplace=True)\n",
    "tran_df.head()"
   ]
  },
  {
   "cell_type": "code",
   "execution_count": 30,
   "metadata": {},
   "outputs": [
    {
     "data": {
      "text/plain": [
       "17000"
      ]
     },
     "execution_count": 30,
     "metadata": {},
     "output_type": "execute_result"
    }
   ],
   "source": [
    "# Check if the total number of  customer_id is correct.\n",
    "len(tran_df['customer_id'].unique())"
   ]
  },
  {
   "cell_type": "code",
   "execution_count": 31,
   "metadata": {},
   "outputs": [
    {
     "data": {
      "text/plain": [
       "array(['offer received', 'offer viewed', 'transaction', 'offer completed'],\n",
       "      dtype=object)"
      ]
     },
     "execution_count": 31,
     "metadata": {},
     "output_type": "execute_result"
    }
   ],
   "source": [
    "# Examine the event data\n",
    "tran_df['event'].unique() "
   ]
  },
  {
   "cell_type": "code",
   "execution_count": 32,
   "metadata": {},
   "outputs": [
    {
     "name": "stdout",
     "output_type": "stream",
     "text": [
      "<class 'pandas.core.frame.DataFrame'>\n",
      "RangeIndex: 306534 entries, 0 to 306533\n",
      "Data columns (total 8 columns):\n",
      " #   Column           Non-Null Count   Dtype \n",
      "---  ------           --------------   ----- \n",
      " 0   event            306534 non-null  object\n",
      " 1   value            306534 non-null  object\n",
      " 2   time             306534 non-null  int64 \n",
      " 3   customer_id      306534 non-null  int64 \n",
      " 4   offer_completed  306534 non-null  uint8 \n",
      " 5   offer_received   306534 non-null  uint8 \n",
      " 6   offer_viewed     306534 non-null  uint8 \n",
      " 7   transaction      306534 non-null  uint8 \n",
      "dtypes: int64(2), object(2), uint8(4)\n",
      "memory usage: 10.5+ MB\n"
     ]
    }
   ],
   "source": [
    "# Encode the event data into 4 columns\n",
    "tran_df['event'] = tran_df['event'].str.replace(' ','_')\n",
    "tran_df = encode_df_col(tran_df, 'event')\n",
    "# sep_offers = pd.get_dummies(tran_df['event'].str.replace(' ','_'))\n",
    "# tran_df = pd.concat([tran_df, sep_offers], axis=1)\n",
    "tran_df.info()"
   ]
  },
  {
   "cell_type": "code",
   "execution_count": 33,
   "metadata": {},
   "outputs": [
    {
     "name": "stdout",
     "output_type": "stream",
     "text": [
      "0    {'offer id': '9b98b8c7a33c4b65b9aebfe6a799e6d9'}\n",
      "1    {'offer id': '0b1e1539f2cc45b7b9fa7c272da2e1d7'}\n",
      "2    {'offer id': '2906b810c7d4411798c6938adc9daaa5'}\n",
      "3    {'offer id': 'fafdcd668e3743c1bb461111dcafc2a4'}\n",
      "4    {'offer id': '4d5c57ea9a6940dd891ad53e9dbe8da0'}\n",
      "5    {'offer id': 'f19421c1d4aa40978ebb69ca19b0e20d'}\n",
      "6    {'offer id': '2298d6c36e964ae4a3e7e9706d1fb8c2'}\n",
      "7    {'offer id': '3f207df678b143eea3cee63160fa8bed'}\n",
      "8    {'offer id': '0b1e1539f2cc45b7b9fa7c272da2e1d7'}\n",
      "9    {'offer id': '0b1e1539f2cc45b7b9fa7c272da2e1d7'}\n",
      "Name: value, dtype: object \n",
      "---\n",
      " 306524                                    {'amount': 25.14}\n",
      "306525                                    {'amount': 43.58}\n",
      "306526                                    {'amount': 22.64}\n",
      "306527    {'offer_id': 'fafdcd668e3743c1bb461111dcafc2a4...\n",
      "306528                                      {'amount': 2.2}\n",
      "306529                       {'amount': 1.5899999999999999}\n",
      "306530                                     {'amount': 9.53}\n",
      "306531                                     {'amount': 3.61}\n",
      "306532                       {'amount': 3.5300000000000002}\n",
      "306533                                     {'amount': 4.05}\n",
      "Name: value, dtype: object\n"
     ]
    }
   ],
   "source": [
    "# Examine tran_df 'value' data\n",
    "print(tran_df['value'].head(10),'\\n---\\n',tran_df['value'].tail(10))"
   ]
  },
  {
   "cell_type": "code",
   "execution_count": 34,
   "metadata": {},
   "outputs": [
    {
     "name": "stdout",
     "output_type": "stream",
     "text": [
      "{'offer_id', 'reward', 'offer id', 'amount'}\n"
     ]
    }
   ],
   "source": [
    "# Examine the tran_df['value'] data. We use set data type to get all the distinct key values  \n",
    "myset = set()\n",
    "for dict in tran_df['value']:\n",
    "    for key in dict.keys():\n",
    "        myset.add(key)\n",
    "print(myset)"
   ]
  },
  {
   "cell_type": "markdown",
   "metadata": {},
   "source": [
    "#### There are 3 types of data in 'value'; 'offer id' and 'offer_id' have the same meaning. "
   ]
  },
  {
   "cell_type": "code",
   "execution_count": 35,
   "metadata": {},
   "outputs": [],
   "source": [
    "# Write 3 functions to encode the value column into 3 other columns offer_id, reward, and amount\n",
    "def get_offer_id(dict):\n",
    "    for key in dict.keys():\n",
    "        if 'offer' in key:\n",
    "            return dict[key]\n",
    "    # We use 10 for the other offer_id (different to original {0, 1, ...,9} in portfolio data).\n",
    "    return 10\n",
    "        \n",
    "def get_reward(dict):\n",
    "    for key in dict.keys():\n",
    "        if 'reward' in key:\n",
    "            return dict[key]\n",
    "    # If no reward we set 0\n",
    "    return 0\n",
    "        \n",
    "def get_amount(dict):\n",
    "    for key in dict.keys():\n",
    "        if 'amount' in key:\n",
    "            return dict[key]\n",
    "    # If no amount we set 0\n",
    "    return 0\n",
    "    "
   ]
  },
  {
   "cell_type": "code",
   "execution_count": 36,
   "metadata": {},
   "outputs": [
    {
     "data": {
      "text/html": [
       "<div>\n",
       "<style scoped>\n",
       "    .dataframe tbody tr th:only-of-type {\n",
       "        vertical-align: middle;\n",
       "    }\n",
       "\n",
       "    .dataframe tbody tr th {\n",
       "        vertical-align: top;\n",
       "    }\n",
       "\n",
       "    .dataframe thead th {\n",
       "        text-align: right;\n",
       "    }\n",
       "</style>\n",
       "<table border=\"1\" class=\"dataframe\">\n",
       "  <thead>\n",
       "    <tr style=\"text-align: right;\">\n",
       "      <th></th>\n",
       "      <th>event</th>\n",
       "      <th>value</th>\n",
       "      <th>time</th>\n",
       "      <th>customer_id</th>\n",
       "      <th>offer_completed</th>\n",
       "      <th>offer_received</th>\n",
       "      <th>offer_viewed</th>\n",
       "      <th>transaction</th>\n",
       "      <th>offer_id</th>\n",
       "      <th>reward</th>\n",
       "      <th>amount</th>\n",
       "    </tr>\n",
       "  </thead>\n",
       "  <tbody>\n",
       "    <tr>\n",
       "      <th>306514</th>\n",
       "      <td>transaction</td>\n",
       "      <td>{'amount': 8.2}</td>\n",
       "      <td>714</td>\n",
       "      <td>16836</td>\n",
       "      <td>0</td>\n",
       "      <td>0</td>\n",
       "      <td>0</td>\n",
       "      <td>1</td>\n",
       "      <td>10</td>\n",
       "      <td>0</td>\n",
       "      <td>8.20</td>\n",
       "    </tr>\n",
       "    <tr>\n",
       "      <th>306515</th>\n",
       "      <td>transaction</td>\n",
       "      <td>{'amount': 2.6}</td>\n",
       "      <td>714</td>\n",
       "      <td>16847</td>\n",
       "      <td>0</td>\n",
       "      <td>0</td>\n",
       "      <td>0</td>\n",
       "      <td>1</td>\n",
       "      <td>10</td>\n",
       "      <td>0</td>\n",
       "      <td>2.60</td>\n",
       "    </tr>\n",
       "    <tr>\n",
       "      <th>306516</th>\n",
       "      <td>transaction</td>\n",
       "      <td>{'amount': 9.2}</td>\n",
       "      <td>714</td>\n",
       "      <td>16848</td>\n",
       "      <td>0</td>\n",
       "      <td>0</td>\n",
       "      <td>0</td>\n",
       "      <td>1</td>\n",
       "      <td>10</td>\n",
       "      <td>0</td>\n",
       "      <td>9.20</td>\n",
       "    </tr>\n",
       "    <tr>\n",
       "      <th>306517</th>\n",
       "      <td>transaction</td>\n",
       "      <td>{'amount': 11.7}</td>\n",
       "      <td>714</td>\n",
       "      <td>16849</td>\n",
       "      <td>0</td>\n",
       "      <td>0</td>\n",
       "      <td>0</td>\n",
       "      <td>1</td>\n",
       "      <td>10</td>\n",
       "      <td>0</td>\n",
       "      <td>11.70</td>\n",
       "    </tr>\n",
       "    <tr>\n",
       "      <th>306518</th>\n",
       "      <td>transaction</td>\n",
       "      <td>{'amount': 40.67}</td>\n",
       "      <td>714</td>\n",
       "      <td>16864</td>\n",
       "      <td>0</td>\n",
       "      <td>0</td>\n",
       "      <td>0</td>\n",
       "      <td>1</td>\n",
       "      <td>10</td>\n",
       "      <td>0</td>\n",
       "      <td>40.67</td>\n",
       "    </tr>\n",
       "    <tr>\n",
       "      <th>306519</th>\n",
       "      <td>transaction</td>\n",
       "      <td>{'amount': 31.13}</td>\n",
       "      <td>714</td>\n",
       "      <td>16865</td>\n",
       "      <td>0</td>\n",
       "      <td>0</td>\n",
       "      <td>0</td>\n",
       "      <td>1</td>\n",
       "      <td>10</td>\n",
       "      <td>0</td>\n",
       "      <td>31.13</td>\n",
       "    </tr>\n",
       "    <tr>\n",
       "      <th>306520</th>\n",
       "      <td>transaction</td>\n",
       "      <td>{'amount': 1.6400000000000001}</td>\n",
       "      <td>714</td>\n",
       "      <td>16900</td>\n",
       "      <td>0</td>\n",
       "      <td>0</td>\n",
       "      <td>0</td>\n",
       "      <td>1</td>\n",
       "      <td>10</td>\n",
       "      <td>0</td>\n",
       "      <td>1.64</td>\n",
       "    </tr>\n",
       "    <tr>\n",
       "      <th>306521</th>\n",
       "      <td>transaction</td>\n",
       "      <td>{'amount': 17.35}</td>\n",
       "      <td>714</td>\n",
       "      <td>16912</td>\n",
       "      <td>0</td>\n",
       "      <td>0</td>\n",
       "      <td>0</td>\n",
       "      <td>1</td>\n",
       "      <td>10</td>\n",
       "      <td>0</td>\n",
       "      <td>17.35</td>\n",
       "    </tr>\n",
       "    <tr>\n",
       "      <th>306522</th>\n",
       "      <td>transaction</td>\n",
       "      <td>{'amount': 4.42}</td>\n",
       "      <td>714</td>\n",
       "      <td>16914</td>\n",
       "      <td>0</td>\n",
       "      <td>0</td>\n",
       "      <td>0</td>\n",
       "      <td>1</td>\n",
       "      <td>10</td>\n",
       "      <td>0</td>\n",
       "      <td>4.42</td>\n",
       "    </tr>\n",
       "    <tr>\n",
       "      <th>306523</th>\n",
       "      <td>transaction</td>\n",
       "      <td>{'amount': 18.35}</td>\n",
       "      <td>714</td>\n",
       "      <td>16918</td>\n",
       "      <td>0</td>\n",
       "      <td>0</td>\n",
       "      <td>0</td>\n",
       "      <td>1</td>\n",
       "      <td>10</td>\n",
       "      <td>0</td>\n",
       "      <td>18.35</td>\n",
       "    </tr>\n",
       "    <tr>\n",
       "      <th>306524</th>\n",
       "      <td>transaction</td>\n",
       "      <td>{'amount': 25.14}</td>\n",
       "      <td>714</td>\n",
       "      <td>16934</td>\n",
       "      <td>0</td>\n",
       "      <td>0</td>\n",
       "      <td>0</td>\n",
       "      <td>1</td>\n",
       "      <td>10</td>\n",
       "      <td>0</td>\n",
       "      <td>25.14</td>\n",
       "    </tr>\n",
       "    <tr>\n",
       "      <th>306525</th>\n",
       "      <td>transaction</td>\n",
       "      <td>{'amount': 43.58}</td>\n",
       "      <td>714</td>\n",
       "      <td>16935</td>\n",
       "      <td>0</td>\n",
       "      <td>0</td>\n",
       "      <td>0</td>\n",
       "      <td>1</td>\n",
       "      <td>10</td>\n",
       "      <td>0</td>\n",
       "      <td>43.58</td>\n",
       "    </tr>\n",
       "    <tr>\n",
       "      <th>306526</th>\n",
       "      <td>transaction</td>\n",
       "      <td>{'amount': 22.64}</td>\n",
       "      <td>714</td>\n",
       "      <td>16949</td>\n",
       "      <td>0</td>\n",
       "      <td>0</td>\n",
       "      <td>0</td>\n",
       "      <td>1</td>\n",
       "      <td>10</td>\n",
       "      <td>0</td>\n",
       "      <td>22.64</td>\n",
       "    </tr>\n",
       "    <tr>\n",
       "      <th>306527</th>\n",
       "      <td>offer_completed</td>\n",
       "      <td>{'offer_id': 'fafdcd668e3743c1bb461111dcafc2a4...</td>\n",
       "      <td>714</td>\n",
       "      <td>16949</td>\n",
       "      <td>1</td>\n",
       "      <td>0</td>\n",
       "      <td>0</td>\n",
       "      <td>0</td>\n",
       "      <td>fafdcd668e3743c1bb461111dcafc2a4</td>\n",
       "      <td>2</td>\n",
       "      <td>0.00</td>\n",
       "    </tr>\n",
       "    <tr>\n",
       "      <th>306528</th>\n",
       "      <td>transaction</td>\n",
       "      <td>{'amount': 2.2}</td>\n",
       "      <td>714</td>\n",
       "      <td>16951</td>\n",
       "      <td>0</td>\n",
       "      <td>0</td>\n",
       "      <td>0</td>\n",
       "      <td>1</td>\n",
       "      <td>10</td>\n",
       "      <td>0</td>\n",
       "      <td>2.20</td>\n",
       "    </tr>\n",
       "    <tr>\n",
       "      <th>306529</th>\n",
       "      <td>transaction</td>\n",
       "      <td>{'amount': 1.5899999999999999}</td>\n",
       "      <td>714</td>\n",
       "      <td>16959</td>\n",
       "      <td>0</td>\n",
       "      <td>0</td>\n",
       "      <td>0</td>\n",
       "      <td>1</td>\n",
       "      <td>10</td>\n",
       "      <td>0</td>\n",
       "      <td>1.59</td>\n",
       "    </tr>\n",
       "    <tr>\n",
       "      <th>306530</th>\n",
       "      <td>transaction</td>\n",
       "      <td>{'amount': 9.53}</td>\n",
       "      <td>714</td>\n",
       "      <td>16964</td>\n",
       "      <td>0</td>\n",
       "      <td>0</td>\n",
       "      <td>0</td>\n",
       "      <td>1</td>\n",
       "      <td>10</td>\n",
       "      <td>0</td>\n",
       "      <td>9.53</td>\n",
       "    </tr>\n",
       "    <tr>\n",
       "      <th>306531</th>\n",
       "      <td>transaction</td>\n",
       "      <td>{'amount': 3.61}</td>\n",
       "      <td>714</td>\n",
       "      <td>16979</td>\n",
       "      <td>0</td>\n",
       "      <td>0</td>\n",
       "      <td>0</td>\n",
       "      <td>1</td>\n",
       "      <td>10</td>\n",
       "      <td>0</td>\n",
       "      <td>3.61</td>\n",
       "    </tr>\n",
       "    <tr>\n",
       "      <th>306532</th>\n",
       "      <td>transaction</td>\n",
       "      <td>{'amount': 3.5300000000000002}</td>\n",
       "      <td>714</td>\n",
       "      <td>16987</td>\n",
       "      <td>0</td>\n",
       "      <td>0</td>\n",
       "      <td>0</td>\n",
       "      <td>1</td>\n",
       "      <td>10</td>\n",
       "      <td>0</td>\n",
       "      <td>3.53</td>\n",
       "    </tr>\n",
       "    <tr>\n",
       "      <th>306533</th>\n",
       "      <td>transaction</td>\n",
       "      <td>{'amount': 4.05}</td>\n",
       "      <td>714</td>\n",
       "      <td>16994</td>\n",
       "      <td>0</td>\n",
       "      <td>0</td>\n",
       "      <td>0</td>\n",
       "      <td>1</td>\n",
       "      <td>10</td>\n",
       "      <td>0</td>\n",
       "      <td>4.05</td>\n",
       "    </tr>\n",
       "  </tbody>\n",
       "</table>\n",
       "</div>"
      ],
      "text/plain": [
       "                  event                                              value  \\\n",
       "306514      transaction                                    {'amount': 8.2}   \n",
       "306515      transaction                                    {'amount': 2.6}   \n",
       "306516      transaction                                    {'amount': 9.2}   \n",
       "306517      transaction                                   {'amount': 11.7}   \n",
       "306518      transaction                                  {'amount': 40.67}   \n",
       "306519      transaction                                  {'amount': 31.13}   \n",
       "306520      transaction                     {'amount': 1.6400000000000001}   \n",
       "306521      transaction                                  {'amount': 17.35}   \n",
       "306522      transaction                                   {'amount': 4.42}   \n",
       "306523      transaction                                  {'amount': 18.35}   \n",
       "306524      transaction                                  {'amount': 25.14}   \n",
       "306525      transaction                                  {'amount': 43.58}   \n",
       "306526      transaction                                  {'amount': 22.64}   \n",
       "306527  offer_completed  {'offer_id': 'fafdcd668e3743c1bb461111dcafc2a4...   \n",
       "306528      transaction                                    {'amount': 2.2}   \n",
       "306529      transaction                     {'amount': 1.5899999999999999}   \n",
       "306530      transaction                                   {'amount': 9.53}   \n",
       "306531      transaction                                   {'amount': 3.61}   \n",
       "306532      transaction                     {'amount': 3.5300000000000002}   \n",
       "306533      transaction                                   {'amount': 4.05}   \n",
       "\n",
       "        time  customer_id  offer_completed  offer_received  offer_viewed  \\\n",
       "306514   714        16836                0               0             0   \n",
       "306515   714        16847                0               0             0   \n",
       "306516   714        16848                0               0             0   \n",
       "306517   714        16849                0               0             0   \n",
       "306518   714        16864                0               0             0   \n",
       "306519   714        16865                0               0             0   \n",
       "306520   714        16900                0               0             0   \n",
       "306521   714        16912                0               0             0   \n",
       "306522   714        16914                0               0             0   \n",
       "306523   714        16918                0               0             0   \n",
       "306524   714        16934                0               0             0   \n",
       "306525   714        16935                0               0             0   \n",
       "306526   714        16949                0               0             0   \n",
       "306527   714        16949                1               0             0   \n",
       "306528   714        16951                0               0             0   \n",
       "306529   714        16959                0               0             0   \n",
       "306530   714        16964                0               0             0   \n",
       "306531   714        16979                0               0             0   \n",
       "306532   714        16987                0               0             0   \n",
       "306533   714        16994                0               0             0   \n",
       "\n",
       "        transaction                          offer_id  reward  amount  \n",
       "306514            1                                10       0    8.20  \n",
       "306515            1                                10       0    2.60  \n",
       "306516            1                                10       0    9.20  \n",
       "306517            1                                10       0   11.70  \n",
       "306518            1                                10       0   40.67  \n",
       "306519            1                                10       0   31.13  \n",
       "306520            1                                10       0    1.64  \n",
       "306521            1                                10       0   17.35  \n",
       "306522            1                                10       0    4.42  \n",
       "306523            1                                10       0   18.35  \n",
       "306524            1                                10       0   25.14  \n",
       "306525            1                                10       0   43.58  \n",
       "306526            1                                10       0   22.64  \n",
       "306527            0  fafdcd668e3743c1bb461111dcafc2a4       2    0.00  \n",
       "306528            1                                10       0    2.20  \n",
       "306529            1                                10       0    1.59  \n",
       "306530            1                                10       0    9.53  \n",
       "306531            1                                10       0    3.61  \n",
       "306532            1                                10       0    3.53  \n",
       "306533            1                                10       0    4.05  "
      ]
     },
     "execution_count": 36,
     "metadata": {},
     "output_type": "execute_result"
    }
   ],
   "source": [
    "# Create 3 columns to encode the column 'value'\n",
    "tran_df['offer_id'] = tran_df['value'].apply(get_offer_id)\n",
    "tran_df['reward'] = tran_df['value'].apply(get_reward)\n",
    "tran_df['amount'] = tran_df['value'].apply(get_amount)\n",
    "tran_df.tail(20)"
   ]
  },
  {
   "cell_type": "code",
   "execution_count": 37,
   "metadata": {},
   "outputs": [
    {
     "name": "stdout",
     "output_type": "stream",
     "text": [
      "<class 'pandas.core.frame.DataFrame'>\n",
      "RangeIndex: 306534 entries, 0 to 306533\n",
      "Data columns (total 11 columns):\n",
      " #   Column           Non-Null Count   Dtype  \n",
      "---  ------           --------------   -----  \n",
      " 0   event            306534 non-null  object \n",
      " 1   value            306534 non-null  object \n",
      " 2   time             306534 non-null  int64  \n",
      " 3   customer_id      306534 non-null  int64  \n",
      " 4   offer_completed  306534 non-null  uint8  \n",
      " 5   offer_received   306534 non-null  uint8  \n",
      " 6   offer_viewed     306534 non-null  uint8  \n",
      " 7   transaction      306534 non-null  uint8  \n",
      " 8   offer_id         306534 non-null  object \n",
      " 9   reward           306534 non-null  int64  \n",
      " 10  amount           306534 non-null  float64\n",
      "dtypes: float64(1), int64(3), object(3), uint8(4)\n",
      "memory usage: 17.5+ MB\n"
     ]
    },
    {
     "data": {
      "text/html": [
       "<div>\n",
       "<style scoped>\n",
       "    .dataframe tbody tr th:only-of-type {\n",
       "        vertical-align: middle;\n",
       "    }\n",
       "\n",
       "    .dataframe tbody tr th {\n",
       "        vertical-align: top;\n",
       "    }\n",
       "\n",
       "    .dataframe thead th {\n",
       "        text-align: right;\n",
       "    }\n",
       "</style>\n",
       "<table border=\"1\" class=\"dataframe\">\n",
       "  <thead>\n",
       "    <tr style=\"text-align: right;\">\n",
       "      <th></th>\n",
       "      <th>time</th>\n",
       "      <th>customer_id</th>\n",
       "      <th>offer_completed</th>\n",
       "      <th>offer_received</th>\n",
       "      <th>offer_viewed</th>\n",
       "      <th>transaction</th>\n",
       "      <th>reward</th>\n",
       "      <th>amount</th>\n",
       "    </tr>\n",
       "  </thead>\n",
       "  <tbody>\n",
       "    <tr>\n",
       "      <th>count</th>\n",
       "      <td>306534.000000</td>\n",
       "      <td>306534.000000</td>\n",
       "      <td>306534.000000</td>\n",
       "      <td>306534.000000</td>\n",
       "      <td>306534.000000</td>\n",
       "      <td>306534.000000</td>\n",
       "      <td>306534.000000</td>\n",
       "      <td>306534.000000</td>\n",
       "    </tr>\n",
       "    <tr>\n",
       "      <th>mean</th>\n",
       "      <td>366.382940</td>\n",
       "      <td>8500.102374</td>\n",
       "      <td>0.109544</td>\n",
       "      <td>0.248837</td>\n",
       "      <td>0.188315</td>\n",
       "      <td>0.453304</td>\n",
       "      <td>0.537219</td>\n",
       "      <td>5.792023</td>\n",
       "    </tr>\n",
       "    <tr>\n",
       "      <th>std</th>\n",
       "      <td>200.326314</td>\n",
       "      <td>4901.913992</td>\n",
       "      <td>0.312321</td>\n",
       "      <td>0.432340</td>\n",
       "      <td>0.390964</td>\n",
       "      <td>0.497815</td>\n",
       "      <td>1.805208</td>\n",
       "      <td>21.337137</td>\n",
       "    </tr>\n",
       "    <tr>\n",
       "      <th>min</th>\n",
       "      <td>0.000000</td>\n",
       "      <td>0.000000</td>\n",
       "      <td>0.000000</td>\n",
       "      <td>0.000000</td>\n",
       "      <td>0.000000</td>\n",
       "      <td>0.000000</td>\n",
       "      <td>0.000000</td>\n",
       "      <td>0.000000</td>\n",
       "    </tr>\n",
       "    <tr>\n",
       "      <th>25%</th>\n",
       "      <td>186.000000</td>\n",
       "      <td>4264.000000</td>\n",
       "      <td>0.000000</td>\n",
       "      <td>0.000000</td>\n",
       "      <td>0.000000</td>\n",
       "      <td>0.000000</td>\n",
       "      <td>0.000000</td>\n",
       "      <td>0.000000</td>\n",
       "    </tr>\n",
       "    <tr>\n",
       "      <th>50%</th>\n",
       "      <td>408.000000</td>\n",
       "      <td>8498.000000</td>\n",
       "      <td>0.000000</td>\n",
       "      <td>0.000000</td>\n",
       "      <td>0.000000</td>\n",
       "      <td>0.000000</td>\n",
       "      <td>0.000000</td>\n",
       "      <td>0.000000</td>\n",
       "    </tr>\n",
       "    <tr>\n",
       "      <th>75%</th>\n",
       "      <td>528.000000</td>\n",
       "      <td>12730.000000</td>\n",
       "      <td>0.000000</td>\n",
       "      <td>0.000000</td>\n",
       "      <td>0.000000</td>\n",
       "      <td>1.000000</td>\n",
       "      <td>0.000000</td>\n",
       "      <td>7.100000</td>\n",
       "    </tr>\n",
       "    <tr>\n",
       "      <th>max</th>\n",
       "      <td>714.000000</td>\n",
       "      <td>16999.000000</td>\n",
       "      <td>1.000000</td>\n",
       "      <td>1.000000</td>\n",
       "      <td>1.000000</td>\n",
       "      <td>1.000000</td>\n",
       "      <td>10.000000</td>\n",
       "      <td>1062.280000</td>\n",
       "    </tr>\n",
       "  </tbody>\n",
       "</table>\n",
       "</div>"
      ],
      "text/plain": [
       "                time    customer_id  offer_completed  offer_received  \\\n",
       "count  306534.000000  306534.000000    306534.000000   306534.000000   \n",
       "mean      366.382940    8500.102374         0.109544        0.248837   \n",
       "std       200.326314    4901.913992         0.312321        0.432340   \n",
       "min         0.000000       0.000000         0.000000        0.000000   \n",
       "25%       186.000000    4264.000000         0.000000        0.000000   \n",
       "50%       408.000000    8498.000000         0.000000        0.000000   \n",
       "75%       528.000000   12730.000000         0.000000        0.000000   \n",
       "max       714.000000   16999.000000         1.000000        1.000000   \n",
       "\n",
       "        offer_viewed    transaction         reward         amount  \n",
       "count  306534.000000  306534.000000  306534.000000  306534.000000  \n",
       "mean        0.188315       0.453304       0.537219       5.792023  \n",
       "std         0.390964       0.497815       1.805208      21.337137  \n",
       "min         0.000000       0.000000       0.000000       0.000000  \n",
       "25%         0.000000       0.000000       0.000000       0.000000  \n",
       "50%         0.000000       0.000000       0.000000       0.000000  \n",
       "75%         0.000000       1.000000       0.000000       7.100000  \n",
       "max         1.000000       1.000000      10.000000    1062.280000  "
      ]
     },
     "execution_count": 37,
     "metadata": {},
     "output_type": "execute_result"
    }
   ],
   "source": [
    "tran_df.info()\n",
    "tran_df.describe()"
   ]
  },
  {
   "cell_type": "code",
   "execution_count": 38,
   "metadata": {},
   "outputs": [],
   "source": [
    "# Remove 2 columns 'event, 'value after encoding\n",
    "tran_df_cols_drop =['event', 'value']\n",
    "# tran_df_cols_drop =['value']\n",
    "tran_df.drop(columns=tran_df_cols_drop, axis=1, inplace=True)\n"
   ]
  },
  {
   "cell_type": "code",
   "execution_count": 39,
   "metadata": {},
   "outputs": [
    {
     "data": {
      "text/plain": [
       "array(['9b98b8c7a33c4b65b9aebfe6a799e6d9',\n",
       "       '0b1e1539f2cc45b7b9fa7c272da2e1d7',\n",
       "       '2906b810c7d4411798c6938adc9daaa5',\n",
       "       'fafdcd668e3743c1bb461111dcafc2a4',\n",
       "       '4d5c57ea9a6940dd891ad53e9dbe8da0',\n",
       "       'f19421c1d4aa40978ebb69ca19b0e20d',\n",
       "       '2298d6c36e964ae4a3e7e9706d1fb8c2',\n",
       "       '3f207df678b143eea3cee63160fa8bed',\n",
       "       'ae264e3637204a6fb9bb56bc8210ddfd',\n",
       "       '5a8bc65990b245e5a138643cd4eb9837', 10], dtype=object)"
      ]
     },
     "execution_count": 39,
     "metadata": {},
     "output_type": "execute_result"
    }
   ],
   "source": [
    "# Examine tran_df['offer_id'] \n",
    "tran_df['offer_id'].unique()"
   ]
  },
  {
   "cell_type": "code",
   "execution_count": 40,
   "metadata": {},
   "outputs": [
    {
     "data": {
      "text/plain": [
       "array([ 3,  4,  9,  6,  1,  8,  5,  2,  0,  7, 10])"
      ]
     },
     "execution_count": 40,
     "metadata": {},
     "output_type": "execute_result"
    }
   ],
   "source": [
    "# 10 is the unreal offer_id, we modify offer_id_dict for mapping\n",
    "if 10 not in offer_id_dict.keys():\n",
    "    offer_id_dict[10] = 10\n",
    "tran_df['offer_id'] = tran_df['offer_id'].map(offer_id_dict)\n",
    "tran_df['offer_id'].unique()"
   ]
  },
  {
   "cell_type": "code",
   "execution_count": 41,
   "metadata": {},
   "outputs": [
    {
     "data": {
      "text/plain": [
       "0"
      ]
     },
     "execution_count": 41,
     "metadata": {},
     "output_type": "execute_result"
    }
   ],
   "source": [
    "tran_df['offer_id'].isnull().sum()"
   ]
  },
  {
   "cell_type": "code",
   "execution_count": 42,
   "metadata": {},
   "outputs": [
    {
     "name": "stdout",
     "output_type": "stream",
     "text": [
      "<class 'pandas.core.frame.DataFrame'>\n",
      "Int64Index: 167581 entries, 0 to 306527\n",
      "Data columns (total 2 columns):\n",
      " #   Column    Non-Null Count   Dtype\n",
      "---  ------    --------------   -----\n",
      " 0   offer_id  167581 non-null  int64\n",
      " 1   reward    167581 non-null  int64\n",
      "dtypes: int64(2)\n",
      "memory usage: 3.8 MB\n"
     ]
    },
    {
     "data": {
      "text/html": [
       "<div>\n",
       "<style scoped>\n",
       "    .dataframe tbody tr th:only-of-type {\n",
       "        vertical-align: middle;\n",
       "    }\n",
       "\n",
       "    .dataframe tbody tr th {\n",
       "        vertical-align: top;\n",
       "    }\n",
       "\n",
       "    .dataframe thead th {\n",
       "        text-align: right;\n",
       "    }\n",
       "</style>\n",
       "<table border=\"1\" class=\"dataframe\">\n",
       "  <thead>\n",
       "    <tr style=\"text-align: right;\">\n",
       "      <th></th>\n",
       "      <th>offer_id</th>\n",
       "      <th>reward</th>\n",
       "    </tr>\n",
       "  </thead>\n",
       "  <tbody>\n",
       "    <tr>\n",
       "      <th>0</th>\n",
       "      <td>3</td>\n",
       "      <td>0</td>\n",
       "    </tr>\n",
       "    <tr>\n",
       "      <th>1</th>\n",
       "      <td>4</td>\n",
       "      <td>0</td>\n",
       "    </tr>\n",
       "    <tr>\n",
       "      <th>2</th>\n",
       "      <td>9</td>\n",
       "      <td>0</td>\n",
       "    </tr>\n",
       "    <tr>\n",
       "      <th>3</th>\n",
       "      <td>6</td>\n",
       "      <td>0</td>\n",
       "    </tr>\n",
       "    <tr>\n",
       "      <th>4</th>\n",
       "      <td>1</td>\n",
       "      <td>0</td>\n",
       "    </tr>\n",
       "  </tbody>\n",
       "</table>\n",
       "</div>"
      ],
      "text/plain": [
       "   offer_id  reward\n",
       "0         3       0\n",
       "1         4       0\n",
       "2         9       0\n",
       "3         6       0\n",
       "4         1       0"
      ]
     },
     "execution_count": 42,
     "metadata": {},
     "output_type": "execute_result"
    }
   ],
   "source": [
    "# Hide offer_id 10 to check reward data in trans\n",
    "tmp_trans = tran_df[['offer_id', 'reward']][tran_df['offer_id'] != 10]\n",
    "tmp_trans.info()\n",
    "tmp_trans.head()"
   ]
  },
  {
   "cell_type": "code",
   "execution_count": 43,
   "metadata": {},
   "outputs": [
    {
     "name": "stdout",
     "output_type": "stream",
     "text": [
      "{3: [0, 5], 4: [0, 5], 9: [0, 2], 6: [0, 2], 1: [0, 10], 8: [0, 5], 5: [0, 3], 2: [0], 0: [0, 10], 7: [0]} \n",
      "___\n",
      "    offer_id  reward\n",
      "0         0      10\n",
      "1         1      10\n",
      "2         2       0\n",
      "3         3       5\n",
      "4         4       5\n",
      "5         5       3\n",
      "6         6       2\n",
      "7         7       0\n",
      "8         8       5\n",
      "9         9       2\n"
     ]
    }
   ],
   "source": [
    "# check the reward values in transaction and compare to the reward value in portfolio\n",
    "check_id = tmp_trans['offer_id'].unique()\n",
    "dict = {}\n",
    "for id in check_id:\n",
    "    dict[id] = list(tmp_trans['reward'][tmp_trans['offer_id'] == id].unique())\n",
    "print(dict, '\\n___\\n', port_df[['offer_id', 'reward']])"
   ]
  },
  {
   "cell_type": "markdown",
   "metadata": {},
   "source": [
    "##### We remove column tran_df['reward'], its values 0 are not compatible with portfolio reward value, maybe the data recorder thinks the reward value can be got from offer_id. We will use value reward from port_df for consistancy."
   ]
  },
  {
   "cell_type": "code",
   "execution_count": 44,
   "metadata": {},
   "outputs": [
    {
     "name": "stdout",
     "output_type": "stream",
     "text": [
      "Index(['customer_id', 'time', 'offer_completed', 'offer_received',\n",
      "       'offer_viewed', 'transaction', 'offer_id', 'amount'],\n",
      "      dtype='object') \n",
      "---\n",
      " Index(['customer_id', 'gender', 'age', 'time_on', 'income_rand', 'D', 'F', 'M',\n",
      "       'O'],\n",
      "      dtype='object')\n",
      "<class 'pandas.core.frame.DataFrame'>\n",
      "RangeIndex: 306534 entries, 0 to 306533\n",
      "Data columns (total 8 columns):\n",
      " #   Column           Non-Null Count   Dtype  \n",
      "---  ------           --------------   -----  \n",
      " 0   customer_id      306534 non-null  int64  \n",
      " 1   time             306534 non-null  int64  \n",
      " 2   offer_completed  306534 non-null  uint8  \n",
      " 3   offer_received   306534 non-null  uint8  \n",
      " 4   offer_viewed     306534 non-null  uint8  \n",
      " 5   transaction      306534 non-null  uint8  \n",
      " 6   offer_id         306534 non-null  int64  \n",
      " 7   amount           306534 non-null  float64\n",
      "dtypes: float64(1), int64(3), uint8(4)\n",
      "memory usage: 10.5 MB\n"
     ]
    }
   ],
   "source": [
    "tran_df.drop(columns=['reward'], axis=1, inplace=True)\n",
    "move_col_first(tran_df, 'customer_id')\n",
    "# check the columns name of tran_df and prof_df before merging\n",
    "print(tran_df.columns, '\\n---\\n', prof_df.columns)\n",
    "tran_df.info()"
   ]
  },
  {
   "cell_type": "markdown",
   "metadata": {},
   "source": [
    "### Combine 3 dataframes to have a full usefull related data. "
   ]
  },
  {
   "cell_type": "code",
   "execution_count": 45,
   "metadata": {},
   "outputs": [],
   "source": [
    "# Merge tran_df and prof_df\n",
    "data = pd.merge(tran_df, prof_df, on='customer_id')"
   ]
  },
  {
   "cell_type": "code",
   "execution_count": 46,
   "metadata": {},
   "outputs": [
    {
     "name": "stdout",
     "output_type": "stream",
     "text": [
      "<class 'pandas.core.frame.DataFrame'>\n",
      "Int64Index: 306534 entries, 0 to 306533\n",
      "Data columns (total 16 columns):\n",
      " #   Column           Non-Null Count   Dtype         \n",
      "---  ------           --------------   -----         \n",
      " 0   customer_id      306534 non-null  int64         \n",
      " 1   time             306534 non-null  int64         \n",
      " 2   offer_completed  306534 non-null  uint8         \n",
      " 3   offer_received   306534 non-null  uint8         \n",
      " 4   offer_viewed     306534 non-null  uint8         \n",
      " 5   transaction      306534 non-null  uint8         \n",
      " 6   offer_id         306534 non-null  int64         \n",
      " 7   amount           306534 non-null  float64       \n",
      " 8   gender           306534 non-null  object        \n",
      " 9   age              306534 non-null  int64         \n",
      " 10  time_on          306534 non-null  datetime64[ns]\n",
      " 11  income_rand      306534 non-null  float64       \n",
      " 12  D                306534 non-null  uint8         \n",
      " 13  F                306534 non-null  uint8         \n",
      " 14  M                306534 non-null  uint8         \n",
      " 15  O                306534 non-null  uint8         \n",
      "dtypes: datetime64[ns](1), float64(2), int64(4), object(1), uint8(8)\n",
      "memory usage: 23.4+ MB\n"
     ]
    },
    {
     "data": {
      "text/plain": [
       "customer_id        0\n",
       "time               0\n",
       "offer_completed    0\n",
       "offer_received     0\n",
       "offer_viewed       0\n",
       "transaction        0\n",
       "offer_id           0\n",
       "amount             0\n",
       "gender             0\n",
       "age                0\n",
       "time_on            0\n",
       "income_rand        0\n",
       "D                  0\n",
       "F                  0\n",
       "M                  0\n",
       "O                  0\n",
       "dtype: int64"
      ]
     },
     "execution_count": 46,
     "metadata": {},
     "output_type": "execute_result"
    }
   ],
   "source": [
    "data.info()\n",
    "data.isnull().sum()"
   ]
  },
  {
   "cell_type": "code",
   "execution_count": 47,
   "metadata": {},
   "outputs": [
    {
     "name": "stdout",
     "output_type": "stream",
     "text": [
      "Index(['customer_id', 'time', 'offer_completed', 'offer_received',\n",
      "       'offer_viewed', 'transaction', 'offer_id', 'amount', 'gender', 'age',\n",
      "       'time_on', 'income_rand', 'D', 'F', 'M', 'O'],\n",
      "      dtype='object') \n",
      "---\n",
      " Index(['offer_id', 'reward', 'min_spend', 'duration', 'mobile', 'social',\n",
      "       'web', 'bogo', 'discount', 'informational'],\n",
      "      dtype='object')\n"
     ]
    }
   ],
   "source": [
    "# Check the columns name before merging\n",
    "print(data.columns,'\\n---\\n', port_df.columns)"
   ]
  },
  {
   "cell_type": "code",
   "execution_count": 48,
   "metadata": {},
   "outputs": [
    {
     "name": "stdout",
     "output_type": "stream",
     "text": [
      "<class 'pandas.core.frame.DataFrame'>\n",
      "Int64Index: 306534 entries, 0 to 306533\n",
      "Data columns (total 25 columns):\n",
      " #   Column           Non-Null Count   Dtype         \n",
      "---  ------           --------------   -----         \n",
      " 0   customer_id      306534 non-null  int64         \n",
      " 1   time             306534 non-null  int64         \n",
      " 2   offer_completed  306534 non-null  uint8         \n",
      " 3   offer_received   306534 non-null  uint8         \n",
      " 4   offer_viewed     306534 non-null  uint8         \n",
      " 5   transaction      306534 non-null  uint8         \n",
      " 6   offer_id         306534 non-null  int64         \n",
      " 7   amount           306534 non-null  float64       \n",
      " 8   gender           306534 non-null  object        \n",
      " 9   age              306534 non-null  int64         \n",
      " 10  time_on          306534 non-null  datetime64[ns]\n",
      " 11  income_rand      306534 non-null  float64       \n",
      " 12  D                306534 non-null  uint8         \n",
      " 13  F                306534 non-null  uint8         \n",
      " 14  M                306534 non-null  uint8         \n",
      " 15  O                306534 non-null  uint8         \n",
      " 16  reward           167581 non-null  float64       \n",
      " 17  min_spend        167581 non-null  float64       \n",
      " 18  duration         167581 non-null  float64       \n",
      " 19  mobile           167581 non-null  float64       \n",
      " 20  social           167581 non-null  float64       \n",
      " 21  web              167581 non-null  float64       \n",
      " 22  bogo             167581 non-null  float64       \n",
      " 23  discount         167581 non-null  float64       \n",
      " 24  informational    167581 non-null  float64       \n",
      "dtypes: datetime64[ns](1), float64(11), int64(4), object(1), uint8(8)\n",
      "memory usage: 44.4+ MB\n"
     ]
    },
    {
     "data": {
      "text/plain": [
       "customer_id             0\n",
       "time                    0\n",
       "offer_completed         0\n",
       "offer_received          0\n",
       "offer_viewed            0\n",
       "transaction             0\n",
       "offer_id                0\n",
       "amount                  0\n",
       "gender                  0\n",
       "age                     0\n",
       "time_on                 0\n",
       "income_rand             0\n",
       "D                       0\n",
       "F                       0\n",
       "M                       0\n",
       "O                       0\n",
       "reward             138953\n",
       "min_spend          138953\n",
       "duration           138953\n",
       "mobile             138953\n",
       "social             138953\n",
       "web                138953\n",
       "bogo               138953\n",
       "discount           138953\n",
       "informational      138953\n",
       "dtype: int64"
      ]
     },
     "execution_count": 48,
     "metadata": {},
     "output_type": "execute_result"
    }
   ],
   "source": [
    "# Merging on 'offer_id'\n",
    "data = pd.merge(data, port_df, on='offer_id', how='left')\n",
    "data.info()\n",
    "# data.head()\n",
    "data.isnull().sum()"
   ]
  },
  {
   "cell_type": "code",
   "execution_count": 49,
   "metadata": {},
   "outputs": [
    {
     "data": {
      "text/plain": [
       "10    138953\n",
       "Name: offer_id, dtype: int64"
      ]
     },
     "execution_count": 49,
     "metadata": {},
     "output_type": "execute_result"
    }
   ],
   "source": [
    "# Find sample null value\n",
    "data['offer_id'][data['bogo'].isnull()].value_counts()"
   ]
  },
  {
   "cell_type": "code",
   "execution_count": 50,
   "metadata": {},
   "outputs": [
    {
     "data": {
      "text/plain": [
       "138953"
      ]
     },
     "execution_count": 50,
     "metadata": {},
     "output_type": "execute_result"
    }
   ],
   "source": [
    "# # 138953 rows of null value. We check the oofer_id 10 - informational\n",
    "sum(data['offer_id'] == 10)"
   ]
  },
  {
   "cell_type": "code",
   "execution_count": 51,
   "metadata": {},
   "outputs": [
    {
     "name": "stdout",
     "output_type": "stream",
     "text": [
      "<class 'pandas.core.frame.DataFrame'>\n",
      "Int64Index: 167581 entries, 0 to 306532\n",
      "Data columns (total 25 columns):\n",
      " #   Column           Non-Null Count   Dtype         \n",
      "---  ------           --------------   -----         \n",
      " 0   customer_id      167581 non-null  int64         \n",
      " 1   time             167581 non-null  int64         \n",
      " 2   offer_completed  167581 non-null  uint8         \n",
      " 3   offer_received   167581 non-null  uint8         \n",
      " 4   offer_viewed     167581 non-null  uint8         \n",
      " 5   transaction      167581 non-null  uint8         \n",
      " 6   offer_id         167581 non-null  int64         \n",
      " 7   amount           167581 non-null  float64       \n",
      " 8   gender           167581 non-null  object        \n",
      " 9   age              167581 non-null  int64         \n",
      " 10  time_on          167581 non-null  datetime64[ns]\n",
      " 11  income_rand      167581 non-null  float64       \n",
      " 12  D                167581 non-null  uint8         \n",
      " 13  F                167581 non-null  uint8         \n",
      " 14  M                167581 non-null  uint8         \n",
      " 15  O                167581 non-null  uint8         \n",
      " 16  reward           167581 non-null  float64       \n",
      " 17  min_spend        167581 non-null  float64       \n",
      " 18  duration         167581 non-null  float64       \n",
      " 19  mobile           167581 non-null  float64       \n",
      " 20  social           167581 non-null  float64       \n",
      " 21  web              167581 non-null  float64       \n",
      " 22  bogo             167581 non-null  float64       \n",
      " 23  discount         167581 non-null  float64       \n",
      " 24  informational    167581 non-null  float64       \n",
      "dtypes: datetime64[ns](1), float64(11), int64(4), object(1), uint8(8)\n",
      "memory usage: 24.3+ MB\n"
     ]
    },
    {
     "data": {
      "text/plain": [
       "customer_id        0\n",
       "time               0\n",
       "offer_completed    0\n",
       "offer_received     0\n",
       "offer_viewed       0\n",
       "transaction        0\n",
       "offer_id           0\n",
       "amount             0\n",
       "gender             0\n",
       "age                0\n",
       "time_on            0\n",
       "income_rand        0\n",
       "D                  0\n",
       "F                  0\n",
       "M                  0\n",
       "O                  0\n",
       "reward             0\n",
       "min_spend          0\n",
       "duration           0\n",
       "mobile             0\n",
       "social             0\n",
       "web                0\n",
       "bogo               0\n",
       "discount           0\n",
       "informational      0\n",
       "dtype: int64"
      ]
     },
     "execution_count": 51,
     "metadata": {},
     "output_type": "execute_result"
    }
   ],
   "source": [
    "# Drop NA value, their values are only informational. No effect to our prediction \n",
    "# data.dropna(inplace=True)\n",
    "data = data[data['offer_id'] != 10]\n",
    "data.info()\n",
    "data.isnull().sum()"
   ]
  },
  {
   "cell_type": "code",
   "execution_count": 52,
   "metadata": {},
   "outputs": [
    {
     "name": "stdout",
     "output_type": "stream",
     "text": [
      "<class 'pandas.core.frame.DataFrame'>\n",
      "Int64Index: 167581 entries, 0 to 306532\n",
      "Data columns (total 25 columns):\n",
      " #   Column          Non-Null Count   Dtype         \n",
      "---  ------          --------------   -----         \n",
      " 0   success         167581 non-null  uint8         \n",
      " 1   customer_id     167581 non-null  int64         \n",
      " 2   time            167581 non-null  int64         \n",
      " 3   offer_received  167581 non-null  uint8         \n",
      " 4   offer_viewed    167581 non-null  uint8         \n",
      " 5   transaction     167581 non-null  uint8         \n",
      " 6   offer_id        167581 non-null  int64         \n",
      " 7   amount          167581 non-null  float64       \n",
      " 8   gender          167581 non-null  object        \n",
      " 9   age             167581 non-null  int64         \n",
      " 10  time_on         167581 non-null  datetime64[ns]\n",
      " 11  income_rand     167581 non-null  float64       \n",
      " 12  D               167581 non-null  uint8         \n",
      " 13  F               167581 non-null  uint8         \n",
      " 14  M               167581 non-null  uint8         \n",
      " 15  O               167581 non-null  uint8         \n",
      " 16  reward          167581 non-null  float64       \n",
      " 17  min_spend       167581 non-null  float64       \n",
      " 18  duration        167581 non-null  float64       \n",
      " 19  mobile          167581 non-null  float64       \n",
      " 20  social          167581 non-null  float64       \n",
      " 21  web             167581 non-null  float64       \n",
      " 22  bogo            167581 non-null  float64       \n",
      " 23  discount        167581 non-null  float64       \n",
      " 24  informational   167581 non-null  float64       \n",
      "dtypes: datetime64[ns](1), float64(11), int64(4), object(1), uint8(8)\n",
      "memory usage: 24.3+ MB\n"
     ]
    }
   ],
   "source": [
    "# Rename 'offer_completed' into \"success\" to get meaningful column\n",
    "data.rename(columns={'offer_completed': \"success\"}, inplace=True)\n",
    "move_col_first(data, 'success')\n",
    "data.info()"
   ]
  },
  {
   "cell_type": "code",
   "execution_count": 53,
   "metadata": {},
   "outputs": [
    {
     "name": "stdout",
     "output_type": "stream",
     "text": [
      "<class 'pandas.core.frame.DataFrame'>\n",
      "Int64Index: 167581 entries, 0 to 306532\n",
      "Data columns (total 25 columns):\n",
      " #   Column          Non-Null Count   Dtype         \n",
      "---  ------          --------------   -----         \n",
      " 0   success         167581 non-null  uint8         \n",
      " 1   customer_id     167581 non-null  int64         \n",
      " 2   time            167581 non-null  int64         \n",
      " 3   offer_received  167581 non-null  uint8         \n",
      " 4   offer_viewed    167581 non-null  uint8         \n",
      " 5   transaction     167581 non-null  uint8         \n",
      " 6   offer_id        167581 non-null  uint8         \n",
      " 7   amount          167581 non-null  float64       \n",
      " 8   gender          167581 non-null  object        \n",
      " 9   age             167581 non-null  uint8         \n",
      " 10  time_on         167581 non-null  datetime64[ns]\n",
      " 11  income_rand     167581 non-null  float64       \n",
      " 12  D               167581 non-null  uint8         \n",
      " 13  F               167581 non-null  uint8         \n",
      " 14  M               167581 non-null  uint8         \n",
      " 15  O               167581 non-null  uint8         \n",
      " 16  reward          167581 non-null  uint8         \n",
      " 17  min_spend       167581 non-null  uint8         \n",
      " 18  duration        167581 non-null  uint8         \n",
      " 19  mobile          167581 non-null  uint8         \n",
      " 20  social          167581 non-null  uint8         \n",
      " 21  web             167581 non-null  uint8         \n",
      " 22  bogo            167581 non-null  uint8         \n",
      " 23  discount        167581 non-null  uint8         \n",
      " 24  informational   167581 non-null  uint8         \n",
      "dtypes: datetime64[ns](1), float64(2), int64(2), object(1), uint8(19)\n",
      "memory usage: 12.0+ MB\n"
     ]
    }
   ],
   "source": [
    "change_type_cols = ['reward', 'min_spend', 'duration', 'mobile', 'social', 'web',\n",
    "       'bogo', 'discount', 'informational', 'offer_id', 'age']\n",
    "for col in change_type_cols:\n",
    "    data[col] = data[col].astype('uint8')\n",
    "data.info()"
   ]
  },
  {
   "cell_type": "code",
   "execution_count": 54,
   "metadata": {},
   "outputs": [],
   "source": [
    "data.to_csv(DIR+'raw_data.csv', index=False)"
   ]
  },
  {
   "cell_type": "code",
   "execution_count": 55,
   "metadata": {},
   "outputs": [
    {
     "data": {
      "text/html": [
       "<div>\n",
       "<style scoped>\n",
       "    .dataframe tbody tr th:only-of-type {\n",
       "        vertical-align: middle;\n",
       "    }\n",
       "\n",
       "    .dataframe tbody tr th {\n",
       "        vertical-align: top;\n",
       "    }\n",
       "\n",
       "    .dataframe thead th {\n",
       "        text-align: right;\n",
       "    }\n",
       "</style>\n",
       "<table border=\"1\" class=\"dataframe\">\n",
       "  <thead>\n",
       "    <tr style=\"text-align: right;\">\n",
       "      <th></th>\n",
       "      <th>success</th>\n",
       "      <th>customer_id</th>\n",
       "      <th>time</th>\n",
       "      <th>offer_received</th>\n",
       "      <th>offer_viewed</th>\n",
       "      <th>transaction</th>\n",
       "      <th>offer_id</th>\n",
       "      <th>amount</th>\n",
       "      <th>age</th>\n",
       "      <th>income_rand</th>\n",
       "      <th>...</th>\n",
       "      <th>O</th>\n",
       "      <th>reward</th>\n",
       "      <th>min_spend</th>\n",
       "      <th>duration</th>\n",
       "      <th>mobile</th>\n",
       "      <th>social</th>\n",
       "      <th>web</th>\n",
       "      <th>bogo</th>\n",
       "      <th>discount</th>\n",
       "      <th>informational</th>\n",
       "    </tr>\n",
       "  </thead>\n",
       "  <tbody>\n",
       "    <tr>\n",
       "      <th>count</th>\n",
       "      <td>167581.000000</td>\n",
       "      <td>167581.00000</td>\n",
       "      <td>167581.000000</td>\n",
       "      <td>167581.000000</td>\n",
       "      <td>167581.000000</td>\n",
       "      <td>167581.0</td>\n",
       "      <td>167581.000000</td>\n",
       "      <td>167581.0</td>\n",
       "      <td>167581.000000</td>\n",
       "      <td>167581.000000</td>\n",
       "      <td>...</td>\n",
       "      <td>167581.000000</td>\n",
       "      <td>167581.00000</td>\n",
       "      <td>167581.000000</td>\n",
       "      <td>167581.000000</td>\n",
       "      <td>167581.000000</td>\n",
       "      <td>167581.000000</td>\n",
       "      <td>167581.000000</td>\n",
       "      <td>167581.000000</td>\n",
       "      <td>167581.000000</td>\n",
       "      <td>167581.000000</td>\n",
       "    </tr>\n",
       "    <tr>\n",
       "      <th>mean</th>\n",
       "      <td>0.200375</td>\n",
       "      <td>8495.77988</td>\n",
       "      <td>353.778412</td>\n",
       "      <td>0.455165</td>\n",
       "      <td>0.344460</td>\n",
       "      <td>0.0</td>\n",
       "      <td>4.550522</td>\n",
       "      <td>0.0</td>\n",
       "      <td>61.862616</td>\n",
       "      <td>67367.219434</td>\n",
       "      <td>...</td>\n",
       "      <td>0.013068</td>\n",
       "      <td>4.41991</td>\n",
       "      <td>7.850401</td>\n",
       "      <td>6.610737</td>\n",
       "      <td>0.917944</td>\n",
       "      <td>0.656996</td>\n",
       "      <td>0.806858</td>\n",
       "      <td>0.427358</td>\n",
       "      <td>0.417100</td>\n",
       "      <td>0.155543</td>\n",
       "    </tr>\n",
       "    <tr>\n",
       "      <th>std</th>\n",
       "      <td>0.400282</td>\n",
       "      <td>4902.64644</td>\n",
       "      <td>198.301287</td>\n",
       "      <td>0.497987</td>\n",
       "      <td>0.475193</td>\n",
       "      <td>0.0</td>\n",
       "      <td>2.885785</td>\n",
       "      <td>0.0</td>\n",
       "      <td>25.693155</td>\n",
       "      <td>22251.875521</td>\n",
       "      <td>...</td>\n",
       "      <td>0.113568</td>\n",
       "      <td>3.37336</td>\n",
       "      <td>5.048944</td>\n",
       "      <td>2.136130</td>\n",
       "      <td>0.274451</td>\n",
       "      <td>0.474714</td>\n",
       "      <td>0.394765</td>\n",
       "      <td>0.494696</td>\n",
       "      <td>0.493081</td>\n",
       "      <td>0.362422</td>\n",
       "    </tr>\n",
       "    <tr>\n",
       "      <th>min</th>\n",
       "      <td>0.000000</td>\n",
       "      <td>0.00000</td>\n",
       "      <td>0.000000</td>\n",
       "      <td>0.000000</td>\n",
       "      <td>0.000000</td>\n",
       "      <td>0.0</td>\n",
       "      <td>0.000000</td>\n",
       "      <td>0.0</td>\n",
       "      <td>18.000000</td>\n",
       "      <td>30000.000000</td>\n",
       "      <td>...</td>\n",
       "      <td>0.000000</td>\n",
       "      <td>0.00000</td>\n",
       "      <td>0.000000</td>\n",
       "      <td>3.000000</td>\n",
       "      <td>0.000000</td>\n",
       "      <td>0.000000</td>\n",
       "      <td>0.000000</td>\n",
       "      <td>0.000000</td>\n",
       "      <td>0.000000</td>\n",
       "      <td>0.000000</td>\n",
       "    </tr>\n",
       "    <tr>\n",
       "      <th>25%</th>\n",
       "      <td>0.000000</td>\n",
       "      <td>4253.00000</td>\n",
       "      <td>168.000000</td>\n",
       "      <td>0.000000</td>\n",
       "      <td>0.000000</td>\n",
       "      <td>0.0</td>\n",
       "      <td>2.000000</td>\n",
       "      <td>0.0</td>\n",
       "      <td>45.000000</td>\n",
       "      <td>51000.000000</td>\n",
       "      <td>...</td>\n",
       "      <td>0.000000</td>\n",
       "      <td>2.00000</td>\n",
       "      <td>5.000000</td>\n",
       "      <td>5.000000</td>\n",
       "      <td>1.000000</td>\n",
       "      <td>0.000000</td>\n",
       "      <td>1.000000</td>\n",
       "      <td>0.000000</td>\n",
       "      <td>0.000000</td>\n",
       "      <td>0.000000</td>\n",
       "    </tr>\n",
       "    <tr>\n",
       "      <th>50%</th>\n",
       "      <td>0.000000</td>\n",
       "      <td>8487.00000</td>\n",
       "      <td>408.000000</td>\n",
       "      <td>0.000000</td>\n",
       "      <td>0.000000</td>\n",
       "      <td>0.0</td>\n",
       "      <td>5.000000</td>\n",
       "      <td>0.0</td>\n",
       "      <td>58.000000</td>\n",
       "      <td>66000.000000</td>\n",
       "      <td>...</td>\n",
       "      <td>0.000000</td>\n",
       "      <td>5.00000</td>\n",
       "      <td>10.000000</td>\n",
       "      <td>7.000000</td>\n",
       "      <td>1.000000</td>\n",
       "      <td>1.000000</td>\n",
       "      <td>1.000000</td>\n",
       "      <td>0.000000</td>\n",
       "      <td>0.000000</td>\n",
       "      <td>0.000000</td>\n",
       "    </tr>\n",
       "    <tr>\n",
       "      <th>75%</th>\n",
       "      <td>0.000000</td>\n",
       "      <td>12735.00000</td>\n",
       "      <td>510.000000</td>\n",
       "      <td>1.000000</td>\n",
       "      <td>1.000000</td>\n",
       "      <td>0.0</td>\n",
       "      <td>7.000000</td>\n",
       "      <td>0.0</td>\n",
       "      <td>72.000000</td>\n",
       "      <td>83000.000000</td>\n",
       "      <td>...</td>\n",
       "      <td>0.000000</td>\n",
       "      <td>5.00000</td>\n",
       "      <td>10.000000</td>\n",
       "      <td>7.000000</td>\n",
       "      <td>1.000000</td>\n",
       "      <td>1.000000</td>\n",
       "      <td>1.000000</td>\n",
       "      <td>1.000000</td>\n",
       "      <td>1.000000</td>\n",
       "      <td>0.000000</td>\n",
       "    </tr>\n",
       "    <tr>\n",
       "      <th>max</th>\n",
       "      <td>1.000000</td>\n",
       "      <td>16999.00000</td>\n",
       "      <td>714.000000</td>\n",
       "      <td>1.000000</td>\n",
       "      <td>1.000000</td>\n",
       "      <td>0.0</td>\n",
       "      <td>9.000000</td>\n",
       "      <td>0.0</td>\n",
       "      <td>118.000000</td>\n",
       "      <td>120000.000000</td>\n",
       "      <td>...</td>\n",
       "      <td>1.000000</td>\n",
       "      <td>10.00000</td>\n",
       "      <td>20.000000</td>\n",
       "      <td>10.000000</td>\n",
       "      <td>1.000000</td>\n",
       "      <td>1.000000</td>\n",
       "      <td>1.000000</td>\n",
       "      <td>1.000000</td>\n",
       "      <td>1.000000</td>\n",
       "      <td>1.000000</td>\n",
       "    </tr>\n",
       "  </tbody>\n",
       "</table>\n",
       "<p>8 rows × 23 columns</p>\n",
       "</div>"
      ],
      "text/plain": [
       "             success   customer_id           time  offer_received  \\\n",
       "count  167581.000000  167581.00000  167581.000000   167581.000000   \n",
       "mean        0.200375    8495.77988     353.778412        0.455165   \n",
       "std         0.400282    4902.64644     198.301287        0.497987   \n",
       "min         0.000000       0.00000       0.000000        0.000000   \n",
       "25%         0.000000    4253.00000     168.000000        0.000000   \n",
       "50%         0.000000    8487.00000     408.000000        0.000000   \n",
       "75%         0.000000   12735.00000     510.000000        1.000000   \n",
       "max         1.000000   16999.00000     714.000000        1.000000   \n",
       "\n",
       "        offer_viewed  transaction       offer_id    amount            age  \\\n",
       "count  167581.000000     167581.0  167581.000000  167581.0  167581.000000   \n",
       "mean        0.344460          0.0       4.550522       0.0      61.862616   \n",
       "std         0.475193          0.0       2.885785       0.0      25.693155   \n",
       "min         0.000000          0.0       0.000000       0.0      18.000000   \n",
       "25%         0.000000          0.0       2.000000       0.0      45.000000   \n",
       "50%         0.000000          0.0       5.000000       0.0      58.000000   \n",
       "75%         1.000000          0.0       7.000000       0.0      72.000000   \n",
       "max         1.000000          0.0       9.000000       0.0     118.000000   \n",
       "\n",
       "         income_rand  ...              O        reward      min_spend  \\\n",
       "count  167581.000000  ...  167581.000000  167581.00000  167581.000000   \n",
       "mean    67367.219434  ...       0.013068       4.41991       7.850401   \n",
       "std     22251.875521  ...       0.113568       3.37336       5.048944   \n",
       "min     30000.000000  ...       0.000000       0.00000       0.000000   \n",
       "25%     51000.000000  ...       0.000000       2.00000       5.000000   \n",
       "50%     66000.000000  ...       0.000000       5.00000      10.000000   \n",
       "75%     83000.000000  ...       0.000000       5.00000      10.000000   \n",
       "max    120000.000000  ...       1.000000      10.00000      20.000000   \n",
       "\n",
       "            duration         mobile         social            web  \\\n",
       "count  167581.000000  167581.000000  167581.000000  167581.000000   \n",
       "mean        6.610737       0.917944       0.656996       0.806858   \n",
       "std         2.136130       0.274451       0.474714       0.394765   \n",
       "min         3.000000       0.000000       0.000000       0.000000   \n",
       "25%         5.000000       1.000000       0.000000       1.000000   \n",
       "50%         7.000000       1.000000       1.000000       1.000000   \n",
       "75%         7.000000       1.000000       1.000000       1.000000   \n",
       "max        10.000000       1.000000       1.000000       1.000000   \n",
       "\n",
       "                bogo       discount  informational  \n",
       "count  167581.000000  167581.000000  167581.000000  \n",
       "mean        0.427358       0.417100       0.155543  \n",
       "std         0.494696       0.493081       0.362422  \n",
       "min         0.000000       0.000000       0.000000  \n",
       "25%         0.000000       0.000000       0.000000  \n",
       "50%         0.000000       0.000000       0.000000  \n",
       "75%         1.000000       1.000000       0.000000  \n",
       "max         1.000000       1.000000       1.000000  \n",
       "\n",
       "[8 rows x 23 columns]"
      ]
     },
     "execution_count": 55,
     "metadata": {},
     "output_type": "execute_result"
    }
   ],
   "source": [
    "data.describe()"
   ]
  },
  {
   "cell_type": "markdown",
   "metadata": {},
   "source": [
    "#### Examine and process data related to success"
   ]
  },
  {
   "cell_type": "code",
   "execution_count": 56,
   "metadata": {},
   "outputs": [
    {
     "data": {
      "text/html": [
       "<div>\n",
       "<style scoped>\n",
       "    .dataframe tbody tr th:only-of-type {\n",
       "        vertical-align: middle;\n",
       "    }\n",
       "\n",
       "    .dataframe tbody tr th {\n",
       "        vertical-align: top;\n",
       "    }\n",
       "\n",
       "    .dataframe thead th {\n",
       "        text-align: right;\n",
       "    }\n",
       "</style>\n",
       "<table border=\"1\" class=\"dataframe\">\n",
       "  <thead>\n",
       "    <tr style=\"text-align: right;\">\n",
       "      <th></th>\n",
       "      <th>bogo</th>\n",
       "      <th>offer_viewed</th>\n",
       "    </tr>\n",
       "  </thead>\n",
       "  <tbody>\n",
       "    <tr>\n",
       "      <th>1</th>\n",
       "      <td>1</td>\n",
       "      <td>0.355349</td>\n",
       "    </tr>\n",
       "    <tr>\n",
       "      <th>0</th>\n",
       "      <td>0</td>\n",
       "      <td>0.336334</td>\n",
       "    </tr>\n",
       "  </tbody>\n",
       "</table>\n",
       "</div>"
      ],
      "text/plain": [
       "   bogo  offer_viewed\n",
       "1     1      0.355349\n",
       "0     0      0.336334"
      ]
     },
     "execution_count": 56,
     "metadata": {},
     "output_type": "execute_result"
    }
   ],
   "source": [
    "data[['offer_viewed', 'bogo']].groupby(\n",
    "    ['bogo'], as_index=False).mean().sort_values(\n",
    "    by='bogo', ascending=False)"
   ]
  },
  {
   "cell_type": "code",
   "execution_count": 57,
   "metadata": {},
   "outputs": [
    {
     "data": {
      "text/html": [
       "<div>\n",
       "<style scoped>\n",
       "    .dataframe tbody tr th:only-of-type {\n",
       "        vertical-align: middle;\n",
       "    }\n",
       "\n",
       "    .dataframe tbody tr th {\n",
       "        vertical-align: top;\n",
       "    }\n",
       "\n",
       "    .dataframe thead th {\n",
       "        text-align: right;\n",
       "    }\n",
       "</style>\n",
       "<table border=\"1\" class=\"dataframe\">\n",
       "  <thead>\n",
       "    <tr style=\"text-align: right;\">\n",
       "      <th></th>\n",
       "      <th>discount</th>\n",
       "      <th>offer_viewed</th>\n",
       "    </tr>\n",
       "  </thead>\n",
       "  <tbody>\n",
       "    <tr>\n",
       "      <th>1</th>\n",
       "      <td>1</td>\n",
       "      <td>0.306804</td>\n",
       "    </tr>\n",
       "    <tr>\n",
       "      <th>0</th>\n",
       "      <td>0</td>\n",
       "      <td>0.371405</td>\n",
       "    </tr>\n",
       "  </tbody>\n",
       "</table>\n",
       "</div>"
      ],
      "text/plain": [
       "   discount  offer_viewed\n",
       "1         1      0.306804\n",
       "0         0      0.371405"
      ]
     },
     "execution_count": 57,
     "metadata": {},
     "output_type": "execute_result"
    }
   ],
   "source": [
    "data[['offer_viewed', 'discount']].groupby(\n",
    "    ['discount'], as_index=False).mean().sort_values(\n",
    "    by='discount', ascending=False)"
   ]
  },
  {
   "cell_type": "code",
   "execution_count": 58,
   "metadata": {},
   "outputs": [
    {
     "name": "stdout",
     "output_type": "stream",
     "text": [
      "data shape (167581, 25)\n"
     ]
    },
    {
     "data": {
      "text/plain": [
       "0    134002\n",
       "1     33579\n",
       "Name: success, dtype: int64"
      ]
     },
     "execution_count": 58,
     "metadata": {},
     "output_type": "execute_result"
    }
   ],
   "source": [
    "print('data shape', data.shape)\n",
    "data['success'].value_counts()"
   ]
  },
  {
   "cell_type": "code",
   "execution_count": 59,
   "metadata": {},
   "outputs": [
    {
     "data": {
      "text/plain": [
       "33579"
      ]
     },
     "execution_count": 59,
     "metadata": {},
     "output_type": "execute_result"
    }
   ],
   "source": [
    "# set inds is the indexs of rows with success = 1 \n",
    "inds = data['success'] == 1\n",
    "num_success = sum(inds)\n",
    "num_success"
   ]
  },
  {
   "cell_type": "code",
   "execution_count": 60,
   "metadata": {},
   "outputs": [
    {
     "data": {
      "text/plain": [
       "0    33579\n",
       "Name: informational, dtype: int64"
      ]
     },
     "execution_count": 60,
     "metadata": {},
     "output_type": "execute_result"
    }
   ],
   "source": [
    "data['informational'][inds].value_counts()"
   ]
  },
  {
   "cell_type": "code",
   "execution_count": 61,
   "metadata": {},
   "outputs": [
    {
     "data": {
      "text/plain": [
       "0    167581\n",
       "Name: transaction, dtype: int64"
      ]
     },
     "execution_count": 61,
     "metadata": {},
     "output_type": "execute_result"
    }
   ],
   "source": [
    "data['transaction'].value_counts()"
   ]
  },
  {
   "cell_type": "code",
   "execution_count": 62,
   "metadata": {},
   "outputs": [],
   "source": [
    "# Column informational is not necessary for examining success data\n",
    "data.drop(columns=['informational'], axis=1, inplace=True)"
   ]
  },
  {
   "cell_type": "code",
   "execution_count": 63,
   "metadata": {},
   "outputs": [
    {
     "data": {
      "text/plain": [
       "6    5317\n",
       "5    5156\n",
       "3    4354\n",
       "8    4296\n",
       "9    4017\n",
       "0    3688\n",
       "4    3420\n",
       "1    3331\n",
       "Name: offer_id, dtype: int64"
      ]
     },
     "execution_count": 63,
     "metadata": {},
     "output_type": "execute_result"
    }
   ],
   "source": [
    "data['offer_id'][inds].value_counts()\n",
    "# offer_id 2, 7 & 10 don't affect the success data - informational offers.\n",
    "#  We can remove them"
   ]
  },
  {
   "cell_type": "code",
   "execution_count": 64,
   "metadata": {},
   "outputs": [
    {
     "name": "stdout",
     "output_type": "stream",
     "text": [
      "<class 'pandas.core.frame.DataFrame'>\n",
      "Int64Index: 141515 entries, 0 to 306532\n",
      "Data columns (total 24 columns):\n",
      " #   Column          Non-Null Count   Dtype         \n",
      "---  ------          --------------   -----         \n",
      " 0   success         141515 non-null  uint8         \n",
      " 1   customer_id     141515 non-null  int64         \n",
      " 2   time            141515 non-null  int64         \n",
      " 3   offer_received  141515 non-null  uint8         \n",
      " 4   offer_viewed    141515 non-null  uint8         \n",
      " 5   transaction     141515 non-null  uint8         \n",
      " 6   offer_id        141515 non-null  uint8         \n",
      " 7   amount          141515 non-null  float64       \n",
      " 8   gender          141515 non-null  object        \n",
      " 9   age             141515 non-null  uint8         \n",
      " 10  time_on         141515 non-null  datetime64[ns]\n",
      " 11  income_rand     141515 non-null  float64       \n",
      " 12  D               141515 non-null  uint8         \n",
      " 13  F               141515 non-null  uint8         \n",
      " 14  M               141515 non-null  uint8         \n",
      " 15  O               141515 non-null  uint8         \n",
      " 16  reward          141515 non-null  uint8         \n",
      " 17  min_spend       141515 non-null  uint8         \n",
      " 18  duration        141515 non-null  uint8         \n",
      " 19  mobile          141515 non-null  uint8         \n",
      " 20  social          141515 non-null  uint8         \n",
      " 21  web             141515 non-null  uint8         \n",
      " 22  bogo            141515 non-null  uint8         \n",
      " 23  discount        141515 non-null  uint8         \n",
      "dtypes: datetime64[ns](1), float64(2), int64(2), object(1), uint8(18)\n",
      "memory usage: 10.0+ MB\n"
     ]
    },
    {
     "data": {
      "text/plain": [
       "(141515, 24)"
      ]
     },
     "execution_count": 64,
     "metadata": {},
     "output_type": "execute_result"
    }
   ],
   "source": [
    "# offer_id 2, 7 & 10 don't affect the success data - informational offers.\n",
    "#  We can remove them\n",
    "data = data[data['offer_id'] != 2]\n",
    "data = data[data['offer_id'] != 7]\n",
    "data = data[data['offer_id'] != 10]\n",
    "\n",
    "data.info()\n",
    "data.shape"
   ]
  },
  {
   "cell_type": "code",
   "execution_count": 65,
   "metadata": {},
   "outputs": [
    {
     "data": {
      "text/plain": [
       "0.0    141515\n",
       "Name: amount, dtype: int64"
      ]
     },
     "execution_count": 65,
     "metadata": {},
     "output_type": "execute_result"
    }
   ],
   "source": [
    "data['amount'].value_counts()"
   ]
  },
  {
   "cell_type": "code",
   "execution_count": 66,
   "metadata": {},
   "outputs": [],
   "source": [
    "# Remove data['amount'], it's useless for our prediction\n",
    "data.drop(columns=['amount'], axis=1, inplace=True)"
   ]
  },
  {
   "cell_type": "code",
   "execution_count": 67,
   "metadata": {},
   "outputs": [
    {
     "name": "stdout",
     "output_type": "stream",
     "text": [
      "Success ratio F:  0.4609\n",
      "Success ratio M:  0.4904\n",
      "Success ratio O:  0.0149\n",
      "Success ratio D:  0.0338\n",
      "{'F': 0.46091307066916826, 'M': 0.4903660025611245, 'O': 0.014920039310283214, 'D': 0.03380088745942404}\n"
     ]
    }
   ],
   "source": [
    "# Success ratio on the success data\n",
    "gender_success = {}\n",
    "# success = sum(data['success'] == 1)\n",
    "for col in ['F', 'M', 'O', 'D']:\n",
    "#     gender_success[col] = data[col][data['success'] == 1].value_counts()\n",
    "    gender_success[col] = sum(data[col][data['success'] == 1] == 1) / num_success\n",
    "    print(f'Success ratio {col}: {gender_success[col]: .04f}')\n",
    "\n",
    "print(gender_success)\n",
    "# print('Number success: ',success)\n"
   ]
  },
  {
   "cell_type": "code",
   "execution_count": 68,
   "metadata": {},
   "outputs": [
    {
     "data": {
      "text/html": [
       "<div>\n",
       "<style scoped>\n",
       "    .dataframe tbody tr th:only-of-type {\n",
       "        vertical-align: middle;\n",
       "    }\n",
       "\n",
       "    .dataframe tbody tr th {\n",
       "        vertical-align: top;\n",
       "    }\n",
       "\n",
       "    .dataframe thead th {\n",
       "        text-align: right;\n",
       "    }\n",
       "</style>\n",
       "<table border=\"1\" class=\"dataframe\">\n",
       "  <thead>\n",
       "    <tr style=\"text-align: right;\">\n",
       "      <th></th>\n",
       "      <th>gender</th>\n",
       "      <th>success</th>\n",
       "    </tr>\n",
       "  </thead>\n",
       "  <tbody>\n",
       "    <tr>\n",
       "      <th>1</th>\n",
       "      <td>F</td>\n",
       "      <td>0.285180</td>\n",
       "    </tr>\n",
       "    <tr>\n",
       "      <th>3</th>\n",
       "      <td>O</td>\n",
       "      <td>0.273173</td>\n",
       "    </tr>\n",
       "    <tr>\n",
       "      <th>2</th>\n",
       "      <td>M</td>\n",
       "      <td>0.235094</td>\n",
       "    </tr>\n",
       "    <tr>\n",
       "      <th>0</th>\n",
       "      <td>D</td>\n",
       "      <td>0.073845</td>\n",
       "    </tr>\n",
       "  </tbody>\n",
       "</table>\n",
       "</div>"
      ],
      "text/plain": [
       "  gender   success\n",
       "1      F  0.285180\n",
       "3      O  0.273173\n",
       "2      M  0.235094\n",
       "0      D  0.073845"
      ]
     },
     "execution_count": 68,
     "metadata": {},
     "output_type": "execute_result"
    }
   ],
   "source": [
    "# Success ratio on the whole data\n",
    "data[[\"gender\", \"success\"]].groupby(\n",
    "    ['gender'], as_index=False).mean().sort_values(\n",
    "    by='success', ascending=False)"
   ]
  },
  {
   "cell_type": "code",
   "execution_count": 69,
   "metadata": {},
   "outputs": [
    {
     "data": {
      "text/html": [
       "<div>\n",
       "<style scoped>\n",
       "    .dataframe tbody tr th:only-of-type {\n",
       "        vertical-align: middle;\n",
       "    }\n",
       "\n",
       "    .dataframe tbody tr th {\n",
       "        vertical-align: top;\n",
       "    }\n",
       "\n",
       "    .dataframe thead th {\n",
       "        text-align: right;\n",
       "    }\n",
       "</style>\n",
       "<table border=\"1\" class=\"dataframe\">\n",
       "  <thead>\n",
       "    <tr style=\"text-align: right;\">\n",
       "      <th></th>\n",
       "      <th>gender</th>\n",
       "      <th>bogo</th>\n",
       "    </tr>\n",
       "  </thead>\n",
       "  <tbody>\n",
       "    <tr>\n",
       "      <th>1</th>\n",
       "      <td>F</td>\n",
       "      <td>0.508909</td>\n",
       "    </tr>\n",
       "    <tr>\n",
       "      <th>0</th>\n",
       "      <td>D</td>\n",
       "      <td>0.506376</td>\n",
       "    </tr>\n",
       "    <tr>\n",
       "      <th>2</th>\n",
       "      <td>M</td>\n",
       "      <td>0.504012</td>\n",
       "    </tr>\n",
       "    <tr>\n",
       "      <th>3</th>\n",
       "      <td>O</td>\n",
       "      <td>0.498364</td>\n",
       "    </tr>\n",
       "  </tbody>\n",
       "</table>\n",
       "</div>"
      ],
      "text/plain": [
       "  gender      bogo\n",
       "1      F  0.508909\n",
       "0      D  0.506376\n",
       "2      M  0.504012\n",
       "3      O  0.498364"
      ]
     },
     "execution_count": 69,
     "metadata": {},
     "output_type": "execute_result"
    }
   ],
   "source": [
    "# Success ratio on the whole data\n",
    "data[[\"gender\", \"bogo\"]].groupby(\n",
    "    ['gender'], as_index=False).mean().sort_values(\n",
    "    by='bogo', ascending=False)"
   ]
  },
  {
   "cell_type": "code",
   "execution_count": 70,
   "metadata": {},
   "outputs": [
    {
     "data": {
      "text/html": [
       "<div>\n",
       "<style scoped>\n",
       "    .dataframe tbody tr th:only-of-type {\n",
       "        vertical-align: middle;\n",
       "    }\n",
       "\n",
       "    .dataframe tbody tr th {\n",
       "        vertical-align: top;\n",
       "    }\n",
       "\n",
       "    .dataframe thead th {\n",
       "        text-align: right;\n",
       "    }\n",
       "</style>\n",
       "<table border=\"1\" class=\"dataframe\">\n",
       "  <thead>\n",
       "    <tr style=\"text-align: right;\">\n",
       "      <th></th>\n",
       "      <th>gender</th>\n",
       "      <th>discount</th>\n",
       "    </tr>\n",
       "  </thead>\n",
       "  <tbody>\n",
       "    <tr>\n",
       "      <th>3</th>\n",
       "      <td>O</td>\n",
       "      <td>0.501636</td>\n",
       "    </tr>\n",
       "    <tr>\n",
       "      <th>2</th>\n",
       "      <td>M</td>\n",
       "      <td>0.495988</td>\n",
       "    </tr>\n",
       "    <tr>\n",
       "      <th>0</th>\n",
       "      <td>D</td>\n",
       "      <td>0.493624</td>\n",
       "    </tr>\n",
       "    <tr>\n",
       "      <th>1</th>\n",
       "      <td>F</td>\n",
       "      <td>0.491091</td>\n",
       "    </tr>\n",
       "  </tbody>\n",
       "</table>\n",
       "</div>"
      ],
      "text/plain": [
       "  gender  discount\n",
       "3      O  0.501636\n",
       "2      M  0.495988\n",
       "0      D  0.493624\n",
       "1      F  0.491091"
      ]
     },
     "execution_count": 70,
     "metadata": {},
     "output_type": "execute_result"
    }
   ],
   "source": [
    "# Success ratio on the whole data\n",
    "data[[\"gender\", \"discount\"]].groupby(\n",
    "    ['gender'], as_index=False).mean().sort_values(\n",
    "    by='discount', ascending=False)"
   ]
  },
  {
   "cell_type": "code",
   "execution_count": 71,
   "metadata": {},
   "outputs": [
    {
     "name": "stdout",
     "output_type": "stream",
     "text": [
      "The total number of offer_type_success:  {'bogo': 15669, 'discount': 17910}\n"
     ]
    }
   ],
   "source": [
    "offer_type_success = {}\n",
    "for col in ['bogo', 'discount']:\n",
    "    offer_type_success[col] = sum(data[col][inds])\n",
    "\n",
    "print('The total number of offer_type_success: ', offer_type_success)"
   ]
  },
  {
   "cell_type": "code",
   "execution_count": 72,
   "metadata": {},
   "outputs": [
    {
     "name": "stdout",
     "output_type": "stream",
     "text": [
      "Number of bogo offer: 71617 \n",
      "Number of discount offer: 69898\n"
     ]
    }
   ],
   "source": [
    "print(f'Number of bogo offer: {sum(data[\"bogo\"] == 1)}', \n",
    "      f'\\nNumber of discount offer: {sum(data[\"discount\"] == 1)}')"
   ]
  },
  {
   "cell_type": "code",
   "execution_count": 73,
   "metadata": {},
   "outputs": [],
   "source": [
    "# Save data file 'dat.csv'\n",
    "data.to_csv(DIR+'data.csv', index=False)"
   ]
  },
  {
   "cell_type": "code",
   "execution_count": 74,
   "metadata": {},
   "outputs": [
    {
     "data": {
      "text/html": [
       "<div>\n",
       "<style scoped>\n",
       "    .dataframe tbody tr th:only-of-type {\n",
       "        vertical-align: middle;\n",
       "    }\n",
       "\n",
       "    .dataframe tbody tr th {\n",
       "        vertical-align: top;\n",
       "    }\n",
       "\n",
       "    .dataframe thead th {\n",
       "        text-align: right;\n",
       "    }\n",
       "</style>\n",
       "<table border=\"1\" class=\"dataframe\">\n",
       "  <thead>\n",
       "    <tr style=\"text-align: right;\">\n",
       "      <th></th>\n",
       "      <th>gender</th>\n",
       "      <th>bogo</th>\n",
       "      <th>success</th>\n",
       "    </tr>\n",
       "  </thead>\n",
       "  <tbody>\n",
       "    <tr>\n",
       "      <th>2</th>\n",
       "      <td>F</td>\n",
       "      <td>0</td>\n",
       "      <td>0.299265</td>\n",
       "    </tr>\n",
       "    <tr>\n",
       "      <th>6</th>\n",
       "      <td>O</td>\n",
       "      <td>0</td>\n",
       "      <td>0.278261</td>\n",
       "    </tr>\n",
       "    <tr>\n",
       "      <th>3</th>\n",
       "      <td>F</td>\n",
       "      <td>1</td>\n",
       "      <td>0.271588</td>\n",
       "    </tr>\n",
       "    <tr>\n",
       "      <th>7</th>\n",
       "      <td>O</td>\n",
       "      <td>1</td>\n",
       "      <td>0.268053</td>\n",
       "    </tr>\n",
       "    <tr>\n",
       "      <th>4</th>\n",
       "      <td>M</td>\n",
       "      <td>0</td>\n",
       "      <td>0.257751</td>\n",
       "    </tr>\n",
       "    <tr>\n",
       "      <th>5</th>\n",
       "      <td>M</td>\n",
       "      <td>1</td>\n",
       "      <td>0.212799</td>\n",
       "    </tr>\n",
       "    <tr>\n",
       "      <th>0</th>\n",
       "      <td>D</td>\n",
       "      <td>0</td>\n",
       "      <td>0.095426</td>\n",
       "    </tr>\n",
       "    <tr>\n",
       "      <th>1</th>\n",
       "      <td>D</td>\n",
       "      <td>1</td>\n",
       "      <td>0.052807</td>\n",
       "    </tr>\n",
       "  </tbody>\n",
       "</table>\n",
       "</div>"
      ],
      "text/plain": [
       "  gender  bogo   success\n",
       "2      F     0  0.299265\n",
       "6      O     0  0.278261\n",
       "3      F     1  0.271588\n",
       "7      O     1  0.268053\n",
       "4      M     0  0.257751\n",
       "5      M     1  0.212799\n",
       "0      D     0  0.095426\n",
       "1      D     1  0.052807"
      ]
     },
     "execution_count": 74,
     "metadata": {},
     "output_type": "execute_result"
    }
   ],
   "source": [
    "data[[\"gender\",\"bogo\", \"success\"]].groupby(\n",
    "    [\"gender\",'bogo'], as_index=False).mean().sort_values(\n",
    "    by='success', ascending=False)"
   ]
  },
  {
   "cell_type": "code",
   "execution_count": 75,
   "metadata": {},
   "outputs": [
    {
     "data": {
      "text/html": [
       "<div>\n",
       "<style scoped>\n",
       "    .dataframe tbody tr th:only-of-type {\n",
       "        vertical-align: middle;\n",
       "    }\n",
       "\n",
       "    .dataframe tbody tr th {\n",
       "        vertical-align: top;\n",
       "    }\n",
       "\n",
       "    .dataframe thead th {\n",
       "        text-align: right;\n",
       "    }\n",
       "</style>\n",
       "<table border=\"1\" class=\"dataframe\">\n",
       "  <thead>\n",
       "    <tr style=\"text-align: right;\">\n",
       "      <th></th>\n",
       "      <th>gender</th>\n",
       "      <th>discount</th>\n",
       "      <th>success</th>\n",
       "    </tr>\n",
       "  </thead>\n",
       "  <tbody>\n",
       "    <tr>\n",
       "      <th>3</th>\n",
       "      <td>F</td>\n",
       "      <td>1</td>\n",
       "      <td>0.299265</td>\n",
       "    </tr>\n",
       "    <tr>\n",
       "      <th>7</th>\n",
       "      <td>O</td>\n",
       "      <td>1</td>\n",
       "      <td>0.278261</td>\n",
       "    </tr>\n",
       "    <tr>\n",
       "      <th>2</th>\n",
       "      <td>F</td>\n",
       "      <td>0</td>\n",
       "      <td>0.271588</td>\n",
       "    </tr>\n",
       "    <tr>\n",
       "      <th>6</th>\n",
       "      <td>O</td>\n",
       "      <td>0</td>\n",
       "      <td>0.268053</td>\n",
       "    </tr>\n",
       "    <tr>\n",
       "      <th>5</th>\n",
       "      <td>M</td>\n",
       "      <td>1</td>\n",
       "      <td>0.257751</td>\n",
       "    </tr>\n",
       "    <tr>\n",
       "      <th>4</th>\n",
       "      <td>M</td>\n",
       "      <td>0</td>\n",
       "      <td>0.212799</td>\n",
       "    </tr>\n",
       "    <tr>\n",
       "      <th>1</th>\n",
       "      <td>D</td>\n",
       "      <td>1</td>\n",
       "      <td>0.095426</td>\n",
       "    </tr>\n",
       "    <tr>\n",
       "      <th>0</th>\n",
       "      <td>D</td>\n",
       "      <td>0</td>\n",
       "      <td>0.052807</td>\n",
       "    </tr>\n",
       "  </tbody>\n",
       "</table>\n",
       "</div>"
      ],
      "text/plain": [
       "  gender  discount   success\n",
       "3      F         1  0.299265\n",
       "7      O         1  0.278261\n",
       "2      F         0  0.271588\n",
       "6      O         0  0.268053\n",
       "5      M         1  0.257751\n",
       "4      M         0  0.212799\n",
       "1      D         1  0.095426\n",
       "0      D         0  0.052807"
      ]
     },
     "execution_count": 75,
     "metadata": {},
     "output_type": "execute_result"
    }
   ],
   "source": [
    "data[[\"gender\", \"discount\", \"success\"]].groupby(\n",
    "    [\"gender\",'discount'], as_index=False).mean().sort_values(\n",
    "    by='success', ascending=False)"
   ]
  },
  {
   "cell_type": "markdown",
   "metadata": {},
   "source": [
    "#### The success ratio of Female is highest, next is the success ratio of Male "
   ]
  },
  {
   "cell_type": "code",
   "execution_count": 76,
   "metadata": {},
   "outputs": [
    {
     "data": {
      "text/plain": [
       "118    1135\n",
       "58      977\n",
       "53      896\n",
       "57      864\n",
       "59      850\n",
       "       ... \n",
       "96       27\n",
       "97       27\n",
       "99       18\n",
       "101      12\n",
       "98        6\n",
       "Name: age, Length: 85, dtype: int64"
      ]
     },
     "execution_count": 76,
     "metadata": {},
     "output_type": "execute_result"
    }
   ],
   "source": [
    "cust_ages = data['age'][inds].value_counts()\n",
    "cust_ages"
   ]
  },
  {
   "cell_type": "code",
   "execution_count": 77,
   "metadata": {},
   "outputs": [
    {
     "name": "stderr",
     "output_type": "stream",
     "text": [
      "/opt/conda/lib/python3.7/site-packages/ipykernel_launcher.py:1: UserWarning: Boolean Series key will be reindexed to match DataFrame index.\n",
      "  \"\"\"Entry point for launching an IPython kernel.\n"
     ]
    }
   ],
   "source": [
    "dt_age = data[['age']][inds]"
   ]
  },
  {
   "cell_type": "code",
   "execution_count": 78,
   "metadata": {},
   "outputs": [
    {
     "data": {
      "text/plain": [
       "array([[<matplotlib.axes._subplots.AxesSubplot object at 0x7f16a03dd050>]],\n",
       "      dtype=object)"
      ]
     },
     "execution_count": 78,
     "metadata": {},
     "output_type": "execute_result"
    },
    {
     "data": {
      "image/png": "[encoded data removed]",
      "text/plain": [
       "<Figure size 432x288 with 1 Axes>"
      ]
     },
     "metadata": {
      "needs_background": "light"
     },
     "output_type": "display_data"
    }
   ],
   "source": [
    "dt_age.hist(bins=20)"
   ]
  },
  {
   "cell_type": "code",
   "execution_count": 79,
   "metadata": {},
   "outputs": [
    {
     "data": {
      "text/plain": [
       "<seaborn.axisgrid.FacetGrid at 0x7f16a032ba50>"
      ]
     },
     "execution_count": 79,
     "metadata": {},
     "output_type": "execute_result"
    },
    {
     "data": {
      "image/png": "[encoded data removed]",
      "text/plain": [
       "<Figure size 432x216 with 2 Axes>"
      ]
     },
     "metadata": {
      "needs_background": "light"
     },
     "output_type": "display_data"
    }
   ],
   "source": [
    "g = sns.FacetGrid(data, col='success')\n",
    "g.map(plt.hist, 'age', bins=20)"
   ]
  },
  {
   "cell_type": "code",
   "execution_count": 80,
   "metadata": {},
   "outputs": [
    {
     "data": {
      "text/plain": [
       "<seaborn.axisgrid.FacetGrid at 0x7f16a04367d0>"
      ]
     },
     "execution_count": 80,
     "metadata": {},
     "output_type": "execute_result"
    },
    {
     "data": {
      "image/png": "[encoded data removed]",
      "text/plain": [
       "<Figure size 432x216 with 2 Axes>"
      ]
     },
     "metadata": {
      "needs_background": "light"
     },
     "output_type": "display_data"
    }
   ],
   "source": [
    "g_bogo = sns.FacetGrid(data, col='bogo')\n",
    "g_bogo.map(plt.hist, 'age', bins=20)"
   ]
  },
  {
   "cell_type": "code",
   "execution_count": 81,
   "metadata": {},
   "outputs": [
    {
     "data": {
      "text/plain": [
       "<seaborn.axisgrid.FacetGrid at 0x7f16a0455cd0>"
      ]
     },
     "execution_count": 81,
     "metadata": {},
     "output_type": "execute_result"
    },
    {
     "data": {
      "image/png": "[encoded data removed]",
      "text/plain": [
       "<Figure size 432x216 with 2 Axes>"
      ]
     },
     "metadata": {
      "needs_background": "light"
     },
     "output_type": "display_data"
    }
   ],
   "source": [
    "g_disc = sns.FacetGrid(data, col='discount')\n",
    "g_disc.map(plt.hist, 'age', bins=20)"
   ]
  },
  {
   "cell_type": "code",
   "execution_count": 82,
   "metadata": {},
   "outputs": [
    {
     "data": {
      "text/plain": [
       "3    17623\n",
       "2     7868\n",
       "4     2876\n",
       "1     2706\n",
       "5     2506\n",
       "Name: age_class, dtype: int64"
      ]
     },
     "execution_count": 82,
     "metadata": {},
     "output_type": "execute_result"
    }
   ],
   "source": [
    "# According to the above plots, we can group by 5 range\n",
    "# age1 < 30, age2 < 50, age3 < 75, age4 < 90, age5 rest \n",
    "def age_class_create(age):\n",
    "    if age < 30:\n",
    "        return 1\n",
    "    elif age < 50:\n",
    "        return 2\n",
    "    elif age < 75:\n",
    "        return 3\n",
    "    elif age < 85:\n",
    "        return 4\n",
    "    return 5\n",
    "data['age_class'] = data['age'].apply(age_class_create)\n",
    "data['age_class'][inds].value_counts()"
   ]
  },
  {
   "cell_type": "code",
   "execution_count": 83,
   "metadata": {},
   "outputs": [
    {
     "data": {
      "text/plain": [
       "<seaborn.axisgrid.FacetGrid at 0x7f16a02a9610>"
      ]
     },
     "execution_count": 83,
     "metadata": {},
     "output_type": "execute_result"
    },
    {
     "data": {
      "image/png": "[encoded data removed]",
      "text/plain": [
       "<Figure size 432x216 with 2 Axes>"
      ]
     },
     "metadata": {
      "needs_background": "light"
     },
     "output_type": "display_data"
    }
   ],
   "source": [
    "g_ageclass = sns.FacetGrid(data, col='success')\n",
    "g_ageclass.map(plt.hist, 'age_class', bins=5)"
   ]
  },
  {
   "cell_type": "markdown",
   "metadata": {},
   "source": [
    "##### The highest success ratio in age_class from 30-75"
   ]
  },
  {
   "cell_type": "code",
   "execution_count": 84,
   "metadata": {},
   "outputs": [],
   "source": [
    "dt_income = data['income_rand'][inds]"
   ]
  },
  {
   "cell_type": "code",
   "execution_count": 85,
   "metadata": {},
   "outputs": [
    {
     "data": {
      "text/plain": [
       "<matplotlib.axes._subplots.AxesSubplot at 0x7f16a0361510>"
      ]
     },
     "execution_count": 85,
     "metadata": {},
     "output_type": "execute_result"
    },
    {
     "data": {
      "image/png": "[encoded data removed]",
      "text/plain": [
       "<Figure size 432x288 with 1 Axes>"
      ]
     },
     "metadata": {
      "needs_background": "light"
     },
     "output_type": "display_data"
    }
   ],
   "source": [
    "dt_income.hist(bins=20)"
   ]
  },
  {
   "cell_type": "code",
   "execution_count": 86,
   "metadata": {},
   "outputs": [
    {
     "data": {
      "text/plain": [
       "<seaborn.axisgrid.FacetGrid at 0x7f16a05bb890>"
      ]
     },
     "execution_count": 86,
     "metadata": {},
     "output_type": "execute_result"
    },
    {
     "data": {
      "image/png": "[encoded data removed]",
      "text/plain": [
       "<Figure size 432x216 with 2 Axes>"
      ]
     },
     "metadata": {
      "needs_background": "light"
     },
     "output_type": "display_data"
    }
   ],
   "source": [
    "h = sns.FacetGrid(data, col='success')\n",
    "h.map(plt.hist, 'income_rand', bins=30)"
   ]
  },
  {
   "cell_type": "code",
   "execution_count": 87,
   "metadata": {},
   "outputs": [
    {
     "data": {
      "text/plain": [
       "<seaborn.axisgrid.FacetGrid at 0x7f16a04e9c90>"
      ]
     },
     "execution_count": 87,
     "metadata": {},
     "output_type": "execute_result"
    },
    {
     "data": {
      "image/png": "[encoded data removed]",
      "text/plain": [
       "<Figure size 432x216 with 2 Axes>"
      ]
     },
     "metadata": {
      "needs_background": "light"
     },
     "output_type": "display_data"
    }
   ],
   "source": [
    "h_bogo = sns.FacetGrid(data, col='bogo')\n",
    "h_bogo.map(plt.hist, 'income_rand', bins=30)"
   ]
  },
  {
   "cell_type": "code",
   "execution_count": 88,
   "metadata": {},
   "outputs": [
    {
     "data": {
      "text/plain": [
       "<seaborn.axisgrid.FacetGrid at 0x7f16a069f310>"
      ]
     },
     "execution_count": 88,
     "metadata": {},
     "output_type": "execute_result"
    },
    {
     "data": {
      "image/png": "[encoded data removed]",
      "text/plain": [
       "<Figure size 432x216 with 2 Axes>"
      ]
     },
     "metadata": {
      "needs_background": "light"
     },
     "output_type": "display_data"
    }
   ],
   "source": [
    "h_disc = sns.FacetGrid(data, col='discount')\n",
    "h_disc.map(plt.hist, 'income_rand', bins=30)"
   ]
  },
  {
   "cell_type": "code",
   "execution_count": 89,
   "metadata": {},
   "outputs": [
    {
     "data": {
      "text/plain": [
       "2    16507\n",
       "3     7403\n",
       "1     6340\n",
       "4     3329\n",
       "Name: income_class, dtype: int64"
      ]
     },
     "execution_count": 89,
     "metadata": {},
     "output_type": "execute_result"
    }
   ],
   "source": [
    "# From the above plots, we can group income into 4 classes\n",
    "# inc1 < 50k, inc2 < 80k, inc3 < 100k , inc4 rest \n",
    "def income_class_create(income):\n",
    "    if income < 50000:\n",
    "        return 1\n",
    "    elif income < 80000:\n",
    "        return 2\n",
    "    elif income < 100000:\n",
    "        return 3\n",
    "    return 4\n",
    "\n",
    "data['income_class'] = data['income_rand'].apply(income_class_create)\n",
    "data['income_class'][inds].value_counts()"
   ]
  },
  {
   "cell_type": "code",
   "execution_count": 90,
   "metadata": {},
   "outputs": [
    {
     "data": {
      "text/plain": [
       "<seaborn.axisgrid.FacetGrid at 0x7f16a0709d10>"
      ]
     },
     "execution_count": 90,
     "metadata": {},
     "output_type": "execute_result"
    },
    {
     "data": {
      "image/png": "[encoded data removed]",
      "text/plain": [
       "<Figure size 432x216 with 2 Axes>"
      ]
     },
     "metadata": {
      "needs_background": "light"
     },
     "output_type": "display_data"
    }
   ],
   "source": [
    "h_inclass = sns.FacetGrid(data, col='success')\n",
    "h_inclass.map(plt.hist, 'income_class', bins=4)"
   ]
  },
  {
   "cell_type": "markdown",
   "metadata": {},
   "source": [
    "##### The highest success ratio is income_class 2 and 3 - (50.000 - 80.000 -100.000)"
   ]
  },
  {
   "cell_type": "code",
   "execution_count": 91,
   "metadata": {},
   "outputs": [
    {
     "name": "stdout",
     "output_type": "stream",
     "text": [
      "<class 'pandas.core.frame.DataFrame'>\n",
      "Int64Index: 141515 entries, 0 to 306532\n",
      "Data columns (total 25 columns):\n",
      " #   Column          Non-Null Count   Dtype         \n",
      "---  ------          --------------   -----         \n",
      " 0   success         141515 non-null  uint8         \n",
      " 1   customer_id     141515 non-null  int64         \n",
      " 2   time            141515 non-null  int64         \n",
      " 3   offer_received  141515 non-null  uint8         \n",
      " 4   offer_viewed    141515 non-null  uint8         \n",
      " 5   transaction     141515 non-null  uint8         \n",
      " 6   offer_id        141515 non-null  uint8         \n",
      " 7   gender          141515 non-null  object        \n",
      " 8   age             141515 non-null  uint8         \n",
      " 9   time_on         141515 non-null  datetime64[ns]\n",
      " 10  income_rand     141515 non-null  float64       \n",
      " 11  D               141515 non-null  uint8         \n",
      " 12  F               141515 non-null  uint8         \n",
      " 13  M               141515 non-null  uint8         \n",
      " 14  O               141515 non-null  uint8         \n",
      " 15  reward          141515 non-null  uint8         \n",
      " 16  min_spend       141515 non-null  uint8         \n",
      " 17  duration        141515 non-null  uint8         \n",
      " 18  mobile          141515 non-null  uint8         \n",
      " 19  social          141515 non-null  uint8         \n",
      " 20  web             141515 non-null  uint8         \n",
      " 21  bogo            141515 non-null  uint8         \n",
      " 22  discount        141515 non-null  uint8         \n",
      " 23  age_class       141515 non-null  uint8         \n",
      " 24  income_class    141515 non-null  uint8         \n",
      "dtypes: datetime64[ns](1), float64(1), int64(2), object(1), uint8(20)\n",
      "memory usage: 9.2+ MB\n"
     ]
    }
   ],
   "source": [
    "for col in ['age_class', 'income_class']:\n",
    "    data[col] = data[col].astype('uint8')\n",
    "data.info()"
   ]
  },
  {
   "cell_type": "code",
   "execution_count": 92,
   "metadata": {},
   "outputs": [
    {
     "data": {
      "text/plain": [
       "2017    12595\n",
       "2016     9298\n",
       "2018     5295\n",
       "2015     4489\n",
       "2014     1334\n",
       "2013      568\n",
       "Name: year, dtype: int64"
      ]
     },
     "execution_count": 92,
     "metadata": {},
     "output_type": "execute_result"
    }
   ],
   "source": [
    "data['year'] = data['time_on'].dt.year\n",
    "data['year'][inds].value_counts()"
   ]
  },
  {
   "cell_type": "code",
   "execution_count": 93,
   "metadata": {},
   "outputs": [
    {
     "data": {
      "text/plain": [
       "<seaborn.axisgrid.FacetGrid at 0x7f16a073dd90>"
      ]
     },
     "execution_count": 93,
     "metadata": {},
     "output_type": "execute_result"
    },
    {
     "data": {
      "image/png": "[encoded data removed]",
      "text/plain": [
       "<Figure size 432x216 with 2 Axes>"
      ]
     },
     "metadata": {
      "needs_background": "light"
     },
     "output_type": "display_data"
    }
   ],
   "source": [
    "year_bins = len(data['year'].unique())\n",
    "g_year = sns.FacetGrid(data, col='success')\n",
    "g_year.map(plt.hist, 'year', bins=year_bins)"
   ]
  },
  {
   "cell_type": "code",
   "execution_count": 94,
   "metadata": {},
   "outputs": [
    {
     "name": "stdout",
     "output_type": "stream",
     "text": [
      "<class 'pandas.core.frame.DataFrame'>\n",
      "Int64Index: 141515 entries, 0 to 306532\n",
      "Data columns (total 32 columns):\n",
      " #   Column          Non-Null Count   Dtype         \n",
      "---  ------          --------------   -----         \n",
      " 0   success         141515 non-null  uint8         \n",
      " 1   customer_id     141515 non-null  int64         \n",
      " 2   time            141515 non-null  int64         \n",
      " 3   offer_received  141515 non-null  uint8         \n",
      " 4   offer_viewed    141515 non-null  uint8         \n",
      " 5   transaction     141515 non-null  uint8         \n",
      " 6   offer_id        141515 non-null  uint8         \n",
      " 7   gender          141515 non-null  object        \n",
      " 8   age             141515 non-null  uint8         \n",
      " 9   time_on         141515 non-null  datetime64[ns]\n",
      " 10  income_rand     141515 non-null  float64       \n",
      " 11  D               141515 non-null  uint8         \n",
      " 12  F               141515 non-null  uint8         \n",
      " 13  M               141515 non-null  uint8         \n",
      " 14  O               141515 non-null  uint8         \n",
      " 15  reward          141515 non-null  uint8         \n",
      " 16  min_spend       141515 non-null  uint8         \n",
      " 17  duration        141515 non-null  uint8         \n",
      " 18  mobile          141515 non-null  uint8         \n",
      " 19  social          141515 non-null  uint8         \n",
      " 20  web             141515 non-null  uint8         \n",
      " 21  bogo            141515 non-null  uint8         \n",
      " 22  discount        141515 non-null  uint8         \n",
      " 23  age_class       141515 non-null  uint8         \n",
      " 24  income_class    141515 non-null  uint8         \n",
      " 25  year            141515 non-null  int64         \n",
      " 26  2013            141515 non-null  uint8         \n",
      " 27  2014            141515 non-null  uint8         \n",
      " 28  2015            141515 non-null  uint8         \n",
      " 29  2016            141515 non-null  uint8         \n",
      " 30  2017            141515 non-null  uint8         \n",
      " 31  2018            141515 non-null  uint8         \n",
      "dtypes: datetime64[ns](1), float64(1), int64(3), object(1), uint8(26)\n",
      "memory usage: 15.1+ MB\n"
     ]
    }
   ],
   "source": [
    "data = encode_df_col(data,'year')\n",
    "# data.drop(columns=['time_on', 'year'], axis=1, inplace=True)\n",
    "# data.drop(columns=['year'], axis=1, inplace=True)\n",
    "data.info()"
   ]
  },
  {
   "cell_type": "code",
   "execution_count": 95,
   "metadata": {},
   "outputs": [
    {
     "data": {
      "text/plain": [
       "0    33579\n",
       "Name: offer_received, dtype: int64"
      ]
     },
     "execution_count": 95,
     "metadata": {},
     "output_type": "execute_result"
    }
   ],
   "source": [
    "data['offer_received'][inds].value_counts()\n"
   ]
  },
  {
   "cell_type": "code",
   "execution_count": 96,
   "metadata": {},
   "outputs": [],
   "source": [
    "# Remove unnecessary columns\n",
    "# Remove data['offer_received'] \n",
    "data.drop(columns=['offer_received', 'income_rand', 'gender', \n",
    "                   'year', 'transaction', 'age'], \n",
    "          axis=1, inplace=True)\n",
    "# data.drop(columns=['offer_received'], axis=1, inplace=True)\n"
   ]
  },
  {
   "cell_type": "code",
   "execution_count": 97,
   "metadata": {},
   "outputs": [
    {
     "name": "stdout",
     "output_type": "stream",
     "text": [
      "<class 'pandas.core.frame.DataFrame'>\n",
      "Int64Index: 141515 entries, 0 to 306532\n",
      "Data columns (total 26 columns):\n",
      " #   Column        Non-Null Count   Dtype         \n",
      "---  ------        --------------   -----         \n",
      " 0   success       141515 non-null  uint8         \n",
      " 1   customer_id   141515 non-null  int64         \n",
      " 2   time          141515 non-null  int64         \n",
      " 3   offer_viewed  141515 non-null  uint8         \n",
      " 4   offer_id      141515 non-null  uint8         \n",
      " 5   time_on       141515 non-null  datetime64[ns]\n",
      " 6   D             141515 non-null  uint8         \n",
      " 7   F             141515 non-null  uint8         \n",
      " 8   M             141515 non-null  uint8         \n",
      " 9   O             141515 non-null  uint8         \n",
      " 10  reward        141515 non-null  uint8         \n",
      " 11  min_spend     141515 non-null  uint8         \n",
      " 12  duration      141515 non-null  uint8         \n",
      " 13  mobile        141515 non-null  uint8         \n",
      " 14  social        141515 non-null  uint8         \n",
      " 15  web           141515 non-null  uint8         \n",
      " 16  bogo          141515 non-null  uint8         \n",
      " 17  discount      141515 non-null  uint8         \n",
      " 18  age_class     141515 non-null  uint8         \n",
      " 19  income_class  141515 non-null  uint8         \n",
      " 20  2013          141515 non-null  uint8         \n",
      " 21  2014          141515 non-null  uint8         \n",
      " 22  2015          141515 non-null  uint8         \n",
      " 23  2016          141515 non-null  uint8         \n",
      " 24  2017          141515 non-null  uint8         \n",
      " 25  2018          141515 non-null  uint8         \n",
      "dtypes: datetime64[ns](1), int64(2), uint8(23)\n",
      "memory usage: 11.5 MB\n"
     ]
    },
    {
     "data": {
      "text/html": [
       "<div>\n",
       "<style scoped>\n",
       "    .dataframe tbody tr th:only-of-type {\n",
       "        vertical-align: middle;\n",
       "    }\n",
       "\n",
       "    .dataframe tbody tr th {\n",
       "        vertical-align: top;\n",
       "    }\n",
       "\n",
       "    .dataframe thead th {\n",
       "        text-align: right;\n",
       "    }\n",
       "</style>\n",
       "<table border=\"1\" class=\"dataframe\">\n",
       "  <thead>\n",
       "    <tr style=\"text-align: right;\">\n",
       "      <th></th>\n",
       "      <th>success</th>\n",
       "      <th>customer_id</th>\n",
       "      <th>time</th>\n",
       "      <th>offer_viewed</th>\n",
       "      <th>offer_id</th>\n",
       "      <th>D</th>\n",
       "      <th>F</th>\n",
       "      <th>M</th>\n",
       "      <th>O</th>\n",
       "      <th>reward</th>\n",
       "      <th>...</th>\n",
       "      <th>bogo</th>\n",
       "      <th>discount</th>\n",
       "      <th>age_class</th>\n",
       "      <th>income_class</th>\n",
       "      <th>2013</th>\n",
       "      <th>2014</th>\n",
       "      <th>2015</th>\n",
       "      <th>2016</th>\n",
       "      <th>2017</th>\n",
       "      <th>2018</th>\n",
       "    </tr>\n",
       "  </thead>\n",
       "  <tbody>\n",
       "    <tr>\n",
       "      <th>count</th>\n",
       "      <td>141515.000000</td>\n",
       "      <td>141515.000000</td>\n",
       "      <td>141515.000000</td>\n",
       "      <td>141515.000000</td>\n",
       "      <td>141515.000000</td>\n",
       "      <td>141515.000000</td>\n",
       "      <td>141515.00000</td>\n",
       "      <td>141515.000000</td>\n",
       "      <td>141515.000000</td>\n",
       "      <td>141515.000000</td>\n",
       "      <td>...</td>\n",
       "      <td>141515.000000</td>\n",
       "      <td>141515.000000</td>\n",
       "      <td>141515.000000</td>\n",
       "      <td>141515.000000</td>\n",
       "      <td>141515.000000</td>\n",
       "      <td>141515.000000</td>\n",
       "      <td>141515.000000</td>\n",
       "      <td>141515.000000</td>\n",
       "      <td>141515.000000</td>\n",
       "      <td>141515.000000</td>\n",
       "    </tr>\n",
       "    <tr>\n",
       "      <th>mean</th>\n",
       "      <td>0.237282</td>\n",
       "      <td>8488.114256</td>\n",
       "      <td>355.953927</td>\n",
       "      <td>0.331371</td>\n",
       "      <td>4.514885</td>\n",
       "      <td>0.108610</td>\n",
       "      <td>0.38350</td>\n",
       "      <td>0.494930</td>\n",
       "      <td>0.012960</td>\n",
       "      <td>5.234025</td>\n",
       "      <td>...</td>\n",
       "      <td>0.506074</td>\n",
       "      <td>0.493926</td>\n",
       "      <td>2.958831</td>\n",
       "      <td>2.151249</td>\n",
       "      <td>0.016846</td>\n",
       "      <td>0.040399</td>\n",
       "      <td>0.113825</td>\n",
       "      <td>0.223637</td>\n",
       "      <td>0.378356</td>\n",
       "      <td>0.226937</td>\n",
       "    </tr>\n",
       "    <tr>\n",
       "      <th>std</th>\n",
       "      <td>0.425418</td>\n",
       "      <td>4904.150966</td>\n",
       "      <td>198.172446</td>\n",
       "      <td>0.470708</td>\n",
       "      <td>2.951825</td>\n",
       "      <td>0.311151</td>\n",
       "      <td>0.48624</td>\n",
       "      <td>0.499976</td>\n",
       "      <td>0.113101</td>\n",
       "      <td>3.035536</td>\n",
       "      <td>...</td>\n",
       "      <td>0.499965</td>\n",
       "      <td>0.499965</td>\n",
       "      <td>1.108320</td>\n",
       "      <td>0.881357</td>\n",
       "      <td>0.128696</td>\n",
       "      <td>0.196893</td>\n",
       "      <td>0.317600</td>\n",
       "      <td>0.416683</td>\n",
       "      <td>0.484979</td>\n",
       "      <td>0.418853</td>\n",
       "    </tr>\n",
       "    <tr>\n",
       "      <th>min</th>\n",
       "      <td>0.000000</td>\n",
       "      <td>0.000000</td>\n",
       "      <td>0.000000</td>\n",
       "      <td>0.000000</td>\n",
       "      <td>0.000000</td>\n",
       "      <td>0.000000</td>\n",
       "      <td>0.00000</td>\n",
       "      <td>0.000000</td>\n",
       "      <td>0.000000</td>\n",
       "      <td>2.000000</td>\n",
       "      <td>...</td>\n",
       "      <td>0.000000</td>\n",
       "      <td>0.000000</td>\n",
       "      <td>1.000000</td>\n",
       "      <td>1.000000</td>\n",
       "      <td>0.000000</td>\n",
       "      <td>0.000000</td>\n",
       "      <td>0.000000</td>\n",
       "      <td>0.000000</td>\n",
       "      <td>0.000000</td>\n",
       "      <td>0.000000</td>\n",
       "    </tr>\n",
       "    <tr>\n",
       "      <th>25%</th>\n",
       "      <td>0.000000</td>\n",
       "      <td>4232.500000</td>\n",
       "      <td>174.000000</td>\n",
       "      <td>0.000000</td>\n",
       "      <td>1.000000</td>\n",
       "      <td>0.000000</td>\n",
       "      <td>0.00000</td>\n",
       "      <td>0.000000</td>\n",
       "      <td>0.000000</td>\n",
       "      <td>2.000000</td>\n",
       "      <td>...</td>\n",
       "      <td>0.000000</td>\n",
       "      <td>0.000000</td>\n",
       "      <td>2.000000</td>\n",
       "      <td>2.000000</td>\n",
       "      <td>0.000000</td>\n",
       "      <td>0.000000</td>\n",
       "      <td>0.000000</td>\n",
       "      <td>0.000000</td>\n",
       "      <td>0.000000</td>\n",
       "      <td>0.000000</td>\n",
       "    </tr>\n",
       "    <tr>\n",
       "      <th>50%</th>\n",
       "      <td>0.000000</td>\n",
       "      <td>8475.000000</td>\n",
       "      <td>408.000000</td>\n",
       "      <td>0.000000</td>\n",
       "      <td>5.000000</td>\n",
       "      <td>0.000000</td>\n",
       "      <td>0.00000</td>\n",
       "      <td>0.000000</td>\n",
       "      <td>0.000000</td>\n",
       "      <td>5.000000</td>\n",
       "      <td>...</td>\n",
       "      <td>1.000000</td>\n",
       "      <td>0.000000</td>\n",
       "      <td>3.000000</td>\n",
       "      <td>2.000000</td>\n",
       "      <td>0.000000</td>\n",
       "      <td>0.000000</td>\n",
       "      <td>0.000000</td>\n",
       "      <td>0.000000</td>\n",
       "      <td>0.000000</td>\n",
       "      <td>0.000000</td>\n",
       "    </tr>\n",
       "    <tr>\n",
       "      <th>75%</th>\n",
       "      <td>0.000000</td>\n",
       "      <td>12733.000000</td>\n",
       "      <td>510.000000</td>\n",
       "      <td>1.000000</td>\n",
       "      <td>6.000000</td>\n",
       "      <td>0.000000</td>\n",
       "      <td>1.00000</td>\n",
       "      <td>1.000000</td>\n",
       "      <td>0.000000</td>\n",
       "      <td>10.000000</td>\n",
       "      <td>...</td>\n",
       "      <td>1.000000</td>\n",
       "      <td>1.000000</td>\n",
       "      <td>3.000000</td>\n",
       "      <td>3.000000</td>\n",
       "      <td>0.000000</td>\n",
       "      <td>0.000000</td>\n",
       "      <td>0.000000</td>\n",
       "      <td>0.000000</td>\n",
       "      <td>1.000000</td>\n",
       "      <td>0.000000</td>\n",
       "    </tr>\n",
       "    <tr>\n",
       "      <th>max</th>\n",
       "      <td>1.000000</td>\n",
       "      <td>16999.000000</td>\n",
       "      <td>714.000000</td>\n",
       "      <td>1.000000</td>\n",
       "      <td>9.000000</td>\n",
       "      <td>1.000000</td>\n",
       "      <td>1.00000</td>\n",
       "      <td>1.000000</td>\n",
       "      <td>1.000000</td>\n",
       "      <td>10.000000</td>\n",
       "      <td>...</td>\n",
       "      <td>1.000000</td>\n",
       "      <td>1.000000</td>\n",
       "      <td>5.000000</td>\n",
       "      <td>4.000000</td>\n",
       "      <td>1.000000</td>\n",
       "      <td>1.000000</td>\n",
       "      <td>1.000000</td>\n",
       "      <td>1.000000</td>\n",
       "      <td>1.000000</td>\n",
       "      <td>1.000000</td>\n",
       "    </tr>\n",
       "  </tbody>\n",
       "</table>\n",
       "<p>8 rows × 25 columns</p>\n",
       "</div>"
      ],
      "text/plain": [
       "             success    customer_id           time   offer_viewed  \\\n",
       "count  141515.000000  141515.000000  141515.000000  141515.000000   \n",
       "mean        0.237282    8488.114256     355.953927       0.331371   \n",
       "std         0.425418    4904.150966     198.172446       0.470708   \n",
       "min         0.000000       0.000000       0.000000       0.000000   \n",
       "25%         0.000000    4232.500000     174.000000       0.000000   \n",
       "50%         0.000000    8475.000000     408.000000       0.000000   \n",
       "75%         0.000000   12733.000000     510.000000       1.000000   \n",
       "max         1.000000   16999.000000     714.000000       1.000000   \n",
       "\n",
       "            offer_id              D             F              M  \\\n",
       "count  141515.000000  141515.000000  141515.00000  141515.000000   \n",
       "mean        4.514885       0.108610       0.38350       0.494930   \n",
       "std         2.951825       0.311151       0.48624       0.499976   \n",
       "min         0.000000       0.000000       0.00000       0.000000   \n",
       "25%         1.000000       0.000000       0.00000       0.000000   \n",
       "50%         5.000000       0.000000       0.00000       0.000000   \n",
       "75%         6.000000       0.000000       1.00000       1.000000   \n",
       "max         9.000000       1.000000       1.00000       1.000000   \n",
       "\n",
       "                   O         reward  ...           bogo       discount  \\\n",
       "count  141515.000000  141515.000000  ...  141515.000000  141515.000000   \n",
       "mean        0.012960       5.234025  ...       0.506074       0.493926   \n",
       "std         0.113101       3.035536  ...       0.499965       0.499965   \n",
       "min         0.000000       2.000000  ...       0.000000       0.000000   \n",
       "25%         0.000000       2.000000  ...       0.000000       0.000000   \n",
       "50%         0.000000       5.000000  ...       1.000000       0.000000   \n",
       "75%         0.000000      10.000000  ...       1.000000       1.000000   \n",
       "max         1.000000      10.000000  ...       1.000000       1.000000   \n",
       "\n",
       "           age_class   income_class           2013           2014  \\\n",
       "count  141515.000000  141515.000000  141515.000000  141515.000000   \n",
       "mean        2.958831       2.151249       0.016846       0.040399   \n",
       "std         1.108320       0.881357       0.128696       0.196893   \n",
       "min         1.000000       1.000000       0.000000       0.000000   \n",
       "25%         2.000000       2.000000       0.000000       0.000000   \n",
       "50%         3.000000       2.000000       0.000000       0.000000   \n",
       "75%         3.000000       3.000000       0.000000       0.000000   \n",
       "max         5.000000       4.000000       1.000000       1.000000   \n",
       "\n",
       "                2015           2016           2017           2018  \n",
       "count  141515.000000  141515.000000  141515.000000  141515.000000  \n",
       "mean        0.113825       0.223637       0.378356       0.226937  \n",
       "std         0.317600       0.416683       0.484979       0.418853  \n",
       "min         0.000000       0.000000       0.000000       0.000000  \n",
       "25%         0.000000       0.000000       0.000000       0.000000  \n",
       "50%         0.000000       0.000000       0.000000       0.000000  \n",
       "75%         0.000000       0.000000       1.000000       0.000000  \n",
       "max         1.000000       1.000000       1.000000       1.000000  \n",
       "\n",
       "[8 rows x 25 columns]"
      ]
     },
     "execution_count": 97,
     "metadata": {},
     "output_type": "execute_result"
    }
   ],
   "source": [
    "# data.drop(columns=['transaction', 'gender', 'age', 'income_rand'], axis=1, inplace=True)\n",
    "data.info()\n",
    "data.describe()"
   ]
  },
  {
   "cell_type": "code",
   "execution_count": 98,
   "metadata": {},
   "outputs": [],
   "source": [
    "data.to_csv(DIR+'pdata.csv', index=False)"
   ]
  },
  {
   "cell_type": "code",
   "execution_count": 99,
   "metadata": {},
   "outputs": [
    {
     "name": "stdout",
     "output_type": "stream",
     "text": [
      "<class 'pandas.core.frame.DataFrame'>\n",
      "Int64Index: 141515 entries, 0 to 306532\n",
      "Data columns (total 26 columns):\n",
      " #   Column        Non-Null Count   Dtype         \n",
      "---  ------        --------------   -----         \n",
      " 0   success       141515 non-null  uint8         \n",
      " 1   customer_id   141515 non-null  int64         \n",
      " 2   time          141515 non-null  int64         \n",
      " 3   offer_viewed  141515 non-null  uint8         \n",
      " 4   offer_id      141515 non-null  uint8         \n",
      " 5   time_on       141515 non-null  datetime64[ns]\n",
      " 6   D             141515 non-null  uint8         \n",
      " 7   F             141515 non-null  uint8         \n",
      " 8   M             141515 non-null  uint8         \n",
      " 9   O             141515 non-null  uint8         \n",
      " 10  reward        141515 non-null  uint8         \n",
      " 11  min_spend     141515 non-null  uint8         \n",
      " 12  duration      141515 non-null  uint8         \n",
      " 13  mobile        141515 non-null  uint8         \n",
      " 14  social        141515 non-null  uint8         \n",
      " 15  web           141515 non-null  uint8         \n",
      " 16  bogo          141515 non-null  uint8         \n",
      " 17  discount      141515 non-null  uint8         \n",
      " 18  age_class     141515 non-null  uint8         \n",
      " 19  income_class  141515 non-null  uint8         \n",
      " 20  2013          141515 non-null  uint8         \n",
      " 21  2014          141515 non-null  uint8         \n",
      " 22  2015          141515 non-null  uint8         \n",
      " 23  2016          141515 non-null  uint8         \n",
      " 24  2017          141515 non-null  uint8         \n",
      " 25  2018          141515 non-null  uint8         \n",
      "dtypes: datetime64[ns](1), int64(2), uint8(23)\n",
      "memory usage: 11.5 MB\n"
     ]
    },
    {
     "data": {
      "text/html": [
       "<div>\n",
       "<style scoped>\n",
       "    .dataframe tbody tr th:only-of-type {\n",
       "        vertical-align: middle;\n",
       "    }\n",
       "\n",
       "    .dataframe tbody tr th {\n",
       "        vertical-align: top;\n",
       "    }\n",
       "\n",
       "    .dataframe thead th {\n",
       "        text-align: right;\n",
       "    }\n",
       "</style>\n",
       "<table border=\"1\" class=\"dataframe\">\n",
       "  <thead>\n",
       "    <tr style=\"text-align: right;\">\n",
       "      <th></th>\n",
       "      <th>success</th>\n",
       "      <th>customer_id</th>\n",
       "      <th>time</th>\n",
       "      <th>offer_viewed</th>\n",
       "      <th>offer_id</th>\n",
       "      <th>D</th>\n",
       "      <th>F</th>\n",
       "      <th>M</th>\n",
       "      <th>O</th>\n",
       "      <th>reward</th>\n",
       "      <th>...</th>\n",
       "      <th>bogo</th>\n",
       "      <th>discount</th>\n",
       "      <th>age_class</th>\n",
       "      <th>income_class</th>\n",
       "      <th>2013</th>\n",
       "      <th>2014</th>\n",
       "      <th>2015</th>\n",
       "      <th>2016</th>\n",
       "      <th>2017</th>\n",
       "      <th>2018</th>\n",
       "    </tr>\n",
       "  </thead>\n",
       "  <tbody>\n",
       "    <tr>\n",
       "      <th>count</th>\n",
       "      <td>141515.000000</td>\n",
       "      <td>141515.000000</td>\n",
       "      <td>141515.000000</td>\n",
       "      <td>141515.000000</td>\n",
       "      <td>141515.000000</td>\n",
       "      <td>141515.000000</td>\n",
       "      <td>141515.00000</td>\n",
       "      <td>141515.000000</td>\n",
       "      <td>141515.000000</td>\n",
       "      <td>141515.000000</td>\n",
       "      <td>...</td>\n",
       "      <td>141515.000000</td>\n",
       "      <td>141515.000000</td>\n",
       "      <td>141515.000000</td>\n",
       "      <td>141515.000000</td>\n",
       "      <td>141515.000000</td>\n",
       "      <td>141515.000000</td>\n",
       "      <td>141515.000000</td>\n",
       "      <td>141515.000000</td>\n",
       "      <td>141515.000000</td>\n",
       "      <td>141515.000000</td>\n",
       "    </tr>\n",
       "    <tr>\n",
       "      <th>mean</th>\n",
       "      <td>0.237282</td>\n",
       "      <td>8488.114256</td>\n",
       "      <td>355.953927</td>\n",
       "      <td>0.331371</td>\n",
       "      <td>4.514885</td>\n",
       "      <td>0.108610</td>\n",
       "      <td>0.38350</td>\n",
       "      <td>0.494930</td>\n",
       "      <td>0.012960</td>\n",
       "      <td>5.234025</td>\n",
       "      <td>...</td>\n",
       "      <td>0.506074</td>\n",
       "      <td>0.493926</td>\n",
       "      <td>2.958831</td>\n",
       "      <td>2.151249</td>\n",
       "      <td>0.016846</td>\n",
       "      <td>0.040399</td>\n",
       "      <td>0.113825</td>\n",
       "      <td>0.223637</td>\n",
       "      <td>0.378356</td>\n",
       "      <td>0.226937</td>\n",
       "    </tr>\n",
       "    <tr>\n",
       "      <th>std</th>\n",
       "      <td>0.425418</td>\n",
       "      <td>4904.150966</td>\n",
       "      <td>198.172446</td>\n",
       "      <td>0.470708</td>\n",
       "      <td>2.951825</td>\n",
       "      <td>0.311151</td>\n",
       "      <td>0.48624</td>\n",
       "      <td>0.499976</td>\n",
       "      <td>0.113101</td>\n",
       "      <td>3.035536</td>\n",
       "      <td>...</td>\n",
       "      <td>0.499965</td>\n",
       "      <td>0.499965</td>\n",
       "      <td>1.108320</td>\n",
       "      <td>0.881357</td>\n",
       "      <td>0.128696</td>\n",
       "      <td>0.196893</td>\n",
       "      <td>0.317600</td>\n",
       "      <td>0.416683</td>\n",
       "      <td>0.484979</td>\n",
       "      <td>0.418853</td>\n",
       "    </tr>\n",
       "    <tr>\n",
       "      <th>min</th>\n",
       "      <td>0.000000</td>\n",
       "      <td>0.000000</td>\n",
       "      <td>0.000000</td>\n",
       "      <td>0.000000</td>\n",
       "      <td>0.000000</td>\n",
       "      <td>0.000000</td>\n",
       "      <td>0.00000</td>\n",
       "      <td>0.000000</td>\n",
       "      <td>0.000000</td>\n",
       "      <td>2.000000</td>\n",
       "      <td>...</td>\n",
       "      <td>0.000000</td>\n",
       "      <td>0.000000</td>\n",
       "      <td>1.000000</td>\n",
       "      <td>1.000000</td>\n",
       "      <td>0.000000</td>\n",
       "      <td>0.000000</td>\n",
       "      <td>0.000000</td>\n",
       "      <td>0.000000</td>\n",
       "      <td>0.000000</td>\n",
       "      <td>0.000000</td>\n",
       "    </tr>\n",
       "    <tr>\n",
       "      <th>25%</th>\n",
       "      <td>0.000000</td>\n",
       "      <td>4232.500000</td>\n",
       "      <td>174.000000</td>\n",
       "      <td>0.000000</td>\n",
       "      <td>1.000000</td>\n",
       "      <td>0.000000</td>\n",
       "      <td>0.00000</td>\n",
       "      <td>0.000000</td>\n",
       "      <td>0.000000</td>\n",
       "      <td>2.000000</td>\n",
       "      <td>...</td>\n",
       "      <td>0.000000</td>\n",
       "      <td>0.000000</td>\n",
       "      <td>2.000000</td>\n",
       "      <td>2.000000</td>\n",
       "      <td>0.000000</td>\n",
       "      <td>0.000000</td>\n",
       "      <td>0.000000</td>\n",
       "      <td>0.000000</td>\n",
       "      <td>0.000000</td>\n",
       "      <td>0.000000</td>\n",
       "    </tr>\n",
       "    <tr>\n",
       "      <th>50%</th>\n",
       "      <td>0.000000</td>\n",
       "      <td>8475.000000</td>\n",
       "      <td>408.000000</td>\n",
       "      <td>0.000000</td>\n",
       "      <td>5.000000</td>\n",
       "      <td>0.000000</td>\n",
       "      <td>0.00000</td>\n",
       "      <td>0.000000</td>\n",
       "      <td>0.000000</td>\n",
       "      <td>5.000000</td>\n",
       "      <td>...</td>\n",
       "      <td>1.000000</td>\n",
       "      <td>0.000000</td>\n",
       "      <td>3.000000</td>\n",
       "      <td>2.000000</td>\n",
       "      <td>0.000000</td>\n",
       "      <td>0.000000</td>\n",
       "      <td>0.000000</td>\n",
       "      <td>0.000000</td>\n",
       "      <td>0.000000</td>\n",
       "      <td>0.000000</td>\n",
       "    </tr>\n",
       "    <tr>\n",
       "      <th>75%</th>\n",
       "      <td>0.000000</td>\n",
       "      <td>12733.000000</td>\n",
       "      <td>510.000000</td>\n",
       "      <td>1.000000</td>\n",
       "      <td>6.000000</td>\n",
       "      <td>0.000000</td>\n",
       "      <td>1.00000</td>\n",
       "      <td>1.000000</td>\n",
       "      <td>0.000000</td>\n",
       "      <td>10.000000</td>\n",
       "      <td>...</td>\n",
       "      <td>1.000000</td>\n",
       "      <td>1.000000</td>\n",
       "      <td>3.000000</td>\n",
       "      <td>3.000000</td>\n",
       "      <td>0.000000</td>\n",
       "      <td>0.000000</td>\n",
       "      <td>0.000000</td>\n",
       "      <td>0.000000</td>\n",
       "      <td>1.000000</td>\n",
       "      <td>0.000000</td>\n",
       "    </tr>\n",
       "    <tr>\n",
       "      <th>max</th>\n",
       "      <td>1.000000</td>\n",
       "      <td>16999.000000</td>\n",
       "      <td>714.000000</td>\n",
       "      <td>1.000000</td>\n",
       "      <td>9.000000</td>\n",
       "      <td>1.000000</td>\n",
       "      <td>1.00000</td>\n",
       "      <td>1.000000</td>\n",
       "      <td>1.000000</td>\n",
       "      <td>10.000000</td>\n",
       "      <td>...</td>\n",
       "      <td>1.000000</td>\n",
       "      <td>1.000000</td>\n",
       "      <td>5.000000</td>\n",
       "      <td>4.000000</td>\n",
       "      <td>1.000000</td>\n",
       "      <td>1.000000</td>\n",
       "      <td>1.000000</td>\n",
       "      <td>1.000000</td>\n",
       "      <td>1.000000</td>\n",
       "      <td>1.000000</td>\n",
       "    </tr>\n",
       "  </tbody>\n",
       "</table>\n",
       "<p>8 rows × 25 columns</p>\n",
       "</div>"
      ],
      "text/plain": [
       "             success    customer_id           time   offer_viewed  \\\n",
       "count  141515.000000  141515.000000  141515.000000  141515.000000   \n",
       "mean        0.237282    8488.114256     355.953927       0.331371   \n",
       "std         0.425418    4904.150966     198.172446       0.470708   \n",
       "min         0.000000       0.000000       0.000000       0.000000   \n",
       "25%         0.000000    4232.500000     174.000000       0.000000   \n",
       "50%         0.000000    8475.000000     408.000000       0.000000   \n",
       "75%         0.000000   12733.000000     510.000000       1.000000   \n",
       "max         1.000000   16999.000000     714.000000       1.000000   \n",
       "\n",
       "            offer_id              D             F              M  \\\n",
       "count  141515.000000  141515.000000  141515.00000  141515.000000   \n",
       "mean        4.514885       0.108610       0.38350       0.494930   \n",
       "std         2.951825       0.311151       0.48624       0.499976   \n",
       "min         0.000000       0.000000       0.00000       0.000000   \n",
       "25%         1.000000       0.000000       0.00000       0.000000   \n",
       "50%         5.000000       0.000000       0.00000       0.000000   \n",
       "75%         6.000000       0.000000       1.00000       1.000000   \n",
       "max         9.000000       1.000000       1.00000       1.000000   \n",
       "\n",
       "                   O         reward  ...           bogo       discount  \\\n",
       "count  141515.000000  141515.000000  ...  141515.000000  141515.000000   \n",
       "mean        0.012960       5.234025  ...       0.506074       0.493926   \n",
       "std         0.113101       3.035536  ...       0.499965       0.499965   \n",
       "min         0.000000       2.000000  ...       0.000000       0.000000   \n",
       "25%         0.000000       2.000000  ...       0.000000       0.000000   \n",
       "50%         0.000000       5.000000  ...       1.000000       0.000000   \n",
       "75%         0.000000      10.000000  ...       1.000000       1.000000   \n",
       "max         1.000000      10.000000  ...       1.000000       1.000000   \n",
       "\n",
       "           age_class   income_class           2013           2014  \\\n",
       "count  141515.000000  141515.000000  141515.000000  141515.000000   \n",
       "mean        2.958831       2.151249       0.016846       0.040399   \n",
       "std         1.108320       0.881357       0.128696       0.196893   \n",
       "min         1.000000       1.000000       0.000000       0.000000   \n",
       "25%         2.000000       2.000000       0.000000       0.000000   \n",
       "50%         3.000000       2.000000       0.000000       0.000000   \n",
       "75%         3.000000       3.000000       0.000000       0.000000   \n",
       "max         5.000000       4.000000       1.000000       1.000000   \n",
       "\n",
       "                2015           2016           2017           2018  \n",
       "count  141515.000000  141515.000000  141515.000000  141515.000000  \n",
       "mean        0.113825       0.223637       0.378356       0.226937  \n",
       "std         0.317600       0.416683       0.484979       0.418853  \n",
       "min         0.000000       0.000000       0.000000       0.000000  \n",
       "25%         0.000000       0.000000       0.000000       0.000000  \n",
       "50%         0.000000       0.000000       0.000000       0.000000  \n",
       "75%         0.000000       0.000000       1.000000       0.000000  \n",
       "max         1.000000       1.000000       1.000000       1.000000  \n",
       "\n",
       "[8 rows x 25 columns]"
      ]
     },
     "execution_count": 99,
     "metadata": {},
     "output_type": "execute_result"
    }
   ],
   "source": [
    "data.info()\n",
    "data.describe()"
   ]
  },
  {
   "cell_type": "markdown",
   "metadata": {},
   "source": [
    "#### The basic task is to use the data to identify which groups of people are most responsive to each type of offer, and how best to present each type of offer."
   ]
  },
  {
   "cell_type": "code",
   "execution_count": 100,
   "metadata": {},
   "outputs": [
    {
     "name": "stdout",
     "output_type": "stream",
     "text": [
      "Number of success:  33579\n",
      "---\n",
      " 6    5317\n",
      "5    5156\n",
      "3    4354\n",
      "8    4296\n",
      "9    4017\n",
      "0    3688\n",
      "4    3420\n",
      "1    3331\n",
      "Name: offer_id, dtype: int64\n"
     ]
    }
   ],
   "source": [
    "# data has 141.515 rows and 26 columns\n",
    "inds=data['success'] == 1\n",
    "print('Number of success: ',sum(inds))\n",
    "print('---\\n',data['offer_id'][inds].value_counts() )\n"
   ]
  },
  {
   "cell_type": "code",
   "execution_count": 101,
   "metadata": {},
   "outputs": [
    {
     "name": "stdout",
     "output_type": "stream",
     "text": [
      "<class 'pandas.core.frame.DataFrame'>\n",
      "Int64Index: 141515 entries, 0 to 306532\n",
      "Data columns (total 26 columns):\n",
      " #   Column        Non-Null Count   Dtype\n",
      "---  ------        --------------   -----\n",
      " 0   success       141515 non-null  uint8\n",
      " 1   customer_id   141515 non-null  int64\n",
      " 2   time          141515 non-null  int64\n",
      " 3   offer_viewed  141515 non-null  uint8\n",
      " 4   offer_id      141515 non-null  uint8\n",
      " 5   time_on       141515 non-null  int64\n",
      " 6   D             141515 non-null  uint8\n",
      " 7   F             141515 non-null  uint8\n",
      " 8   M             141515 non-null  uint8\n",
      " 9   O             141515 non-null  uint8\n",
      " 10  reward        141515 non-null  uint8\n",
      " 11  min_spend     141515 non-null  uint8\n",
      " 12  duration      141515 non-null  uint8\n",
      " 13  mobile        141515 non-null  uint8\n",
      " 14  social        141515 non-null  uint8\n",
      " 15  web           141515 non-null  uint8\n",
      " 16  bogo          141515 non-null  uint8\n",
      " 17  discount      141515 non-null  uint8\n",
      " 18  age_class     141515 non-null  uint8\n",
      " 19  income_class  141515 non-null  uint8\n",
      " 20  2013          141515 non-null  uint8\n",
      " 21  2014          141515 non-null  uint8\n",
      " 22  2015          141515 non-null  uint8\n",
      " 23  2016          141515 non-null  uint8\n",
      " 24  2017          141515 non-null  uint8\n",
      " 25  2018          141515 non-null  uint8\n",
      "dtypes: int64(3), uint8(23)\n",
      "memory usage: 11.5 MB\n"
     ]
    },
    {
     "name": "stderr",
     "output_type": "stream",
     "text": [
      "/opt/conda/lib/python3.7/site-packages/ipykernel_launcher.py:3: FutureWarning: casting datetime64[ns] values to int64 with .astype(...) is deprecated and will raise in a future version. Use .view(...) instead.\n",
      "  This is separate from the ipykernel package so we can avoid doing imports until\n"
     ]
    }
   ],
   "source": [
    "# Process data time_on\n",
    "data['time_on'] = pd.to_datetime(data['time_on'],format='%Y-%m-%d')\n",
    "data['time_on'] = data['time_on'].astype('int64')\n",
    "data.info()"
   ]
  },
  {
   "cell_type": "code",
   "execution_count": 102,
   "metadata": {},
   "outputs": [
    {
     "name": "stdout",
     "output_type": "stream",
     "text": [
      "<class 'pandas.core.frame.DataFrame'>\n",
      "Int64Index: 141515 entries, 0 to 306532\n",
      "Data columns (total 26 columns):\n",
      " #   Column        Non-Null Count   Dtype  \n",
      "---  ------        --------------   -----  \n",
      " 0   success       141515 non-null  uint8  \n",
      " 1   customer_id   141515 non-null  int64  \n",
      " 2   time          141515 non-null  float64\n",
      " 3   offer_viewed  141515 non-null  uint8  \n",
      " 4   offer_id      141515 non-null  uint8  \n",
      " 5   time_on       141515 non-null  float64\n",
      " 6   D             141515 non-null  uint8  \n",
      " 7   F             141515 non-null  uint8  \n",
      " 8   M             141515 non-null  uint8  \n",
      " 9   O             141515 non-null  uint8  \n",
      " 10  reward        141515 non-null  float64\n",
      " 11  min_spend     141515 non-null  float64\n",
      " 12  duration      141515 non-null  float64\n",
      " 13  mobile        141515 non-null  uint8  \n",
      " 14  social        141515 non-null  uint8  \n",
      " 15  web           141515 non-null  uint8  \n",
      " 16  bogo          141515 non-null  uint8  \n",
      " 17  discount      141515 non-null  uint8  \n",
      " 18  age_class     141515 non-null  uint8  \n",
      " 19  income_class  141515 non-null  uint8  \n",
      " 20  2013          141515 non-null  uint8  \n",
      " 21  2014          141515 non-null  uint8  \n",
      " 22  2015          141515 non-null  uint8  \n",
      " 23  2016          141515 non-null  uint8  \n",
      " 24  2017          141515 non-null  uint8  \n",
      " 25  2018          141515 non-null  uint8  \n",
      "dtypes: float64(5), int64(1), uint8(20)\n",
      "memory usage: 14.3 MB\n"
     ]
    },
    {
     "data": {
      "text/html": [
       "<div>\n",
       "<style scoped>\n",
       "    .dataframe tbody tr th:only-of-type {\n",
       "        vertical-align: middle;\n",
       "    }\n",
       "\n",
       "    .dataframe tbody tr th {\n",
       "        vertical-align: top;\n",
       "    }\n",
       "\n",
       "    .dataframe thead th {\n",
       "        text-align: right;\n",
       "    }\n",
       "</style>\n",
       "<table border=\"1\" class=\"dataframe\">\n",
       "  <thead>\n",
       "    <tr style=\"text-align: right;\">\n",
       "      <th></th>\n",
       "      <th>success</th>\n",
       "      <th>customer_id</th>\n",
       "      <th>time</th>\n",
       "      <th>offer_viewed</th>\n",
       "      <th>offer_id</th>\n",
       "      <th>time_on</th>\n",
       "      <th>D</th>\n",
       "      <th>F</th>\n",
       "      <th>M</th>\n",
       "      <th>O</th>\n",
       "      <th>...</th>\n",
       "      <th>bogo</th>\n",
       "      <th>discount</th>\n",
       "      <th>age_class</th>\n",
       "      <th>income_class</th>\n",
       "      <th>2013</th>\n",
       "      <th>2014</th>\n",
       "      <th>2015</th>\n",
       "      <th>2016</th>\n",
       "      <th>2017</th>\n",
       "      <th>2018</th>\n",
       "    </tr>\n",
       "  </thead>\n",
       "  <tbody>\n",
       "    <tr>\n",
       "      <th>count</th>\n",
       "      <td>141515.000000</td>\n",
       "      <td>141515.000000</td>\n",
       "      <td>1.415150e+05</td>\n",
       "      <td>141515.000000</td>\n",
       "      <td>141515.000000</td>\n",
       "      <td>1.415150e+05</td>\n",
       "      <td>141515.000000</td>\n",
       "      <td>141515.00000</td>\n",
       "      <td>141515.000000</td>\n",
       "      <td>141515.000000</td>\n",
       "      <td>...</td>\n",
       "      <td>141515.000000</td>\n",
       "      <td>141515.000000</td>\n",
       "      <td>141515.000000</td>\n",
       "      <td>141515.000000</td>\n",
       "      <td>141515.000000</td>\n",
       "      <td>141515.000000</td>\n",
       "      <td>141515.000000</td>\n",
       "      <td>141515.000000</td>\n",
       "      <td>141515.000000</td>\n",
       "      <td>141515.000000</td>\n",
       "    </tr>\n",
       "    <tr>\n",
       "      <th>mean</th>\n",
       "      <td>0.237282</td>\n",
       "      <td>8488.114256</td>\n",
       "      <td>2.672260e-14</td>\n",
       "      <td>0.331371</td>\n",
       "      <td>4.514885</td>\n",
       "      <td>-1.542731e-12</td>\n",
       "      <td>0.108610</td>\n",
       "      <td>0.38350</td>\n",
       "      <td>0.494930</td>\n",
       "      <td>0.012960</td>\n",
       "      <td>...</td>\n",
       "      <td>0.506074</td>\n",
       "      <td>0.493926</td>\n",
       "      <td>2.958831</td>\n",
       "      <td>2.151249</td>\n",
       "      <td>0.016846</td>\n",
       "      <td>0.040399</td>\n",
       "      <td>0.113825</td>\n",
       "      <td>0.223637</td>\n",
       "      <td>0.378356</td>\n",
       "      <td>0.226937</td>\n",
       "    </tr>\n",
       "    <tr>\n",
       "      <th>std</th>\n",
       "      <td>0.425418</td>\n",
       "      <td>4904.150966</td>\n",
       "      <td>1.000000e+00</td>\n",
       "      <td>0.470708</td>\n",
       "      <td>2.951825</td>\n",
       "      <td>1.000000e+00</td>\n",
       "      <td>0.311151</td>\n",
       "      <td>0.48624</td>\n",
       "      <td>0.499976</td>\n",
       "      <td>0.113101</td>\n",
       "      <td>...</td>\n",
       "      <td>0.499965</td>\n",
       "      <td>0.499965</td>\n",
       "      <td>1.108320</td>\n",
       "      <td>0.881357</td>\n",
       "      <td>0.128696</td>\n",
       "      <td>0.196893</td>\n",
       "      <td>0.317600</td>\n",
       "      <td>0.416683</td>\n",
       "      <td>0.484979</td>\n",
       "      <td>0.418853</td>\n",
       "    </tr>\n",
       "    <tr>\n",
       "      <th>min</th>\n",
       "      <td>0.000000</td>\n",
       "      <td>0.000000</td>\n",
       "      <td>-1.796183e+00</td>\n",
       "      <td>0.000000</td>\n",
       "      <td>0.000000</td>\n",
       "      <td>-3.152463e+00</td>\n",
       "      <td>0.000000</td>\n",
       "      <td>0.00000</td>\n",
       "      <td>0.000000</td>\n",
       "      <td>0.000000</td>\n",
       "      <td>...</td>\n",
       "      <td>0.000000</td>\n",
       "      <td>0.000000</td>\n",
       "      <td>1.000000</td>\n",
       "      <td>1.000000</td>\n",
       "      <td>0.000000</td>\n",
       "      <td>0.000000</td>\n",
       "      <td>0.000000</td>\n",
       "      <td>0.000000</td>\n",
       "      <td>0.000000</td>\n",
       "      <td>0.000000</td>\n",
       "    </tr>\n",
       "    <tr>\n",
       "      <th>25%</th>\n",
       "      <td>0.000000</td>\n",
       "      <td>4232.500000</td>\n",
       "      <td>-9.181596e-01</td>\n",
       "      <td>0.000000</td>\n",
       "      <td>1.000000</td>\n",
       "      <td>-6.821972e-01</td>\n",
       "      <td>0.000000</td>\n",
       "      <td>0.00000</td>\n",
       "      <td>0.000000</td>\n",
       "      <td>0.000000</td>\n",
       "      <td>...</td>\n",
       "      <td>0.000000</td>\n",
       "      <td>0.000000</td>\n",
       "      <td>2.000000</td>\n",
       "      <td>2.000000</td>\n",
       "      <td>0.000000</td>\n",
       "      <td>0.000000</td>\n",
       "      <td>0.000000</td>\n",
       "      <td>0.000000</td>\n",
       "      <td>0.000000</td>\n",
       "      <td>0.000000</td>\n",
       "    </tr>\n",
       "    <tr>\n",
       "      <th>50%</th>\n",
       "      <td>0.000000</td>\n",
       "      <td>8475.000000</td>\n",
       "      <td>2.626302e-01</td>\n",
       "      <td>0.000000</td>\n",
       "      <td>5.000000</td>\n",
       "      <td>3.394332e-01</td>\n",
       "      <td>0.000000</td>\n",
       "      <td>0.00000</td>\n",
       "      <td>0.000000</td>\n",
       "      <td>0.000000</td>\n",
       "      <td>...</td>\n",
       "      <td>1.000000</td>\n",
       "      <td>0.000000</td>\n",
       "      <td>3.000000</td>\n",
       "      <td>2.000000</td>\n",
       "      <td>0.000000</td>\n",
       "      <td>0.000000</td>\n",
       "      <td>0.000000</td>\n",
       "      <td>0.000000</td>\n",
       "      <td>0.000000</td>\n",
       "      <td>0.000000</td>\n",
       "    </tr>\n",
       "    <tr>\n",
       "      <th>75%</th>\n",
       "      <td>0.000000</td>\n",
       "      <td>12733.000000</td>\n",
       "      <td>7.773335e-01</td>\n",
       "      <td>1.000000</td>\n",
       "      <td>6.000000</td>\n",
       "      <td>7.676615e-01</td>\n",
       "      <td>0.000000</td>\n",
       "      <td>1.00000</td>\n",
       "      <td>1.000000</td>\n",
       "      <td>0.000000</td>\n",
       "      <td>...</td>\n",
       "      <td>1.000000</td>\n",
       "      <td>1.000000</td>\n",
       "      <td>3.000000</td>\n",
       "      <td>3.000000</td>\n",
       "      <td>0.000000</td>\n",
       "      <td>0.000000</td>\n",
       "      <td>0.000000</td>\n",
       "      <td>0.000000</td>\n",
       "      <td>1.000000</td>\n",
       "      <td>0.000000</td>\n",
       "    </tr>\n",
       "    <tr>\n",
       "      <th>max</th>\n",
       "      <td>1.000000</td>\n",
       "      <td>16999.000000</td>\n",
       "      <td>1.806740e+00</td>\n",
       "      <td>1.000000</td>\n",
       "      <td>9.000000</td>\n",
       "      <td>1.308453e+00</td>\n",
       "      <td>1.000000</td>\n",
       "      <td>1.00000</td>\n",
       "      <td>1.000000</td>\n",
       "      <td>1.000000</td>\n",
       "      <td>...</td>\n",
       "      <td>1.000000</td>\n",
       "      <td>1.000000</td>\n",
       "      <td>5.000000</td>\n",
       "      <td>4.000000</td>\n",
       "      <td>1.000000</td>\n",
       "      <td>1.000000</td>\n",
       "      <td>1.000000</td>\n",
       "      <td>1.000000</td>\n",
       "      <td>1.000000</td>\n",
       "      <td>1.000000</td>\n",
       "    </tr>\n",
       "  </tbody>\n",
       "</table>\n",
       "<p>8 rows × 26 columns</p>\n",
       "</div>"
      ],
      "text/plain": [
       "             success    customer_id          time   offer_viewed  \\\n",
       "count  141515.000000  141515.000000  1.415150e+05  141515.000000   \n",
       "mean        0.237282    8488.114256  2.672260e-14       0.331371   \n",
       "std         0.425418    4904.150966  1.000000e+00       0.470708   \n",
       "min         0.000000       0.000000 -1.796183e+00       0.000000   \n",
       "25%         0.000000    4232.500000 -9.181596e-01       0.000000   \n",
       "50%         0.000000    8475.000000  2.626302e-01       0.000000   \n",
       "75%         0.000000   12733.000000  7.773335e-01       1.000000   \n",
       "max         1.000000   16999.000000  1.806740e+00       1.000000   \n",
       "\n",
       "            offer_id       time_on              D             F  \\\n",
       "count  141515.000000  1.415150e+05  141515.000000  141515.00000   \n",
       "mean        4.514885 -1.542731e-12       0.108610       0.38350   \n",
       "std         2.951825  1.000000e+00       0.311151       0.48624   \n",
       "min         0.000000 -3.152463e+00       0.000000       0.00000   \n",
       "25%         1.000000 -6.821972e-01       0.000000       0.00000   \n",
       "50%         5.000000  3.394332e-01       0.000000       0.00000   \n",
       "75%         6.000000  7.676615e-01       0.000000       1.00000   \n",
       "max         9.000000  1.308453e+00       1.000000       1.00000   \n",
       "\n",
       "                   M              O  ...           bogo       discount  \\\n",
       "count  141515.000000  141515.000000  ...  141515.000000  141515.000000   \n",
       "mean        0.494930       0.012960  ...       0.506074       0.493926   \n",
       "std         0.499976       0.113101  ...       0.499965       0.499965   \n",
       "min         0.000000       0.000000  ...       0.000000       0.000000   \n",
       "25%         0.000000       0.000000  ...       0.000000       0.000000   \n",
       "50%         0.000000       0.000000  ...       1.000000       0.000000   \n",
       "75%         1.000000       0.000000  ...       1.000000       1.000000   \n",
       "max         1.000000       1.000000  ...       1.000000       1.000000   \n",
       "\n",
       "           age_class   income_class           2013           2014  \\\n",
       "count  141515.000000  141515.000000  141515.000000  141515.000000   \n",
       "mean        2.958831       2.151249       0.016846       0.040399   \n",
       "std         1.108320       0.881357       0.128696       0.196893   \n",
       "min         1.000000       1.000000       0.000000       0.000000   \n",
       "25%         2.000000       2.000000       0.000000       0.000000   \n",
       "50%         3.000000       2.000000       0.000000       0.000000   \n",
       "75%         3.000000       3.000000       0.000000       0.000000   \n",
       "max         5.000000       4.000000       1.000000       1.000000   \n",
       "\n",
       "                2015           2016           2017           2018  \n",
       "count  141515.000000  141515.000000  141515.000000  141515.000000  \n",
       "mean        0.113825       0.223637       0.378356       0.226937  \n",
       "std         0.317600       0.416683       0.484979       0.418853  \n",
       "min         0.000000       0.000000       0.000000       0.000000  \n",
       "25%         0.000000       0.000000       0.000000       0.000000  \n",
       "50%         0.000000       0.000000       0.000000       0.000000  \n",
       "75%         0.000000       0.000000       1.000000       0.000000  \n",
       "max         1.000000       1.000000       1.000000       1.000000  \n",
       "\n",
       "[8 rows x 26 columns]"
      ]
     },
     "execution_count": 102,
     "metadata": {},
     "output_type": "execute_result"
    }
   ],
   "source": [
    "# numeric columns normalization \n",
    "norm_cols = ['time', 'reward', 'min_spend', 'duration', 'time_on']\n",
    "for col in norm_cols:\n",
    "    mean = float(data[col].mean())\n",
    "    std = float(data[col].std())\n",
    "    data[col] = data[col].apply(lambda x: (x-mean)/std)\n",
    "data.info()\n",
    "data.describe()"
   ]
  },
  {
   "cell_type": "code",
   "execution_count": 103,
   "metadata": {},
   "outputs": [],
   "source": [
    "# Seperate two instant dataframes for bogo and discount \n",
    "bogo = data[data['bogo'] == 1]\n",
    "discount = data[data['discount'] == 1]\n",
    "\n",
    "# Save data into csv files\n",
    "bogo.to_csv(DIR+'bogo.csv', index=False)\n",
    "discount.to_csv(DIR+'discount.csv', index=False)"
   ]
  },
  {
   "cell_type": "code",
   "execution_count": 104,
   "metadata": {},
   "outputs": [
    {
     "name": "stdout",
     "output_type": "stream",
     "text": [
      "<class 'pandas.core.frame.DataFrame'>\n",
      "Int64Index: 71617 entries, 0 to 306532\n",
      "Data columns (total 24 columns):\n",
      " #   Column        Non-Null Count  Dtype  \n",
      "---  ------        --------------  -----  \n",
      " 0   customer_id   71617 non-null  int64  \n",
      " 1   time          71617 non-null  float64\n",
      " 2   offer_viewed  71617 non-null  uint8  \n",
      " 3   offer_id      71617 non-null  uint8  \n",
      " 4   time_on       71617 non-null  float64\n",
      " 5   D             71617 non-null  uint8  \n",
      " 6   F             71617 non-null  uint8  \n",
      " 7   M             71617 non-null  uint8  \n",
      " 8   O             71617 non-null  uint8  \n",
      " 9   reward        71617 non-null  float64\n",
      " 10  min_spend     71617 non-null  float64\n",
      " 11  duration      71617 non-null  float64\n",
      " 12  mobile        71617 non-null  uint8  \n",
      " 13  social        71617 non-null  uint8  \n",
      " 14  web           71617 non-null  uint8  \n",
      " 15  bogo          71617 non-null  uint8  \n",
      " 16  age_class     71617 non-null  uint8  \n",
      " 17  income_class  71617 non-null  uint8  \n",
      " 18  2013          71617 non-null  uint8  \n",
      " 19  2014          71617 non-null  uint8  \n",
      " 20  2015          71617 non-null  uint8  \n",
      " 21  2016          71617 non-null  uint8  \n",
      " 22  2017          71617 non-null  uint8  \n",
      " 23  2018          71617 non-null  uint8  \n",
      "dtypes: float64(5), int64(1), uint8(18)\n",
      "memory usage: 5.1 MB\n",
      "<class 'pandas.core.frame.DataFrame'>\n",
      "Int64Index: 69898 entries, 18 to 306528\n",
      "Data columns (total 24 columns):\n",
      " #   Column        Non-Null Count  Dtype  \n",
      "---  ------        --------------  -----  \n",
      " 0   customer_id   69898 non-null  int64  \n",
      " 1   time          69898 non-null  float64\n",
      " 2   offer_viewed  69898 non-null  uint8  \n",
      " 3   offer_id      69898 non-null  uint8  \n",
      " 4   time_on       69898 non-null  float64\n",
      " 5   D             69898 non-null  uint8  \n",
      " 6   F             69898 non-null  uint8  \n",
      " 7   M             69898 non-null  uint8  \n",
      " 8   O             69898 non-null  uint8  \n",
      " 9   reward        69898 non-null  float64\n",
      " 10  min_spend     69898 non-null  float64\n",
      " 11  duration      69898 non-null  float64\n",
      " 12  mobile        69898 non-null  uint8  \n",
      " 13  social        69898 non-null  uint8  \n",
      " 14  web           69898 non-null  uint8  \n",
      " 15  discount      69898 non-null  uint8  \n",
      " 16  age_class     69898 non-null  uint8  \n",
      " 17  income_class  69898 non-null  uint8  \n",
      " 18  2013          69898 non-null  uint8  \n",
      " 19  2014          69898 non-null  uint8  \n",
      " 20  2015          69898 non-null  uint8  \n",
      " 21  2016          69898 non-null  uint8  \n",
      " 22  2017          69898 non-null  uint8  \n",
      " 23  2018          69898 non-null  uint8  \n",
      "dtypes: float64(5), int64(1), uint8(18)\n",
      "memory usage: 4.9 MB\n"
     ]
    }
   ],
   "source": [
    "# Predict the success bogo, we delete unrelated rows\n",
    "Y_bogo = bogo['success']\n",
    "X_bogo = bogo.drop(axis=1,\n",
    "    columns=['discount', 'success',])\n",
    "\n",
    "# Predict the success discount, we delete unrelated rows\n",
    "Y_disc = discount['success']\n",
    "X_disc = discount.drop(axis=1,\n",
    "    columns=['bogo', 'success',])\n",
    "\n",
    "X_bogo.info()\n",
    "X_disc.info()"
   ]
  },
  {
   "cell_type": "code",
   "execution_count": 105,
   "metadata": {},
   "outputs": [],
   "source": [
    "from sklearn.preprocessing import StandardScaler\n",
    "from sklearn.model_selection import train_test_split\n",
    "from sklearn.metrics import ConfusionMatrixDisplay\n",
    "from sklearn.linear_model import LogisticRegression\n",
    "\n",
    "X1_train, X1_test, Y1_train, Y1_test = train_test_split(X_bogo, Y_bogo, test_size=0.2, random_state=18)\n",
    "X2_train, X2_test, Y2_train, Y2_test = train_test_split(X_disc, Y_disc, test_size=0.2, random_state=18)\n",
    "\n"
   ]
  },
  {
   "cell_type": "code",
   "execution_count": 106,
   "metadata": {},
   "outputs": [
    {
     "name": "stdout",
     "output_type": "stream",
     "text": [
      "Train accuracy:  0.7826436039306721 \n",
      "---\n",
      "Test accuracy:  0.7844875733035465\n"
     ]
    }
   ],
   "source": [
    "bogo_clf = LogisticRegression(random_state=18, max_iter= 1000).fit(X1_train, Y1_train)\n",
    "bogo_predictions = bogo_clf.predict(X1_test)\n",
    "print('Train accuracy: ', bogo_clf.score(X1_train, Y1_train),\n",
    "      '\\n---\\nTest accuracy: ', bogo_clf.score(X1_test, Y1_test))"
   ]
  },
  {
   "cell_type": "code",
   "execution_count": 107,
   "metadata": {},
   "outputs": [
    {
     "name": "stdout",
     "output_type": "stream",
     "text": [
      "Train accuracy:  0.7555348903751923 \n",
      "---\n",
      "Test accuracy:  0.7587267525035766\n"
     ]
    }
   ],
   "source": [
    "disc_clf = LogisticRegression(random_state=18, max_iter= 1000).fit(X2_train, Y2_train)\n",
    "disc_predictions = disc_clf.predict(X2_test)\n",
    "\n",
    "print('Train accuracy: ', disc_clf.score(X2_train, Y2_train),\n",
    "      '\\n---\\nTest accuracy: ', disc_clf.score(X2_test, Y2_test))\n"
   ]
  },
  {
   "cell_type": "code",
   "execution_count": 108,
   "metadata": {},
   "outputs": [
    {
     "name": "stdout",
     "output_type": "stream",
     "text": [
      "<class 'pandas.core.frame.DataFrame'>\n",
      "Int64Index: 57293 entries, 191818 to 260370\n",
      "Data columns (total 25 columns):\n",
      " #   Column        Non-Null Count  Dtype   \n",
      "---  ------        --------------  -----   \n",
      " 0   success       57293 non-null  category\n",
      " 1   customer_id   57293 non-null  category\n",
      " 2   time          57293 non-null  float64 \n",
      " 3   offer_viewed  57293 non-null  uint8   \n",
      " 4   offer_id      57293 non-null  category\n",
      " 5   time_on       57293 non-null  float64 \n",
      " 6   D             57293 non-null  category\n",
      " 7   F             57293 non-null  category\n",
      " 8   M             57293 non-null  category\n",
      " 9   O             57293 non-null  category\n",
      " 10  reward        57293 non-null  float64 \n",
      " 11  min_spend     57293 non-null  float64 \n",
      " 12  duration      57293 non-null  float64 \n",
      " 13  mobile        57293 non-null  category\n",
      " 14  social        57293 non-null  category\n",
      " 15  web           57293 non-null  category\n",
      " 16  bogo          57293 non-null  category\n",
      " 17  age_class     57293 non-null  category\n",
      " 18  income_class  57293 non-null  category\n",
      " 19  2013          57293 non-null  category\n",
      " 20  2014          57293 non-null  category\n",
      " 21  2015          57293 non-null  category\n",
      " 22  2016          57293 non-null  category\n",
      " 23  2017          57293 non-null  category\n",
      " 24  2018          57293 non-null  category\n",
      "dtypes: category(19), float64(5), uint8(1)\n",
      "memory usage: 4.4 MB\n"
     ]
    }
   ],
   "source": [
    "# Some modification data type of category for autogluon tabular\n",
    "# Set category type for category columns\n",
    "X_bogo = pd.concat([Y1_train,X1_train], axis=1)\n",
    "cat_cols = ['success', 'mobile', 'social', 'web', 'customer_id', 'offer_id',\n",
    "       'bogo', 'D', 'F', 'M', 'O', 'age_class', 'income_class', 2013, 2014,\n",
    "       2015, 2016, 2017, 2018]\n",
    "X_bogo[cat_cols] = X_bogo[cat_cols].astype('category')\n",
    "X_bogo.info()"
   ]
  },
  {
   "cell_type": "code",
   "execution_count": 109,
   "metadata": {},
   "outputs": [
    {
     "name": "stdout",
     "output_type": "stream",
     "text": [
      "<class 'pandas.core.frame.DataFrame'>\n",
      "Int64Index: 55918 entries, 284761 to 267525\n",
      "Data columns (total 25 columns):\n",
      " #   Column        Non-Null Count  Dtype   \n",
      "---  ------        --------------  -----   \n",
      " 0   success       55918 non-null  category\n",
      " 1   customer_id   55918 non-null  category\n",
      " 2   time          55918 non-null  float64 \n",
      " 3   offer_viewed  55918 non-null  uint8   \n",
      " 4   offer_id      55918 non-null  category\n",
      " 5   time_on       55918 non-null  float64 \n",
      " 6   D             55918 non-null  category\n",
      " 7   F             55918 non-null  category\n",
      " 8   M             55918 non-null  category\n",
      " 9   O             55918 non-null  category\n",
      " 10  reward        55918 non-null  float64 \n",
      " 11  min_spend     55918 non-null  float64 \n",
      " 12  duration      55918 non-null  float64 \n",
      " 13  mobile        55918 non-null  category\n",
      " 14  social        55918 non-null  category\n",
      " 15  web           55918 non-null  category\n",
      " 16  discount      55918 non-null  category\n",
      " 17  age_class     55918 non-null  category\n",
      " 18  income_class  55918 non-null  category\n",
      " 19  2013          55918 non-null  category\n",
      " 20  2014          55918 non-null  category\n",
      " 21  2015          55918 non-null  category\n",
      " 22  2016          55918 non-null  category\n",
      " 23  2017          55918 non-null  category\n",
      " 24  2018          55918 non-null  category\n",
      "dtypes: category(19), float64(5), uint8(1)\n",
      "memory usage: 4.3 MB\n"
     ]
    }
   ],
   "source": [
    "X_disc=pd.concat([Y2_train,X2_train], axis=1)\n",
    "disc_cat_cols = ['success', 'mobile', 'social', 'web', 'customer_id', 'offer_id',\n",
    "       'discount', 'D', 'F', 'M', 'O', 'age_class', 'income_class', 2013, 2014,\n",
    "       2015, 2016, 2017, 2018]\n",
    "\n",
    "X_disc[disc_cat_cols] = X_disc[disc_cat_cols].astype('category')\n",
    "X_disc.info()"
   ]
  },
  {
   "cell_type": "code",
   "execution_count": 111,
   "metadata": {},
   "outputs": [
    {
     "name": "stderr",
     "output_type": "stream",
     "text": [
      "No path specified. Models will be saved in: \"AutogluonModels/ag-20220109_163444/\"\n",
      "AutoGluon will gauge predictive performance using evaluation metric: 'accuracy'\n",
      "/opt/conda/lib/python3.7/site-packages/lightgbm/engine.py:239: UserWarning: 'verbose_eval' argument is deprecated and will be removed in a future release of LightGBM. Pass 'log_evaluation()' callback via 'callbacks' argument instead.\n",
      "  _log_warning(\"'verbose_eval' argument is deprecated and will be removed in a future release of LightGBM. \"\n",
      "/opt/conda/lib/python3.7/site-packages/lightgbm/engine.py:239: UserWarning: 'verbose_eval' argument is deprecated and will be removed in a future release of LightGBM. Pass 'log_evaluation()' callback via 'callbacks' argument instead.\n",
      "  _log_warning(\"'verbose_eval' argument is deprecated and will be removed in a future release of LightGBM. \"\n",
      "/opt/conda/lib/python3.7/site-packages/lightgbm/engine.py:239: UserWarning: 'verbose_eval' argument is deprecated and will be removed in a future release of LightGBM. Pass 'log_evaluation()' callback via 'callbacks' argument instead.\n",
      "  _log_warning(\"'verbose_eval' argument is deprecated and will be removed in a future release of LightGBM. \"\n",
      "/opt/conda/lib/python3.7/site-packages/lightgbm/engine.py:239: UserWarning: 'verbose_eval' argument is deprecated and will be removed in a future release of LightGBM. Pass 'log_evaluation()' callback via 'callbacks' argument instead.\n",
      "  _log_warning(\"'verbose_eval' argument is deprecated and will be removed in a future release of LightGBM. \"\n",
      "/opt/conda/lib/python3.7/site-packages/lightgbm/engine.py:239: UserWarning: 'verbose_eval' argument is deprecated and will be removed in a future release of LightGBM. Pass 'log_evaluation()' callback via 'callbacks' argument instead.\n",
      "  _log_warning(\"'verbose_eval' argument is deprecated and will be removed in a future release of LightGBM. \"\n",
      "/opt/conda/lib/python3.7/site-packages/lightgbm/engine.py:239: UserWarning: 'verbose_eval' argument is deprecated and will be removed in a future release of LightGBM. Pass 'log_evaluation()' callback via 'callbacks' argument instead.\n",
      "  _log_warning(\"'verbose_eval' argument is deprecated and will be removed in a future release of LightGBM. \"\n",
      "/opt/conda/lib/python3.7/site-packages/lightgbm/engine.py:239: UserWarning: 'verbose_eval' argument is deprecated and will be removed in a future release of LightGBM. Pass 'log_evaluation()' callback via 'callbacks' argument instead.\n",
      "  _log_warning(\"'verbose_eval' argument is deprecated and will be removed in a future release of LightGBM. \"\n",
      "/opt/conda/lib/python3.7/site-packages/lightgbm/engine.py:239: UserWarning: 'verbose_eval' argument is deprecated and will be removed in a future release of LightGBM. Pass 'log_evaluation()' callback via 'callbacks' argument instead.\n",
      "  _log_warning(\"'verbose_eval' argument is deprecated and will be removed in a future release of LightGBM. \"\n",
      "/opt/conda/lib/python3.7/site-packages/lightgbm/engine.py:239: UserWarning: 'verbose_eval' argument is deprecated and will be removed in a future release of LightGBM. Pass 'log_evaluation()' callback via 'callbacks' argument instead.\n",
      "  _log_warning(\"'verbose_eval' argument is deprecated and will be removed in a future release of LightGBM. \"\n",
      "/opt/conda/lib/python3.7/site-packages/lightgbm/engine.py:239: UserWarning: 'verbose_eval' argument is deprecated and will be removed in a future release of LightGBM. Pass 'log_evaluation()' callback via 'callbacks' argument instead.\n",
      "  _log_warning(\"'verbose_eval' argument is deprecated and will be removed in a future release of LightGBM. \"\n",
      "/opt/conda/lib/python3.7/site-packages/lightgbm/engine.py:239: UserWarning: 'verbose_eval' argument is deprecated and will be removed in a future release of LightGBM. Pass 'log_evaluation()' callback via 'callbacks' argument instead.\n",
      "  _log_warning(\"'verbose_eval' argument is deprecated and will be removed in a future release of LightGBM. \"\n",
      "/opt/conda/lib/python3.7/site-packages/lightgbm/engine.py:239: UserWarning: 'verbose_eval' argument is deprecated and will be removed in a future release of LightGBM. Pass 'log_evaluation()' callback via 'callbacks' argument instead.\n",
      "  _log_warning(\"'verbose_eval' argument is deprecated and will be removed in a future release of LightGBM. \"\n",
      "/opt/conda/lib/python3.7/site-packages/lightgbm/engine.py:239: UserWarning: 'verbose_eval' argument is deprecated and will be removed in a future release of LightGBM. Pass 'log_evaluation()' callback via 'callbacks' argument instead.\n",
      "  _log_warning(\"'verbose_eval' argument is deprecated and will be removed in a future release of LightGBM. \"\n",
      "/opt/conda/lib/python3.7/site-packages/lightgbm/engine.py:239: UserWarning: 'verbose_eval' argument is deprecated and will be removed in a future release of LightGBM. Pass 'log_evaluation()' callback via 'callbacks' argument instead.\n",
      "  _log_warning(\"'verbose_eval' argument is deprecated and will be removed in a future release of LightGBM. \"\n",
      "/opt/conda/lib/python3.7/site-packages/lightgbm/engine.py:239: UserWarning: 'verbose_eval' argument is deprecated and will be removed in a future release of LightGBM. Pass 'log_evaluation()' callback via 'callbacks' argument instead.\n",
      "  _log_warning(\"'verbose_eval' argument is deprecated and will be removed in a future release of LightGBM. \"\n",
      "/opt/conda/lib/python3.7/site-packages/lightgbm/engine.py:239: UserWarning: 'verbose_eval' argument is deprecated and will be removed in a future release of LightGBM. Pass 'log_evaluation()' callback via 'callbacks' argument instead.\n",
      "  _log_warning(\"'verbose_eval' argument is deprecated and will be removed in a future release of LightGBM. \"\n",
      "/opt/conda/lib/python3.7/site-packages/lightgbm/engine.py:239: UserWarning: 'verbose_eval' argument is deprecated and will be removed in a future release of LightGBM. Pass 'log_evaluation()' callback via 'callbacks' argument instead.\n",
      "  _log_warning(\"'verbose_eval' argument is deprecated and will be removed in a future release of LightGBM. \"\n",
      "/opt/conda/lib/python3.7/site-packages/lightgbm/engine.py:239: UserWarning: 'verbose_eval' argument is deprecated and will be removed in a future release of LightGBM. Pass 'log_evaluation()' callback via 'callbacks' argument instead.\n",
      "  _log_warning(\"'verbose_eval' argument is deprecated and will be removed in a future release of LightGBM. \"\n",
      "/opt/conda/lib/python3.7/site-packages/lightgbm/engine.py:239: UserWarning: 'verbose_eval' argument is deprecated and will be removed in a future release of LightGBM. Pass 'log_evaluation()' callback via 'callbacks' argument instead.\n",
      "  _log_warning(\"'verbose_eval' argument is deprecated and will be removed in a future release of LightGBM. \"\n",
      "/opt/conda/lib/python3.7/site-packages/lightgbm/engine.py:239: UserWarning: 'verbose_eval' argument is deprecated and will be removed in a future release of LightGBM. Pass 'log_evaluation()' callback via 'callbacks' argument instead.\n",
      "  _log_warning(\"'verbose_eval' argument is deprecated and will be removed in a future release of LightGBM. \"\n",
      "\tWarning: Reducing model 'n_estimators' from 300 -> 278 due to low memory. Expected memory usage reduced from 16.14% -> 15.0% of available memory...\n",
      "\tWarning: Reducing model 'n_estimators' from 300 -> 265 due to low memory. Expected memory usage reduced from 16.92% -> 15.0% of available memory...\n",
      "\tWarning: Reducing model 'n_estimators' from 300 -> 136 due to low memory. Expected memory usage reduced from 32.97% -> 15.0% of available memory...\n",
      "\tWarning: Reducing model 'n_estimators' from 300 -> 126 due to low memory. Expected memory usage reduced from 35.69% -> 15.0% of available memory...\n",
      "/opt/conda/lib/python3.7/site-packages/lightgbm/engine.py:239: UserWarning: 'verbose_eval' argument is deprecated and will be removed in a future release of LightGBM. Pass 'log_evaluation()' callback via 'callbacks' argument instead.\n",
      "  _log_warning(\"'verbose_eval' argument is deprecated and will be removed in a future release of LightGBM. \"\n",
      "/opt/conda/lib/python3.7/site-packages/lightgbm/engine.py:239: UserWarning: 'verbose_eval' argument is deprecated and will be removed in a future release of LightGBM. Pass 'log_evaluation()' callback via 'callbacks' argument instead.\n",
      "  _log_warning(\"'verbose_eval' argument is deprecated and will be removed in a future release of LightGBM. \"\n",
      "/opt/conda/lib/python3.7/site-packages/lightgbm/engine.py:239: UserWarning: 'verbose_eval' argument is deprecated and will be removed in a future release of LightGBM. Pass 'log_evaluation()' callback via 'callbacks' argument instead.\n",
      "  _log_warning(\"'verbose_eval' argument is deprecated and will be removed in a future release of LightGBM. \"\n",
      "/opt/conda/lib/python3.7/site-packages/lightgbm/engine.py:239: UserWarning: 'verbose_eval' argument is deprecated and will be removed in a future release of LightGBM. Pass 'log_evaluation()' callback via 'callbacks' argument instead.\n",
      "  _log_warning(\"'verbose_eval' argument is deprecated and will be removed in a future release of LightGBM. \"\n",
      "/opt/conda/lib/python3.7/site-packages/lightgbm/engine.py:239: UserWarning: 'verbose_eval' argument is deprecated and will be removed in a future release of LightGBM. Pass 'log_evaluation()' callback via 'callbacks' argument instead.\n",
      "  _log_warning(\"'verbose_eval' argument is deprecated and will be removed in a future release of LightGBM. \"\n",
      "/opt/conda/lib/python3.7/site-packages/lightgbm/engine.py:239: UserWarning: 'verbose_eval' argument is deprecated and will be removed in a future release of LightGBM. Pass 'log_evaluation()' callback via 'callbacks' argument instead.\n",
      "  _log_warning(\"'verbose_eval' argument is deprecated and will be removed in a future release of LightGBM. \"\n",
      "/opt/conda/lib/python3.7/site-packages/lightgbm/engine.py:239: UserWarning: 'verbose_eval' argument is deprecated and will be removed in a future release of LightGBM. Pass 'log_evaluation()' callback via 'callbacks' argument instead.\n",
      "  _log_warning(\"'verbose_eval' argument is deprecated and will be removed in a future release of LightGBM. \"\n",
      "/opt/conda/lib/python3.7/site-packages/lightgbm/engine.py:239: UserWarning: 'verbose_eval' argument is deprecated and will be removed in a future release of LightGBM. Pass 'log_evaluation()' callback via 'callbacks' argument instead.\n",
      "  _log_warning(\"'verbose_eval' argument is deprecated and will be removed in a future release of LightGBM. \"\n",
      "/opt/conda/lib/python3.7/site-packages/lightgbm/engine.py:239: UserWarning: 'verbose_eval' argument is deprecated and will be removed in a future release of LightGBM. Pass 'log_evaluation()' callback via 'callbacks' argument instead.\n",
      "  _log_warning(\"'verbose_eval' argument is deprecated and will be removed in a future release of LightGBM. \"\n",
      "/opt/conda/lib/python3.7/site-packages/lightgbm/engine.py:239: UserWarning: 'verbose_eval' argument is deprecated and will be removed in a future release of LightGBM. Pass 'log_evaluation()' callback via 'callbacks' argument instead.\n",
      "  _log_warning(\"'verbose_eval' argument is deprecated and will be removed in a future release of LightGBM. \"\n",
      "/opt/conda/lib/python3.7/site-packages/lightgbm/engine.py:239: UserWarning: 'verbose_eval' argument is deprecated and will be removed in a future release of LightGBM. Pass 'log_evaluation()' callback via 'callbacks' argument instead.\n",
      "  _log_warning(\"'verbose_eval' argument is deprecated and will be removed in a future release of LightGBM. \"\n",
      "/opt/conda/lib/python3.7/site-packages/lightgbm/engine.py:239: UserWarning: 'verbose_eval' argument is deprecated and will be removed in a future release of LightGBM. Pass 'log_evaluation()' callback via 'callbacks' argument instead.\n",
      "  _log_warning(\"'verbose_eval' argument is deprecated and will be removed in a future release of LightGBM. \"\n",
      "/opt/conda/lib/python3.7/site-packages/lightgbm/engine.py:239: UserWarning: 'verbose_eval' argument is deprecated and will be removed in a future release of LightGBM. Pass 'log_evaluation()' callback via 'callbacks' argument instead.\n",
      "  _log_warning(\"'verbose_eval' argument is deprecated and will be removed in a future release of LightGBM. \"\n",
      "/opt/conda/lib/python3.7/site-packages/lightgbm/engine.py:239: UserWarning: 'verbose_eval' argument is deprecated and will be removed in a future release of LightGBM. Pass 'log_evaluation()' callback via 'callbacks' argument instead.\n",
      "  _log_warning(\"'verbose_eval' argument is deprecated and will be removed in a future release of LightGBM. \"\n",
      "/opt/conda/lib/python3.7/site-packages/lightgbm/engine.py:239: UserWarning: 'verbose_eval' argument is deprecated and will be removed in a future release of LightGBM. Pass 'log_evaluation()' callback via 'callbacks' argument instead.\n",
      "  _log_warning(\"'verbose_eval' argument is deprecated and will be removed in a future release of LightGBM. \"\n",
      "/opt/conda/lib/python3.7/site-packages/lightgbm/engine.py:239: UserWarning: 'verbose_eval' argument is deprecated and will be removed in a future release of LightGBM. Pass 'log_evaluation()' callback via 'callbacks' argument instead.\n",
      "  _log_warning(\"'verbose_eval' argument is deprecated and will be removed in a future release of LightGBM. \"\n",
      "/opt/conda/lib/python3.7/site-packages/lightgbm/engine.py:239: UserWarning: 'verbose_eval' argument is deprecated and will be removed in a future release of LightGBM. Pass 'log_evaluation()' callback via 'callbacks' argument instead.\n",
      "  _log_warning(\"'verbose_eval' argument is deprecated and will be removed in a future release of LightGBM. \"\n",
      "/opt/conda/lib/python3.7/site-packages/lightgbm/engine.py:239: UserWarning: 'verbose_eval' argument is deprecated and will be removed in a future release of LightGBM. Pass 'log_evaluation()' callback via 'callbacks' argument instead.\n",
      "  _log_warning(\"'verbose_eval' argument is deprecated and will be removed in a future release of LightGBM. \"\n",
      "/opt/conda/lib/python3.7/site-packages/lightgbm/engine.py:239: UserWarning: 'verbose_eval' argument is deprecated and will be removed in a future release of LightGBM. Pass 'log_evaluation()' callback via 'callbacks' argument instead.\n",
      "  _log_warning(\"'verbose_eval' argument is deprecated and will be removed in a future release of LightGBM. \"\n",
      "/opt/conda/lib/python3.7/site-packages/lightgbm/engine.py:239: UserWarning: 'verbose_eval' argument is deprecated and will be removed in a future release of LightGBM. Pass 'log_evaluation()' callback via 'callbacks' argument instead.\n",
      "  _log_warning(\"'verbose_eval' argument is deprecated and will be removed in a future release of LightGBM. \"\n",
      "\tNot enough time to generate out-of-fold predictions for model. Estimated time required was 12.0s compared to 11.19s of available time.\n",
      "/opt/conda/lib/python3.7/site-packages/lightgbm/engine.py:239: UserWarning: 'verbose_eval' argument is deprecated and will be removed in a future release of LightGBM. Pass 'log_evaluation()' callback via 'callbacks' argument instead.\n",
      "  _log_warning(\"'verbose_eval' argument is deprecated and will be removed in a future release of LightGBM. \"\n"
     ]
    }
   ],
   "source": [
    "from autogluon.tabular import TabularPredictor\n",
    "bogo_predictor = TabularPredictor(\n",
    "    label='success',  \n",
    "    problem_type='binary',\n",
    "    verbosity = 1,\n",
    "    ).fit(X_bogo, presets='best_quality', time_limit=600)"
   ]
  },
  {
   "cell_type": "code",
   "execution_count": 112,
   "metadata": {},
   "outputs": [],
   "source": [
    "bogo_leaderboard = bogo_predictor.leaderboard(X_bogo, silent=True)"
   ]
  },
  {
   "cell_type": "code",
   "execution_count": 113,
   "metadata": {},
   "outputs": [
    {
     "data": {
      "text/plain": [
       "14    0.983331\n",
       "15    0.983331\n",
       "13    0.983000\n",
       "12    0.982092\n",
       "10    0.982057\n",
       "11    0.982057\n",
       "8     0.981254\n",
       "5     0.978636\n",
       "6     0.978636\n",
       "7     0.978409\n",
       "4     0.969263\n",
       "3     0.817360\n",
       "2     0.809855\n",
       "16    0.781160\n",
       "17    0.780497\n",
       "1     0.778420\n",
       "0     0.774493\n",
       "9     0.762065\n",
       "Name: score_val, dtype: float64"
      ]
     },
     "execution_count": 113,
     "metadata": {},
     "output_type": "execute_result"
    }
   ],
   "source": [
    "bogo_leaderboard['score_val'].sort_values(ascending=False)"
   ]
  },
  {
   "cell_type": "code",
   "execution_count": 114,
   "metadata": {},
   "outputs": [
    {
     "data": {
      "text/plain": [
       "{'accuracy': 0.9827562133482267,\n",
       " 'balanced_accuracy': 0.9633549056421769,\n",
       " 'mcc': 0.9485508525172518,\n",
       " 'roc_auc': 0.9942709492493984,\n",
       " 'f1': 0.9586749205286933,\n",
       " 'precision': 0.9899792674498963,\n",
       " 'recall': 0.9292896529354525}"
      ]
     },
     "execution_count": 114,
     "metadata": {},
     "output_type": "execute_result"
    }
   ],
   "source": [
    "bogo_predictor.evaluate(pd.concat([Y1_test,X1_test], axis=1))"
   ]
  },
  {
   "cell_type": "code",
   "execution_count": 115,
   "metadata": {},
   "outputs": [
    {
     "name": "stderr",
     "output_type": "stream",
     "text": [
      "No path specified. Models will be saved in: \"AutogluonModels/ag-20220109_164802/\"\n",
      "AutoGluon will gauge predictive performance using evaluation metric: 'accuracy'\n",
      "/opt/conda/lib/python3.7/site-packages/lightgbm/engine.py:239: UserWarning: 'verbose_eval' argument is deprecated and will be removed in a future release of LightGBM. Pass 'log_evaluation()' callback via 'callbacks' argument instead.\n",
      "  _log_warning(\"'verbose_eval' argument is deprecated and will be removed in a future release of LightGBM. \"\n",
      "/opt/conda/lib/python3.7/site-packages/lightgbm/engine.py:239: UserWarning: 'verbose_eval' argument is deprecated and will be removed in a future release of LightGBM. Pass 'log_evaluation()' callback via 'callbacks' argument instead.\n",
      "  _log_warning(\"'verbose_eval' argument is deprecated and will be removed in a future release of LightGBM. \"\n",
      "/opt/conda/lib/python3.7/site-packages/lightgbm/engine.py:239: UserWarning: 'verbose_eval' argument is deprecated and will be removed in a future release of LightGBM. Pass 'log_evaluation()' callback via 'callbacks' argument instead.\n",
      "  _log_warning(\"'verbose_eval' argument is deprecated and will be removed in a future release of LightGBM. \"\n",
      "/opt/conda/lib/python3.7/site-packages/lightgbm/engine.py:239: UserWarning: 'verbose_eval' argument is deprecated and will be removed in a future release of LightGBM. Pass 'log_evaluation()' callback via 'callbacks' argument instead.\n",
      "  _log_warning(\"'verbose_eval' argument is deprecated and will be removed in a future release of LightGBM. \"\n",
      "/opt/conda/lib/python3.7/site-packages/lightgbm/engine.py:239: UserWarning: 'verbose_eval' argument is deprecated and will be removed in a future release of LightGBM. Pass 'log_evaluation()' callback via 'callbacks' argument instead.\n",
      "  _log_warning(\"'verbose_eval' argument is deprecated and will be removed in a future release of LightGBM. \"\n",
      "/opt/conda/lib/python3.7/site-packages/lightgbm/engine.py:239: UserWarning: 'verbose_eval' argument is deprecated and will be removed in a future release of LightGBM. Pass 'log_evaluation()' callback via 'callbacks' argument instead.\n",
      "  _log_warning(\"'verbose_eval' argument is deprecated and will be removed in a future release of LightGBM. \"\n",
      "/opt/conda/lib/python3.7/site-packages/lightgbm/engine.py:239: UserWarning: 'verbose_eval' argument is deprecated and will be removed in a future release of LightGBM. Pass 'log_evaluation()' callback via 'callbacks' argument instead.\n",
      "  _log_warning(\"'verbose_eval' argument is deprecated and will be removed in a future release of LightGBM. \"\n",
      "/opt/conda/lib/python3.7/site-packages/lightgbm/engine.py:239: UserWarning: 'verbose_eval' argument is deprecated and will be removed in a future release of LightGBM. Pass 'log_evaluation()' callback via 'callbacks' argument instead.\n",
      "  _log_warning(\"'verbose_eval' argument is deprecated and will be removed in a future release of LightGBM. \"\n",
      "/opt/conda/lib/python3.7/site-packages/lightgbm/engine.py:239: UserWarning: 'verbose_eval' argument is deprecated and will be removed in a future release of LightGBM. Pass 'log_evaluation()' callback via 'callbacks' argument instead.\n",
      "  _log_warning(\"'verbose_eval' argument is deprecated and will be removed in a future release of LightGBM. \"\n",
      "/opt/conda/lib/python3.7/site-packages/lightgbm/engine.py:239: UserWarning: 'verbose_eval' argument is deprecated and will be removed in a future release of LightGBM. Pass 'log_evaluation()' callback via 'callbacks' argument instead.\n",
      "  _log_warning(\"'verbose_eval' argument is deprecated and will be removed in a future release of LightGBM. \"\n",
      "/opt/conda/lib/python3.7/site-packages/lightgbm/engine.py:239: UserWarning: 'verbose_eval' argument is deprecated and will be removed in a future release of LightGBM. Pass 'log_evaluation()' callback via 'callbacks' argument instead.\n",
      "  _log_warning(\"'verbose_eval' argument is deprecated and will be removed in a future release of LightGBM. \"\n",
      "/opt/conda/lib/python3.7/site-packages/lightgbm/engine.py:239: UserWarning: 'verbose_eval' argument is deprecated and will be removed in a future release of LightGBM. Pass 'log_evaluation()' callback via 'callbacks' argument instead.\n",
      "  _log_warning(\"'verbose_eval' argument is deprecated and will be removed in a future release of LightGBM. \"\n",
      "/opt/conda/lib/python3.7/site-packages/lightgbm/engine.py:239: UserWarning: 'verbose_eval' argument is deprecated and will be removed in a future release of LightGBM. Pass 'log_evaluation()' callback via 'callbacks' argument instead.\n",
      "  _log_warning(\"'verbose_eval' argument is deprecated and will be removed in a future release of LightGBM. \"\n",
      "/opt/conda/lib/python3.7/site-packages/lightgbm/engine.py:239: UserWarning: 'verbose_eval' argument is deprecated and will be removed in a future release of LightGBM. Pass 'log_evaluation()' callback via 'callbacks' argument instead.\n",
      "  _log_warning(\"'verbose_eval' argument is deprecated and will be removed in a future release of LightGBM. \"\n",
      "/opt/conda/lib/python3.7/site-packages/lightgbm/engine.py:239: UserWarning: 'verbose_eval' argument is deprecated and will be removed in a future release of LightGBM. Pass 'log_evaluation()' callback via 'callbacks' argument instead.\n",
      "  _log_warning(\"'verbose_eval' argument is deprecated and will be removed in a future release of LightGBM. \"\n",
      "/opt/conda/lib/python3.7/site-packages/lightgbm/engine.py:239: UserWarning: 'verbose_eval' argument is deprecated and will be removed in a future release of LightGBM. Pass 'log_evaluation()' callback via 'callbacks' argument instead.\n",
      "  _log_warning(\"'verbose_eval' argument is deprecated and will be removed in a future release of LightGBM. \"\n",
      "/opt/conda/lib/python3.7/site-packages/lightgbm/engine.py:239: UserWarning: 'verbose_eval' argument is deprecated and will be removed in a future release of LightGBM. Pass 'log_evaluation()' callback via 'callbacks' argument instead.\n",
      "  _log_warning(\"'verbose_eval' argument is deprecated and will be removed in a future release of LightGBM. \"\n",
      "/opt/conda/lib/python3.7/site-packages/lightgbm/engine.py:239: UserWarning: 'verbose_eval' argument is deprecated and will be removed in a future release of LightGBM. Pass 'log_evaluation()' callback via 'callbacks' argument instead.\n",
      "  _log_warning(\"'verbose_eval' argument is deprecated and will be removed in a future release of LightGBM. \"\n",
      "/opt/conda/lib/python3.7/site-packages/lightgbm/engine.py:239: UserWarning: 'verbose_eval' argument is deprecated and will be removed in a future release of LightGBM. Pass 'log_evaluation()' callback via 'callbacks' argument instead.\n",
      "  _log_warning(\"'verbose_eval' argument is deprecated and will be removed in a future release of LightGBM. \"\n",
      "/opt/conda/lib/python3.7/site-packages/lightgbm/engine.py:239: UserWarning: 'verbose_eval' argument is deprecated and will be removed in a future release of LightGBM. Pass 'log_evaluation()' callback via 'callbacks' argument instead.\n",
      "  _log_warning(\"'verbose_eval' argument is deprecated and will be removed in a future release of LightGBM. \"\n",
      "\tWarning: Reducing model 'n_estimators' from 300 -> 158 due to low memory. Expected memory usage reduced from 28.32% -> 15.0% of available memory...\n",
      "\tWarning: Reducing model 'n_estimators' from 300 -> 163 due to low memory. Expected memory usage reduced from 27.59% -> 15.0% of available memory...\n",
      "\tWarning: Reducing model 'n_estimators' from 300 -> 92 due to low memory. Expected memory usage reduced from 48.64% -> 15.0% of available memory...\n",
      "\tWarning: Reducing model 'n_estimators' from 300 -> 94 due to low memory. Expected memory usage reduced from 47.7% -> 15.0% of available memory...\n",
      "/opt/conda/lib/python3.7/site-packages/lightgbm/engine.py:239: UserWarning: 'verbose_eval' argument is deprecated and will be removed in a future release of LightGBM. Pass 'log_evaluation()' callback via 'callbacks' argument instead.\n",
      "  _log_warning(\"'verbose_eval' argument is deprecated and will be removed in a future release of LightGBM. \"\n",
      "/opt/conda/lib/python3.7/site-packages/lightgbm/engine.py:239: UserWarning: 'verbose_eval' argument is deprecated and will be removed in a future release of LightGBM. Pass 'log_evaluation()' callback via 'callbacks' argument instead.\n",
      "  _log_warning(\"'verbose_eval' argument is deprecated and will be removed in a future release of LightGBM. \"\n",
      "/opt/conda/lib/python3.7/site-packages/lightgbm/engine.py:239: UserWarning: 'verbose_eval' argument is deprecated and will be removed in a future release of LightGBM. Pass 'log_evaluation()' callback via 'callbacks' argument instead.\n",
      "  _log_warning(\"'verbose_eval' argument is deprecated and will be removed in a future release of LightGBM. \"\n",
      "/opt/conda/lib/python3.7/site-packages/lightgbm/engine.py:239: UserWarning: 'verbose_eval' argument is deprecated and will be removed in a future release of LightGBM. Pass 'log_evaluation()' callback via 'callbacks' argument instead.\n",
      "  _log_warning(\"'verbose_eval' argument is deprecated and will be removed in a future release of LightGBM. \"\n",
      "/opt/conda/lib/python3.7/site-packages/lightgbm/engine.py:239: UserWarning: 'verbose_eval' argument is deprecated and will be removed in a future release of LightGBM. Pass 'log_evaluation()' callback via 'callbacks' argument instead.\n",
      "  _log_warning(\"'verbose_eval' argument is deprecated and will be removed in a future release of LightGBM. \"\n",
      "/opt/conda/lib/python3.7/site-packages/lightgbm/engine.py:239: UserWarning: 'verbose_eval' argument is deprecated and will be removed in a future release of LightGBM. Pass 'log_evaluation()' callback via 'callbacks' argument instead.\n",
      "  _log_warning(\"'verbose_eval' argument is deprecated and will be removed in a future release of LightGBM. \"\n",
      "/opt/conda/lib/python3.7/site-packages/lightgbm/engine.py:239: UserWarning: 'verbose_eval' argument is deprecated and will be removed in a future release of LightGBM. Pass 'log_evaluation()' callback via 'callbacks' argument instead.\n",
      "  _log_warning(\"'verbose_eval' argument is deprecated and will be removed in a future release of LightGBM. \"\n",
      "/opt/conda/lib/python3.7/site-packages/lightgbm/engine.py:239: UserWarning: 'verbose_eval' argument is deprecated and will be removed in a future release of LightGBM. Pass 'log_evaluation()' callback via 'callbacks' argument instead.\n",
      "  _log_warning(\"'verbose_eval' argument is deprecated and will be removed in a future release of LightGBM. \"\n",
      "/opt/conda/lib/python3.7/site-packages/lightgbm/engine.py:239: UserWarning: 'verbose_eval' argument is deprecated and will be removed in a future release of LightGBM. Pass 'log_evaluation()' callback via 'callbacks' argument instead.\n",
      "  _log_warning(\"'verbose_eval' argument is deprecated and will be removed in a future release of LightGBM. \"\n",
      "/opt/conda/lib/python3.7/site-packages/lightgbm/engine.py:239: UserWarning: 'verbose_eval' argument is deprecated and will be removed in a future release of LightGBM. Pass 'log_evaluation()' callback via 'callbacks' argument instead.\n",
      "  _log_warning(\"'verbose_eval' argument is deprecated and will be removed in a future release of LightGBM. \"\n",
      "/opt/conda/lib/python3.7/site-packages/lightgbm/engine.py:239: UserWarning: 'verbose_eval' argument is deprecated and will be removed in a future release of LightGBM. Pass 'log_evaluation()' callback via 'callbacks' argument instead.\n",
      "  _log_warning(\"'verbose_eval' argument is deprecated and will be removed in a future release of LightGBM. \"\n",
      "/opt/conda/lib/python3.7/site-packages/lightgbm/engine.py:239: UserWarning: 'verbose_eval' argument is deprecated and will be removed in a future release of LightGBM. Pass 'log_evaluation()' callback via 'callbacks' argument instead.\n",
      "  _log_warning(\"'verbose_eval' argument is deprecated and will be removed in a future release of LightGBM. \"\n",
      "/opt/conda/lib/python3.7/site-packages/lightgbm/engine.py:239: UserWarning: 'verbose_eval' argument is deprecated and will be removed in a future release of LightGBM. Pass 'log_evaluation()' callback via 'callbacks' argument instead.\n",
      "  _log_warning(\"'verbose_eval' argument is deprecated and will be removed in a future release of LightGBM. \"\n",
      "/opt/conda/lib/python3.7/site-packages/lightgbm/engine.py:239: UserWarning: 'verbose_eval' argument is deprecated and will be removed in a future release of LightGBM. Pass 'log_evaluation()' callback via 'callbacks' argument instead.\n",
      "  _log_warning(\"'verbose_eval' argument is deprecated and will be removed in a future release of LightGBM. \"\n",
      "/opt/conda/lib/python3.7/site-packages/lightgbm/engine.py:239: UserWarning: 'verbose_eval' argument is deprecated and will be removed in a future release of LightGBM. Pass 'log_evaluation()' callback via 'callbacks' argument instead.\n",
      "  _log_warning(\"'verbose_eval' argument is deprecated and will be removed in a future release of LightGBM. \"\n",
      "/opt/conda/lib/python3.7/site-packages/lightgbm/engine.py:239: UserWarning: 'verbose_eval' argument is deprecated and will be removed in a future release of LightGBM. Pass 'log_evaluation()' callback via 'callbacks' argument instead.\n",
      "  _log_warning(\"'verbose_eval' argument is deprecated and will be removed in a future release of LightGBM. \"\n",
      "/opt/conda/lib/python3.7/site-packages/lightgbm/engine.py:239: UserWarning: 'verbose_eval' argument is deprecated and will be removed in a future release of LightGBM. Pass 'log_evaluation()' callback via 'callbacks' argument instead.\n",
      "  _log_warning(\"'verbose_eval' argument is deprecated and will be removed in a future release of LightGBM. \"\n",
      "/opt/conda/lib/python3.7/site-packages/lightgbm/engine.py:239: UserWarning: 'verbose_eval' argument is deprecated and will be removed in a future release of LightGBM. Pass 'log_evaluation()' callback via 'callbacks' argument instead.\n",
      "  _log_warning(\"'verbose_eval' argument is deprecated and will be removed in a future release of LightGBM. \"\n",
      "/opt/conda/lib/python3.7/site-packages/lightgbm/engine.py:239: UserWarning: 'verbose_eval' argument is deprecated and will be removed in a future release of LightGBM. Pass 'log_evaluation()' callback via 'callbacks' argument instead.\n",
      "  _log_warning(\"'verbose_eval' argument is deprecated and will be removed in a future release of LightGBM. \"\n",
      "/opt/conda/lib/python3.7/site-packages/lightgbm/engine.py:239: UserWarning: 'verbose_eval' argument is deprecated and will be removed in a future release of LightGBM. Pass 'log_evaluation()' callback via 'callbacks' argument instead.\n",
      "  _log_warning(\"'verbose_eval' argument is deprecated and will be removed in a future release of LightGBM. \"\n",
      "/opt/conda/lib/python3.7/site-packages/lightgbm/engine.py:239: UserWarning: 'verbose_eval' argument is deprecated and will be removed in a future release of LightGBM. Pass 'log_evaluation()' callback via 'callbacks' argument instead.\n",
      "  _log_warning(\"'verbose_eval' argument is deprecated and will be removed in a future release of LightGBM. \"\n",
      "/opt/conda/lib/python3.7/site-packages/lightgbm/engine.py:239: UserWarning: 'verbose_eval' argument is deprecated and will be removed in a future release of LightGBM. Pass 'log_evaluation()' callback via 'callbacks' argument instead.\n",
      "  _log_warning(\"'verbose_eval' argument is deprecated and will be removed in a future release of LightGBM. \"\n",
      "/opt/conda/lib/python3.7/site-packages/lightgbm/engine.py:239: UserWarning: 'verbose_eval' argument is deprecated and will be removed in a future release of LightGBM. Pass 'log_evaluation()' callback via 'callbacks' argument instead.\n",
      "  _log_warning(\"'verbose_eval' argument is deprecated and will be removed in a future release of LightGBM. \"\n",
      "/opt/conda/lib/python3.7/site-packages/lightgbm/engine.py:239: UserWarning: 'verbose_eval' argument is deprecated and will be removed in a future release of LightGBM. Pass 'log_evaluation()' callback via 'callbacks' argument instead.\n",
      "  _log_warning(\"'verbose_eval' argument is deprecated and will be removed in a future release of LightGBM. \"\n",
      "/opt/conda/lib/python3.7/site-packages/lightgbm/engine.py:239: UserWarning: 'verbose_eval' argument is deprecated and will be removed in a future release of LightGBM. Pass 'log_evaluation()' callback via 'callbacks' argument instead.\n",
      "  _log_warning(\"'verbose_eval' argument is deprecated and will be removed in a future release of LightGBM. \"\n",
      "/opt/conda/lib/python3.7/site-packages/lightgbm/engine.py:239: UserWarning: 'verbose_eval' argument is deprecated and will be removed in a future release of LightGBM. Pass 'log_evaluation()' callback via 'callbacks' argument instead.\n",
      "  _log_warning(\"'verbose_eval' argument is deprecated and will be removed in a future release of LightGBM. \"\n",
      "/opt/conda/lib/python3.7/site-packages/lightgbm/engine.py:239: UserWarning: 'verbose_eval' argument is deprecated and will be removed in a future release of LightGBM. Pass 'log_evaluation()' callback via 'callbacks' argument instead.\n",
      "  _log_warning(\"'verbose_eval' argument is deprecated and will be removed in a future release of LightGBM. \"\n",
      "/opt/conda/lib/python3.7/site-packages/lightgbm/engine.py:239: UserWarning: 'verbose_eval' argument is deprecated and will be removed in a future release of LightGBM. Pass 'log_evaluation()' callback via 'callbacks' argument instead.\n",
      "  _log_warning(\"'verbose_eval' argument is deprecated and will be removed in a future release of LightGBM. \"\n",
      "/opt/conda/lib/python3.7/site-packages/lightgbm/engine.py:239: UserWarning: 'verbose_eval' argument is deprecated and will be removed in a future release of LightGBM. Pass 'log_evaluation()' callback via 'callbacks' argument instead.\n",
      "  _log_warning(\"'verbose_eval' argument is deprecated and will be removed in a future release of LightGBM. \"\n",
      "/opt/conda/lib/python3.7/site-packages/lightgbm/engine.py:239: UserWarning: 'verbose_eval' argument is deprecated and will be removed in a future release of LightGBM. Pass 'log_evaluation()' callback via 'callbacks' argument instead.\n",
      "  _log_warning(\"'verbose_eval' argument is deprecated and will be removed in a future release of LightGBM. \"\n",
      "/opt/conda/lib/python3.7/site-packages/lightgbm/engine.py:239: UserWarning: 'verbose_eval' argument is deprecated and will be removed in a future release of LightGBM. Pass 'log_evaluation()' callback via 'callbacks' argument instead.\n",
      "  _log_warning(\"'verbose_eval' argument is deprecated and will be removed in a future release of LightGBM. \"\n"
     ]
    }
   ],
   "source": [
    "disc_predictor = TabularPredictor(\n",
    "    label='success',  \n",
    "    problem_type='binary',\n",
    "    verbosity = 1\n",
    "    ).fit(X_disc,\n",
    "          presets='best_quality', \n",
    "          time_limit=600)"
   ]
  },
  {
   "cell_type": "code",
   "execution_count": 116,
   "metadata": {},
   "outputs": [],
   "source": [
    "disc_leaderboard = disc_predictor.leaderboard(X_disc, silent=True)"
   ]
  },
  {
   "cell_type": "code",
   "execution_count": 117,
   "metadata": {},
   "outputs": [
    {
     "data": {
      "text/plain": [
       "{'accuracy': 0.9828326180257511,\n",
       " 'balanced_accuracy': 0.9673226683523406,\n",
       " 'mcc': 0.9548884574734777,\n",
       " 'roc_auc': 0.9939625410074887,\n",
       " 'f1': 0.9654278305963699,\n",
       " 'precision': 0.9973214285714286,\n",
       " 'recall': 0.9355108877721943}"
      ]
     },
     "execution_count": 117,
     "metadata": {},
     "output_type": "execute_result"
    }
   ],
   "source": [
    "disc_predictor.evaluate(pd.concat([Y2_test, X2_test], axis=1))"
   ]
  },
  {
   "cell_type": "code",
   "execution_count": 118,
   "metadata": {},
   "outputs": [],
   "source": [
    "disc_leaderboard = disc_predictor.leaderboard(X_disc, silent=True)"
   ]
  },
  {
   "cell_type": "code",
   "execution_count": 119,
   "metadata": {},
   "outputs": [
    {
     "data": {
      "text/plain": [
       "19    0.983923\n",
       "18    0.983923\n",
       "15    0.983673\n",
       "17    0.983422\n",
       "16    0.983225\n",
       "14    0.983100\n",
       "12    0.982564\n",
       "11    0.982403\n",
       "13    0.982260\n",
       "4     0.980132\n",
       "5     0.980132\n",
       "6     0.980132\n",
       "7     0.980132\n",
       "9     0.979971\n",
       "8     0.970224\n",
       "0     0.800547\n",
       "1     0.794610\n",
       "20    0.784184\n",
       "3     0.773400\n",
       "2     0.770986\n",
       "10    0.759273\n",
       "Name: score_val, dtype: float64"
      ]
     },
     "execution_count": 119,
     "metadata": {},
     "output_type": "execute_result"
    }
   ],
   "source": [
    "disc_leaderboard['score_val'].sort_values(ascending=False)"
   ]
  },
  {
   "cell_type": "markdown",
   "metadata": {},
   "source": [
    "# Prepare for Autogluon on Aws Sagemaker "
   ]
  },
  {
   "cell_type": "code",
   "execution_count": 1,
   "metadata": {},
   "outputs": [],
   "source": [
    "%%capture\n",
    "\n",
    "!pip install -U pip\n",
    "!pip install -U setuptools wheel\n",
    "!pip install -U \"mxnet<2.0.0\" bokeh==2.0.1\n",
    "!pip install autogluon --no-cache-dir\n",
    "!pip install --upgrade delayed\n",
    "!pip install -U sagemaker"
   ]
  },
  {
   "cell_type": "code",
   "execution_count": 4,
   "metadata": {},
   "outputs": [],
   "source": [
    "import os\n",
    "import sys\n",
    "import boto3\n",
    "import sagemaker\n",
    "from time import sleep\n",
    "from collections import Counter\n",
    "import numpy as np\n",
    "import pandas as pd\n",
    "from sagemaker import get_execution_role, local, Model, utils, s3\n",
    "from sagemaker.estimator import Estimator\n",
    "from sagemaker.predictor import Predictor\n",
    "from sagemaker.serializers import CSVSerializer\n",
    "from sagemaker.deserializers import StringDeserializer\n",
    "from sklearn.metrics import accuracy_score, classification_report\n",
    "from IPython.core.display import display, HTML\n",
    "from IPython.core.interactiveshell import InteractiveShell\n",
    "\n",
    "# Print settings\n",
    "InteractiveShell.ast_node_interactivity = \"all\"\n",
    "pd.set_option(\"display.max_columns\", 500)\n",
    "pd.set_option(\"display.max_rows\", 10)\n",
    "\n",
    "# Account/s3 setup\n",
    "session = sagemaker.Session()\n",
    "local_session = local.LocalSession()\n",
    "bucket = session.default_bucket()\n",
    "prefix = \"ag-tabular\"\n",
    "region = session.boto_region_name\n",
    "role = get_execution_role()\n",
    "client = session.boto_session.client(\n",
    "    \"sts\", region_name=region, endpoint_url=utils.sts_regional_endpoint(region)\n",
    ")\n",
    "account = client.get_caller_identity()[\"Account\"]\n"
   ]
  },
  {
   "cell_type": "code",
   "execution_count": 5,
   "metadata": {},
   "outputs": [
    {
     "name": "stdout",
     "output_type": "stream",
     "text": [
      "sagemaker-us-east-1-503563512855 \n",
      " us-east-1 \n",
      " ag-tabular \n",
      " arn:aws:iam::503563512855:role/service-role/AmazonSageMaker-ExecutionRole-20211224T145919 \n",
      " <botocore.client.STS object at 0x7fe2823df890> \n",
      " 503563512855\n"
     ]
    }
   ],
   "source": [
    "print(bucket,'\\n', region,'\\n', prefix,'\\n', role,'\\n', client,'\\n', account)"
   ]
  },
  {
   "cell_type": "markdown",
   "metadata": {},
   "source": [
    "### Prepare for bogo training model with autogluon tabular on sagemaker"
   ]
  },
  {
   "cell_type": "code",
   "execution_count": 6,
   "metadata": {},
   "outputs": [
    {
     "data": {
      "application/javascript": [
       "\n",
       "        if (window._pyforest_update_imports_cell) { window._pyforest_update_imports_cell('import pandas as pd'); }\n",
       "    "
      ],
      "text/plain": [
       "<IPython.core.display.Javascript object>"
      ]
     },
     "metadata": {},
     "output_type": "display_data"
    }
   ],
   "source": [
    "DIR = 'data/'\n",
    "bogo = pd.read_csv(DIR + 'bogo.csv')\n",
    "\n",
    "bg_train = bogo.sample(frac = 0.8, random_state = 18)\n",
    "bg_test = bogo.drop(bg_train.index)\n",
    "\n",
    "bg_train_file = 'bg_train.csv'\n",
    "bg_test_file = 'bg_test.csv'\n",
    "\n",
    "bg_train.to_csv(bg_train_file, index=False)\n",
    "bg_test.to_csv(bg_test_file, index=False)"
   ]
  },
  {
   "cell_type": "code",
   "execution_count": 7,
   "metadata": {},
   "outputs": [],
   "source": [
    "import sagemaker\n",
    "\n",
    "# from autogluon.tabularcontainers import ag_model\n",
    "# Helper wrappers referred earlier\n",
    "from ag_model import (\n",
    "    AutoGluonTraining,\n",
    "    AutoGluonInferenceModel,\n",
    "    AutoGluonTabularPredictor,\n",
    ")\n",
    "from sagemaker import utils\n",
    "\n",
    "role = sagemaker.get_execution_role()\n",
    "sagemaker_session = sagemaker.session.Session()\n",
    "region = sagemaker_session._region_name\n",
    "\n",
    "bucket = sagemaker_session.default_bucket()\n",
    "s3_prefix = f\"autogluon_sm/{utils.sagemaker_timestamp()}\"\n",
    "output_path = f\"s3://{bucket}/{s3_prefix}/output/\""
   ]
  },
  {
   "cell_type": "code",
   "execution_count": 8,
   "metadata": {},
   "outputs": [],
   "source": [
    "ag = AutoGluonTraining(\n",
    "    role=role,\n",
    "    entry_point=\"tabular_train.py\",\n",
    "    region=region,\n",
    "    instance_count=1,\n",
    "    instance_type=\"ml.m5.2xlarge\",\n",
    "    framework_version=\"0.3.1\",\n",
    "    base_job_name=\"autogluon-tabular-train\",\n",
    ")"
   ]
  },
  {
   "cell_type": "code",
   "execution_count": 12,
   "metadata": {},
   "outputs": [],
   "source": [
    "# s3_prefix = f\"autogluon_sm/{utils.sagemaker_timestamp()}\"\n",
    "train_input = ag.sagemaker_session.upload_data(\n",
    "    path=os.path.join(\"data\", \"bg_train.csv\"), key_prefix=s3_prefix\n",
    ")\n",
    "eval_input = ag.sagemaker_session.upload_data(\n",
    "    path=os.path.join(\"data\", \"bg_test.csv\"), key_prefix=s3_prefix\n",
    ")\n",
    "config_input = ag.sagemaker_session.upload_data(\n",
    "    path=os.path.join(\"config\", \"config.yaml\"), key_prefix=s3_prefix\n",
    ")\n",
    "\n",
    "# job_name = utils.unique_name_from_base(\"autogluon\")"
   ]
  },
  {
   "cell_type": "code",
   "execution_count": 13,
   "metadata": {},
   "outputs": [
    {
     "name": "stdout",
     "output_type": "stream",
     "text": [
      "s3://sagemaker-us-east-1-503563512855/autogluon_sm/2022-01-10-15-52-49-349/bg_train.csv \n",
      "---\n",
      " s3://sagemaker-us-east-1-503563512855/autogluon_sm/2022-01-10-15-52-49-349/bg_test.csv \n",
      "---\n",
      " s3://sagemaker-us-east-1-503563512855/autogluon_sm/2022-01-10-15-52-49-349/config.yaml\n"
     ]
    }
   ],
   "source": [
    "print(train_input,'\\n---\\n', eval_input,'\\n---\\n', config_input)"
   ]
  },
  {
   "cell_type": "code",
   "execution_count": 15,
   "metadata": {},
   "outputs": [
    {
     "name": "stdout",
     "output_type": "stream",
     "text": [
      "2022-01-10 15:55:49 Starting - Starting the training job...\n",
      "2022-01-10 15:56:13 Starting - Launching requested ML instancesProfilerReport-1641830148: InProgress\n",
      "......\n",
      "2022-01-10 15:57:13 Starting - Preparing the instances for training.........\n",
      "2022-01-10 15:58:46 Downloading - Downloading input data\n",
      "2022-01-10 15:58:46 Training - Downloading the training image...\n",
      "2022-01-10 15:59:14 Training - Training image download completed. Training in progress.\u001b[34m2022-01-10 15:59:09,621 sagemaker-training-toolkit INFO     Imported framework sagemaker_mxnet_container.training\u001b[0m\n",
      "\u001b[34m2022-01-10 15:59:09,622 sagemaker-training-toolkit INFO     No GPUs detected (normal if no gpus installed)\u001b[0m\n",
      "\u001b[34m2022-01-10 15:59:09,632 sagemaker_mxnet_container.training INFO     MXNet training environment: {'SM_HOSTS': '[\"algo-1\"]', 'SM_NETWORK_INTERFACE_NAME': 'eth0', 'SM_HPS': '{}', 'SM_USER_ENTRY_POINT': 'tabular_train.py', 'SM_FRAMEWORK_PARAMS': '{}', 'SM_RESOURCE_CONFIG': '{\"current_host\":\"algo-1\",\"hosts\":[\"algo-1\"],\"network_interface_name\":\"eth0\"}', 'SM_INPUT_DATA_CONFIG': '{\"config\":{\"RecordWrapperType\":\"None\",\"S3DistributionType\":\"FullyReplicated\",\"TrainingInputMode\":\"File\"},\"test\":{\"RecordWrapperType\":\"None\",\"S3DistributionType\":\"FullyReplicated\",\"TrainingInputMode\":\"File\"},\"train\":{\"RecordWrapperType\":\"None\",\"S3DistributionType\":\"FullyReplicated\",\"TrainingInputMode\":\"File\"}}', 'SM_OUTPUT_DATA_DIR': '/opt/ml/output/data', 'SM_CHANNELS': '[\"config\",\"test\",\"train\"]', 'SM_CURRENT_HOST': 'algo-1', 'SM_MODULE_NAME': 'tabular_train', 'SM_LOG_LEVEL': '20', 'SM_FRAMEWORK_MODULE': 'sagemaker_mxnet_container.training:main', 'SM_INPUT_DIR': '/opt/ml/input', 'SM_INPUT_CONFIG_DIR': '/opt/ml/input/config', 'SM_OUTPUT_DIR': '/opt/ml/output', 'SM_NUM_CPUS': '8', 'SM_NUM_GPUS': '0', 'SM_MODEL_DIR': '/opt/ml/model', 'SM_MODULE_DIR': 's3://sagemaker-us-east-1-503563512855/autogluon-sm-1641830148-ad1a/source/sourcedir.tar.gz', 'SM_TRAINING_ENV': '{\"additional_framework_parameters\":{},\"channel_input_dirs\":{\"config\":\"/opt/ml/input/data/config\",\"test\":\"/opt/ml/input/data/test\",\"train\":\"/opt/ml/input/data/train\"},\"current_host\":\"algo-1\",\"framework_module\":\"sagemaker_mxnet_container.training:main\",\"hosts\":[\"algo-1\"],\"hyperparameters\":{},\"input_config_dir\":\"/opt/ml/input/config\",\"input_data_config\":{\"config\":{\"RecordWrapperType\":\"None\",\"S3DistributionType\":\"FullyReplicated\",\"TrainingInputMode\":\"File\"},\"test\":{\"RecordWrapperType\":\"None\",\"S3DistributionType\":\"FullyReplicated\",\"TrainingInputMode\":\"File\"},\"train\":{\"RecordWrapperType\":\"None\",\"S3DistributionType\":\"FullyReplicated\",\"TrainingInputMode\":\"File\"}},\"input_dir\":\"/opt/ml/input\",\"is_master\":true,\"job_name\":\"autogluon-sm-1641830148-ad1a\",\"log_level\":20,\"master_hostname\":\"algo-1\",\"model_dir\":\"/opt/ml/model\",\"module_dir\":\"s3://sagemaker-us-east-1-503563512855/autogluon-sm-1641830148-ad1a/source/sourcedir.tar.gz\",\"module_name\":\"tabular_train\",\"network_interface_name\":\"eth0\",\"num_cpus\":8,\"num_gpus\":0,\"output_data_dir\":\"/opt/ml/output/data\",\"output_dir\":\"/opt/ml/output\",\"output_intermediate_dir\":\"/opt/ml/output/intermediate\",\"resource_config\":{\"current_host\":\"algo-1\",\"hosts\":[\"algo-1\"],\"network_interface_name\":\"eth0\"},\"user_entry_point\":\"tabular_train.py\"}', 'SM_USER_ARGS': '[]', 'SM_OUTPUT_INTERMEDIATE_DIR': '/opt/ml/output/intermediate', 'SM_CHANNEL_TEST': '/opt/ml/input/data/test', 'SM_CHANNEL_CONFIG': '/opt/ml/input/data/config', 'SM_CHANNEL_TRAIN': '/opt/ml/input/data/train'}\u001b[0m\n",
      "\u001b[34m2022-01-10 15:59:10,065 sagemaker-training-toolkit INFO     No GPUs detected (normal if no gpus installed)\u001b[0m\n",
      "\u001b[34m2022-01-10 15:59:10,079 sagemaker-training-toolkit INFO     No GPUs detected (normal if no gpus installed)\u001b[0m\n",
      "\u001b[34m2022-01-10 15:59:10,091 sagemaker-training-toolkit INFO     No GPUs detected (normal if no gpus installed)\u001b[0m\n",
      "\u001b[34m2022-01-10 15:59:10,101 sagemaker-training-toolkit INFO     Invoking user script\u001b[0m\n",
      "\u001b[34mTraining Env:\u001b[0m\n",
      "\u001b[34m{\n",
      "    \"additional_framework_parameters\": {},\n",
      "    \"channel_input_dirs\": {\n",
      "        \"test\": \"/opt/ml/input/data/test\",\n",
      "        \"config\": \"/opt/ml/input/data/config\",\n",
      "        \"train\": \"/opt/ml/input/data/train\"\n",
      "    },\n",
      "    \"current_host\": \"algo-1\",\n",
      "    \"framework_module\": \"sagemaker_mxnet_container.training:main\",\n",
      "    \"hosts\": [\n",
      "        \"algo-1\"\n",
      "    ],\n",
      "    \"hyperparameters\": {},\n",
      "    \"input_config_dir\": \"/opt/ml/input/config\",\n",
      "    \"input_data_config\": {\n",
      "        \"test\": {\n",
      "            \"TrainingInputMode\": \"File\",\n",
      "            \"S3DistributionType\": \"FullyReplicated\",\n",
      "            \"RecordWrapperType\": \"None\"\n",
      "        },\n",
      "        \"config\": {\n",
      "            \"TrainingInputMode\": \"File\",\n",
      "            \"S3DistributionType\": \"FullyReplicated\",\n",
      "            \"RecordWrapperType\": \"None\"\n",
      "        },\n",
      "        \"train\": {\n",
      "            \"TrainingInputMode\": \"File\",\n",
      "            \"S3DistributionType\": \"FullyReplicated\",\n",
      "            \"RecordWrapperType\": \"None\"\n",
      "        }\n",
      "    },\n",
      "    \"input_dir\": \"/opt/ml/input\",\n",
      "    \"is_master\": true,\n",
      "    \"job_name\": \"autogluon-sm-1641830148-ad1a\",\n",
      "    \"log_level\": 20,\n",
      "    \"master_hostname\": \"algo-1\",\n",
      "    \"model_dir\": \"/opt/ml/model\",\n",
      "    \"module_dir\": \"s3://sagemaker-us-east-1-503563512855/autogluon-sm-1641830148-ad1a/source/sourcedir.tar.gz\",\n",
      "    \"module_name\": \"tabular_train\",\n",
      "    \"network_interface_name\": \"eth0\",\n",
      "    \"num_cpus\": 8,\n",
      "    \"num_gpus\": 0,\n",
      "    \"output_data_dir\": \"/opt/ml/output/data\",\n",
      "    \"output_dir\": \"/opt/ml/output\",\n",
      "    \"output_intermediate_dir\": \"/opt/ml/output/intermediate\",\n",
      "    \"resource_config\": {\n",
      "        \"current_host\": \"algo-1\",\n",
      "        \"hosts\": [\n",
      "            \"algo-1\"\n",
      "        ],\n",
      "        \"network_interface_name\": \"eth0\"\n",
      "    },\n",
      "    \"user_entry_point\": \"tabular_train.py\"\u001b[0m\n",
      "\u001b[34m}\u001b[0m\n",
      "\u001b[34mEnvironment variables:\u001b[0m\n",
      "\u001b[34mSM_HOSTS=[\"algo-1\"]\u001b[0m\n",
      "\u001b[34mSM_NETWORK_INTERFACE_NAME=eth0\u001b[0m\n",
      "\u001b[34mSM_HPS={}\u001b[0m\n",
      "\u001b[34mSM_USER_ENTRY_POINT=tabular_train.py\u001b[0m\n",
      "\u001b[34mSM_FRAMEWORK_PARAMS={}\u001b[0m\n",
      "\u001b[34mSM_RESOURCE_CONFIG={\"current_host\":\"algo-1\",\"hosts\":[\"algo-1\"],\"network_interface_name\":\"eth0\"}\u001b[0m\n",
      "\u001b[34mSM_INPUT_DATA_CONFIG={\"config\":{\"RecordWrapperType\":\"None\",\"S3DistributionType\":\"FullyReplicated\",\"TrainingInputMode\":\"File\"},\"test\":{\"RecordWrapperType\":\"None\",\"S3DistributionType\":\"FullyReplicated\",\"TrainingInputMode\":\"File\"},\"train\":{\"RecordWrapperType\":\"None\",\"S3DistributionType\":\"FullyReplicated\",\"TrainingInputMode\":\"File\"}}\u001b[0m\n",
      "\u001b[34mSM_OUTPUT_DATA_DIR=/opt/ml/output/data\u001b[0m\n",
      "\u001b[34mSM_CHANNELS=[\"config\",\"test\",\"train\"]\u001b[0m\n",
      "\u001b[34mSM_CURRENT_HOST=algo-1\u001b[0m\n",
      "\u001b[34mSM_MODULE_NAME=tabular_train\u001b[0m\n",
      "\u001b[34mSM_LOG_LEVEL=20\u001b[0m\n",
      "\u001b[34mSM_FRAMEWORK_MODULE=sagemaker_mxnet_container.training:main\u001b[0m\n",
      "\u001b[34mSM_INPUT_DIR=/opt/ml/input\u001b[0m\n",
      "\u001b[34mSM_INPUT_CONFIG_DIR=/opt/ml/input/config\u001b[0m\n",
      "\u001b[34mSM_OUTPUT_DIR=/opt/ml/output\u001b[0m\n",
      "\u001b[34mSM_NUM_CPUS=8\u001b[0m\n",
      "\u001b[34mSM_NUM_GPUS=0\u001b[0m\n",
      "\u001b[34mSM_MODEL_DIR=/opt/ml/model\u001b[0m\n",
      "\u001b[34mSM_MODULE_DIR=s3://sagemaker-us-east-1-503563512855/autogluon-sm-1641830148-ad1a/source/sourcedir.tar.gz\u001b[0m\n",
      "\u001b[34mSM_TRAINING_ENV={\"additional_framework_parameters\":{},\"channel_input_dirs\":{\"config\":\"/opt/ml/input/data/config\",\"test\":\"/opt/ml/input/data/test\",\"train\":\"/opt/ml/input/data/train\"},\"current_host\":\"algo-1\",\"framework_module\":\"sagemaker_mxnet_container.training:main\",\"hosts\":[\"algo-1\"],\"hyperparameters\":{},\"input_config_dir\":\"/opt/ml/input/config\",\"input_data_config\":{\"config\":{\"RecordWrapperType\":\"None\",\"S3DistributionType\":\"FullyReplicated\",\"TrainingInputMode\":\"File\"},\"test\":{\"RecordWrapperType\":\"None\",\"S3DistributionType\":\"FullyReplicated\",\"TrainingInputMode\":\"File\"},\"train\":{\"RecordWrapperType\":\"None\",\"S3DistributionType\":\"FullyReplicated\",\"TrainingInputMode\":\"File\"}},\"input_dir\":\"/opt/ml/input\",\"is_master\":true,\"job_name\":\"autogluon-sm-1641830148-ad1a\",\"log_level\":20,\"master_hostname\":\"algo-1\",\"model_dir\":\"/opt/ml/model\",\"module_dir\":\"s3://sagemaker-us-east-1-503563512855/autogluon-sm-1641830148-ad1a/source/sourcedir.tar.gz\",\"module_name\":\"tabular_train\",\"network_interface_name\":\"eth0\",\"num_cpus\":8,\"num_gpus\":0,\"output_data_dir\":\"/opt/ml/output/data\",\"output_dir\":\"/opt/ml/output\",\"output_intermediate_dir\":\"/opt/ml/output/intermediate\",\"resource_config\":{\"current_host\":\"algo-1\",\"hosts\":[\"algo-1\"],\"network_interface_name\":\"eth0\"},\"user_entry_point\":\"tabular_train.py\"}\u001b[0m\n",
      "\u001b[34mSM_USER_ARGS=[]\u001b[0m\n",
      "\u001b[34mSM_OUTPUT_INTERMEDIATE_DIR=/opt/ml/output/intermediate\u001b[0m\n",
      "\u001b[34mSM_CHANNEL_TEST=/opt/ml/input/data/test\u001b[0m\n",
      "\u001b[34mSM_CHANNEL_CONFIG=/opt/ml/input/data/config\u001b[0m\n",
      "\u001b[34mSM_CHANNEL_TRAIN=/opt/ml/input/data/train\u001b[0m\n",
      "\u001b[34mPYTHONPATH=/opt/ml/code:/usr/local/bin:/usr/local/lib/python37.zip:/usr/local/lib/python3.7:/usr/local/lib/python3.7/lib-dynload:/usr/local/lib/python3.7/site-packages\u001b[0m\n",
      "\u001b[34mInvoking script with the following command:\u001b[0m\n",
      "\u001b[34m/usr/local/bin/python3.7 tabular_train.py\u001b[0m\n",
      "\u001b[34mStarting AG\u001b[0m\n",
      "\u001b[34mArgs: Namespace(ag_config='/opt/ml/input/data/config', model_dir='/opt/ml/model', n_gpus='0', output_data_dir='/opt/ml/output', test_dir='/opt/ml/input/data/test', training_dir='/opt/ml/input/data/train')\u001b[0m\n",
      "\u001b[34mUsing config.yaml\u001b[0m\n",
      "\u001b[34m___config_file:  /opt/ml/input/data/config/config.yaml\u001b[0m\n",
      "\u001b[34m___Running training job with the config:\u001b[0m\n",
      "\u001b[34m{'ag_fit_args': {'presets': ['optimize_for_deployment', 'best_quality'],\n",
      "                 'time_limit': 600},\n",
      " 'ag_predictor_args': {'label': 'success'},\n",
      " 'feature_importance': True,\n",
      " 'leaderboard': True,\n",
      " 'num_gpus': 0,\n",
      " 'output_prediction_format': 'csv'}\u001b[0m\n",
      "\u001b[34mUsing bg_train.csv\u001b[0m\n",
      "\u001b[34m___train_file:  /opt/ml/input/data/train/bg_train.csv\u001b[0m\n",
      "\u001b[34mWarning: path already exists! This predictor may overwrite an existing predictor! path=\"/opt/ml/model\"\u001b[0m\n",
      "\u001b[34mPresets specified: ['optimize_for_deployment', 'best_quality']\u001b[0m\n",
      "\u001b[34mBeginning AutoGluon training ... Time limit = 600s\u001b[0m\n",
      "\u001b[34mAutoGluon will save models to \"/opt/ml/model/\"\u001b[0m\n",
      "\u001b[34mAutoGluon Version:  0.3.1\u001b[0m\n",
      "\u001b[34mTrain Data Rows:    57294\u001b[0m\n",
      "\u001b[34mTrain Data Columns: 25\u001b[0m\n",
      "\u001b[34mPreprocessing data ...\u001b[0m\n",
      "\u001b[34mAutoGluon infers your prediction problem is: 'binary' (because only two unique label-values observed).\u001b[0m\n",
      "\u001b[34m#0112 unique label values:  [0, 1]\u001b[0m\n",
      "\u001b[34m#011If 'binary' is not the correct problem_type, please manually specify the problem_type argument in fit() (You may specify problem_type as one of: ['binary', 'multiclass', 'regression'])\u001b[0m\n",
      "\u001b[34mSelected class <--> label mapping:  class 1 = 1, class 0 = 0\u001b[0m\n",
      "\u001b[34mUsing Feature Generators to preprocess the data ...\u001b[0m\n",
      "\u001b[34mFitting AutoMLPipelineFeatureGenerator...\u001b[0m\n",
      "\u001b[34m#011Available Memory:                    31441.91 MB\u001b[0m\n",
      "\u001b[34m#011Train Data (Original)  Memory Usage: 11.46 MB (0.0% of available memory)\u001b[0m\n",
      "\u001b[34m#011Inferring data type of each feature based on column values. Set feature_metadata_in to manually specify special dtypes of the features.\u001b[0m\n",
      "\u001b[34m#011Stage 1 Generators:\u001b[0m\n",
      "\u001b[34m#011#011Fitting AsTypeFeatureGenerator...\u001b[0m\n",
      "\u001b[34m#011#011#011Note: Converting 16 features to boolean dtype as they only contain 2 unique values.\u001b[0m\n",
      "\u001b[34m#011Stage 2 Generators:\u001b[0m\n",
      "\u001b[34m#011#011Fitting FillNaFeatureGenerator...\u001b[0m\n",
      "\u001b[34m#011Stage 3 Generators:\u001b[0m\n",
      "\u001b[34m#011#011Fitting IdentityFeatureGenerator...\u001b[0m\n",
      "\u001b[34m#011Stage 4 Generators:\u001b[0m\n",
      "\u001b[34m#011#011Fitting DropUniqueFeatureGenerator...\u001b[0m\n",
      "\u001b[34m#011Useless Original Features (Count: 3): ['mobile', 'bogo', 'discount']\u001b[0m\n",
      "\u001b[34m#011#011These features carry no predictive signal and should be manually investigated.\u001b[0m\n",
      "\u001b[34m#011#011This is typically a feature which has the same value for all rows.\u001b[0m\n",
      "\u001b[34m#011#011These features do not need to be present at inference time.\u001b[0m\n",
      "\u001b[34m#011Types of features in original data (raw dtype, special dtypes):\u001b[0m\n",
      "\u001b[34m#011#011('float', []) :  5 | ['time', 'time_on', 'reward', 'min_spend', 'duration']\u001b[0m\n",
      "\u001b[34m#011#011('int', [])   : 17 | ['customer_id', 'offer_viewed', 'offer_id', 'D', 'F', ...]\u001b[0m\n",
      "\u001b[34m#011Types of features in processed data (raw dtype, special dtypes):\u001b[0m\n",
      "\u001b[34m#011#011('float', [])     :  2 | ['time', 'time_on']\u001b[0m\n",
      "\u001b[34m#011#011('int', [])       :  4 | ['customer_id', 'offer_id', 'age_class', 'income_class']\u001b[0m\n",
      "\u001b[34m#011#011('int', ['bool']) : 16 | ['offer_viewed', 'D', 'F', 'M', 'O', ...]\u001b[0m\n",
      "\u001b[34m#0110.1s = Fit runtime\u001b[0m\n",
      "\u001b[34m#01122 features in original data used to generate 22 features in processed data.\u001b[0m\n",
      "\u001b[34m#011Train Data (Processed) Memory Usage: 3.67 MB (0.0% of available memory)\u001b[0m\n",
      "\u001b[34mData preprocessing and feature engineering runtime = 0.16s ...\u001b[0m\n",
      "\u001b[34mAutoGluon will gauge predictive performance using evaluation metric: 'accuracy'\u001b[0m\n",
      "\u001b[34m#011To change this, specify the eval_metric argument of fit()\u001b[0m\n",
      "\u001b[34mAutoGluon will fit 2 stack levels (L1 to L2) ...\u001b[0m\n",
      "\u001b[34mFitting 13 L1 models ...\u001b[0m\n",
      "\u001b[34mFitting model: KNeighborsUnif_BAG_L1 ... Training model for up to 399.79s of the 599.84s of remaining time.\u001b[0m\n",
      "\u001b[34m#0110.7448#011 = Validation score   (accuracy)\u001b[0m\n",
      "\u001b[34m#0110.12s#011 = Training   runtime\u001b[0m\n",
      "\u001b[34m#0110.12s#011 = Validation runtime\u001b[0m\n",
      "\u001b[34mFitting model: KNeighborsDist_BAG_L1 ... Training model for up to 399.27s of the 599.31s of remaining time.\u001b[0m\n",
      "\u001b[34m#0110.6309#011 = Validation score   (accuracy)\u001b[0m\n",
      "\u001b[34m#0110.12s#011 = Training   runtime\u001b[0m\n",
      "\u001b[34m#0110.21s#011 = Validation runtime\u001b[0m\n",
      "\u001b[34mFitting model: LightGBMXT_BAG_L1 ... Training model for up to 398.66s of the 598.7s of remaining time.\u001b[0m\n",
      "\u001b[34m[1000]#011train_set's binary_error: 0.035199#011valid_set's binary_error: 0.0464223\u001b[0m\n",
      "\u001b[34m[2000]#011train_set's binary_error: 0.0232914#011valid_set's binary_error: 0.0343805\u001b[0m\n",
      "\u001b[34m[3000]#011train_set's binary_error: 0.021003#011valid_set's binary_error: 0.0322862\u001b[0m\n",
      "\u001b[34m[1000]#011train_set's binary_error: 0.0389807#011valid_set's binary_error: 0.0424084\u001b[0m\n",
      "\u001b[34m[2000]#011train_set's binary_error: 0.0250368#011valid_set's binary_error: 0.0310646\u001b[0m\n",
      "\u001b[34m[3000]#011train_set's binary_error: 0.0216624#011valid_set's binary_error: 0.0277487\u001b[0m\n",
      "\u001b[34m[4000]#011train_set's binary_error: 0.0201691#011valid_set's binary_error: 0.0279232\u001b[0m\n",
      "\u001b[34m[1000]#011train_set's binary_error: 0.0354899#011valid_set's binary_error: 0.0415358\u001b[0m\n",
      "\u001b[34m[2000]#011train_set's binary_error: 0.0242611#011valid_set's binary_error: 0.0340314\u001b[0m\n",
      "\u001b[34m[3000]#011train_set's binary_error: 0.0216624#011valid_set's binary_error: 0.0321117\u001b[0m\n",
      "\u001b[34m[4000]#011train_set's binary_error: 0.0201109#011valid_set's binary_error: 0.0312391\u001b[0m\n",
      "\u001b[34m[5000]#011train_set's binary_error: 0.0189085#011valid_set's binary_error: 0.0312391\u001b[0m\n",
      "\u001b[34m[1000]#011train_set's binary_error: 0.036188#011valid_set's binary_error: 0.0500873\u001b[0m\n",
      "\u001b[34m[2000]#011train_set's binary_error: 0.024009#011valid_set's binary_error: 0.0366492\u001b[0m\n",
      "\u001b[34m[3000]#011train_set's binary_error: 0.021003#011valid_set's binary_error: 0.0335079\u001b[0m\n",
      "\u001b[34m[1000]#011train_set's binary_error: 0.0331814#011valid_set's binary_error: 0.0368302\u001b[0m\n",
      "\u001b[34m[2000]#011train_set's binary_error: 0.0233104#011valid_set's binary_error: 0.0315936\u001b[0m\n",
      "\u001b[34m[1000]#011train_set's binary_error: 0.0345001#011valid_set's binary_error: 0.0420667\u001b[0m\n",
      "\u001b[34m[2000]#011train_set's binary_error: 0.0244158#011valid_set's binary_error: 0.0340374\u001b[0m\n",
      "\u001b[34m[3000]#011train_set's binary_error: 0.0212159#011valid_set's binary_error: 0.0319427\u001b[0m\n",
      "\u001b[34m[4000]#011train_set's binary_error: 0.0198196#011valid_set's binary_error: 0.0312445\u001b[0m\n",
      "\u001b[34m[1000]#011train_set's binary_error: 0.0346359#011valid_set's binary_error: 0.0401466\u001b[0m\n",
      "\u001b[34m[2000]#011train_set's binary_error: 0.0229419#011valid_set's binary_error: 0.0296736\u001b[0m\n",
      "\u001b[34m[3000]#011train_set's binary_error: 0.0209444#011valid_set's binary_error: 0.0291499\u001b[0m\n",
      "\u001b[34m[1000]#011train_set's binary_error: 0.0334917#011valid_set's binary_error: 0.0371793\u001b[0m\n",
      "\u001b[34m[2000]#011train_set's binary_error: 0.0234655#011valid_set's binary_error: 0.0286263\u001b[0m\n",
      "\u001b[34m[3000]#011train_set's binary_error: 0.0217202#011valid_set's binary_error: 0.0261826\u001b[0m\n",
      "\u001b[34m[1000]#011train_set's binary_error: 0.0342674#011valid_set's binary_error: 0.0377029\u001b[0m\n",
      "\u001b[34m[2000]#011train_set's binary_error: 0.0238728#011valid_set's binary_error: 0.0317682\u001b[0m\n",
      "\u001b[34m[1000]#011train_set's binary_error: 0.033356#011valid_set's binary_error: 0.0420667\u001b[0m\n",
      "\u001b[34m[2000]#011train_set's binary_error: 0.0238146#011valid_set's binary_error: 0.0354338\u001b[0m\n",
      "\u001b[34m[3000]#011train_set's binary_error: 0.0210026#011valid_set's binary_error: 0.0326409\u001b[0m\n",
      "\u001b[34m[4000]#011train_set's binary_error: 0.0196645#011valid_set's binary_error: 0.0319427\u001b[0m\n",
      "\u001b[34m#0110.97#011 = Validation score   (accuracy)\u001b[0m\n",
      "\u001b[34m#01193.03s#011 = Training   runtime\u001b[0m\n",
      "\u001b[34m#0112.12s#011 = Validation runtime\u001b[0m\n",
      "\u001b[34mFitting model: LightGBM_BAG_L1 ... Training model for up to 301.5s of the 501.54s of remaining time.\u001b[0m\n",
      "\u001b[34m#0110.9784#011 = Validation score   (accuracy)\u001b[0m\n",
      "\u001b[34m#0112.07s#011 = Training   runtime\u001b[0m\n",
      "\u001b[34m#0110.04s#011 = Validation runtime\u001b[0m\n",
      "\u001b[34mFitting model: RandomForestGini_BAG_L1 ... Training model for up to 299.18s of the 499.22s of remaining time.\u001b[0m\n",
      "\u001b[34m#0110.8111#011 = Validation score   (accuracy)\u001b[0m\n",
      "\u001b[34m#0112.78s#011 = Training   runtime\u001b[0m\n",
      "\u001b[34m#0111.83s#011 = Validation runtime\u001b[0m\n",
      "\u001b[34mFitting model: RandomForestEntr_BAG_L1 ... Training model for up to 293.83s of the 493.88s of remaining time.\u001b[0m\n",
      "\u001b[34m#0110.8178#011 = Validation score   (accuracy)\u001b[0m\n",
      "\u001b[34m#0113.54s#011 = Training   runtime\u001b[0m\n",
      "\u001b[34m#0111.83s#011 = Validation runtime\u001b[0m\n",
      "\u001b[34mFitting model: CatBoost_BAG_L1 ... Training model for up to 287.74s of the 487.78s of remaining time.\u001b[0m\n",
      "\u001b[34m#0110.978#011 = Validation score   (accuracy)\u001b[0m\n",
      "\u001b[34m#0116.0s#011 = Training   runtime\u001b[0m\n",
      "\u001b[34m#0110.04s#011 = Validation runtime\u001b[0m\n",
      "\u001b[34mFitting model: ExtraTreesGini_BAG_L1 ... Training model for up to 281.5s of the 481.54s of remaining time.\u001b[0m\n",
      "\u001b[34m#0110.7817#011 = Validation score   (accuracy)\u001b[0m\n",
      "\u001b[34m#0112.04s#011 = Training   runtime\u001b[0m\n",
      "\u001b[34m#0112.0s#011 = Validation runtime\u001b[0m\n",
      "\u001b[34mFitting model: ExtraTreesEntr_BAG_L1 ... Training model for up to 276.48s of the 476.53s of remaining time.\u001b[0m\n",
      "\u001b[34m#0110.7748#011 = Validation score   (accuracy)\u001b[0m\n",
      "\u001b[34m#0112.14s#011 = Training   runtime\u001b[0m\n",
      "\u001b[34m#0112.01s#011 = Validation runtime\u001b[0m\n",
      "\u001b[34mFitting model: NeuralNetFastAI_BAG_L1 ... Training model for up to 271.33s of the 471.37s of remaining time.\u001b[0m\n",
      "\u001b[34mgenerated new fontManager\u001b[0m\n",
      "\u001b[34m#011Ran out of time, stopping training early. (Stopping on epoch 11)\u001b[0m\n",
      "\u001b[34m#011Ran out of time, stopping training early. (Stopping on epoch 10)\u001b[0m\n",
      "\u001b[34m#011Ran out of time, stopping training early. (Stopping on epoch 12)\u001b[0m\n",
      "\u001b[34m#011Ran out of time, stopping training early. (Stopping on epoch 12)\u001b[0m\n",
      "\u001b[34m#011Ran out of time, stopping training early. (Stopping on epoch 13)\u001b[0m\n",
      "\u001b[34m#011Ran out of time, stopping training early. (Stopping on epoch 13)\u001b[0m\n",
      "\u001b[34m#011Ran out of time, stopping training early. (Stopping on epoch 14)\u001b[0m\n",
      "\u001b[34m#011Ran out of time, stopping training early. (Stopping on epoch 15)\u001b[0m\n",
      "\u001b[34m#011Ran out of time, stopping training early. (Stopping on epoch 17)\u001b[0m\n",
      "\u001b[34m#011Ran out of time, stopping training early. (Stopping on epoch 22)\u001b[0m\n",
      "\u001b[34m#0110.8566#011 = Validation score   (accuracy)\u001b[0m\n",
      "\u001b[34m#011260.07s#011 = Training   runtime\u001b[0m\n",
      "\u001b[34m#0110.85s#011 = Validation runtime\u001b[0m\n",
      "\u001b[34mFitting model: XGBoost_BAG_L1 ... Training model for up to 9.91s of the 209.96s of remaining time.\u001b[0m\n",
      "\u001b[34m#0110.9783#011 = Validation score   (accuracy)\u001b[0m\n",
      "\u001b[34m#0112.56s#011 = Training   runtime\u001b[0m\n",
      "\u001b[34m#0110.08s#011 = Validation runtime\u001b[0m\n",
      "\u001b[34mFitting model: NeuralNetMXNet_BAG_L1 ... Training model for up to 7.01s of the 207.05s of remaining time.\u001b[0m\n",
      "\u001b[34m#011Time limit exceeded... Skipping NeuralNetMXNet_BAG_L1.\u001b[0m\n",
      "\u001b[34mFitting model: LightGBMLarge_BAG_L1 ... Training model for up to 3.2s of the 203.25s of remaining time.\u001b[0m\n",
      "\u001b[34m#011Ran out of time, early stopping on iteration 24. Best iteration is:\u001b[0m\n",
      "\u001b[34m#011[18]#011train_set's binary_error: 0.021546#011valid_set's binary_error: 0.0223386\u001b[0m\n",
      "\u001b[34m#011Ran out of time, early stopping on iteration 30. Best iteration is:\u001b[0m\n",
      "\u001b[34m#011[18]#011train_set's binary_error: 0.0218757#011valid_set's binary_error: 0.0193717\u001b[0m\n",
      "\u001b[34m#011Ran out of time, early stopping on iteration 28. Best iteration is:\u001b[0m\n",
      "\u001b[34m#011[18]#011train_set's binary_error: 0.0217012#011valid_set's binary_error: 0.0209424\u001b[0m\n",
      "\u001b[34m#011Ran out of time, early stopping on iteration 21. Best iteration is:\u001b[0m\n",
      "\u001b[34m#011[18]#011train_set's binary_error: 0.0212745#011valid_set's binary_error: 0.0247818\u001b[0m\n",
      "\u001b[34m#011Ran out of time, early stopping on iteration 32. Best iteration is:\u001b[0m\n",
      "\u001b[34m#011[18]#011train_set's binary_error: 0.021565#011valid_set's binary_error: 0.0221679\u001b[0m\n",
      "\u001b[34m#011Ran out of time, early stopping on iteration 32. Best iteration is:\u001b[0m\n",
      "\u001b[34m#011[18]#011train_set's binary_error: 0.021565#011valid_set's binary_error: 0.0221679\u001b[0m\n",
      "\u001b[34m#011Ran out of time, early stopping on iteration 32. Best iteration is:\u001b[0m\n",
      "\u001b[34m#011[18]#011train_set's binary_error: 0.0216232#011valid_set's binary_error: 0.0216443\u001b[0m\n",
      "\u001b[34m#011Ran out of time, early stopping on iteration 35. Best iteration is:\u001b[0m\n",
      "\u001b[34m#011[18]#011train_set's binary_error: 0.0218559#011valid_set's binary_error: 0.0195497\u001b[0m\n",
      "\u001b[34m#011Ran out of time, early stopping on iteration 38. Best iteration is:\u001b[0m\n",
      "\u001b[34m#011[18]#011train_set's binary_error: 0.0218171#011valid_set's binary_error: 0.0198988\u001b[0m\n",
      "\u001b[34m#011Ran out of time, early stopping on iteration 45. Best iteration is:\u001b[0m\n",
      "\u001b[34m#011[18]#011train_set's binary_error: 0.0214293#011valid_set's binary_error: 0.0233898\u001b[0m\n",
      "\u001b[34m#0110.9784#011 = Validation score   (accuracy)\u001b[0m\n",
      "\u001b[34m#0112.97s#011 = Training   runtime\u001b[0m\n",
      "\u001b[34m#0110.04s#011 = Validation runtime\u001b[0m\n",
      "\u001b[34mCompleted 1/20 k-fold bagging repeats ...\u001b[0m\n",
      "\u001b[34mFitting model: WeightedEnsemble_L2 ... Training model for up to 360.0s of the 199.98s of remaining time.\u001b[0m\n",
      "\u001b[34m#0110.9784#011 = Validation score   (accuracy)\u001b[0m\n",
      "\u001b[34m#01116.84s#011 = Training   runtime\u001b[0m\n",
      "\u001b[34m#0110.08s#011 = Validation runtime\u001b[0m\n",
      "\u001b[34mFitting 11 L2 models ...\u001b[0m\n",
      "\u001b[34mFitting model: LightGBMXT_BAG_L2 ... Training model for up to 183.05s of the 183.04s of remaining time.\u001b[0m\n",
      "\u001b[34m#0110.9846#011 = Validation score   (accuracy)\u001b[0m\n",
      "\u001b[34m#0117.36s#011 = Training   runtime\u001b[0m\n",
      "\u001b[34m#0110.14s#011 = Validation runtime\u001b[0m\n",
      "\u001b[34mFitting model: LightGBM_BAG_L2 ... Training model for up to 175.28s of the 175.26s of remaining time.\u001b[0m\n",
      "\u001b[34m#0110.985#011 = Validation score   (accuracy)\u001b[0m\n",
      "\u001b[34m#0115.18s#011 = Training   runtime\u001b[0m\n",
      "\u001b[34m#0110.07s#011 = Validation runtime\u001b[0m\n",
      "\u001b[34mFitting model: RandomForestGini_BAG_L2 ... Training model for up to 169.78s of the 169.77s of remaining time.\u001b[0m\n",
      "\u001b[34m#0110.9839#011 = Validation score   (accuracy)\u001b[0m\n",
      "\u001b[34m#0113.56s#011 = Training   runtime\u001b[0m\n",
      "\u001b[34m#0111.4s#011 = Validation runtime\u001b[0m\n",
      "\u001b[34mFitting model: RandomForestEntr_BAG_L2 ... Training model for up to 164.47s of the 164.46s of remaining time.\u001b[0m\n",
      "\u001b[34m#0110.984#011 = Validation score   (accuracy)\u001b[0m\n",
      "\u001b[34m#0114.56s#011 = Training   runtime\u001b[0m\n",
      "\u001b[34m#0111.38s#011 = Validation runtime\u001b[0m\n",
      "\u001b[34mFitting model: CatBoost_BAG_L2 ... Training model for up to 158.19s of the 158.17s of remaining time.\u001b[0m\n",
      "\u001b[34m#0110.9847#011 = Validation score   (accuracy)\u001b[0m\n",
      "\u001b[34m#01116.14s#011 = Training   runtime\u001b[0m\n",
      "\u001b[34m#0110.05s#011 = Validation runtime\u001b[0m\n",
      "\u001b[34mFitting model: ExtraTreesGini_BAG_L2 ... Training model for up to 141.76s of the 141.75s of remaining time.\u001b[0m\n",
      "\u001b[34m#0110.9822#011 = Validation score   (accuracy)\u001b[0m\n",
      "\u001b[34m#0111.66s#011 = Training   runtime\u001b[0m\n",
      "\u001b[34m#0111.47s#011 = Validation runtime\u001b[0m\n",
      "\u001b[34mFitting model: ExtraTreesEntr_BAG_L2 ... Training model for up to 138.26s of the 138.24s of remaining time.\u001b[0m\n",
      "\u001b[34m#0110.9825#011 = Validation score   (accuracy)\u001b[0m\n",
      "\u001b[34m#0111.66s#011 = Training   runtime\u001b[0m\n",
      "\u001b[34m#0111.47s#011 = Validation runtime\u001b[0m\n",
      "\u001b[34mFitting model: NeuralNetFastAI_BAG_L2 ... Training model for up to 134.75s of the 134.74s of remaining time.\u001b[0m\n",
      "\u001b[34m#011Ran out of time, stopping training early. (Stopping on epoch 4)\u001b[0m\n",
      "\u001b[34m#011Ran out of time, stopping training early. (Stopping on epoch 5)\u001b[0m\n",
      "\u001b[34m#011Ran out of time, stopping training early. (Stopping on epoch 5)\u001b[0m\n",
      "\u001b[34m#011Ran out of time, stopping training early. (Stopping on epoch 5)\u001b[0m\n",
      "\u001b[34m#011Ran out of time, stopping training early. (Stopping on epoch 5)\u001b[0m\n",
      "\u001b[34m#011Ran out of time, stopping training early. (Stopping on epoch 5)\u001b[0m\n",
      "\u001b[34m#011Ran out of time, stopping training early. (Stopping on epoch 6)\u001b[0m\n",
      "\u001b[34m#011Ran out of time, stopping training early. (Stopping on epoch 6)\u001b[0m\n",
      "\u001b[34m#011Ran out of time, stopping training early. (Stopping on epoch 7)\u001b[0m\n",
      "\u001b[34m#011Ran out of time, stopping training early. (Stopping on epoch 9)\u001b[0m\n",
      "\u001b[34m#0110.9835#011 = Validation score   (accuracy)\u001b[0m\n",
      "\u001b[34m#011127.03s#011 = Training   runtime\u001b[0m\n",
      "\u001b[34m#0110.91s#011 = Validation runtime\u001b[0m\n",
      "\u001b[34mFitting model: XGBoost_BAG_L2 ... Training model for up to 6.41s of the 6.39s of remaining time.\u001b[0m\n",
      "\u001b[34m#0110.9845#011 = Validation score   (accuracy)\u001b[0m\n",
      "\u001b[34m#0114.7s#011 = Training   runtime\u001b[0m\n",
      "\u001b[34m#0110.11s#011 = Validation runtime\u001b[0m\n",
      "\u001b[34mFitting model: NeuralNetMXNet_BAG_L2 ... Training model for up to 1.28s of the 1.27s of remaining time.\u001b[0m\n",
      "\u001b[34m#011Time limit exceeded... Skipping NeuralNetMXNet_BAG_L2.\u001b[0m\n",
      "\u001b[34mCompleted 1/20 k-fold bagging repeats ...\u001b[0m\n",
      "\u001b[34mFitting model: WeightedEnsemble_L3 ... Training model for up to 360.0s of the -1.34s of remaining time.\u001b[0m\n",
      "\u001b[34m#0110.985#011 = Validation score   (accuracy)\u001b[0m\n",
      "\u001b[34m#01112.94s#011 = Training   runtime\u001b[0m\n",
      "\u001b[34m#0110.08s#011 = Validation runtime\u001b[0m\n",
      "\u001b[34mAutoGluon training complete, total runtime = 614.37s ...\u001b[0m\n",
      "\u001b[34mDeleting model WeightedEnsemble_L2. All files under /opt/ml/model/models/WeightedEnsemble_L2/ will be removed.\u001b[0m\n",
      "\u001b[34mDeleting model LightGBMXT_BAG_L2. All files under /opt/ml/model/models/LightGBMXT_BAG_L2/ will be removed.\u001b[0m\n",
      "\u001b[34mDeleting model RandomForestGini_BAG_L2. All files under /opt/ml/model/models/RandomForestGini_BAG_L2/ will be removed.\u001b[0m\n",
      "\u001b[34mDeleting model RandomForestEntr_BAG_L2. All files under /opt/ml/model/models/RandomForestEntr_BAG_L2/ will be removed.\u001b[0m\n",
      "\u001b[34mDeleting model CatBoost_BAG_L2. All files under /opt/ml/model/models/CatBoost_BAG_L2/ will be removed.\u001b[0m\n",
      "\u001b[34mDeleting model ExtraTreesGini_BAG_L2. All files under /opt/ml/model/models/ExtraTreesGini_BAG_L2/ will be removed.\u001b[0m\n",
      "\u001b[34mDeleting model ExtraTreesEntr_BAG_L2. All files under /opt/ml/model/models/ExtraTreesEntr_BAG_L2/ will be removed.\u001b[0m\n",
      "\u001b[34mDeleting model NeuralNetFastAI_BAG_L2. All files under /opt/ml/model/models/NeuralNetFastAI_BAG_L2/ will be removed.\u001b[0m\n",
      "\u001b[34mDeleting model XGBoost_BAG_L2. All files under /opt/ml/model/models/XGBoost_BAG_L2/ will be removed.\u001b[0m\n",
      "\u001b[34mTabularPredictor saved. To load, use: predictor = TabularPredictor.load(\"/opt/ml/model/\")\u001b[0m\n",
      "\u001b[34mUsing bg_test.csv\u001b[0m\n",
      "\u001b[34m___test_file: /opt/ml/input/data/test/bg_test.csv\u001b[0m\n",
      "\u001b[34mLoaded data from: /opt/ml/input/data/test/bg_test.csv | Columns = 26 / 26 | Rows = 14323 -> 14323\u001b[0m\n",
      "\u001b[34m                      model  score_test  score_val  pred_time_test  pred_time_val    fit_time  pred_time_test_marginal  pred_time_val_marginal  fit_time_marginal  stack_level  can_infer  fit_order\u001b[0m\n",
      "\u001b[34m0           LightGBM_BAG_L2    0.986246   0.985042       12.963324      11.225080  382.635391                 0.120261                0.065245           5.180368            2       True         13\u001b[0m\n",
      "\u001b[34m1       WeightedEnsemble_L3    0.986246   0.985042       12.964999      11.306755  395.572527                 0.001674                0.081676          12.937136            3       True         14\u001b[0m\n",
      "\u001b[34m2           LightGBM_BAG_L1    0.979404   0.978375        0.049347       0.036751    2.066947                 0.049347                0.036751           2.066947            1       True          4\u001b[0m\n",
      "\u001b[34m3      LightGBMLarge_BAG_L1    0.979404   0.978375        0.060290       0.042864    2.969866                 0.060290                0.042864           2.969866            1       True         12\u001b[0m\n",
      "\u001b[34m4            XGBoost_BAG_L1    0.979334   0.978340        0.195757       0.078559    2.564395                 0.195757                0.078559           2.564395            1       True         11\u001b[0m\n",
      "\u001b[34m5           CatBoost_BAG_L1    0.978915   0.977956        0.033359       0.044187    5.999460                 0.033359                0.044187           5.999460            1       True          7\u001b[0m\n",
      "\u001b[34m6         LightGBMXT_BAG_L1    0.970258   0.969997        5.795207       2.118391   93.030386                 5.795207                2.118391          93.030386            1       True          3\u001b[0m\n",
      "\u001b[34m7    NeuralNetFastAI_BAG_L1    0.864554   0.856617        4.199833       0.846278  260.071456                 4.199833                0.846278         260.071456            1       True         10\u001b[0m\n",
      "\u001b[34m8   RandomForestEntr_BAG_L1    0.817636   0.817765        0.420979       1.825975    3.542034                 0.420979                1.825975           3.542034            1       True          6\u001b[0m\n",
      "\u001b[34m9   RandomForestGini_BAG_L1    0.811981   0.811115        0.428049       1.830061    2.780859                 0.428049                1.830061           2.780859            1       True          5\u001b[0m\n",
      "\u001b[34m10    ExtraTreesGini_BAG_L1    0.780982   0.781653        0.644832       1.995334    2.040883                 0.644832                1.995334           2.040883            1       True          8\u001b[0m\n",
      "\u001b[34m11    ExtraTreesEntr_BAG_L1    0.773860   0.774793        0.797999       2.009017    2.143893                 0.797999                2.009017           2.143893            1       True          9\u001b[0m\n",
      "\u001b[34m12    KNeighborsUnif_BAG_L1    0.748097   0.744825        0.107985       0.117560    0.124865                 0.107985                0.117560           0.124865            1       True          1\u001b[0m\n",
      "\u001b[34m13    KNeighborsDist_BAG_L1    0.634993   0.630904        0.109424       0.214857    0.119980                 0.109424                0.214857           0.119980            1       True          2\u001b[0m\n",
      "\u001b[34mComputing feature importance via permutation shuffling for 25 features using 1000 rows with 3 shuffle sets...\u001b[0m\n",
      "\u001b[34m#011277.43s#011= Expected runtime (92.48s per shuffle set)\u001b[0m\n",
      "\n",
      "2022-01-10 16:11:17 Uploading - Uploading generated training model\u001b[34m#01175.24s#011= Actual runtime (Completed 3 of 3 shuffle sets)\u001b[0m\n",
      "\u001b[34m2022-01-10 16:11:10,154 sagemaker-training-toolkit INFO     Reporting training SUCCESS\u001b[0m\n",
      "\n",
      "2022-01-10 16:13:58 Completed - Training job completed\n",
      "ProfilerReport-1641830148: NoIssuesFound\n",
      "Training seconds: 907\n",
      "Billable seconds: 907\n"
     ]
    }
   ],
   "source": [
    "# Set time_limit = 600 in  config file\n",
    "job_name = utils.unique_name_from_base(\"autogluon-sm\")\n",
    "ag.fit(\n",
    "    {\"config\": config_input, \"train\": train_input, \"test\": eval_input},\n",
    "    job_name=job_name,\n",
    ")"
   ]
  },
  {
   "cell_type": "code",
   "execution_count": 21,
   "metadata": {},
   "outputs": [
    {
     "name": "stdout",
     "output_type": "stream",
     "text": [
      "s3://sagemaker-us-east-1-503563512855/autogluon_sm/2022-01-10-15-52-49-349/config.yaml\n"
     ]
    }
   ],
   "source": [
    "# Remove time_limit = 600 in  config file\n",
    "config_input = ag.sagemaker_session.upload_data(\n",
    "    path=os.path.join(\"config\", \"config.yaml\"), key_prefix=s3_prefix\n",
    ")\n",
    "print(config_input)"
   ]
  },
  {
   "cell_type": "code",
   "execution_count": 22,
   "metadata": {},
   "outputs": [
    {
     "name": "stdout",
     "output_type": "stream",
     "text": [
      "2022-01-10 16:19:25 Starting - Starting the training job...\n",
      "2022-01-10 16:19:50 Starting - Launching requested ML instancesProfilerReport-1641831565: InProgress\n",
      "......\n",
      "2022-01-10 16:20:51 Starting - Preparing the instances for training.........\n",
      "2022-01-10 16:22:17 Downloading - Downloading input data...\n",
      "2022-01-10 16:22:51 Training - Downloading the training image..\u001b[34m2022-01-10 16:23:00,786 sagemaker-training-toolkit INFO     Imported framework sagemaker_mxnet_container.training\u001b[0m\n",
      "\u001b[34m2022-01-10 16:23:00,788 sagemaker-training-toolkit INFO     No GPUs detected (normal if no gpus installed)\u001b[0m\n",
      "\u001b[34m2022-01-10 16:23:00,799 sagemaker_mxnet_container.training INFO     MXNet training environment: {'SM_HOSTS': '[\"algo-1\"]', 'SM_NETWORK_INTERFACE_NAME': 'eth0', 'SM_HPS': '{}', 'SM_USER_ENTRY_POINT': 'tabular_train.py', 'SM_FRAMEWORK_PARAMS': '{}', 'SM_RESOURCE_CONFIG': '{\"current_host\":\"algo-1\",\"hosts\":[\"algo-1\"],\"network_interface_name\":\"eth0\"}', 'SM_INPUT_DATA_CONFIG': '{\"config\":{\"RecordWrapperType\":\"None\",\"S3DistributionType\":\"FullyReplicated\",\"TrainingInputMode\":\"File\"},\"test\":{\"RecordWrapperType\":\"None\",\"S3DistributionType\":\"FullyReplicated\",\"TrainingInputMode\":\"File\"},\"train\":{\"RecordWrapperType\":\"None\",\"S3DistributionType\":\"FullyReplicated\",\"TrainingInputMode\":\"File\"}}', 'SM_OUTPUT_DATA_DIR': '/opt/ml/output/data', 'SM_CHANNELS': '[\"config\",\"test\",\"train\"]', 'SM_CURRENT_HOST': 'algo-1', 'SM_MODULE_NAME': 'tabular_train', 'SM_LOG_LEVEL': '20', 'SM_FRAMEWORK_MODULE': 'sagemaker_mxnet_container.training:main', 'SM_INPUT_DIR': '/opt/ml/input', 'SM_INPUT_CONFIG_DIR': '/opt/ml/input/config', 'SM_OUTPUT_DIR': '/opt/ml/output', 'SM_NUM_CPUS': '8', 'SM_NUM_GPUS': '0', 'SM_MODEL_DIR': '/opt/ml/model', 'SM_MODULE_DIR': 's3://sagemaker-us-east-1-503563512855/autogluon-sm-1641831565-ea74/source/sourcedir.tar.gz', 'SM_TRAINING_ENV': '{\"additional_framework_parameters\":{},\"channel_input_dirs\":{\"config\":\"/opt/ml/input/data/config\",\"test\":\"/opt/ml/input/data/test\",\"train\":\"/opt/ml/input/data/train\"},\"current_host\":\"algo-1\",\"framework_module\":\"sagemaker_mxnet_container.training:main\",\"hosts\":[\"algo-1\"],\"hyperparameters\":{},\"input_config_dir\":\"/opt/ml/input/config\",\"input_data_config\":{\"config\":{\"RecordWrapperType\":\"None\",\"S3DistributionType\":\"FullyReplicated\",\"TrainingInputMode\":\"File\"},\"test\":{\"RecordWrapperType\":\"None\",\"S3DistributionType\":\"FullyReplicated\",\"TrainingInputMode\":\"File\"},\"train\":{\"RecordWrapperType\":\"None\",\"S3DistributionType\":\"FullyReplicated\",\"TrainingInputMode\":\"File\"}},\"input_dir\":\"/opt/ml/input\",\"is_master\":true,\"job_name\":\"autogluon-sm-1641831565-ea74\",\"log_level\":20,\"master_hostname\":\"algo-1\",\"model_dir\":\"/opt/ml/model\",\"module_dir\":\"s3://sagemaker-us-east-1-503563512855/autogluon-sm-1641831565-ea74/source/sourcedir.tar.gz\",\"module_name\":\"tabular_train\",\"network_interface_name\":\"eth0\",\"num_cpus\":8,\"num_gpus\":0,\"output_data_dir\":\"/opt/ml/output/data\",\"output_dir\":\"/opt/ml/output\",\"output_intermediate_dir\":\"/opt/ml/output/intermediate\",\"resource_config\":{\"current_host\":\"algo-1\",\"hosts\":[\"algo-1\"],\"network_interface_name\":\"eth0\"},\"user_entry_point\":\"tabular_train.py\"}', 'SM_USER_ARGS': '[]', 'SM_OUTPUT_INTERMEDIATE_DIR': '/opt/ml/output/intermediate', 'SM_CHANNEL_TEST': '/opt/ml/input/data/test', 'SM_CHANNEL_CONFIG': '/opt/ml/input/data/config', 'SM_CHANNEL_TRAIN': '/opt/ml/input/data/train'}\u001b[0m\n",
      "\u001b[34m2022-01-10 16:23:01,176 sagemaker-training-toolkit INFO     No GPUs detected (normal if no gpus installed)\u001b[0m\n",
      "\u001b[34m2022-01-10 16:23:04,227 sagemaker-training-toolkit INFO     No GPUs detected (normal if no gpus installed)\u001b[0m\n",
      "\u001b[34m2022-01-10 16:23:04,240 sagemaker-training-toolkit INFO     No GPUs detected (normal if no gpus installed)\u001b[0m\n",
      "\u001b[34m2022-01-10 16:23:04,250 sagemaker-training-toolkit INFO     Invoking user script\u001b[0m\n",
      "\u001b[34mTraining Env:\u001b[0m\n",
      "\u001b[34m{\n",
      "    \"additional_framework_parameters\": {},\n",
      "    \"channel_input_dirs\": {\n",
      "        \"test\": \"/opt/ml/input/data/test\",\n",
      "        \"config\": \"/opt/ml/input/data/config\",\n",
      "        \"train\": \"/opt/ml/input/data/train\"\n",
      "    },\n",
      "    \"current_host\": \"algo-1\",\n",
      "    \"framework_module\": \"sagemaker_mxnet_container.training:main\",\n",
      "    \"hosts\": [\n",
      "        \"algo-1\"\n",
      "    ],\n",
      "    \"hyperparameters\": {},\n",
      "    \"input_config_dir\": \"/opt/ml/input/config\",\n",
      "    \"input_data_config\": {\n",
      "        \"test\": {\n",
      "            \"TrainingInputMode\": \"File\",\n",
      "            \"S3DistributionType\": \"FullyReplicated\",\n",
      "            \"RecordWrapperType\": \"None\"\n",
      "        },\n",
      "        \"config\": {\n",
      "            \"TrainingInputMode\": \"File\",\n",
      "            \"S3DistributionType\": \"FullyReplicated\",\n",
      "            \"RecordWrapperType\": \"None\"\n",
      "        },\n",
      "        \"train\": {\n",
      "            \"TrainingInputMode\": \"File\",\n",
      "            \"S3DistributionType\": \"FullyReplicated\",\n",
      "            \"RecordWrapperType\": \"None\"\n",
      "        }\n",
      "    },\n",
      "    \"input_dir\": \"/opt/ml/input\",\n",
      "    \"is_master\": true,\n",
      "    \"job_name\": \"autogluon-sm-1641831565-ea74\",\n",
      "    \"log_level\": 20,\n",
      "    \"master_hostname\": \"algo-1\",\n",
      "    \"model_dir\": \"/opt/ml/model\",\n",
      "    \"module_dir\": \"s3://sagemaker-us-east-1-503563512855/autogluon-sm-1641831565-ea74/source/sourcedir.tar.gz\",\n",
      "    \"module_name\": \"tabular_train\",\n",
      "    \"network_interface_name\": \"eth0\",\n",
      "    \"num_cpus\": 8,\n",
      "    \"num_gpus\": 0,\n",
      "    \"output_data_dir\": \"/opt/ml/output/data\",\n",
      "    \"output_dir\": \"/opt/ml/output\",\n",
      "    \"output_intermediate_dir\": \"/opt/ml/output/intermediate\",\n",
      "    \"resource_config\": {\n",
      "        \"current_host\": \"algo-1\",\n",
      "        \"hosts\": [\n",
      "            \"algo-1\"\n",
      "        ],\n",
      "        \"network_interface_name\": \"eth0\"\n",
      "    },\n",
      "    \"user_entry_point\": \"tabular_train.py\"\u001b[0m\n",
      "\u001b[34m}\u001b[0m\n",
      "\u001b[34mEnvironment variables:\u001b[0m\n",
      "\u001b[34mSM_HOSTS=[\"algo-1\"]\u001b[0m\n",
      "\u001b[34mSM_NETWORK_INTERFACE_NAME=eth0\u001b[0m\n",
      "\u001b[34mSM_HPS={}\u001b[0m\n",
      "\u001b[34mSM_USER_ENTRY_POINT=tabular_train.py\u001b[0m\n",
      "\u001b[34mSM_FRAMEWORK_PARAMS={}\u001b[0m\n",
      "\u001b[34mSM_RESOURCE_CONFIG={\"current_host\":\"algo-1\",\"hosts\":[\"algo-1\"],\"network_interface_name\":\"eth0\"}\u001b[0m\n",
      "\u001b[34mSM_INPUT_DATA_CONFIG={\"config\":{\"RecordWrapperType\":\"None\",\"S3DistributionType\":\"FullyReplicated\",\"TrainingInputMode\":\"File\"},\"test\":{\"RecordWrapperType\":\"None\",\"S3DistributionType\":\"FullyReplicated\",\"TrainingInputMode\":\"File\"},\"train\":{\"RecordWrapperType\":\"None\",\"S3DistributionType\":\"FullyReplicated\",\"TrainingInputMode\":\"File\"}}\u001b[0m\n",
      "\u001b[34mSM_OUTPUT_DATA_DIR=/opt/ml/output/data\u001b[0m\n",
      "\u001b[34mSM_CHANNELS=[\"config\",\"test\",\"train\"]\u001b[0m\n",
      "\u001b[34mSM_CURRENT_HOST=algo-1\u001b[0m\n",
      "\u001b[34mSM_MODULE_NAME=tabular_train\u001b[0m\n",
      "\u001b[34mSM_LOG_LEVEL=20\u001b[0m\n",
      "\u001b[34mSM_FRAMEWORK_MODULE=sagemaker_mxnet_container.training:main\u001b[0m\n",
      "\u001b[34mSM_INPUT_DIR=/opt/ml/input\u001b[0m\n",
      "\u001b[34mSM_INPUT_CONFIG_DIR=/opt/ml/input/config\u001b[0m\n",
      "\u001b[34mSM_OUTPUT_DIR=/opt/ml/output\u001b[0m\n",
      "\u001b[34mSM_NUM_CPUS=8\u001b[0m\n",
      "\u001b[34mSM_NUM_GPUS=0\u001b[0m\n",
      "\u001b[34mSM_MODEL_DIR=/opt/ml/model\u001b[0m\n",
      "\u001b[34mSM_MODULE_DIR=s3://sagemaker-us-east-1-503563512855/autogluon-sm-1641831565-ea74/source/sourcedir.tar.gz\u001b[0m\n",
      "\u001b[34mSM_TRAINING_ENV={\"additional_framework_parameters\":{},\"channel_input_dirs\":{\"config\":\"/opt/ml/input/data/config\",\"test\":\"/opt/ml/input/data/test\",\"train\":\"/opt/ml/input/data/train\"},\"current_host\":\"algo-1\",\"framework_module\":\"sagemaker_mxnet_container.training:main\",\"hosts\":[\"algo-1\"],\"hyperparameters\":{},\"input_config_dir\":\"/opt/ml/input/config\",\"input_data_config\":{\"config\":{\"RecordWrapperType\":\"None\",\"S3DistributionType\":\"FullyReplicated\",\"TrainingInputMode\":\"File\"},\"test\":{\"RecordWrapperType\":\"None\",\"S3DistributionType\":\"FullyReplicated\",\"TrainingInputMode\":\"File\"},\"train\":{\"RecordWrapperType\":\"None\",\"S3DistributionType\":\"FullyReplicated\",\"TrainingInputMode\":\"File\"}},\"input_dir\":\"/opt/ml/input\",\"is_master\":true,\"job_name\":\"autogluon-sm-1641831565-ea74\",\"log_level\":20,\"master_hostname\":\"algo-1\",\"model_dir\":\"/opt/ml/model\",\"module_dir\":\"s3://sagemaker-us-east-1-503563512855/autogluon-sm-1641831565-ea74/source/sourcedir.tar.gz\",\"module_name\":\"tabular_train\",\"network_interface_name\":\"eth0\",\"num_cpus\":8,\"num_gpus\":0,\"output_data_dir\":\"/opt/ml/output/data\",\"output_dir\":\"/opt/ml/output\",\"output_intermediate_dir\":\"/opt/ml/output/intermediate\",\"resource_config\":{\"current_host\":\"algo-1\",\"hosts\":[\"algo-1\"],\"network_interface_name\":\"eth0\"},\"user_entry_point\":\"tabular_train.py\"}\u001b[0m\n",
      "\u001b[34mSM_USER_ARGS=[]\u001b[0m\n",
      "\u001b[34mSM_OUTPUT_INTERMEDIATE_DIR=/opt/ml/output/intermediate\u001b[0m\n",
      "\u001b[34mSM_CHANNEL_TEST=/opt/ml/input/data/test\u001b[0m\n",
      "\u001b[34mSM_CHANNEL_CONFIG=/opt/ml/input/data/config\u001b[0m\n",
      "\u001b[34mSM_CHANNEL_TRAIN=/opt/ml/input/data/train\u001b[0m\n",
      "\u001b[34mPYTHONPATH=/opt/ml/code:/usr/local/bin:/usr/local/lib/python37.zip:/usr/local/lib/python3.7:/usr/local/lib/python3.7/lib-dynload:/usr/local/lib/python3.7/site-packages\u001b[0m\n",
      "\u001b[34mInvoking script with the following command:\u001b[0m\n",
      "\u001b[34m/usr/local/bin/python3.7 tabular_train.py\u001b[0m\n",
      "\u001b[34mStarting AG\u001b[0m\n",
      "\u001b[34mArgs: Namespace(ag_config='/opt/ml/input/data/config', model_dir='/opt/ml/model', n_gpus='0', output_data_dir='/opt/ml/output', test_dir='/opt/ml/input/data/test', training_dir='/opt/ml/input/data/train')\u001b[0m\n",
      "\u001b[34mUsing config.yaml\u001b[0m\n",
      "\u001b[34m___config_file:  /opt/ml/input/data/config/config.yaml\u001b[0m\n",
      "\u001b[34m___Running training job with the config:\u001b[0m\n",
      "\u001b[34m{'ag_fit_args': {'presets': ['optimize_for_deployment', 'best_quality']},\n",
      " 'ag_predictor_args': {'label': 'success'},\n",
      " 'feature_importance': True,\n",
      " 'leaderboard': True,\n",
      " 'num_gpus': 0,\n",
      " 'output_prediction_format': 'csv'}\u001b[0m\n",
      "\u001b[34mUsing bg_train.csv\u001b[0m\n",
      "\u001b[34m___train_file:  /opt/ml/input/data/train/bg_train.csv\u001b[0m\n",
      "\u001b[34mWarning: path already exists! This predictor may overwrite an existing predictor! path=\"/opt/ml/model\"\u001b[0m\n",
      "\u001b[34mPresets specified: ['optimize_for_deployment', 'best_quality']\u001b[0m\n",
      "\u001b[34mBeginning AutoGluon training ...\u001b[0m\n",
      "\u001b[34mAutoGluon will save models to \"/opt/ml/model/\"\u001b[0m\n",
      "\u001b[34mAutoGluon Version:  0.3.1\u001b[0m\n",
      "\u001b[34mTrain Data Rows:    57294\u001b[0m\n",
      "\u001b[34mTrain Data Columns: 25\u001b[0m\n",
      "\u001b[34mPreprocessing data ...\u001b[0m\n",
      "\u001b[34mAutoGluon infers your prediction problem is: 'binary' (because only two unique label-values observed).\u001b[0m\n",
      "\u001b[34m#0112 unique label values:  [0, 1]\u001b[0m\n",
      "\u001b[34m#011If 'binary' is not the correct problem_type, please manually specify the problem_type argument in fit() (You may specify problem_type as one of: ['binary', 'multiclass', 'regression'])\u001b[0m\n",
      "\u001b[34mSelected class <--> label mapping:  class 1 = 1, class 0 = 0\u001b[0m\n",
      "\u001b[34mUsing Feature Generators to preprocess the data ...\u001b[0m\n",
      "\u001b[34mFitting AutoMLPipelineFeatureGenerator...\u001b[0m\n",
      "\u001b[34m#011Available Memory:                    31101.61 MB\u001b[0m\n",
      "\u001b[34m#011Train Data (Original)  Memory Usage: 11.46 MB (0.0% of available memory)\u001b[0m\n",
      "\u001b[34m#011Inferring data type of each feature based on column values. Set feature_metadata_in to manually specify special dtypes of the features.\u001b[0m\n",
      "\u001b[34m#011Stage 1 Generators:\u001b[0m\n",
      "\u001b[34m#011#011Fitting AsTypeFeatureGenerator...\u001b[0m\n",
      "\u001b[34m#011#011#011Note: Converting 16 features to boolean dtype as they only contain 2 unique values.\u001b[0m\n",
      "\u001b[34m#011Stage 2 Generators:\u001b[0m\n",
      "\u001b[34m#011#011Fitting FillNaFeatureGenerator...\u001b[0m\n",
      "\u001b[34m#011Stage 3 Generators:\u001b[0m\n",
      "\u001b[34m#011#011Fitting IdentityFeatureGenerator...\u001b[0m\n",
      "\u001b[34m#011Stage 4 Generators:\u001b[0m\n",
      "\u001b[34m#011#011Fitting DropUniqueFeatureGenerator...\u001b[0m\n",
      "\u001b[34m#011Useless Original Features (Count: 3): ['mobile', 'bogo', 'discount']\u001b[0m\n",
      "\u001b[34m#011#011These features carry no predictive signal and should be manually investigated.\u001b[0m\n",
      "\u001b[34m#011#011This is typically a feature which has the same value for all rows.\u001b[0m\n",
      "\u001b[34m#011#011These features do not need to be present at inference time.\u001b[0m\n",
      "\u001b[34m#011Types of features in original data (raw dtype, special dtypes):\u001b[0m\n",
      "\u001b[34m#011#011('float', []) :  5 | ['time', 'time_on', 'reward', 'min_spend', 'duration']\u001b[0m\n",
      "\u001b[34m#011#011('int', [])   : 17 | ['customer_id', 'offer_viewed', 'offer_id', 'D', 'F', ...]\u001b[0m\n",
      "\u001b[34m#011Types of features in processed data (raw dtype, special dtypes):\u001b[0m\n",
      "\u001b[34m#011#011('float', [])     :  2 | ['time', 'time_on']\u001b[0m\n",
      "\u001b[34m#011#011('int', [])       :  4 | ['customer_id', 'offer_id', 'age_class', 'income_class']\u001b[0m\n",
      "\u001b[34m#011#011('int', ['bool']) : 16 | ['offer_viewed', 'D', 'F', 'M', 'O', ...]\u001b[0m\n",
      "\u001b[34m#0110.1s = Fit runtime\u001b[0m\n",
      "\u001b[34m#01122 features in original data used to generate 22 features in processed data.\u001b[0m\n",
      "\u001b[34m#011Train Data (Processed) Memory Usage: 3.67 MB (0.0% of available memory)\u001b[0m\n",
      "\u001b[34mData preprocessing and feature engineering runtime = 0.17s ...\u001b[0m\n",
      "\u001b[34mAutoGluon will gauge predictive performance using evaluation metric: 'accuracy'\u001b[0m\n",
      "\u001b[34m#011To change this, specify the eval_metric argument of fit()\u001b[0m\n",
      "\u001b[34mAutoGluon will fit 2 stack levels (L1 to L2) ...\u001b[0m\n",
      "\u001b[34mFitting 13 L1 models ...\u001b[0m\n",
      "\u001b[34mFitting model: KNeighborsUnif_BAG_L1 ...\u001b[0m\n",
      "\u001b[34m#0110.7448#011 = Validation score   (accuracy)\u001b[0m\n",
      "\u001b[34m#0110.09s#011 = Training   runtime\u001b[0m\n",
      "\u001b[34m#0110.22s#011 = Validation runtime\u001b[0m\n",
      "\u001b[34mFitting model: KNeighborsDist_BAG_L1 ...\u001b[0m\n",
      "\u001b[34m#0110.6309#011 = Validation score   (accuracy)\u001b[0m\n",
      "\u001b[34m#0110.08s#011 = Training   runtime\u001b[0m\n",
      "\u001b[34m#0110.22s#011 = Validation runtime\u001b[0m\n",
      "\u001b[34mFitting model: LightGBMXT_BAG_L1 ...\u001b[0m\n",
      "\n",
      "2022-01-10 16:23:11 Training - Training image download completed. Training in progress.\u001b[34m[1000]#011train_set's binary_error: 0.035199#011valid_set's binary_error: 0.0464223\u001b[0m\n",
      "\u001b[34m[2000]#011train_set's binary_error: 0.0232914#011valid_set's binary_error: 0.0343805\u001b[0m\n",
      "\u001b[34m[3000]#011train_set's binary_error: 0.021003#011valid_set's binary_error: 0.0322862\u001b[0m\n",
      "\u001b[34m[1000]#011train_set's binary_error: 0.0389807#011valid_set's binary_error: 0.0424084\u001b[0m\n",
      "\u001b[34m[2000]#011train_set's binary_error: 0.0253859#011valid_set's binary_error: 0.0333333\u001b[0m\n",
      "\u001b[34m[3000]#011train_set's binary_error: 0.0216236#011valid_set's binary_error: 0.0286213\u001b[0m\n",
      "\u001b[34m[4000]#011train_set's binary_error: 0.0201303#011valid_set's binary_error: 0.0286213\u001b[0m\n",
      "\u001b[34m[1000]#011train_set's binary_error: 0.0354899#011valid_set's binary_error: 0.0415358\u001b[0m\n",
      "\u001b[34m[2000]#011train_set's binary_error: 0.0242611#011valid_set's binary_error: 0.0340314\u001b[0m\n",
      "\u001b[34m[3000]#011train_set's binary_error: 0.0216624#011valid_set's binary_error: 0.0321117\u001b[0m\n",
      "\u001b[34m[4000]#011train_set's binary_error: 0.0201109#011valid_set's binary_error: 0.0312391\u001b[0m\n",
      "\u001b[34m[5000]#011train_set's binary_error: 0.0189085#011valid_set's binary_error: 0.0312391\u001b[0m\n",
      "\u001b[34m[1000]#011train_set's binary_error: 0.036188#011valid_set's binary_error: 0.0500873\u001b[0m\n",
      "\u001b[34m[2000]#011train_set's binary_error: 0.024009#011valid_set's binary_error: 0.0366492\u001b[0m\n",
      "\u001b[34m[3000]#011train_set's binary_error: 0.021003#011valid_set's binary_error: 0.0335079\u001b[0m\n",
      "\u001b[34m[1000]#011train_set's binary_error: 0.0331814#011valid_set's binary_error: 0.0368302\u001b[0m\n",
      "\u001b[34m[2000]#011train_set's binary_error: 0.0233104#011valid_set's binary_error: 0.0315936\u001b[0m\n",
      "\u001b[34m[1000]#011train_set's binary_error: 0.0345001#011valid_set's binary_error: 0.0420667\u001b[0m\n",
      "\u001b[34m[2000]#011train_set's binary_error: 0.0244158#011valid_set's binary_error: 0.0340374\u001b[0m\n",
      "\u001b[34m[3000]#011train_set's binary_error: 0.0212159#011valid_set's binary_error: 0.0319427\u001b[0m\n",
      "\u001b[34m[4000]#011train_set's binary_error: 0.0197809#011valid_set's binary_error: 0.03107\u001b[0m\n",
      "\u001b[34m[1000]#011train_set's binary_error: 0.0346359#011valid_set's binary_error: 0.0401466\u001b[0m\n",
      "\u001b[34m[2000]#011train_set's binary_error: 0.0229419#011valid_set's binary_error: 0.0296736\u001b[0m\n",
      "\u001b[34m[3000]#011train_set's binary_error: 0.0209444#011valid_set's binary_error: 0.0291499\u001b[0m\n",
      "\u001b[34m[1000]#011train_set's binary_error: 0.0334917#011valid_set's binary_error: 0.0371793\u001b[0m\n",
      "\u001b[34m[2000]#011train_set's binary_error: 0.0234655#011valid_set's binary_error: 0.0286263\u001b[0m\n",
      "\u001b[34m[3000]#011train_set's binary_error: 0.0216814#011valid_set's binary_error: 0.0261826\u001b[0m\n",
      "\u001b[34m[1000]#011train_set's binary_error: 0.0342674#011valid_set's binary_error: 0.0377029\u001b[0m\n",
      "\u001b[34m[2000]#011train_set's binary_error: 0.0238728#011valid_set's binary_error: 0.0317682\u001b[0m\n",
      "\u001b[34m[3000]#011train_set's binary_error: 0.021022#011valid_set's binary_error: 0.0289754\u001b[0m\n",
      "\u001b[34m[1000]#011train_set's binary_error: 0.033356#011valid_set's binary_error: 0.0420667\u001b[0m\n",
      "\u001b[34m[2000]#011train_set's binary_error: 0.0238146#011valid_set's binary_error: 0.0354338\u001b[0m\n",
      "\u001b[34m[3000]#011train_set's binary_error: 0.0210026#011valid_set's binary_error: 0.0326409\u001b[0m\n",
      "\u001b[34m[4000]#011train_set's binary_error: 0.0196645#011valid_set's binary_error: 0.0319427\u001b[0m\n",
      "\u001b[34m#0110.9701#011 = Validation score   (accuracy)\u001b[0m\n",
      "\u001b[34m#01194.62s#011 = Training   runtime\u001b[0m\n",
      "\u001b[34m#0112.63s#011 = Validation runtime\u001b[0m\n",
      "\u001b[34mFitting model: LightGBM_BAG_L1 ...\u001b[0m\n",
      "\u001b[34m#0110.9784#011 = Validation score   (accuracy)\u001b[0m\n",
      "\u001b[34m#0112.25s#011 = Training   runtime\u001b[0m\n",
      "\u001b[34m#0110.05s#011 = Validation runtime\u001b[0m\n",
      "\u001b[34mFitting model: RandomForestGini_BAG_L1 ...\u001b[0m\n",
      "\u001b[34m#0110.8111#011 = Validation score   (accuracy)\u001b[0m\n",
      "\u001b[34m#0112.99s#011 = Training   runtime\u001b[0m\n",
      "\u001b[34m#0111.98s#011 = Validation runtime\u001b[0m\n",
      "\u001b[34mFitting model: RandomForestEntr_BAG_L1 ...\u001b[0m\n",
      "\u001b[34m#0110.8178#011 = Validation score   (accuracy)\u001b[0m\n",
      "\u001b[34m#0113.75s#011 = Training   runtime\u001b[0m\n",
      "\u001b[34m#0112.01s#011 = Validation runtime\u001b[0m\n",
      "\u001b[34mFitting model: CatBoost_BAG_L1 ...\u001b[0m\n",
      "\u001b[34m#0110.978#011 = Validation score   (accuracy)\u001b[0m\n",
      "\u001b[34m#0116.6s#011 = Training   runtime\u001b[0m\n",
      "\u001b[34m#0110.05s#011 = Validation runtime\u001b[0m\n",
      "\u001b[34mFitting model: ExtraTreesGini_BAG_L1 ...\u001b[0m\n",
      "\u001b[34m#0110.7817#011 = Validation score   (accuracy)\u001b[0m\n",
      "\u001b[34m#0112.35s#011 = Training   runtime\u001b[0m\n",
      "\u001b[34m#0112.16s#011 = Validation runtime\u001b[0m\n",
      "\u001b[34mFitting model: ExtraTreesEntr_BAG_L1 ...\u001b[0m\n",
      "\u001b[34m#0110.7748#011 = Validation score   (accuracy)\u001b[0m\n",
      "\u001b[34m#0112.35s#011 = Training   runtime\u001b[0m\n",
      "\u001b[34m#0112.2s#011 = Validation runtime\u001b[0m\n",
      "\u001b[34mFitting model: NeuralNetFastAI_BAG_L1 ...\u001b[0m\n",
      "\u001b[34mgenerated new fontManager\u001b[0m\n",
      "\u001b[34m#0110.8951#011 = Validation score   (accuracy)\u001b[0m\n",
      "\u001b[34m#011573.7s#011 = Training   runtime\u001b[0m\n",
      "\u001b[34m#0110.89s#011 = Validation runtime\u001b[0m\n",
      "\u001b[34mFitting model: XGBoost_BAG_L1 ...\u001b[0m\n",
      "\u001b[34m#0110.9783#011 = Validation score   (accuracy)\u001b[0m\n",
      "\u001b[34m#0112.7s#011 = Training   runtime\u001b[0m\n",
      "\u001b[34m#0110.13s#011 = Validation runtime\u001b[0m\n",
      "\u001b[34mFitting model: NeuralNetMXNet_BAG_L1 ...\u001b[0m\n",
      "\u001b[34m#0110.9638#011 = Validation score   (accuracy)\u001b[0m\n",
      "\u001b[34m#0111689.94s#011 = Training   runtime\u001b[0m\n",
      "\u001b[34m#0112.07s#011 = Validation runtime\u001b[0m\n",
      "\u001b[34mFitting model: LightGBMLarge_BAG_L1 ...\u001b[0m\n",
      "\u001b[34m#0110.9784#011 = Validation score   (accuracy)\u001b[0m\n",
      "\u001b[34m#0113.87s#011 = Training   runtime\u001b[0m\n",
      "\u001b[34m#0110.05s#011 = Validation runtime\u001b[0m\n",
      "\u001b[34mFitting model: WeightedEnsemble_L2 ...\u001b[0m\n",
      "\u001b[34m#0110.9784#011 = Validation score   (accuracy)\u001b[0m\n",
      "\u001b[34m#01119.15s#011 = Training   runtime\u001b[0m\n",
      "\u001b[34m#0110.09s#011 = Validation runtime\u001b[0m\n",
      "\u001b[34mFitting 11 L2 models ...\u001b[0m\n",
      "\u001b[34mFitting model: LightGBMXT_BAG_L2 ...\u001b[0m\n",
      "\u001b[34m#0110.9847#011 = Validation score   (accuracy)\u001b[0m\n",
      "\u001b[34m#0117.26s#011 = Training   runtime\u001b[0m\n",
      "\u001b[34m#0110.11s#011 = Validation runtime\u001b[0m\n",
      "\u001b[34mFitting model: LightGBM_BAG_L2 ...\u001b[0m\n",
      "\u001b[34m#0110.985#011 = Validation score   (accuracy)\u001b[0m\n",
      "\u001b[34m#0115.23s#011 = Training   runtime\u001b[0m\n",
      "\u001b[34m#0110.07s#011 = Validation runtime\u001b[0m\n",
      "\u001b[34mFitting model: RandomForestGini_BAG_L2 ...\u001b[0m\n",
      "\u001b[34m#0110.9838#011 = Validation score   (accuracy)\u001b[0m\n",
      "\u001b[34m#0113.97s#011 = Training   runtime\u001b[0m\n",
      "\u001b[34m#0111.75s#011 = Validation runtime\u001b[0m\n",
      "\u001b[34mFitting model: RandomForestEntr_BAG_L2 ...\u001b[0m\n",
      "\u001b[34m#0110.9842#011 = Validation score   (accuracy)\u001b[0m\n",
      "\u001b[34m#0114.97s#011 = Training   runtime\u001b[0m\n",
      "\u001b[34m#0111.66s#011 = Validation runtime\u001b[0m\n",
      "\u001b[34mFitting model: CatBoost_BAG_L2 ...\u001b[0m\n",
      "\u001b[34m#0110.9848#011 = Validation score   (accuracy)\u001b[0m\n",
      "\u001b[34m#01114.88s#011 = Training   runtime\u001b[0m\n",
      "\u001b[34m#0110.05s#011 = Validation runtime\u001b[0m\n",
      "\u001b[34mFitting model: ExtraTreesGini_BAG_L2 ...\u001b[0m\n",
      "\u001b[34m#0110.982#011 = Validation score   (accuracy)\u001b[0m\n",
      "\u001b[34m#0111.77s#011 = Training   runtime\u001b[0m\n",
      "\u001b[34m#0111.61s#011 = Validation runtime\u001b[0m\n",
      "\u001b[34mFitting model: ExtraTreesEntr_BAG_L2 ...\u001b[0m\n",
      "\u001b[34m#0110.9823#011 = Validation score   (accuracy)\u001b[0m\n",
      "\u001b[34m#0111.77s#011 = Training   runtime\u001b[0m\n",
      "\u001b[34m#0111.79s#011 = Validation runtime\u001b[0m\n",
      "\u001b[34mFitting model: NeuralNetFastAI_BAG_L2 ...\u001b[0m\n",
      "\u001b[34mNo improvement since epoch 7: early stopping\u001b[0m\n",
      "\u001b[34m#0110.9851#011 = Validation score   (accuracy)\u001b[0m\n",
      "\u001b[34m#011586.33s#011 = Training   runtime\u001b[0m\n",
      "\u001b[34m#0110.95s#011 = Validation runtime\u001b[0m\n",
      "\u001b[34mFitting model: XGBoost_BAG_L2 ...\u001b[0m\n",
      "\u001b[34m#0110.9846#011 = Validation score   (accuracy)\u001b[0m\n",
      "\u001b[34m#0116.36s#011 = Training   runtime\u001b[0m\n",
      "\u001b[34m#0110.12s#011 = Validation runtime\u001b[0m\n",
      "\u001b[34mFitting model: NeuralNetMXNet_BAG_L2 ...\u001b[0m\n",
      "\u001b[34m#0110.9855#011 = Validation score   (accuracy)\u001b[0m\n",
      "\u001b[34m#011538.03s#011 = Training   runtime\u001b[0m\n",
      "\u001b[34m#0112.32s#011 = Validation runtime\u001b[0m\n",
      "\u001b[34mFitting model: LightGBMLarge_BAG_L2 ...\u001b[0m\n",
      "\u001b[34m#0110.9851#011 = Validation score   (accuracy)\u001b[0m\n",
      "\u001b[34m#01110.45s#011 = Training   runtime\u001b[0m\n",
      "\u001b[34m#0110.08s#011 = Validation runtime\u001b[0m\n",
      "\u001b[34mFitting model: WeightedEnsemble_L3 ...\u001b[0m\n",
      "\u001b[34m#0110.9859#011 = Validation score   (accuracy)\u001b[0m\n",
      "\u001b[34m#01116.52s#011 = Training   runtime\u001b[0m\n",
      "\u001b[34m#0110.09s#011 = Validation runtime\u001b[0m\n",
      "\u001b[34mAutoGluon training complete, total runtime = 3639.3s ...\u001b[0m\n",
      "\u001b[34mDeleting model WeightedEnsemble_L2. All files under /opt/ml/model/models/WeightedEnsemble_L2/ will be removed.\u001b[0m\n",
      "\u001b[34mDeleting model LightGBMXT_BAG_L2. All files under /opt/ml/model/models/LightGBMXT_BAG_L2/ will be removed.\u001b[0m\n",
      "\u001b[34mDeleting model LightGBM_BAG_L2. All files under /opt/ml/model/models/LightGBM_BAG_L2/ will be removed.\u001b[0m\n",
      "\u001b[34mDeleting model RandomForestGini_BAG_L2. All files under /opt/ml/model/models/RandomForestGini_BAG_L2/ will be removed.\u001b[0m\n",
      "\u001b[34mDeleting model ExtraTreesGini_BAG_L2. All files under /opt/ml/model/models/ExtraTreesGini_BAG_L2/ will be removed.\u001b[0m\n",
      "\u001b[34mDeleting model ExtraTreesEntr_BAG_L2. All files under /opt/ml/model/models/ExtraTreesEntr_BAG_L2/ will be removed.\u001b[0m\n",
      "\u001b[34mDeleting model XGBoost_BAG_L2. All files under /opt/ml/model/models/XGBoost_BAG_L2/ will be removed.\u001b[0m\n",
      "\u001b[34mTabularPredictor saved. To load, use: predictor = TabularPredictor.load(\"/opt/ml/model/\")\u001b[0m\n",
      "\u001b[34mUsing bg_test.csv\u001b[0m\n",
      "\u001b[34m___test_file: /opt/ml/input/data/test/bg_test.csv\u001b[0m\n",
      "\u001b[34mLoaded data from: /opt/ml/input/data/test/bg_test.csv | Columns = 26 / 26 | Rows = 14323 -> 14323\u001b[0m\n",
      "\u001b[34m                      model  score_test  score_val  pred_time_test  pred_time_val     fit_time  pred_time_test_marginal  pred_time_val_marginal  fit_time_marginal  stack_level  can_infer  fit_order\u001b[0m\n",
      "\u001b[34m0       WeightedEnsemble_L3    0.986735   0.985862       27.356848      19.812690  3556.450998                 0.004071                0.091912          16.520057            3       True         19\u001b[0m\n",
      "\u001b[34m1    NeuralNetFastAI_BAG_L2    0.986595   0.985129       20.994372      15.602357  2971.606481                 3.103074                0.951224         586.333143            2       True         16\u001b[0m\n",
      "\u001b[34m2     NeuralNetMXNet_BAG_L2    0.986595   0.985531       23.766964      16.969076  2923.298506                 5.875666                2.317943         538.025168            2       True         17\u001b[0m\n",
      "\u001b[34m3      LightGBMLarge_BAG_L2    0.986176   0.985129       18.083522      14.734784  2395.723789                 0.192224                0.083651          10.450452            2       True         18\u001b[0m\n",
      "\u001b[34m4           CatBoost_BAG_L2    0.986036   0.984763       17.938277      14.705516  2400.149431                 0.046979                0.054383          14.876094            2       True         15\u001b[0m\n",
      "\u001b[34m5   RandomForestEntr_BAG_L2    0.985408   0.984239       18.134835      16.313578  2390.246084                 0.243536                1.662445           4.972746            2       True         14\u001b[0m\n",
      "\u001b[34m6           LightGBM_BAG_L1    0.979404   0.978375        0.046980       0.045825     2.245692                 0.046980                0.045825           2.245692            1       True          4\u001b[0m\n",
      "\u001b[34m7      LightGBMLarge_BAG_L1    0.979404   0.978375        0.072704       0.053669     3.866122                 0.072704                0.053669           3.866122            1       True         13\u001b[0m\n",
      "\u001b[34m8            XGBoost_BAG_L1    0.979334   0.978340        0.210664       0.125873     2.704377                 0.210664                0.125873           2.704377            1       True         11\u001b[0m\n",
      "\u001b[34m9           CatBoost_BAG_L1    0.978915   0.977956        0.034152       0.046369     6.598336                 0.034152                0.046369           6.598336            1       True          7\u001b[0m\n",
      "\u001b[34m10        LightGBMXT_BAG_L1    0.970188   0.970119        6.343249       2.630452    94.619072                 6.343249                2.630452          94.619072            1       True          3\u001b[0m\n",
      "\u001b[34m11    NeuralNetMXNet_BAG_L1    0.967884   0.963818        5.091652       2.070267  1689.944952                 5.091652                2.070267        1689.944952            1       True         12\u001b[0m\n",
      "\u001b[34m12   NeuralNetFastAI_BAG_L1    0.900859   0.895050        2.962785       0.888405   573.697006                 2.962785                0.888405         573.697006            1       True         10\u001b[0m\n",
      "\u001b[34m13  RandomForestEntr_BAG_L1    0.817636   0.817765        0.749913       2.006927     3.746147                 0.749913                2.006927           3.746147            1       True          6\u001b[0m\n",
      "\u001b[34m14  RandomForestGini_BAG_L1    0.811981   0.811115        0.439231       1.982433     2.990533                 0.439231                1.982433           2.990533            1       True          5\u001b[0m\n",
      "\u001b[34m15    ExtraTreesGini_BAG_L1    0.780982   0.781653        0.689096       2.163169     2.348413                 0.689096                2.163169           2.348413            1       True          8\u001b[0m\n",
      "\u001b[34m16    ExtraTreesEntr_BAG_L1    0.773860   0.774793        1.030609       2.200588     2.345469                 1.030609                2.200588           2.345469            1       True          9\u001b[0m\n",
      "\u001b[34m17    KNeighborsUnif_BAG_L1    0.748097   0.744825        0.109784       0.221822     0.086229                 0.109784                0.221822           0.086229            1       True          1\u001b[0m\n",
      "\u001b[34m18    KNeighborsDist_BAG_L1    0.634993   0.630904        0.110480       0.215333     0.080991                 0.110480                0.215333           0.080991            1       True          2\u001b[0m\n",
      "\u001b[34mComputing feature importance via permutation shuffling for 25 features using 1000 rows with 3 shuffle sets...\u001b[0m\n",
      "\u001b[34m#011500.97s#011= Expected runtime (166.99s per shuffle set)\u001b[0m\n",
      "\u001b[34m#011150.46s#011= Actual runtime (Completed 3 of 3 shuffle sets)\u001b[0m\n",
      "\u001b[34m2022-01-10 17:27:13,485 sagemaker-training-toolkit INFO     Reporting training SUCCESS\u001b[0m\n",
      "\n",
      "2022-01-10 17:27:33 Uploading - Uploading generated training model\n",
      "2022-01-10 17:30:14 Completed - Training job completed\n",
      "ProfilerReport-1641831565: NoIssuesFound\n",
      "Training seconds: 4052\n",
      "Billable seconds: 4052\n"
     ]
    }
   ],
   "source": [
    "# Remove time_limit = 600 in  config file\n",
    "job_name = utils.unique_name_from_base(\"autogluon-sm\")\n",
    "ag.fit(\n",
    "    {\"config\": config_input, \"train\": train_input, \"test\": eval_input},\n",
    "    job_name=job_name,\n",
    ")\n",
    "# job_name='autogluon-sm-1641831565-ea74'"
   ]
  },
  {
   "cell_type": "code",
   "execution_count": 23,
   "metadata": {},
   "outputs": [
    {
     "name": "stdout",
     "output_type": "stream",
     "text": [
      "Training job name:  autogluon-sm-1641831565-ea74\n"
     ]
    }
   ],
   "source": [
    "print('Training job name: ', job_name)"
   ]
  },
  {
   "cell_type": "code",
   "execution_count": 25,
   "metadata": {},
   "outputs": [
    {
     "name": "stdout",
     "output_type": "stream",
     "text": [
      "model directory name:  s3://sagemaker-us-east-1-503563512855/autogluon-sm-1641831565-ea74/output\n"
     ]
    }
   ],
   "source": [
    "model_dir = f's3://{bucket}/{job_name}/output'\n",
    "print('model directory name: ', model_dir)"
   ]
  },
  {
   "cell_type": "code",
   "execution_count": 27,
   "metadata": {},
   "outputs": [
    {
     "name": "stdout",
     "output_type": "stream",
     "text": [
      "sg-ag-deploy-1641837746-719b sg-ag-deploy-1641837746-719b/modes\n"
     ]
    }
   ],
   "source": [
    "s3_deploy = f\"ag_sm_deploy/{utils.sagemaker_timestamp()}\"\n",
    "output_path = f\"s3://{bucket}/{s3_deploy}/output/\"\n",
    "endpoint_name = sagemaker.utils.unique_name_from_base(\"sg-ag-deploy\")\n",
    "\n",
    "# !aws s3 sync model_dir output_path+/models "
   ]
  },
  {
   "cell_type": "code",
   "execution_count": 30,
   "metadata": {},
   "outputs": [
    {
     "name": "stdout",
     "output_type": "stream",
     "text": [
      "sg-ag-deploy-1641837746-719b \n",
      " s3://sagemaker-us-east-1-503563512855/sg-ag-deploy-1641837746-719b/models\n"
     ]
    }
   ],
   "source": [
    "dest_dir = f's3://{bucket}/{endpoint_name}/models'\n",
    "print(endpoint_name, '\\n', dest_dir)\n"
   ]
  },
  {
   "cell_type": "code",
   "execution_count": 31,
   "metadata": {},
   "outputs": [
    {
     "name": "stdout",
     "output_type": "stream",
     "text": [
      "copy: s3://sagemaker-us-east-1-503563512855/autogluon-sm-1641831565-ea74/output/model.tar.gz to s3://sagemaker-us-east-1-503563512855/sg-ag-deploy-1641837746-719b/models/model.tar.gz\n"
     ]
    }
   ],
   "source": [
    "# Copy model image to endpoint data directory\n",
    "!aws s3 sync s3://sagemaker-us-east-1-503563512855/autogluon-sm-1641831565-ea74/output/ s3://sagemaker-us-east-1-503563512855/sg-ag-deploy-1641837746-719b/models\n",
    "        "
   ]
  },
  {
   "cell_type": "code",
   "execution_count": 33,
   "metadata": {},
   "outputs": [
    {
     "name": "stdout",
     "output_type": "stream",
     "text": [
      "model_data name:  s3://sagemaker-us-east-1-503563512855/sg-ag-deploy-1641837746-719b/models/model.tar.gz\n"
     ]
    }
   ],
   "source": [
    "# Get model data name\n",
    "model_data = dest_dir+'/model.tar.gz'\n",
    "print('model_data name: ', model_data)"
   ]
  },
  {
   "cell_type": "code",
   "execution_count": 35,
   "metadata": {},
   "outputs": [
    {
     "name": "stdout",
     "output_type": "stream",
     "text": [
      "------!"
     ]
    }
   ],
   "source": [
    "# Deploy the endpoint for bogo\n",
    "instance_type = \"ml.m5.2xlarge\"\n",
    "\n",
    "model = AutoGluonInferenceModel(\n",
    "    model_data=model_data,\n",
    "    role=role,\n",
    "    region=region,\n",
    "    framework_version=\"0.3.1\",\n",
    "    instance_type=instance_type,\n",
    "#     source_dir=\"scripts\",\n",
    "    entry_point=\"tabular_serve.py\",\n",
    ")\n",
    "\n",
    "bogo_predictor = model.deploy(initial_instance_count=1, \n",
    "                         serializer=CSVSerializer(), \n",
    "                         instance_type=instance_type\n",
    "                        )"
   ]
  },
  {
   "cell_type": "code",
   "execution_count": 36,
   "metadata": {},
   "outputs": [
    {
     "name": "stdout",
     "output_type": "stream",
     "text": [
      "bogo_predictor.endpoint_name =  autogluon-inference-2022-01-10-18-29-05-217\n"
     ]
    }
   ],
   "source": [
    "# bogo_predictor = predictor\n",
    "print('bogo_predictor.endpoint_name = ',bogo_predictor.endpoint_name)"
   ]
  },
  {
   "cell_type": "code",
   "execution_count": 45,
   "metadata": {},
   "outputs": [
    {
     "data": {
      "text/plain": [
       "(14324, 25)"
      ]
     },
     "execution_count": 45,
     "metadata": {},
     "output_type": "execute_result"
    }
   ],
   "source": [
    "bg_test_data = pd.read_csv(\"data/bg_test.csv\")\n",
    "bg_test_data = bg_test_data.drop(columns=[0], axis=1)\n",
    "bg_test_data.shape"
   ]
  },
  {
   "cell_type": "code",
   "execution_count": 154,
   "metadata": {},
   "outputs": [
    {
     "data": {
      "text/plain": [
       "42969"
      ]
     },
     "execution_count": 154,
     "metadata": {},
     "output_type": "execute_result"
    }
   ],
   "source": [
    "bg_test_data = pd.read_csv(\"data/bg_test.csv\")\n",
    "bg_success = bg_test_data.loc[1:,0].tolist()\n",
    "bg_success = [int(item) for item in bg_success]\n",
    "# Save bg_success\n",
    "with open('bg_success.txt', 'w') as f:\n",
    "    f.write(str(bg_success))"
   ]
  },
  {
   "cell_type": "code",
   "execution_count": null,
   "metadata": {},
   "outputs": [],
   "source": [
    "#  Prepare test data for endpoint\n",
    "bg_test_data = pd.read_csv(\"data/bg_test.csv\")\n",
    "bg_test_data.drop(columns=['mobile', 'bogo', 'discount','success'], axis=1, inplace=True)\n",
    "# Prediction of 500 test rows\n",
    "bg_predictions = bogo_predictor.predict(bg_test_data[:500].values)\n"
   ]
  },
  {
   "cell_type": "code",
   "execution_count": 111,
   "metadata": {},
   "outputs": [
    {
     "data": {
      "text/plain": [
       "[[0.0, 0.9517540335655212, 0.04824599251151085],\n",
       " [1.0, 0.008261322975158691, 0.9917386770248413],\n",
       " [0.0, 0.9948185682296753, 0.005181452259421349],\n",
       " [1.0, 0.008979439735412598, 0.9910205602645874],\n",
       " [0.0, 0.9975728392601013, 0.0024271896108984947]]"
      ]
     },
     "execution_count": 111,
     "metadata": {},
     "output_type": "execute_result"
    }
   ],
   "source": [
    "bg_predictions[:5]"
   ]
  },
  {
   "cell_type": "code",
   "execution_count": null,
   "metadata": {},
   "outputs": [],
   "source": [
    "NUM_TEST = bg_test_data.shape[0]\n",
    "SEGMENT = 500\n",
    "ITER = NUM_TEST // SEGMENT\n",
    "\n",
    "bg_preds = []\n",
    "for k in range(ITER):\n",
    "    preds = bogo_predictor.predict(bg_test_data[k*SEGMENT:(k+1)*SEGMENT].values)\n",
    "    bg_preds.extend(preds)\n",
    "\n",
    "preds = bogo_predictor.predict(bg_test_data[ITER*SEGMENT:].values)\n",
    "bg_preds.extend(preds)"
   ]
  },
  {
   "cell_type": "code",
   "execution_count": 123,
   "metadata": {},
   "outputs": [
    {
     "name": "stdout",
     "output_type": "stream",
     "text": [
      "14323\n"
     ]
    },
    {
     "data": {
      "text/plain": [
       "[[0.0, 0.9517540335655212, 0.04824599251151085],\n",
       " [1.0, 0.008261322975158691, 0.9917386770248413],\n",
       " [0.0, 0.9948185682296753, 0.005181452259421349],\n",
       " [1.0, 0.008979439735412598, 0.9910205602645874],\n",
       " [0.0, 0.9975728392601013, 0.0024271896108984947]]"
      ]
     },
     "execution_count": 123,
     "metadata": {},
     "output_type": "execute_result"
    }
   ],
   "source": [
    "print(len(bg_preds))\n",
    "bg_preds[:5]"
   ]
  },
  {
   "cell_type": "code",
   "execution_count": 148,
   "metadata": {},
   "outputs": [],
   "source": [
    "bg_predictions = [int(item[0]) for item in bg_preds]"
   ]
  },
  {
   "cell_type": "code",
   "execution_count": 163,
   "metadata": {},
   "outputs": [
    {
     "data": {
      "text/plain": [
       "699979"
      ]
     },
     "execution_count": 163,
     "metadata": {},
     "output_type": "execute_result"
    },
    {
     "data": {
      "text/plain": [
       "42969"
      ]
     },
     "execution_count": 163,
     "metadata": {},
     "output_type": "execute_result"
    }
   ],
   "source": [
    "with open('bogo_preds.txt', 'w') as f:\n",
    "    f.write(str(bg_preds))\n",
    "with open('bg_predictions.txt', 'w') as f:\n",
    "    f.write(str(bg_predictions))\n"
   ]
  },
  {
   "cell_type": "code",
   "execution_count": 159,
   "metadata": {},
   "outputs": [],
   "source": [
    "from sklearn.metrics import (accuracy_score, f1_score, balanced_accuracy_score, \n",
    "                             precision_score, recall_score, roc_auc_score)"
   ]
  },
  {
   "cell_type": "code",
   "execution_count": 164,
   "metadata": {},
   "outputs": [
    {
     "name": "stdout",
     "output_type": "stream",
     "text": [
      "Bogo predictions test scores \n",
      "accuracy_score:  0.9867346226349228 \n",
      "balanced_accuracy_score:  0.9891488181708774 \n",
      "precision_score:  0.945617402431222 \n",
      "recall_score:  0.9932795698924731 \n",
      "f1_score:  0.9688626679777124 \n",
      "roc_auc_score 0.9891488181708775\n"
     ]
    }
   ],
   "source": [
    "print('Bogo predictions test scores',\n",
    "    '\\naccuracy_score: ', accuracy_score(bg_predictions, bg_success),\n",
    "     '\\nbalanced_accuracy_score: ', balanced_accuracy_score(bg_predictions, bg_success),\n",
    "     '\\nprecision_score: ', precision_score(bg_predictions, bg_success),\n",
    "     '\\nrecall_score: ', recall_score(bg_predictions, bg_success),\n",
    "     '\\nf1_score: ', f1_score(bg_predictions, bg_success),\n",
    "     '\\nroc_auc_score', roc_auc_score(bg_predictions, bg_success))"
   ]
  },
  {
   "cell_type": "markdown",
   "metadata": {},
   "source": [
    "### Prepare for dicsount training model with autogluon tabular on sagemaker"
   ]
  },
  {
   "cell_type": "code",
   "execution_count": 9,
   "metadata": {},
   "outputs": [],
   "source": [
    "DIR = 'data/'\n",
    "discount = pd.read_csv(DIR + 'discount.csv')\n",
    "disc_train = discount.sample(frac = 0.8, random_state = 18)\n",
    "disc_test = discount.drop(disc_train.index)\n",
    "\n",
    "disc_train_file = DIR+'disc_train.csv'\n",
    "disc_test_file = DIR+'disc_test.csv'\n",
    "\n",
    "disc_train.to_csv(disc_train_file, index=False)\n",
    "disc_test.to_csv(disc_test_file, index=False)\n",
    "\n",
    "disc_train_s3 = session.upload_data(disc_train_file, \n",
    "                                  key_prefix=\"{}/data/train\".format(prefix))\n",
    "disc_test_s3 = session.upload_data(disc_test_file, \n",
    "                                  key_prefix=\"{}/data/test\".format(prefix))\n",
    "ag_config_s3 = session.upload_data('config.yaml', \n",
    "                                  key_prefix=\"{}/config/test\".format(prefix))"
   ]
  },
  {
   "cell_type": "code",
   "execution_count": 10,
   "metadata": {},
   "outputs": [],
   "source": [
    "# s3_prefix = f\"autogluon_sm/{utils.sagemaker_timestamp()}\"\n",
    "disc_train_input = ag.sagemaker_session.upload_data(\n",
    "    path=os.path.join(\"data\", \"disc_train.csv\"), key_prefix=s3_prefix\n",
    ")\n",
    "disc_eval_input = ag.sagemaker_session.upload_data(\n",
    "    path=os.path.join(\"data\", \"disc_test.csv\"), key_prefix=s3_prefix\n",
    ")\n",
    "config_input = ag.sagemaker_session.upload_data(\n",
    "    path=os.path.join(\"config\", \"config.yaml\"), key_prefix=s3_prefix\n",
    ")\n"
   ]
  },
  {
   "cell_type": "code",
   "execution_count": 13,
   "metadata": {},
   "outputs": [
    {
     "name": "stdout",
     "output_type": "stream",
     "text": [
      "2022-01-10 22:03:00 Starting - Starting the training job...\n",
      "2022-01-10 22:03:13 Starting - Launching requested ML instancesProfilerReport-1641852179: InProgress\n",
      "......\n",
      "2022-01-10 22:04:15 Starting - Preparing the instances for training.........\n",
      "2022-01-10 22:05:55 Downloading - Downloading input data...\n",
      "2022-01-10 22:06:24 Training - Downloading the training image..\u001b[34m2022-01-10 22:06:40,044 sagemaker-training-toolkit INFO     Imported framework sagemaker_mxnet_container.training\u001b[0m\n",
      "\u001b[34m2022-01-10 22:06:40,046 sagemaker-training-toolkit INFO     No GPUs detected (normal if no gpus installed)\u001b[0m\n",
      "\u001b[34m2022-01-10 22:06:40,057 sagemaker_mxnet_container.training INFO     MXNet training environment: {'SM_HOSTS': '[\"algo-1\"]', 'SM_NETWORK_INTERFACE_NAME': 'eth0', 'SM_HPS': '{}', 'SM_USER_ENTRY_POINT': 'tabular_train.py', 'SM_FRAMEWORK_PARAMS': '{}', 'SM_RESOURCE_CONFIG': '{\"current_host\":\"algo-1\",\"hosts\":[\"algo-1\"],\"network_interface_name\":\"eth0\"}', 'SM_INPUT_DATA_CONFIG': '{\"config\":{\"RecordWrapperType\":\"None\",\"S3DistributionType\":\"FullyReplicated\",\"TrainingInputMode\":\"File\"},\"test\":{\"RecordWrapperType\":\"None\",\"S3DistributionType\":\"FullyReplicated\",\"TrainingInputMode\":\"File\"},\"train\":{\"RecordWrapperType\":\"None\",\"S3DistributionType\":\"FullyReplicated\",\"TrainingInputMode\":\"File\"}}', 'SM_OUTPUT_DATA_DIR': '/opt/ml/output/data', 'SM_CHANNELS': '[\"config\",\"test\",\"train\"]', 'SM_CURRENT_HOST': 'algo-1', 'SM_MODULE_NAME': 'tabular_train', 'SM_LOG_LEVEL': '20', 'SM_FRAMEWORK_MODULE': 'sagemaker_mxnet_container.training:main', 'SM_INPUT_DIR': '/opt/ml/input', 'SM_INPUT_CONFIG_DIR': '/opt/ml/input/config', 'SM_OUTPUT_DIR': '/opt/ml/output', 'SM_NUM_CPUS': '8', 'SM_NUM_GPUS': '0', 'SM_MODEL_DIR': '/opt/ml/model', 'SM_MODULE_DIR': 's3://sagemaker-us-east-1-503563512855/ag-sm-disc-1641852179-ab08/source/sourcedir.tar.gz', 'SM_TRAINING_ENV': '{\"additional_framework_parameters\":{},\"channel_input_dirs\":{\"config\":\"/opt/ml/input/data/config\",\"test\":\"/opt/ml/input/data/test\",\"train\":\"/opt/ml/input/data/train\"},\"current_host\":\"algo-1\",\"framework_module\":\"sagemaker_mxnet_container.training:main\",\"hosts\":[\"algo-1\"],\"hyperparameters\":{},\"input_config_dir\":\"/opt/ml/input/config\",\"input_data_config\":{\"config\":{\"RecordWrapperType\":\"None\",\"S3DistributionType\":\"FullyReplicated\",\"TrainingInputMode\":\"File\"},\"test\":{\"RecordWrapperType\":\"None\",\"S3DistributionType\":\"FullyReplicated\",\"TrainingInputMode\":\"File\"},\"train\":{\"RecordWrapperType\":\"None\",\"S3DistributionType\":\"FullyReplicated\",\"TrainingInputMode\":\"File\"}},\"input_dir\":\"/opt/ml/input\",\"is_master\":true,\"job_name\":\"ag-sm-disc-1641852179-ab08\",\"log_level\":20,\"master_hostname\":\"algo-1\",\"model_dir\":\"/opt/ml/model\",\"module_dir\":\"s3://sagemaker-us-east-1-503563512855/ag-sm-disc-1641852179-ab08/source/sourcedir.tar.gz\",\"module_name\":\"tabular_train\",\"network_interface_name\":\"eth0\",\"num_cpus\":8,\"num_gpus\":0,\"output_data_dir\":\"/opt/ml/output/data\",\"output_dir\":\"/opt/ml/output\",\"output_intermediate_dir\":\"/opt/ml/output/intermediate\",\"resource_config\":{\"current_host\":\"algo-1\",\"hosts\":[\"algo-1\"],\"network_interface_name\":\"eth0\"},\"user_entry_point\":\"tabular_train.py\"}', 'SM_USER_ARGS': '[]', 'SM_OUTPUT_INTERMEDIATE_DIR': '/opt/ml/output/intermediate', 'SM_CHANNEL_TEST': '/opt/ml/input/data/test', 'SM_CHANNEL_CONFIG': '/opt/ml/input/data/config', 'SM_CHANNEL_TRAIN': '/opt/ml/input/data/train'}\u001b[0m\n",
      "\u001b[34m2022-01-10 22:06:40,514 sagemaker-training-toolkit INFO     No GPUs detected (normal if no gpus installed)\u001b[0m\n",
      "\n",
      "2022-01-10 22:06:55 Training - Training image download completed. Training in progress.\u001b[34m2022-01-10 22:06:46,764 sagemaker-training-toolkit INFO     No GPUs detected (normal if no gpus installed)\u001b[0m\n",
      "\u001b[34m2022-01-10 22:06:46,777 sagemaker-training-toolkit INFO     No GPUs detected (normal if no gpus installed)\u001b[0m\n",
      "\u001b[34m2022-01-10 22:06:46,787 sagemaker-training-toolkit INFO     Invoking user script\u001b[0m\n",
      "\u001b[34mTraining Env:\u001b[0m\n",
      "\u001b[34m{\n",
      "    \"additional_framework_parameters\": {},\n",
      "    \"channel_input_dirs\": {\n",
      "        \"test\": \"/opt/ml/input/data/test\",\n",
      "        \"config\": \"/opt/ml/input/data/config\",\n",
      "        \"train\": \"/opt/ml/input/data/train\"\n",
      "    },\n",
      "    \"current_host\": \"algo-1\",\n",
      "    \"framework_module\": \"sagemaker_mxnet_container.training:main\",\n",
      "    \"hosts\": [\n",
      "        \"algo-1\"\n",
      "    ],\n",
      "    \"hyperparameters\": {},\n",
      "    \"input_config_dir\": \"/opt/ml/input/config\",\n",
      "    \"input_data_config\": {\n",
      "        \"test\": {\n",
      "            \"TrainingInputMode\": \"File\",\n",
      "            \"S3DistributionType\": \"FullyReplicated\",\n",
      "            \"RecordWrapperType\": \"None\"\n",
      "        },\n",
      "        \"config\": {\n",
      "            \"TrainingInputMode\": \"File\",\n",
      "            \"S3DistributionType\": \"FullyReplicated\",\n",
      "            \"RecordWrapperType\": \"None\"\n",
      "        },\n",
      "        \"train\": {\n",
      "            \"TrainingInputMode\": \"File\",\n",
      "            \"S3DistributionType\": \"FullyReplicated\",\n",
      "            \"RecordWrapperType\": \"None\"\n",
      "        }\n",
      "    },\n",
      "    \"input_dir\": \"/opt/ml/input\",\n",
      "    \"is_master\": true,\n",
      "    \"job_name\": \"ag-sm-disc-1641852179-ab08\",\n",
      "    \"log_level\": 20,\n",
      "    \"master_hostname\": \"algo-1\",\n",
      "    \"model_dir\": \"/opt/ml/model\",\n",
      "    \"module_dir\": \"s3://sagemaker-us-east-1-503563512855/ag-sm-disc-1641852179-ab08/source/sourcedir.tar.gz\",\n",
      "    \"module_name\": \"tabular_train\",\n",
      "    \"network_interface_name\": \"eth0\",\n",
      "    \"num_cpus\": 8,\n",
      "    \"num_gpus\": 0,\n",
      "    \"output_data_dir\": \"/opt/ml/output/data\",\n",
      "    \"output_dir\": \"/opt/ml/output\",\n",
      "    \"output_intermediate_dir\": \"/opt/ml/output/intermediate\",\n",
      "    \"resource_config\": {\n",
      "        \"current_host\": \"algo-1\",\n",
      "        \"hosts\": [\n",
      "            \"algo-1\"\n",
      "        ],\n",
      "        \"network_interface_name\": \"eth0\"\n",
      "    },\n",
      "    \"user_entry_point\": \"tabular_train.py\"\u001b[0m\n",
      "\u001b[34m}\u001b[0m\n",
      "\u001b[34mEnvironment variables:\u001b[0m\n",
      "\u001b[34mSM_HOSTS=[\"algo-1\"]\u001b[0m\n",
      "\u001b[34mSM_NETWORK_INTERFACE_NAME=eth0\u001b[0m\n",
      "\u001b[34mSM_HPS={}\u001b[0m\n",
      "\u001b[34mSM_USER_ENTRY_POINT=tabular_train.py\u001b[0m\n",
      "\u001b[34mSM_FRAMEWORK_PARAMS={}\u001b[0m\n",
      "\u001b[34mSM_RESOURCE_CONFIG={\"current_host\":\"algo-1\",\"hosts\":[\"algo-1\"],\"network_interface_name\":\"eth0\"}\u001b[0m\n",
      "\u001b[34mSM_INPUT_DATA_CONFIG={\"config\":{\"RecordWrapperType\":\"None\",\"S3DistributionType\":\"FullyReplicated\",\"TrainingInputMode\":\"File\"},\"test\":{\"RecordWrapperType\":\"None\",\"S3DistributionType\":\"FullyReplicated\",\"TrainingInputMode\":\"File\"},\"train\":{\"RecordWrapperType\":\"None\",\"S3DistributionType\":\"FullyReplicated\",\"TrainingInputMode\":\"File\"}}\u001b[0m\n",
      "\u001b[34mSM_OUTPUT_DATA_DIR=/opt/ml/output/data\u001b[0m\n",
      "\u001b[34mSM_CHANNELS=[\"config\",\"test\",\"train\"]\u001b[0m\n",
      "\u001b[34mSM_CURRENT_HOST=algo-1\u001b[0m\n",
      "\u001b[34mSM_MODULE_NAME=tabular_train\u001b[0m\n",
      "\u001b[34mSM_LOG_LEVEL=20\u001b[0m\n",
      "\u001b[34mSM_FRAMEWORK_MODULE=sagemaker_mxnet_container.training:main\u001b[0m\n",
      "\u001b[34mSM_INPUT_DIR=/opt/ml/input\u001b[0m\n",
      "\u001b[34mSM_INPUT_CONFIG_DIR=/opt/ml/input/config\u001b[0m\n",
      "\u001b[34mSM_OUTPUT_DIR=/opt/ml/output\u001b[0m\n",
      "\u001b[34mSM_NUM_CPUS=8\u001b[0m\n",
      "\u001b[34mSM_NUM_GPUS=0\u001b[0m\n",
      "\u001b[34mSM_MODEL_DIR=/opt/ml/model\u001b[0m\n",
      "\u001b[34mSM_MODULE_DIR=s3://sagemaker-us-east-1-503563512855/ag-sm-disc-1641852179-ab08/source/sourcedir.tar.gz\u001b[0m\n",
      "\u001b[34mSM_TRAINING_ENV={\"additional_framework_parameters\":{},\"channel_input_dirs\":{\"config\":\"/opt/ml/input/data/config\",\"test\":\"/opt/ml/input/data/test\",\"train\":\"/opt/ml/input/data/train\"},\"current_host\":\"algo-1\",\"framework_module\":\"sagemaker_mxnet_container.training:main\",\"hosts\":[\"algo-1\"],\"hyperparameters\":{},\"input_config_dir\":\"/opt/ml/input/config\",\"input_data_config\":{\"config\":{\"RecordWrapperType\":\"None\",\"S3DistributionType\":\"FullyReplicated\",\"TrainingInputMode\":\"File\"},\"test\":{\"RecordWrapperType\":\"None\",\"S3DistributionType\":\"FullyReplicated\",\"TrainingInputMode\":\"File\"},\"train\":{\"RecordWrapperType\":\"None\",\"S3DistributionType\":\"FullyReplicated\",\"TrainingInputMode\":\"File\"}},\"input_dir\":\"/opt/ml/input\",\"is_master\":true,\"job_name\":\"ag-sm-disc-1641852179-ab08\",\"log_level\":20,\"master_hostname\":\"algo-1\",\"model_dir\":\"/opt/ml/model\",\"module_dir\":\"s3://sagemaker-us-east-1-503563512855/ag-sm-disc-1641852179-ab08/source/sourcedir.tar.gz\",\"module_name\":\"tabular_train\",\"network_interface_name\":\"eth0\",\"num_cpus\":8,\"num_gpus\":0,\"output_data_dir\":\"/opt/ml/output/data\",\"output_dir\":\"/opt/ml/output\",\"output_intermediate_dir\":\"/opt/ml/output/intermediate\",\"resource_config\":{\"current_host\":\"algo-1\",\"hosts\":[\"algo-1\"],\"network_interface_name\":\"eth0\"},\"user_entry_point\":\"tabular_train.py\"}\u001b[0m\n",
      "\u001b[34mSM_USER_ARGS=[]\u001b[0m\n",
      "\u001b[34mSM_OUTPUT_INTERMEDIATE_DIR=/opt/ml/output/intermediate\u001b[0m\n",
      "\u001b[34mSM_CHANNEL_TEST=/opt/ml/input/data/test\u001b[0m\n",
      "\u001b[34mSM_CHANNEL_CONFIG=/opt/ml/input/data/config\u001b[0m\n",
      "\u001b[34mSM_CHANNEL_TRAIN=/opt/ml/input/data/train\u001b[0m\n",
      "\u001b[34mPYTHONPATH=/opt/ml/code:/usr/local/bin:/usr/local/lib/python37.zip:/usr/local/lib/python3.7:/usr/local/lib/python3.7/lib-dynload:/usr/local/lib/python3.7/site-packages\u001b[0m\n",
      "\u001b[34mInvoking script with the following command:\u001b[0m\n",
      "\u001b[34m/usr/local/bin/python3.7 tabular_train.py\u001b[0m\n",
      "\u001b[34mStarting AG\u001b[0m\n",
      "\u001b[34mArgs: Namespace(ag_config='/opt/ml/input/data/config', model_dir='/opt/ml/model', n_gpus='0', output_data_dir='/opt/ml/output', test_dir='/opt/ml/input/data/test', training_dir='/opt/ml/input/data/train')\u001b[0m\n",
      "\u001b[34mUsing config.yaml\u001b[0m\n",
      "\u001b[34m___config_file:  /opt/ml/input/data/config/config.yaml\u001b[0m\n",
      "\u001b[34m___Running training job with the config:\u001b[0m\n",
      "\u001b[34m{'ag_fit_args': {'presets': ['optimize_for_deployment', 'best_quality'],\n",
      "                 'time_limit': 600},\n",
      " 'ag_predictor_args': {'label': 'success'},\n",
      " 'feature_importance': True,\n",
      " 'leaderboard': True,\n",
      " 'num_gpus': 0,\n",
      " 'output_prediction_format': 'csv'}\u001b[0m\n",
      "\u001b[34mUsing disc_train.csv\u001b[0m\n",
      "\u001b[34m___train_file:  /opt/ml/input/data/train/disc_train.csv\u001b[0m\n",
      "\u001b[34mWarning: path already exists! This predictor may overwrite an existing predictor! path=\"/opt/ml/model\"\u001b[0m\n",
      "\u001b[34mPresets specified: ['optimize_for_deployment', 'best_quality']\u001b[0m\n",
      "\u001b[34mBeginning AutoGluon training ... Time limit = 600s\u001b[0m\n",
      "\u001b[34mAutoGluon will save models to \"/opt/ml/model/\"\u001b[0m\n",
      "\u001b[34mAutoGluon Version:  0.3.1\u001b[0m\n",
      "\u001b[34mTrain Data Rows:    55918\u001b[0m\n",
      "\u001b[34mTrain Data Columns: 25\u001b[0m\n",
      "\u001b[34mPreprocessing data ...\u001b[0m\n",
      "\u001b[34mAutoGluon infers your prediction problem is: 'binary' (because only two unique label-values observed).\u001b[0m\n",
      "\u001b[34m#0112 unique label values:  [0, 1]\u001b[0m\n",
      "\u001b[34m#011If 'binary' is not the correct problem_type, please manually specify the problem_type argument in fit() (You may specify problem_type as one of: ['binary', 'multiclass', 'regression'])\u001b[0m\n",
      "\u001b[34mSelected class <--> label mapping:  class 1 = 1, class 0 = 0\u001b[0m\n",
      "\u001b[34mUsing Feature Generators to preprocess the data ...\u001b[0m\n",
      "\u001b[34mFitting AutoMLPipelineFeatureGenerator...\u001b[0m\n",
      "\u001b[34m#011Available Memory:                    31103.57 MB\u001b[0m\n",
      "\u001b[34m#011Train Data (Original)  Memory Usage: 11.18 MB (0.0% of available memory)\u001b[0m\n",
      "\u001b[34m#011Inferring data type of each feature based on column values. Set feature_metadata_in to manually specify special dtypes of the features.\u001b[0m\n",
      "\u001b[34m#011Stage 1 Generators:\u001b[0m\n",
      "\u001b[34m#011#011Fitting AsTypeFeatureGenerator...\u001b[0m\n",
      "\u001b[34m#011#011#011Note: Converting 14 features to boolean dtype as they only contain 2 unique values.\u001b[0m\n",
      "\u001b[34m#011Stage 2 Generators:\u001b[0m\n",
      "\u001b[34m#011#011Fitting FillNaFeatureGenerator...\u001b[0m\n",
      "\u001b[34m#011Stage 3 Generators:\u001b[0m\n",
      "\u001b[34m#011#011Fitting IdentityFeatureGenerator...\u001b[0m\n",
      "\u001b[34m#011Stage 4 Generators:\u001b[0m\n",
      "\u001b[34m#011#011Fitting DropUniqueFeatureGenerator...\u001b[0m\n",
      "\u001b[34m#011Useless Original Features (Count: 3): ['web', 'bogo', 'discount']\u001b[0m\n",
      "\u001b[34m#011#011These features carry no predictive signal and should be manually investigated.\u001b[0m\n",
      "\u001b[34m#011#011This is typically a feature which has the same value for all rows.\u001b[0m\n",
      "\u001b[34m#011#011These features do not need to be present at inference time.\u001b[0m\n",
      "\u001b[34m#011Types of features in original data (raw dtype, special dtypes):\u001b[0m\n",
      "\u001b[34m#011#011('float', []) :  5 | ['time', 'time_on', 'reward', 'min_spend', 'duration']\u001b[0m\n",
      "\u001b[34m#011#011('int', [])   : 17 | ['customer_id', 'offer_viewed', 'offer_id', 'D', 'F', ...]\u001b[0m\n",
      "\u001b[34m#011Types of features in processed data (raw dtype, special dtypes):\u001b[0m\n",
      "\u001b[34m#011#011('float', [])     :  4 | ['time', 'time_on', 'reward', 'min_spend']\u001b[0m\n",
      "\u001b[34m#011#011('int', [])       :  4 | ['customer_id', 'offer_id', 'age_class', 'income_class']\u001b[0m\n",
      "\u001b[34m#011#011('int', ['bool']) : 14 | ['offer_viewed', 'D', 'F', 'M', 'O', ...]\u001b[0m\n",
      "\u001b[34m#0110.2s = Fit runtime\u001b[0m\n",
      "\u001b[34m#01122 features in original data used to generate 22 features in processed data.\u001b[0m\n",
      "\u001b[34m#011Train Data (Processed) Memory Usage: 4.36 MB (0.0% of available memory)\u001b[0m\n",
      "\u001b[34mData preprocessing and feature engineering runtime = 0.19s ...\u001b[0m\n",
      "\u001b[34mAutoGluon will gauge predictive performance using evaluation metric: 'accuracy'\u001b[0m\n",
      "\u001b[34m#011To change this, specify the eval_metric argument of fit()\u001b[0m\n",
      "\u001b[34mAutoGluon will fit 2 stack levels (L1 to L2) ...\u001b[0m\n",
      "\u001b[34mFitting 13 L1 models ...\u001b[0m\n",
      "\u001b[34mFitting model: KNeighborsUnif_BAG_L1 ... Training model for up to 399.77s of the 599.81s of remaining time.\u001b[0m\n",
      "\u001b[34m#0110.6881#011 = Validation score   (accuracy)\u001b[0m\n",
      "\u001b[34m#0110.16s#011 = Training   runtime\u001b[0m\n",
      "\u001b[34m#0110.31s#011 = Validation runtime\u001b[0m\n",
      "\u001b[34mFitting model: KNeighborsDist_BAG_L1 ... Training model for up to 398.99s of the 599.03s of remaining time.\u001b[0m\n",
      "\u001b[34m#0110.5843#011 = Validation score   (accuracy)\u001b[0m\n",
      "\u001b[34m#0110.15s#011 = Training   runtime\u001b[0m\n",
      "\u001b[34m#0110.22s#011 = Validation runtime\u001b[0m\n",
      "\u001b[34mFitting model: LightGBMXT_BAG_L1 ... Training model for up to 398.33s of the 598.36s of remaining time.\u001b[0m\n",
      "\u001b[34m[1000]#011train_set's binary_error: 0.0389858#011valid_set's binary_error: 0.0529328\u001b[0m\n",
      "\u001b[34m[2000]#011train_set's binary_error: 0.0252156#011valid_set's binary_error: 0.0411302\u001b[0m\n",
      "\u001b[34m[3000]#011train_set's binary_error: 0.0201089#011valid_set's binary_error: 0.0377325\u001b[0m\n",
      "\u001b[34m[4000]#011train_set's binary_error: 0.0185391#011valid_set's binary_error: 0.0355866\u001b[0m\n",
      "\u001b[34m[1000]#011train_set's binary_error: 0.0385685#011valid_set's binary_error: 0.0429185\u001b[0m\n",
      "\u001b[34m[2000]#011train_set's binary_error: 0.0248977#011valid_set's binary_error: 0.0334406\u001b[0m\n",
      "\u001b[34m[3000]#011train_set's binary_error: 0.0204467#011valid_set's binary_error: 0.0280758\u001b[0m\n",
      "\u001b[34m[1000]#011train_set's binary_error: 0.0388268#011valid_set's binary_error: 0.0438126\u001b[0m\n",
      "\u001b[34m[2000]#011train_set's binary_error: 0.0259707#011valid_set's binary_error: 0.0332618\u001b[0m\n",
      "\u001b[34m[3000]#011train_set's binary_error: 0.0204666#011valid_set's binary_error: 0.0291488\u001b[0m\n",
      "\u001b[34m[4000]#011train_set's binary_error: 0.0189365#011valid_set's binary_error: 0.027897\u001b[0m\n",
      "\u001b[34m[1000]#011train_set's binary_error: 0.037575#011valid_set's binary_error: 0.0466738\u001b[0m\n",
      "\u001b[34m[2000]#011train_set's binary_error: 0.0260303#011valid_set's binary_error: 0.0368383\u001b[0m\n",
      "\u001b[34m[3000]#011train_set's binary_error: 0.0205659#011valid_set's binary_error: 0.0329041\u001b[0m\n",
      "\u001b[34m[4000]#011train_set's binary_error: 0.0188173#011valid_set's binary_error: 0.0302217\u001b[0m\n",
      "\u001b[34m[1000]#011train_set's binary_error: 0.0383301#011valid_set's binary_error: 0.0456009\u001b[0m\n",
      "\u001b[34m[2000]#011train_set's binary_error: 0.0261296#011valid_set's binary_error: 0.0355866\u001b[0m\n",
      "\u001b[34m[3000]#011train_set's binary_error: 0.0206851#011valid_set's binary_error: 0.03201\u001b[0m\n",
      "\u001b[34m[4000]#011train_set's binary_error: 0.0190756#011valid_set's binary_error: 0.0305794\u001b[0m\n",
      "\u001b[34m[5000]#011train_set's binary_error: 0.0174264#011valid_set's binary_error: 0.0302217\u001b[0m\n",
      "\u001b[34m[1000]#011train_set's binary_error: 0.0400986#011valid_set's binary_error: 0.0441702\u001b[0m\n",
      "\u001b[34m[2000]#011train_set's binary_error: 0.0245996#011valid_set's binary_error: 0.0329041\u001b[0m\n",
      "\u001b[34m[3000]#011train_set's binary_error: 0.0200493#011valid_set's binary_error: 0.0275393\u001b[0m\n",
      "\u001b[34m[1000]#011train_set's binary_error: 0.0390454#011valid_set's binary_error: 0.0509657\u001b[0m\n",
      "\u001b[34m[2000]#011train_set's binary_error: 0.0266065#011valid_set's binary_error: 0.0402361\u001b[0m\n",
      "\u001b[34m[3000]#011train_set's binary_error: 0.0213607#011valid_set's binary_error: 0.0352289\u001b[0m\n",
      "\u001b[34m[4000]#011train_set's binary_error: 0.0188372#011valid_set's binary_error: 0.03201\u001b[0m\n",
      "\u001b[34m[5000]#011train_set's binary_error: 0.0175853#011valid_set's binary_error: 0.0309371\u001b[0m\n",
      "\u001b[34m[1000]#011train_set's binary_error: 0.038032#011valid_set's binary_error: 0.0432761\u001b[0m\n",
      "\u001b[34m[2000]#011train_set's binary_error: 0.0254143#011valid_set's binary_error: 0.0339771\u001b[0m\n",
      "\u001b[34m[3000]#011train_set's binary_error: 0.020705#011valid_set's binary_error: 0.0327253\u001b[0m\n",
      "\u001b[34m[4000]#011train_set's binary_error: 0.0187776#011valid_set's binary_error: 0.0318312\u001b[0m\n",
      "\u001b[34m[1000]#011train_set's binary_error: 0.0359052#011valid_set's binary_error: 0.0450724\u001b[0m\n",
      "\u001b[34m[2000]#011train_set's binary_error: 0.0245594#011valid_set's binary_error: 0.0354141\u001b[0m\n",
      "\u001b[34m[3000]#011train_set's binary_error: 0.0203271#011valid_set's binary_error: 0.031658\u001b[0m\n",
      "\u001b[34m[4000]#011train_set's binary_error: 0.0187772#011valid_set's binary_error: 0.0309426\u001b[0m\n",
      "\u001b[34m[5000]#011train_set's binary_error: 0.0174062#011valid_set's binary_error: 0.030406\u001b[0m\n",
      "\u001b[34m[1000]#011train_set's binary_error: 0.0345143#011valid_set's binary_error: 0.0416741\u001b[0m\n",
      "\u001b[34m[2000]#011train_set's binary_error: 0.0241222#011valid_set's binary_error: 0.0350563\u001b[0m\n",
      "\u001b[34m[3000]#011train_set's binary_error: 0.0200489#011valid_set's binary_error: 0.0314792\u001b[0m\n",
      "\u001b[34m[4000]#011train_set's binary_error: 0.0187772#011valid_set's binary_error: 0.0302272\u001b[0m\n",
      "\u001b[34m#0110.9701#011 = Validation score   (accuracy)\u001b[0m\n",
      "\u001b[34m#011112.33s#011 = Training   runtime\u001b[0m\n",
      "\u001b[34m#0113.08s#011 = Validation runtime\u001b[0m\n",
      "\u001b[34mFitting model: LightGBM_BAG_L1 ... Training model for up to 280.16s of the 480.19s of remaining time.\u001b[0m\n",
      "\u001b[34m#0110.9794#011 = Validation score   (accuracy)\u001b[0m\n",
      "\u001b[34m#0112.2s#011 = Training   runtime\u001b[0m\n",
      "\u001b[34m#0110.04s#011 = Validation runtime\u001b[0m\n",
      "\u001b[34mFitting model: RandomForestGini_BAG_L1 ... Training model for up to 277.64s of the 477.68s of remaining time.\u001b[0m\n",
      "\u001b[34m#0110.7992#011 = Validation score   (accuracy)\u001b[0m\n",
      "\u001b[34m#0113.19s#011 = Training   runtime\u001b[0m\n",
      "\u001b[34m#0111.99s#011 = Validation runtime\u001b[0m\n",
      "\u001b[34mFitting model: RandomForestEntr_BAG_L1 ... Training model for up to 271.67s of the 471.7s of remaining time.\u001b[0m\n",
      "\u001b[34m#0110.7999#011 = Validation score   (accuracy)\u001b[0m\n",
      "\u001b[34m#0113.96s#011 = Training   runtime\u001b[0m\n",
      "\u001b[34m#0112.08s#011 = Validation runtime\u001b[0m\n",
      "\u001b[34mFitting model: CatBoost_BAG_L1 ... Training model for up to 264.84s of the 464.87s of remaining time.\u001b[0m\n",
      "\u001b[34m#0110.9793#011 = Validation score   (accuracy)\u001b[0m\n",
      "\u001b[34m#0117.28s#011 = Training   runtime\u001b[0m\n",
      "\u001b[34m#0110.04s#011 = Validation runtime\u001b[0m\n",
      "\u001b[34mFitting model: ExtraTreesGini_BAG_L1 ... Training model for up to 257.29s of the 457.32s of remaining time.\u001b[0m\n",
      "\u001b[34m#0110.7708#011 = Validation score   (accuracy)\u001b[0m\n",
      "\u001b[34m#0112.35s#011 = Training   runtime\u001b[0m\n",
      "\u001b[34m#0112.27s#011 = Validation runtime\u001b[0m\n",
      "\u001b[34mFitting model: ExtraTreesEntr_BAG_L1 ... Training model for up to 251.62s of the 451.66s of remaining time.\u001b[0m\n",
      "\u001b[34m#0110.771#011 = Validation score   (accuracy)\u001b[0m\n",
      "\u001b[34m#0112.45s#011 = Training   runtime\u001b[0m\n",
      "\u001b[34m#0112.27s#011 = Validation runtime\u001b[0m\n",
      "\u001b[34mFitting model: NeuralNetFastAI_BAG_L1 ... Training model for up to 245.84s of the 445.87s of remaining time.\u001b[0m\n",
      "\u001b[34mgenerated new fontManager\u001b[0m\n",
      "\u001b[34m#011Ran out of time, stopping training early. (Stopping on epoch 8)\u001b[0m\n",
      "\u001b[34m#011Ran out of time, stopping training early. (Stopping on epoch 7)\u001b[0m\n",
      "\u001b[34m#011Ran out of time, stopping training early. (Stopping on epoch 8)\u001b[0m\n",
      "\u001b[34m#011Ran out of time, stopping training early. (Stopping on epoch 9)\u001b[0m\n",
      "\u001b[34m#011Ran out of time, stopping training early. (Stopping on epoch 9)\u001b[0m\n",
      "\u001b[34m#011Ran out of time, stopping training early. (Stopping on epoch 10)\u001b[0m\n",
      "\u001b[34m#011Ran out of time, stopping training early. (Stopping on epoch 11)\u001b[0m\n",
      "\u001b[34m#011Ran out of time, stopping training early. (Stopping on epoch 12)\u001b[0m\n",
      "\u001b[34m#011Ran out of time, stopping training early. (Stopping on epoch 13)\u001b[0m\n",
      "\u001b[34m#011Ran out of time, stopping training early. (Stopping on epoch 16)\u001b[0m\n",
      "\u001b[34m#0110.8272#011 = Validation score   (accuracy)\u001b[0m\n",
      "\u001b[34m#011235.01s#011 = Training   runtime\u001b[0m\n",
      "\u001b[34m#0110.9s#011 = Validation runtime\u001b[0m\n",
      "\u001b[34mFitting model: XGBoost_BAG_L1 ... Training model for up to 9.44s of the 209.48s of remaining time.\u001b[0m\n",
      "\u001b[34m#0110.9794#011 = Validation score   (accuracy)\u001b[0m\n",
      "\u001b[34m#0112.42s#011 = Training   runtime\u001b[0m\n",
      "\u001b[34m#0110.09s#011 = Validation runtime\u001b[0m\n",
      "\u001b[34mFitting model: NeuralNetMXNet_BAG_L1 ... Training model for up to 6.6s of the 206.64s of remaining time.\u001b[0m\n",
      "\u001b[34m#011Time limit exceeded... Skipping NeuralNetMXNet_BAG_L1.\u001b[0m\n",
      "\u001b[34mFitting model: LightGBMLarge_BAG_L1 ... Training model for up to 2.93s of the 202.97s of remaining time.\u001b[0m\n",
      "\u001b[34m#011Ran out of time, early stopping on iteration 17. Best iteration is:\u001b[0m\n",
      "\u001b[34m#011[17]#011train_set's binary_error: 0.0200691#011valid_set's binary_error: 0.0255722\u001b[0m\n",
      "\u001b[34m#011Ran out of time, early stopping on iteration 19. Best iteration is:\u001b[0m\n",
      "\u001b[34m#011[17]#011train_set's binary_error: 0.0208044#011valid_set's binary_error: 0.0189557\u001b[0m\n",
      "\u001b[34m#011Ran out of time, early stopping on iteration 22. Best iteration is:\u001b[0m\n",
      "\u001b[34m#011[17]#011train_set's binary_error: 0.0208044#011valid_set's binary_error: 0.0189557\u001b[0m\n",
      "\u001b[34m#011Ran out of time, early stopping on iteration 20. Best iteration is:\u001b[0m\n",
      "\u001b[34m#011[17]#011train_set's binary_error: 0.0207447#011valid_set's binary_error: 0.0194921\u001b[0m\n",
      "\u001b[34m#011Ran out of time, early stopping on iteration 23. Best iteration is:\u001b[0m\n",
      "\u001b[34m#011[16]#011train_set's binary_error: 0.0207646#011valid_set's binary_error: 0.019671\u001b[0m\n",
      "\u001b[34m#011Ran out of time, early stopping on iteration 22. Best iteration is:\u001b[0m\n",
      "\u001b[34m#011[16]#011train_set's binary_error: 0.020705#011valid_set's binary_error: 0.0203863\u001b[0m\n",
      "\u001b[34m#011Ran out of time, early stopping on iteration 25. Best iteration is:\u001b[0m\n",
      "\u001b[34m#011[17]#011train_set's binary_error: 0.0205262#011valid_set's binary_error: 0.0214592\u001b[0m\n",
      "\u001b[34m#011Ran out of time, early stopping on iteration 23. Best iteration is:\u001b[0m\n",
      "\u001b[34m#011[17]#011train_set's binary_error: 0.0205858#011valid_set's binary_error: 0.0209227\u001b[0m\n",
      "\u001b[34m#011Ran out of time, early stopping on iteration 25. Best iteration is:\u001b[0m\n",
      "\u001b[34m#011[16]#011train_set's binary_error: 0.0206847#011valid_set's binary_error: 0.0205688\u001b[0m\n",
      "\u001b[34m#011Ran out of time, early stopping on iteration 22. Best iteration is:\u001b[0m\n",
      "\u001b[34m#011[17]#011train_set's binary_error: 0.0206649#011valid_set's binary_error: 0.0202111\u001b[0m\n",
      "\u001b[34m#0110.9794#011 = Validation score   (accuracy)\u001b[0m\n",
      "\u001b[34m#0112.69s#011 = Training   runtime\u001b[0m\n",
      "\u001b[34m#0110.05s#011 = Validation runtime\u001b[0m\n",
      "\u001b[34mCompleted 1/20 k-fold bagging repeats ...\u001b[0m\n",
      "\u001b[34mFitting model: WeightedEnsemble_L2 ... Training model for up to 360.0s of the 199.91s of remaining time.\u001b[0m\n",
      "\u001b[34m#0110.9794#011 = Validation score   (accuracy)\u001b[0m\n",
      "\u001b[34m#01117.89s#011 = Training   runtime\u001b[0m\n",
      "\u001b[34m#0110.09s#011 = Validation runtime\u001b[0m\n",
      "\u001b[34mFitting 11 L2 models ...\u001b[0m\n",
      "\u001b[34mFitting model: LightGBMXT_BAG_L2 ... Training model for up to 181.92s of the 181.9s of remaining time.\u001b[0m\n",
      "\u001b[34m#0110.9855#011 = Validation score   (accuracy)\u001b[0m\n",
      "\u001b[34m#0117.86s#011 = Training   runtime\u001b[0m\n",
      "\u001b[34m#0110.11s#011 = Validation runtime\u001b[0m\n",
      "\u001b[34mFitting model: LightGBM_BAG_L2 ... Training model for up to 173.63s of the 173.62s of remaining time.\u001b[0m\n",
      "\u001b[34m#0110.9859#011 = Validation score   (accuracy)\u001b[0m\n",
      "\u001b[34m#0116.25s#011 = Training   runtime\u001b[0m\n",
      "\u001b[34m#0110.08s#011 = Validation runtime\u001b[0m\n",
      "\u001b[34mFitting model: RandomForestGini_BAG_L2 ... Training model for up to 166.99s of the 166.98s of remaining time.\u001b[0m\n",
      "\u001b[34m#0110.9848#011 = Validation score   (accuracy)\u001b[0m\n",
      "\u001b[34m#0114.28s#011 = Training   runtime\u001b[0m\n",
      "\u001b[34m#0112.07s#011 = Validation runtime\u001b[0m\n",
      "\u001b[34mFitting model: RandomForestEntr_BAG_L2 ... Training model for up to 160.28s of the 160.26s of remaining time.\u001b[0m\n",
      "\u001b[34m#0110.985#011 = Validation score   (accuracy)\u001b[0m\n",
      "\u001b[34m#0114.77s#011 = Training   runtime\u001b[0m\n",
      "\u001b[34m#0112.03s#011 = Validation runtime\u001b[0m\n",
      "\u001b[34mFitting model: CatBoost_BAG_L2 ... Training model for up to 153.11s of the 153.1s of remaining time.\u001b[0m\n",
      "\u001b[34m#0110.985#011 = Validation score   (accuracy)\u001b[0m\n",
      "\u001b[34m#01112.44s#011 = Training   runtime\u001b[0m\n",
      "\u001b[34m#0110.06s#011 = Validation runtime\u001b[0m\n",
      "\u001b[34mFitting model: ExtraTreesGini_BAG_L2 ... Training model for up to 140.37s of the 140.35s of remaining time.\u001b[0m\n",
      "\u001b[34m#0110.984#011 = Validation score   (accuracy)\u001b[0m\n",
      "\u001b[34m#0111.77s#011 = Training   runtime\u001b[0m\n",
      "\u001b[34m#0112.14s#011 = Validation runtime\u001b[0m\n",
      "\u001b[34mFitting model: ExtraTreesEntr_BAG_L2 ... Training model for up to 136.05s of the 136.03s of remaining time.\u001b[0m\n",
      "\u001b[34m#0110.9841#011 = Validation score   (accuracy)\u001b[0m\n",
      "\u001b[34m#0111.77s#011 = Training   runtime\u001b[0m\n",
      "\u001b[34m#0112.14s#011 = Validation runtime\u001b[0m\n",
      "\u001b[34mFitting model: NeuralNetFastAI_BAG_L2 ... Training model for up to 131.72s of the 131.7s of remaining time.\u001b[0m\n",
      "\u001b[34m#011Ran out of time, stopping training early. (Stopping on epoch 3)\u001b[0m\n",
      "\u001b[34m#011Ran out of time, stopping training early. (Stopping on epoch 4)\u001b[0m\n",
      "\u001b[34m#011Ran out of time, stopping training early. (Stopping on epoch 3)\u001b[0m\n",
      "\u001b[34m#011Ran out of time, stopping training early. (Stopping on epoch 4)\u001b[0m\n",
      "\u001b[34m#011Ran out of time, stopping training early. (Stopping on epoch 4)\u001b[0m\n",
      "\u001b[34m#011Ran out of time, stopping training early. (Stopping on epoch 5)\u001b[0m\n",
      "\u001b[34m#011Ran out of time, stopping training early. (Stopping on epoch 5)\u001b[0m\n",
      "\u001b[34m#011Ran out of time, stopping training early. (Stopping on epoch 5)\u001b[0m\n",
      "\u001b[34m#011Ran out of time, stopping training early. (Stopping on epoch 6)\u001b[0m\n",
      "\u001b[34m#011Ran out of time, stopping training early. (Stopping on epoch 9)\u001b[0m\n",
      "\u001b[34m#0110.9846#011 = Validation score   (accuracy)\u001b[0m\n",
      "\u001b[34m#011125.4s#011 = Training   runtime\u001b[0m\n",
      "\u001b[34m#0110.96s#011 = Validation runtime\u001b[0m\n",
      "\u001b[34mFitting model: XGBoost_BAG_L2 ... Training model for up to 4.94s of the 4.92s of remaining time.\u001b[0m\n",
      "\u001b[34m#0110.9854#011 = Validation score   (accuracy)\u001b[0m\n",
      "\u001b[34m#0114.53s#011 = Training   runtime\u001b[0m\n",
      "\u001b[34m#0110.14s#011 = Validation runtime\u001b[0m\n",
      "\u001b[34mCompleted 1/20 k-fold bagging repeats ...\u001b[0m\n",
      "\u001b[34mFitting model: WeightedEnsemble_L3 ... Training model for up to 360.0s of the -0.13s of remaining time.\u001b[0m\n",
      "\u001b[34m#0110.9859#011 = Validation score   (accuracy)\u001b[0m\n",
      "\u001b[34m#01113.76s#011 = Training   runtime\u001b[0m\n",
      "\u001b[34m#0110.09s#011 = Validation runtime\u001b[0m\n",
      "\u001b[34mAutoGluon training complete, total runtime = 614.0s ...\u001b[0m\n",
      "\u001b[34mDeleting model WeightedEnsemble_L2. All files under /opt/ml/model/models/WeightedEnsemble_L2/ will be removed.\u001b[0m\n",
      "\u001b[34mDeleting model LightGBMXT_BAG_L2. All files under /opt/ml/model/models/LightGBMXT_BAG_L2/ will be removed.\u001b[0m\n",
      "\u001b[34mDeleting model RandomForestGini_BAG_L2. All files under /opt/ml/model/models/RandomForestGini_BAG_L2/ will be removed.\u001b[0m\n",
      "\u001b[34mDeleting model RandomForestEntr_BAG_L2. All files under /opt/ml/model/models/RandomForestEntr_BAG_L2/ will be removed.\u001b[0m\n",
      "\u001b[34mDeleting model CatBoost_BAG_L2. All files under /opt/ml/model/models/CatBoost_BAG_L2/ will be removed.\u001b[0m\n",
      "\u001b[34mDeleting model ExtraTreesGini_BAG_L2. All files under /opt/ml/model/models/ExtraTreesGini_BAG_L2/ will be removed.\u001b[0m\n",
      "\u001b[34mDeleting model ExtraTreesEntr_BAG_L2. All files under /opt/ml/model/models/ExtraTreesEntr_BAG_L2/ will be removed.\u001b[0m\n",
      "\u001b[34mDeleting model NeuralNetFastAI_BAG_L2. All files under /opt/ml/model/models/NeuralNetFastAI_BAG_L2/ will be removed.\u001b[0m\n",
      "\u001b[34mDeleting model XGBoost_BAG_L2. All files under /opt/ml/model/models/XGBoost_BAG_L2/ will be removed.\u001b[0m\n",
      "\u001b[34mTabularPredictor saved. To load, use: predictor = TabularPredictor.load(\"/opt/ml/model/\")\u001b[0m\n",
      "\u001b[34mUsing disc_test.csv\u001b[0m\n",
      "\u001b[34m___test_file: /opt/ml/input/data/test/disc_test.csv\u001b[0m\n",
      "\u001b[34mLoaded data from: /opt/ml/input/data/test/disc_test.csv | Columns = 26 / 26 | Rows = 13980 -> 13980\u001b[0m\n",
      "\u001b[34m                      model  score_test  score_val  pred_time_test  pred_time_val    fit_time  pred_time_test_marginal  pred_time_val_marginal  fit_time_marginal  stack_level  can_infer  fit_order\u001b[0m\n",
      "\u001b[34m0           LightGBM_BAG_L2    0.987911   0.985926       16.165174      13.441653  380.451934                 0.203833                0.075233           6.250853            2       True         13\u001b[0m\n",
      "\u001b[34m1       WeightedEnsemble_L3    0.987911   0.985926       16.167533      13.532797  394.214112                 0.002359                0.091143          13.762178            3       True         14\u001b[0m\n",
      "\u001b[34m2           LightGBM_BAG_L1    0.981044   0.979381        0.050551       0.043976    2.203615                 0.050551                0.043976           2.203615            1       True          4\u001b[0m\n",
      "\u001b[34m3      LightGBMLarge_BAG_L1    0.981044   0.979381        0.072934       0.053088    2.690690                 0.072934                0.053088           2.690690            1       True         12\u001b[0m\n",
      "\u001b[34m4           CatBoost_BAG_L1    0.980973   0.979327        0.039269       0.041634    7.284306                 0.039269                0.041634           7.284306            1       True          7\u001b[0m\n",
      "\u001b[34m5            XGBoost_BAG_L1    0.980830   0.979381        0.223416       0.087904    2.423219                 0.223416                0.087904           2.423219            1       True         11\u001b[0m\n",
      "\u001b[34m6         LightGBMXT_BAG_L1    0.971960   0.970117        8.134345       3.081167  112.331355                 8.134345                3.081167         112.331355            1       True          3\u001b[0m\n",
      "\u001b[34m7    NeuralNetFastAI_BAG_L1    0.833548   0.827176        4.587301       0.904932  235.007841                 4.587301                0.904932         235.007841            1       True         10\u001b[0m\n",
      "\u001b[34m8   RandomForestEntr_BAG_L1    0.802718   0.799886        0.539634       2.084576    3.961754                 0.539634                2.084576           3.961754            1       True          6\u001b[0m\n",
      "\u001b[34m9   RandomForestGini_BAG_L1    0.802217   0.799242        0.548301       1.994682    3.190688                 0.548301                1.994682           3.190688            1       True          5\u001b[0m\n",
      "\u001b[34m10    ExtraTreesGini_BAG_L1    0.776323   0.770771        0.685789       2.271023    2.352575                 0.685789                2.271023           2.352575            1       True          8\u001b[0m\n",
      "\u001b[34m11    ExtraTreesEntr_BAG_L1    0.774392   0.771004        0.857597       2.273236    2.452003                 0.857597                2.273236           2.452003            1       True          9\u001b[0m\n",
      "\u001b[34m12    KNeighborsUnif_BAG_L1    0.693991   0.688079        0.110805       0.314796    0.155310                 0.110805                0.314796           0.155310            1       True          1\u001b[0m\n",
      "\u001b[34m13    KNeighborsDist_BAG_L1    0.582403   0.584284        0.111398       0.215406    0.147725                 0.111398                0.215406           0.147725            1       True          2\u001b[0m\n",
      "\u001b[34mComputing feature importance via permutation shuffling for 25 features using 1000 rows with 3 shuffle sets...\u001b[0m\n",
      "\u001b[34m#011324.07s#011= Expected runtime (108.02s per shuffle set)\u001b[0m\n",
      "\n",
      "2022-01-10 22:19:19 Uploading - Uploading generated training model\u001b[34m#01197.61s#011= Actual runtime (Completed 3 of 3 shuffle sets)\u001b[0m\n",
      "\u001b[34m2022-01-10 22:19:15,759 sagemaker-training-toolkit INFO     Reporting training SUCCESS\u001b[0m\n",
      "\n",
      "2022-01-10 22:22:00 Completed - Training job completed\n",
      "Training seconds: 965\n",
      "Billable seconds: 965\n"
     ]
    }
   ],
   "source": [
    "job_name = utils.unique_name_from_base(\"ag-sm-disc\")\n",
    "ag.fit(\n",
    "    {\"config\": config_input, \"train\": disc_train_input, \"test\": disc_eval_input},\n",
    "    job_name=job_name,\n",
    ")"
   ]
  },
  {
   "cell_type": "code",
   "execution_count": 14,
   "metadata": {},
   "outputs": [
    {
     "name": "stdout",
     "output_type": "stream",
     "text": [
      "discount training job name:  ag-sm-disc-1641852179-ab08\n",
      "model directory name:  s3://sagemaker-us-east-1-503563512855/ag-sm-disc-1641852179-ab08/output\n",
      "endpoint_name =  sg-ag-deploy_disc-1641853331-9d25 \n",
      "dest_dir:  s3://sagemaker-us-east-1-503563512855/sg-ag-deploy_disc-1641853331-9d25/models\n"
     ]
    }
   ],
   "source": [
    "# Prepare \n",
    "print('discount training job name: ', job_name)\n",
    "\n",
    "model_dir = f's3://{bucket}/{job_name}/output'\n",
    "print('model directory name: ', model_dir)\n",
    "\n",
    "s3_deploy = f\"ag_sm_deploy_disc/{utils.sagemaker_timestamp()}\"\n",
    "output_path = f\"s3://{bucket}/{s3_deploy}/output/\"\n",
    "endpoint_name = sagemaker.utils.unique_name_from_base(\"sg-ag-deploy_disc\")\n",
    "\n",
    "dest_dir = f's3://{bucket}/{endpoint_name}/models'\n",
    "print('endpoint_name = ',endpoint_name, '\\ndest_dir: ', dest_dir)\n"
   ]
  },
  {
   "cell_type": "code",
   "execution_count": 16,
   "metadata": {},
   "outputs": [
    {
     "name": "stdout",
     "output_type": "stream",
     "text": [
      "copy: s3://sagemaker-us-east-1-503563512855/ag-sm-disc-1641852179-ab08/output/model.tar.gz to s3://sagemaker-us-east-1-503563512855/sg-ag-deploy_disc-1641853331-9d25/models/model.tar.gz\n"
     ]
    }
   ],
   "source": [
    "!aws s3 sync s3://sagemaker-us-east-1-503563512855/ag-sm-disc-1641852179-ab08/output s3://sagemaker-us-east-1-503563512855/sg-ag-deploy_disc-1641853331-9d25/models"
   ]
  },
  {
   "cell_type": "code",
   "execution_count": 17,
   "metadata": {},
   "outputs": [
    {
     "name": "stdout",
     "output_type": "stream",
     "text": [
      "model_data name:  s3://sagemaker-us-east-1-503563512855/sg-ag-deploy_disc-1641853331-9d25/models/model.tar.gz\n"
     ]
    }
   ],
   "source": [
    "model_data = dest_dir+'/model.tar.gz'\n",
    "print('model_data name: ', model_data)"
   ]
  },
  {
   "cell_type": "code",
   "execution_count": 19,
   "metadata": {},
   "outputs": [
    {
     "name": "stdout",
     "output_type": "stream",
     "text": [
      "------!Deploy time:  910.1s\n"
     ]
    }
   ],
   "source": [
    "from time import time\n",
    "start = time()\n",
    "instance_type = \"ml.m5.2xlarge\"\n",
    "\n",
    "model = AutoGluonInferenceModel(\n",
    "    model_data=model_data,\n",
    "    role=role,\n",
    "    region=region,\n",
    "    framework_version=\"0.3.1\",\n",
    "    instance_type=instance_type,\n",
    "#     source_dir=\"scripts\",\n",
    "    entry_point=\"tabular_serve.py\",\n",
    ")\n",
    "\n",
    "predictor = model.deploy(initial_instance_count=1, \n",
    "                         serializer=CSVSerializer(), \n",
    "                         instance_type=instance_type\n",
    "                        )\n",
    "deploy_time = time() - start\n",
    "print(f\"Deploy time: {deploy_time: .01f}s\")"
   ]
  },
  {
   "cell_type": "markdown",
   "metadata": {},
   "source": [
    "### Deploy time is: 910.1s"
   ]
  },
  {
   "cell_type": "code",
   "execution_count": 20,
   "metadata": {},
   "outputs": [
    {
     "name": "stdout",
     "output_type": "stream",
     "text": [
      "disc_predictor.endpoint_name:  autogluon-inference-2022-01-10-22-42-02-016\n"
     ]
    }
   ],
   "source": [
    "disc_predictor = predictor\n",
    "print('disc_predictor.endpoint_name: ', disc_predictor.endpoint_name)"
   ]
  },
  {
   "cell_type": "code",
   "execution_count": 23,
   "metadata": {},
   "outputs": [
    {
     "data": {
      "text/plain": [
       "[[0.0, 0.9651771783828735, 0.034822799265384674],\n",
       " [0.0, 0.9319372773170471, 0.06806273013353348],\n",
       " [0.0, 0.9538366198539734, 0.04616338759660721],\n",
       " [0.0, 0.9666227102279663, 0.033377308398485184],\n",
       " [1.0, 0.0926634669303894, 0.9073365330696106]]"
      ]
     },
     "execution_count": 23,
     "metadata": {},
     "output_type": "execute_result"
    }
   ],
   "source": [
    "#  Prepare test data for endpoint\n",
    "disc_test_data = pd.read_csv(\"data/disc_test.csv\")\n",
    "disc_success = [int(item) for item in (disc_test_data.loc[1:,0]).tolist()]\n",
    "disc_test_data.drop(columns=['mobile', 'bogo', 'discount','success'], axis=1, inplace=True)\n",
    "# Predictions 0f 500 test rows\n",
    "disc_predictor = predictor\n",
    "disc_predictions = disc_predictor.predict(disc_test_data[:500].values)\n",
    "disc_predictions[:5]"
   ]
  },
  {
   "cell_type": "code",
   "execution_count": 24,
   "metadata": {},
   "outputs": [],
   "source": [
    "# Predictions 0f all test file\n",
    "NUM_TEST = disc_test_data.shape[0]\n",
    "SEGMENT = 500\n",
    "ITER = NUM_TEST // SEGMENT\n",
    "# ITER\n",
    "disc_preds = []\n",
    "for k in range(ITER):\n",
    "    preds = disc_predictor.predict(disc_test_data[k*SEGMENT:(k+1)*SEGMENT].values)\n",
    "    disc_preds.extend(preds)\n",
    "\n",
    "preds = disc_predictor.predict(disc_test_data[ITER*SEGMENT:].values)\n",
    "disc_preds.extend(preds)\n"
   ]
  },
  {
   "cell_type": "code",
   "execution_count": 25,
   "metadata": {},
   "outputs": [],
   "source": [
    "disc_predictions = [int(item[0]) for item in disc_preds]"
   ]
  },
  {
   "cell_type": "code",
   "execution_count": 26,
   "metadata": {},
   "outputs": [
    {
     "data": {
      "text/plain": [
       "670600"
      ]
     },
     "execution_count": 26,
     "metadata": {},
     "output_type": "execute_result"
    },
    {
     "data": {
      "text/plain": [
       "41940"
      ]
     },
     "execution_count": 26,
     "metadata": {},
     "output_type": "execute_result"
    }
   ],
   "source": [
    "with open('disc_preds.txt', 'w') as f:\n",
    "    f.write(str(disc_preds))\n",
    "with open('disc_predictions.txt', 'w') as f:\n",
    "    f.write(str(disc_predictions))"
   ]
  },
  {
   "cell_type": "code",
   "execution_count": 31,
   "metadata": {},
   "outputs": [],
   "source": [
    "disc_test_data = pd.read_csv(\"data/disc_test.csv\", header=None)\n",
    "disc_success = [int(item) for item in (disc_test_data.loc[1:,0]).tolist()]\n"
   ]
  },
  {
   "cell_type": "code",
   "execution_count": 36,
   "metadata": {},
   "outputs": [
    {
     "name": "stdout",
     "output_type": "stream",
     "text": [
      "Discount predictions test scores \n",
      "accuracy_score: \t 0.9851931330472103 \n",
      "balanced_accuracy_score: 0.9890291251091365 \n",
      "precision_score: \t 0.9451631046119235 \n",
      "recall_score: \t\t 0.9964423361992292 \n",
      "f1_score: \t\t 0.9701255592437581 \n",
      "roc_auc_score: \t\t 0.9890291251091367\n"
     ]
    }
   ],
   "source": [
    "# Metrics for discount predictions\n",
    "from sklearn.metrics import (accuracy_score, f1_score, balanced_accuracy_score, \n",
    "                             precision_score, recall_score, roc_auc_score)\n",
    "print('Discount predictions test scores',\n",
    "    '\\naccuracy_score: \\t', accuracy_score(disc_predictions, disc_success),\n",
    "     '\\nbalanced_accuracy_score:', balanced_accuracy_score(disc_predictions, disc_success),\n",
    "     '\\nprecision_score: \\t', precision_score(disc_predictions, disc_success),\n",
    "     '\\nrecall_score: \\t\\t', recall_score(disc_predictions, disc_success),\n",
    "     '\\nf1_score: \\t\\t', f1_score(disc_predictions, disc_success),\n",
    "     '\\nroc_auc_score: \\t\\t', roc_auc_score(disc_predictions, disc_success))"
   ]
  },
  {
   "cell_type": "code",
   "execution_count": 37,
   "metadata": {},
   "outputs": [
    {
     "data": {
      "text/html": [
       "<div>\n",
       "<style scoped>\n",
       "    .dataframe tbody tr th:only-of-type {\n",
       "        vertical-align: middle;\n",
       "    }\n",
       "\n",
       "    .dataframe tbody tr th {\n",
       "        vertical-align: top;\n",
       "    }\n",
       "\n",
       "    .dataframe thead th {\n",
       "        text-align: right;\n",
       "    }\n",
       "</style>\n",
       "<table border=\"1\" class=\"dataframe\">\n",
       "  <thead>\n",
       "    <tr style=\"text-align: right;\">\n",
       "      <th></th>\n",
       "      <th>metric</th>\n",
       "      <th>score</th>\n",
       "    </tr>\n",
       "  </thead>\n",
       "  <tbody>\n",
       "    <tr>\n",
       "      <th>0</th>\n",
       "      <td>accuracy_score</td>\n",
       "      <td>0.985193</td>\n",
       "    </tr>\n",
       "    <tr>\n",
       "      <th>1</th>\n",
       "      <td>balanced_accuracy_score</td>\n",
       "      <td>0.989029</td>\n",
       "    </tr>\n",
       "    <tr>\n",
       "      <th>2</th>\n",
       "      <td>precision_score</td>\n",
       "      <td>0.945163</td>\n",
       "    </tr>\n",
       "    <tr>\n",
       "      <th>3</th>\n",
       "      <td>recall_score</td>\n",
       "      <td>0.996442</td>\n",
       "    </tr>\n",
       "    <tr>\n",
       "      <th>4</th>\n",
       "      <td>f1_score</td>\n",
       "      <td>0.970126</td>\n",
       "    </tr>\n",
       "    <tr>\n",
       "      <th>5</th>\n",
       "      <td>roc_auc_score</td>\n",
       "      <td>0.989029</td>\n",
       "    </tr>\n",
       "  </tbody>\n",
       "</table>\n",
       "</div>"
      ],
      "text/plain": [
       "                    metric     score\n",
       "0           accuracy_score  0.985193\n",
       "1  balanced_accuracy_score  0.989029\n",
       "2          precision_score  0.945163\n",
       "3             recall_score  0.996442\n",
       "4                 f1_score  0.970126\n",
       "5            roc_auc_score  0.989029"
      ]
     },
     "execution_count": 37,
     "metadata": {},
     "output_type": "execute_result"
    }
   ],
   "source": [
    "metric = ['accuracy_score', 'balanced_accuracy_score', 'precision_score', \n",
    "          'recall_score', 'f1_score', 'roc_auc_score']\n",
    "disc_score = [accuracy_score(disc_predictions, disc_success),\n",
    "         balanced_accuracy_score(disc_predictions, disc_success),\n",
    "         precision_score(disc_predictions, disc_success),\n",
    "         recall_score(disc_predictions, disc_success),\n",
    "         f1_score(disc_predictions, disc_success),\n",
    "         roc_auc_score(disc_predictions, disc_success)]\n",
    "df = pd.DataFrame.from_dict({'metric': metric, 'score': disc_score})\n",
    "df"
   ]
  },
  {
   "cell_type": "code",
   "execution_count": 40,
   "metadata": {},
   "outputs": [
    {
     "data": {
      "application/javascript": [
       "\n",
       "        if (window._pyforest_update_imports_cell) { window._pyforest_update_imports_cell('import matplotlib.pyplot as plt\\nimport pandas as pd'); }\n",
       "    "
      ],
      "text/plain": [
       "<IPython.core.display.Javascript object>"
      ]
     },
     "metadata": {},
     "output_type": "display_data"
    },
    {
     "data": {
      "application/javascript": [
       "\n",
       "        if (window._pyforest_update_imports_cell) { window._pyforest_update_imports_cell('import matplotlib.pyplot as plt\\nimport pandas as pd'); }\n",
       "    "
      ],
      "text/plain": [
       "<IPython.core.display.Javascript object>"
      ]
     },
     "metadata": {},
     "output_type": "display_data"
    },
    {
     "data": {
      "application/javascript": [
       "\n",
       "        if (window._pyforest_update_imports_cell) { window._pyforest_update_imports_cell('import matplotlib.pyplot as plt\\nimport pandas as pd'); }\n",
       "    "
      ],
      "text/plain": [
       "<IPython.core.display.Javascript object>"
      ]
     },
     "metadata": {},
     "output_type": "display_data"
    },
    {
     "data": {
      "application/javascript": [
       "\n",
       "        if (window._pyforest_update_imports_cell) { window._pyforest_update_imports_cell('import matplotlib.pyplot as plt\\nimport pandas as pd'); }\n",
       "    "
      ],
      "text/plain": [
       "<IPython.core.display.Javascript object>"
      ]
     },
     "metadata": {},
     "output_type": "display_data"
    },
    {
     "data": {
      "application/javascript": [
       "\n",
       "        if (window._pyforest_update_imports_cell) { window._pyforest_update_imports_cell('import matplotlib.pyplot as plt\\nimport pandas as pd'); }\n",
       "    "
      ],
      "text/plain": [
       "<IPython.core.display.Javascript object>"
      ]
     },
     "metadata": {},
     "output_type": "display_data"
    },
    {
     "data": {
      "application/javascript": [
       "\n",
       "        if (window._pyforest_update_imports_cell) { window._pyforest_update_imports_cell('import matplotlib.pyplot as plt\\nimport pandas as pd'); }\n",
       "    "
      ],
      "text/plain": [
       "<IPython.core.display.Javascript object>"
      ]
     },
     "metadata": {},
     "output_type": "display_data"
    },
    {
     "data": {
      "application/javascript": [
       "\n",
       "        if (window._pyforest_update_imports_cell) { window._pyforest_update_imports_cell('import matplotlib.pyplot as plt\\nimport pandas as pd'); }\n",
       "    "
      ],
      "text/plain": [
       "<IPython.core.display.Javascript object>"
      ]
     },
     "metadata": {},
     "output_type": "display_data"
    },
    {
     "data": {
      "application/javascript": [
       "\n",
       "        if (window._pyforest_update_imports_cell) { window._pyforest_update_imports_cell('import matplotlib.pyplot as plt\\nimport pandas as pd'); }\n",
       "    "
      ],
      "text/plain": [
       "<IPython.core.display.Javascript object>"
      ]
     },
     "metadata": {},
     "output_type": "display_data"
    },
    {
     "data": {
      "image/png": "[encoded data removed]",
      "text/plain": [
       "<Figure size 432x288 with 1 Axes>"
      ]
     },
     "metadata": {},
     "output_type": "display_data"
    }
   ],
   "source": [
    "# Plot the data\n",
    "x,y = df['metric'], df['score']\n",
    "plt.scatter(x, y, c=['r' if k<.95 else 'b' for k in y ])\n",
    "plt.axhline(y=0.95, color='g', linestyle='--')\n",
    "plt.ylim(bottom=.5,top=1.02)\n",
    "\n",
    "# Add labels\n",
    "plt.ylabel(\"Scores\")\n",
    "# plt.suptitle(\"Bogo Test Scores\", size=14)\n",
    "plt.title(\"Discount Test Scores\", size=10)\n",
    "\n",
    "# Give it some pizzaz!\n",
    "plt.style.use(\"Solarize_Light2\")\n",
    "plt.gcf().autofmt_xdate()\n",
    "plt.show()"
   ]
  },
  {
   "cell_type": "code",
   "execution_count": null,
   "metadata": {},
   "outputs": [],
   "source": []
  }
 ],
 "metadata": {
  "instance_type": "ml.t3.medium",
  "interpreter": {
   "hash": "2b6c618483631ac6f9eec4ceb1a0a5e05fe7f914092d63af848ea5b0dfea07a1"
  },
  "kernelspec": {
   "display_name": "Python 3",
   "language": "python",
   "name": "python3"
  },
  "language_info": {
   "codemirror_mode": {
    "name": "ipython",
    "version": 3
   },
   "file_extension": ".py",
   "mimetype": "text/x-python",
   "name": "python",
   "nbconvert_exporter": "python",
   "pygments_lexer": "ipython3",
   "version": "3.8.3"
  }
 },
 "nbformat": 4,
 "nbformat_minor": 4
}
